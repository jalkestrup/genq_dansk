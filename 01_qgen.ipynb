{
 "cells": [
  {
   "cell_type": "markdown",
   "metadata": {},
   "source": [
    "### Set up API key"
   ]
  },
  {
   "cell_type": "code",
   "execution_count": 1,
   "metadata": {},
   "outputs": [],
   "source": [
    "import os\n",
    "from dotenv import load_dotenv\n",
    "\n",
    "load_dotenv(override=True)\n",
    "OPENAI_API_KEY = os.environ.get(\"OPENAI_API_KEY\")"
   ]
  },
  {
   "cell_type": "markdown",
   "metadata": {},
   "source": [
    "# Load data from HF into Llamaindex"
   ]
  },
  {
   "cell_type": "code",
   "execution_count": 2,
   "metadata": {},
   "outputs": [],
   "source": [
    "#Load from hub\n",
    "from datasets import load_dataset\n",
    "ds_hf = load_dataset(\"jealk/dk_retrieval_benchmark\", \"retsinformation\", split=\"train\")"
   ]
  },
  {
   "cell_type": "code",
   "execution_count": 16,
   "metadata": {},
   "outputs": [
    {
     "name": "stdout",
     "output_type": "stream",
     "text": [
      "There is a total of 431 vejledninger in the dataset, the first one is: Vejledning om beskæftigelseskravet for ret til barselsdagpenge, that contains 40497 characters\n"
     ]
    }
   ],
   "source": [
    "print(f'There is a total of {len(ds_hf)} vejledninger in the dataset, the first one is: {ds_hf[\"vejledning\"][0]}, that contains {len(ds_hf[\"indhold\"][0])} characters')"
   ]
  },
  {
   "cell_type": "markdown",
   "metadata": {},
   "source": [
    "### Load into Llamaindex documents\n",
    "Esentially just dicts with text and metadata"
   ]
  },
  {
   "cell_type": "code",
   "execution_count": 23,
   "metadata": {},
   "outputs": [
    {
     "name": "stderr",
     "output_type": "stream",
     "text": [
      "/home/jealk/mambaforge/envs/llm/lib/python3.11/site-packages/deeplake/util/check_latest_version.py:32: UserWarning: A newer version of deeplake (3.8.14) is available. It's recommended that you update to the latest version using `pip install -U deeplake`.\n",
      "  warnings.warn(\n"
     ]
    },
    {
     "data": {
      "text/plain": [
       "431"
      ]
     },
     "execution_count": 23,
     "metadata": {},
     "output_type": "execute_result"
    }
   ],
   "source": [
    "from llama_index import Document\n",
    "\n",
    "#Iterate over the huggingface dataset object and create a list of llama documents\n",
    "documents_vejledninger = [\n",
    "    Document(text=content, metadata={\"file_name\": name})\n",
    "    for name, content in zip(ds_hf[\"vejledning\"], ds_hf[\"indhold\"])\n",
    "]\n",
    "\n",
    "len(documents_vejledninger)"
   ]
  },
  {
   "cell_type": "code",
   "execution_count": 6,
   "metadata": {},
   "outputs": [
    {
     "data": {
      "text/plain": [
       "{'file_name': 'Vejledning om beskæftigelseskravet for ret til barselsdagpenge'}"
      ]
     },
     "execution_count": 6,
     "metadata": {},
     "output_type": "execute_result"
    }
   ],
   "source": [
    "documents_vejledninger[0].metadata"
   ]
  },
  {
   "cell_type": "code",
   "execution_count": 7,
   "metadata": {},
   "outputs": [
    {
     "data": {
      "text/plain": [
       "'Vejledning om beskæftigelseskravet for ret til barselsdagpenge\\n\\n1.Indledning\\nI denne vejledning beskrives hvilke beskæftigelseskrav, der gælder for at opnå ret til barselsdagpenge. Reglerne findes i §§ 27-29 i barselsloven (loven).\\n\\nI bekendtgørelse nr. 1090 af 1. juni 2021 om opgørelse af beskæftigelseskrav og beregning af barselsdagpenge m.v. (bekendtgørelsen) er fastsat nærmere regler om opgørelsen af beskæftigelseskravet.\\n\\nDenne vejledning erstatter vejledning nr. 10066 af 29. december 2020 '"
      ]
     },
     "execution_count": 7,
     "metadata": {},
     "output_type": "execute_result"
    }
   ],
   "source": [
    "documents_vejledninger[0].text[0:500]"
   ]
  },
  {
   "cell_type": "markdown",
   "metadata": {},
   "source": [
    "## Chunking text\n",
    "First parsing the data into nodes (llamaindex way of structuring data, including the relation to other nodes, embedding info etc.)"
   ]
  },
  {
   "cell_type": "code",
   "execution_count": 8,
   "metadata": {},
   "outputs": [
    {
     "data": {
      "application/vnd.jupyter.widget-view+json": {
       "model_id": "39bd75e51f504b159172568ccfd18949",
       "version_major": 2,
       "version_minor": 0
      },
      "text/plain": [
       "Parsing nodes:   0%|          | 0/431 [00:00<?, ?it/s]"
      ]
     },
     "metadata": {},
     "output_type": "display_data"
    },
    {
     "name": "stderr",
     "output_type": "stream",
     "text": [
      "Token indices sequence length is longer than the specified maximum sequence length for this model (16295 > 512). Running this sequence through the model will result in indexing errors\n"
     ]
    }
   ],
   "source": [
    "from llama_index.node_parser import SentenceSplitter\n",
    "from transformers import AutoTokenizer\n",
    "\n",
    "# Setting max length and defining tokenizer as intended embedding model (e5)\n",
    "# Splitting preferably by \\n (because I formated the html so that all <p> was replaced by a \\n), and if no \\n is found, split by nearest delimeter char . ? ! etc.\n",
    "node_parser = SentenceSplitter(\n",
    "    chunk_size=512,\n",
    "    chunk_overlap=0,\n",
    "    paragraph_separator=\"\\n\",\n",
    "    tokenizer=AutoTokenizer.from_pretrained(\"intfloat/e5-base-v2\").tokenize,\n",
    ")\n",
    "\n",
    "\n",
    "nodes_vejledninger = node_parser.get_nodes_from_documents(\n",
    "    documents_vejledninger, show_progress=True\n",
    ")"
   ]
  },
  {
   "cell_type": "code",
   "execution_count": 9,
   "metadata": {},
   "outputs": [
    {
     "data": {
      "text/plain": [
       "'Det blev indført i forbindelse med førtids- og pensionsreformen i 2013 for at sikre, at omlægningen af fleksjobordningen, hvorefter den ansatte i fleksjob alene modtager løn for de faktiske udførte arbejdstimer, ikke vil afskære personer i de nye fleksjob for at opfylde betingelserne for ret til dagpenge efter barselsloven. Derved blev sikret, at personer, der er ansat i et fleksjob efter § 120 i lov om en aktiv beskæftigelsesindsats, hvor ansættelsen er under 9,15 timer om ugen, har ret til dagpenge efter barselsloven.\\n\\nBemærk at en person, der er ansat i fleksjob efter den gamle fleksjobordning, skal opfylde beskæftigelseskravet for lønmodtagere i lovens § 27, stk. 1, nr. 1, for at opnå ret til dagpenge efter barselsloven.\\n\\n3.1.Opfyldelse af beskæftigelseskravet for selvstændig virksomhed, jf. lovens § 28, stk. 1'"
      ]
     },
     "execution_count": 9,
     "metadata": {},
     "output_type": "execute_result"
    }
   ],
   "source": [
    "nodes_vejledninger[25].text"
   ]
  },
  {
   "cell_type": "markdown",
   "metadata": {},
   "source": [
    "### (Optional chunk len vizualization)\n",
    "Inspecting the distribution of token size of the chunked data"
   ]
  },
  {
   "cell_type": "code",
   "execution_count": 20,
   "metadata": {},
   "outputs": [
    {
     "data": {
      "image/png": "[encoded data removed]",
      "text/plain": [
       "<Figure size 640x480 with 1 Axes>"
      ]
     },
     "metadata": {},
     "output_type": "display_data"
    }
   ],
   "source": [
    "### Use HF tokenizer to verify length\n",
    "from transformers import AutoTokenizer\n",
    "\n",
    "tokenizer = AutoTokenizer.from_pretrained(\"intfloat/e5-base-v2\")\n",
    "token_counts = []\n",
    "for text in [node.text for node in nodes_vejledninger]:\n",
    "    token_counts.append(len(tokenizer.tokenize(text)))\n",
    "\n",
    "# Efficient batch processing to tokenize all texts\n",
    "# batch_dict = tokenizer([node.text for node in nodes_vejledninger], max_length=512, padding=True, truncation=True, return_tensors='pt')\n",
    "\n",
    "# Plot a histogram of the length of the text in all nodes\n",
    "import matplotlib.pyplot as plt\n",
    "\n",
    "text_len = token_counts\n",
    "plt.hist(text_len, bins=100)\n",
    "plt.title(\"Histogram of text length in nodes\")\n",
    "plt.xlabel(\"Token length\")\n",
    "plt.ylabel(\"Number of chunks\")\n",
    "plt.show()"
   ]
  },
  {
   "cell_type": "code",
   "execution_count": 21,
   "metadata": {},
   "outputs": [
    {
     "name": "stdout",
     "output_type": "stream",
     "text": [
      "Example 1 of texts under 100 tokens:\n",
      "At-meddelelse 2.01.2 om gaffeltruckførercertifikat ophæves den 31. december 2017.\n",
      "\n",
      "Arbejdstilsynet, den 22. november 2017\n",
      "\n",
      "\n",
      "Example 2 of texts under 100 tokens:\n",
      "5)Se De Laat-dommen, C-444/98.\n",
      "6)Jf. cirkulæreskrivelse nr. 9569 af 22. november 2012.\n",
      "\n",
      "\n",
      "Example 3 of texts under 100 tokens:\n",
      "Andet sundhedspersonale dækker også personer, som udfører opgaver, der ikke hviler på en autorisation, men hvis virke har samme formål som de nævnte sundhedspersoner. Dette gælder f.eks. psykoterapeuter.\n",
      "\n",
      "\n",
      "Example 4 of texts under 100 tokens:\n",
      "Arbejdsskadestyrelsen, den 31. december  \n",
      "\n",
      " 2000\n",
      "Anne Lind Madsen\n",
      "/Bent Mathiesen\n",
      "\n",
      "\n",
      "Example 5 of texts under 100 tokens:\n",
      "Arbejdstilsynets bekendtgørelse om indretning af tekniske hjælpemidler.\n",
      "\n",
      "Arbejdstilsynet, den 27. juni 2019\n",
      "\n",
      "\n"
     ]
    }
   ],
   "source": [
    "# Print first 5 examples of texts under 100 tokens\n",
    "for i in range(5):\n",
    "    print(f\"Example {i+1} of texts under 100 tokens:\")\n",
    "    print(\n",
    "        [\n",
    "            node.text\n",
    "            for node in nodes_vejledninger\n",
    "            if len(tokenizer.tokenize(node.text)) < 100\n",
    "        ][i]\n",
    "    )\n",
    "    print(\"\\n\")"
   ]
  },
  {
   "attachments": {
    "image-2.png": {
     "image/png": "[encoded data removed]"
    },
    "image.png": {
     "image/png": "[encoded data removed]"
    }
   },
   "cell_type": "markdown",
   "metadata": {},
   "source": [
    "**Short texts, what's happening?**\n",
    "\n",
    "I inspected a few samples of the <100 token texts, and they all seem simply to be the end of documents, where this part likely could not fit into the context window of the previous chunk.\n",
    "\n",
    "2 examples below,\n",
    "\n",
    "![image.png](attachment:image.png)\n",
    "\n",
    "\n",
    "![image-2.png](attachment:image-2.png)"
   ]
  },
  {
   "cell_type": "markdown",
   "metadata": {},
   "source": [
    "### Discarding short chunks\n",
    "Discard any chunks less than 150 tokens long"
   ]
  },
  {
   "cell_type": "code",
   "execution_count": 12,
   "metadata": {},
   "outputs": [],
   "source": [
    "### Use HF tokenizer to verify length\n",
    "from transformers import AutoTokenizer\n",
    "\n",
    "tokenizer = AutoTokenizer.from_pretrained(\"intfloat/e5-base-v2\")\n",
    "\n",
    "nodes_vejledninger_filtered = [\n",
    "    node for node in nodes_vejledninger if len(tokenizer.tokenize(node.text)) > 150\n",
    "]"
   ]
  },
  {
   "cell_type": "code",
   "execution_count": 13,
   "metadata": {},
   "outputs": [
    {
     "data": {
      "text/plain": [
       "'Vejledning om beskæftigelseskravet for ret til barselsdagpenge\\n\\n1.Indledning\\nI denne vejledning beskrives hvilke beskæftigelseskrav, der gælder for at opnå ret til barselsdagpenge. Reglerne findes i §§ 27-29 i barselsloven (loven).\\n\\nI bekendtgørelse nr. 1090 af 1. juni 2021 om opgørelse af beskæftigelseskrav og beregning af barselsdagpenge m.v. (bekendtgørelsen) er fastsat nærmere regler om opgørelsen af beskæftigelseskravet.\\n\\nDenne vejledning erstatter vejledning nr. 10066 af 29. december 2020 om beskæftigelseskravet for ret til barselsdagpenge.\\n\\nEn lønmodtager har ret til barselsdagpenge, hvis pågældende opfylder ét af de fem krav om tilknytning til arbejdsmarkedet, der er nævnt i lovens § 27, stk. 1.\\n\\nKravet om aktuel beskæftigelse dagen før fraværet eller på første fraværsdag samt beskæftigelse i mindst 160 timer indberettet i indkomstregistret inden for de seneste 4 afsluttede kalendermåneder forud for fraværsperioden, jf. lovens § 27, stk. 1, nr. 1, er beskrevet i pkt. 2.1.'"
      ]
     },
     "execution_count": 13,
     "metadata": {},
     "output_type": "execute_result"
    }
   ],
   "source": [
    "nodes_vejledninger_filtered[0].text"
   ]
  },
  {
   "cell_type": "code",
   "execution_count": 14,
   "metadata": {},
   "outputs": [
    {
     "name": "stdout",
     "output_type": "stream",
     "text": [
      "We now have 17868 chunks of text to generate questions from\n"
     ]
    }
   ],
   "source": [
    "print(\n",
    "    f\"We now have {len(nodes_vejledninger_filtered)} chunks of text to generate questions from\"\n",
    ")"
   ]
  },
  {
   "cell_type": "markdown",
   "metadata": {},
   "source": [
    "#### Export nodes into a document store and saver for later use\n",
    "The node object contains relevant info such as what node preceeded and followed it, and the meta data of the source document, both which might be relevant later. \n"
   ]
  },
  {
   "cell_type": "code",
   "execution_count": 11,
   "metadata": {},
   "outputs": [
    {
     "ename": "NameError",
     "evalue": "name 'nodes_vejledninger_filtered' is not defined",
     "output_type": "error",
     "traceback": [
      "\u001b[0;31m---------------------------------------------------------------------------\u001b[0m",
      "\u001b[0;31mNameError\u001b[0m                                 Traceback (most recent call last)",
      "\u001b[1;32m/home/jealk/src/genq_dansk/01_qgen.ipynb Cell 23\u001b[0m line \u001b[0;36m1\n\u001b[0;32m----> <a href='vscode-notebook-cell://wsl%2Bubuntu/home/jealk/src/genq_dansk/01_qgen.ipynb#X31sdnNjb2RlLXJlbW90ZQ%3D%3D?line=0'>1</a>\u001b[0m nodes_vejledninger_filtered[\u001b[39m0\u001b[39m]\n",
      "\u001b[0;31mNameError\u001b[0m: name 'nodes_vejledninger_filtered' is not defined"
     ]
    }
   ],
   "source": [
    "nodes_vejledninger_filtered[0]"
   ]
  },
  {
   "cell_type": "code",
   "execution_count": 35,
   "metadata": {},
   "outputs": [],
   "source": [
    "from llama_index.storage.docstore import SimpleDocumentStore\n",
    "\n",
    "# create (or load) docstore and add nodes\n",
    "docstore = SimpleDocumentStore()\n",
    "docstore.add_documents(nodes_vejledninger_filtered)\n",
    "\n",
    "# persist nodes to disk\n",
    "docstore.persist(\"data/node_store_25-11-23\")"
   ]
  },
  {
   "cell_type": "markdown",
   "metadata": {},
   "source": [
    "**Short addition to save parts of the node data in a dataframe for HF dataset creation**"
   ]
  },
  {
   "cell_type": "code",
   "execution_count": 37,
   "metadata": {},
   "outputs": [],
   "source": [
    "from llama_index.storage.docstore import SimpleDocumentStore\n",
    "\n",
    "# Load the SimpleDocumentStore from the persisted file\n",
    "docstore = SimpleDocumentStore.from_persist_path(\"data/node_store_25-11-23\")\n",
    "# Create a list of nodes by list comprehension by iterating over the key (store hash) value (llamnaindex node) pairs of the docstore.docs object and appending the value to the list\n",
    "nodes_vejledninger_filtered = [node for key, node in docstore.docs.items()]"
   ]
  },
  {
   "cell_type": "code",
   "execution_count": 39,
   "metadata": {},
   "outputs": [
    {
     "data": {
      "text/html": [
       "<div>\n",
       "<style scoped>\n",
       "    .dataframe tbody tr th:only-of-type {\n",
       "        vertical-align: middle;\n",
       "    }\n",
       "\n",
       "    .dataframe tbody tr th {\n",
       "        vertical-align: top;\n",
       "    }\n",
       "\n",
       "    .dataframe thead th {\n",
       "        text-align: right;\n",
       "    }\n",
       "</style>\n",
       "<table border=\"1\" class=\"dataframe\">\n",
       "  <thead>\n",
       "    <tr style=\"text-align: right;\">\n",
       "      <th></th>\n",
       "      <th>vejledning</th>\n",
       "      <th>chunk_id</th>\n",
       "      <th>chunk_text</th>\n",
       "    </tr>\n",
       "  </thead>\n",
       "  <tbody>\n",
       "    <tr>\n",
       "      <th>0</th>\n",
       "      <td>Vejledning om beskæftigelseskravet for ret til...</td>\n",
       "      <td>9281784d-734c-4665-b5dd-f6da8fd81859</td>\n",
       "      <td>Vejledning om beskæftigelseskravet for ret til...</td>\n",
       "    </tr>\n",
       "    <tr>\n",
       "      <th>1</th>\n",
       "      <td>Vejledning om beskæftigelseskravet for ret til...</td>\n",
       "      <td>bbeb5fdc-a88b-4981-861c-65d14ff2d3ec</td>\n",
       "      <td>Kravet om at ville have været berettiget til a...</td>\n",
       "    </tr>\n",
       "    <tr>\n",
       "      <th>2</th>\n",
       "      <td>Vejledning om beskæftigelseskravet for ret til...</td>\n",
       "      <td>3011dcf7-0ef2-43cb-9668-880ed01a5de5</td>\n",
       "      <td>Det fremgår af lovens § 27, stk. 1, nr. 1, at ...</td>\n",
       "    </tr>\n",
       "    <tr>\n",
       "      <th>3</th>\n",
       "      <td>Vejledning om beskæftigelseskravet for ret til...</td>\n",
       "      <td>0ecf96e1-1982-472d-be10-df29d162aafb</td>\n",
       "      <td>Opgørelsen af beskæftigelseskravet sker som ud...</td>\n",
       "    </tr>\n",
       "    <tr>\n",
       "      <th>4</th>\n",
       "      <td>Vejledning om beskæftigelseskravet for ret til...</td>\n",
       "      <td>4c7f436c-b9b4-49eb-8766-8b111311eef3</td>\n",
       "      <td>Hvis det i forbindelse med Udbetaling Danmarks...</td>\n",
       "    </tr>\n",
       "  </tbody>\n",
       "</table>\n",
       "</div>"
      ],
      "text/plain": [
       "                                          vejledning  \\\n",
       "0  Vejledning om beskæftigelseskravet for ret til...   \n",
       "1  Vejledning om beskæftigelseskravet for ret til...   \n",
       "2  Vejledning om beskæftigelseskravet for ret til...   \n",
       "3  Vejledning om beskæftigelseskravet for ret til...   \n",
       "4  Vejledning om beskæftigelseskravet for ret til...   \n",
       "\n",
       "                               chunk_id  \\\n",
       "0  9281784d-734c-4665-b5dd-f6da8fd81859   \n",
       "1  bbeb5fdc-a88b-4981-861c-65d14ff2d3ec   \n",
       "2  3011dcf7-0ef2-43cb-9668-880ed01a5de5   \n",
       "3  0ecf96e1-1982-472d-be10-df29d162aafb   \n",
       "4  4c7f436c-b9b4-49eb-8766-8b111311eef3   \n",
       "\n",
       "                                          chunk_text  \n",
       "0  Vejledning om beskæftigelseskravet for ret til...  \n",
       "1  Kravet om at ville have været berettiget til a...  \n",
       "2  Det fremgår af lovens § 27, stk. 1, nr. 1, at ...  \n",
       "3  Opgørelsen af beskæftigelseskravet sker som ud...  \n",
       "4  Hvis det i forbindelse med Udbetaling Danmarks...  "
      ]
     },
     "execution_count": 39,
     "metadata": {},
     "output_type": "execute_result"
    }
   ],
   "source": [
    "#Create a pandas dataframe from the nodes_vejledninger_filtered object\n",
    "#Only include the id_, metadata['file_name'] and text attributes of the object\n",
    "import pandas as pd\n",
    "df = pd.DataFrame([[node.metadata['file_name'], node.id_, node.text] for node in nodes_vejledninger_filtered], columns=['vejledning', 'chunk_id', 'chunk_text'])\n",
    "df.head()"
   ]
  },
  {
   "cell_type": "code",
   "execution_count": 40,
   "metadata": {},
   "outputs": [],
   "source": [
    "#Save the dataframe as a csv file ensure that non ascii characters are encoded as utf-8\n",
    "df.to_csv('data/chunks_id_text-3-12-23-v2.csv', encoding='utf-8')"
   ]
  },
  {
   "cell_type": "markdown",
   "metadata": {},
   "source": [
    "## Generate Q "
   ]
  },
  {
   "cell_type": "markdown",
   "metadata": {},
   "source": [
    "**Write the Question gen prompt template**"
   ]
  },
  {
   "cell_type": "code",
   "execution_count": 15,
   "metadata": {},
   "outputs": [],
   "source": [
    "from llama_index.prompts import PromptTemplate\n",
    "\n",
    "# Define your custom prompt template in Danish\n",
    "qa_sagsbehandler_tmlp = \"\"\" Nedenfor er et uddrag (kontekst) fra en længere tekst:\n",
    "---------------------\n",
    "{context_str}\n",
    "---------------------\n",
    "Givet ovenstående uddrag (kontekst) og ingen forudgående viden, er din opgave at generere spørgsmål til teksten.\n",
    "Du er en erfaren sagsbehandler, og din opgave er at stille præcis {num_questions_per_chunk} spørgsmål, som kan besvares i uddraget.\n",
    "Spørgsmålene skal være af forskellig karakter og dække teksten bredt, men stilles i et sprog som en borger uden juridisk ekspertise kan forstå.\n",
    "Svaret til spørgsmålet, skal kunne findes i ovenstående uddrag (kontekst).\n",
    "\"\"\"\n",
    "\n",
    "qa_sagsbehandler_tmlp = PromptTemplate(qa_sagsbehandler_tmlp)"
   ]
  },
  {
   "cell_type": "markdown",
   "metadata": {},
   "source": [
    "**Generate the questions**"
   ]
  },
  {
   "cell_type": "code",
   "execution_count": 17,
   "metadata": {},
   "outputs": [
    {
     "name": "stderr",
     "output_type": "stream",
     "text": [
      "  0%|          | 0/100 [00:00<?, ?it/s]"
     ]
    },
    {
     "name": "stderr",
     "output_type": "stream",
     "text": [
      "100%|██████████| 100/100 [14:01<00:00,  8.41s/it]\n"
     ]
    }
   ],
   "source": [
    "from llama_index.finetuning import generate_qa_embedding_pairs\n",
    "from llama_index.llms import OpenAI\n",
    "\n",
    "# define LLM\n",
    "llm_oai = OpenAI(temperature=0.0, model=\"gpt-4-1106-preview\")\n",
    "\n",
    "qa_dataset = generate_qa_embedding_pairs(\n",
    "    qa_generate_prompt_tmpl=qa_sagsbehandler_tmlp,\n",
    "    llm=llm_oai,\n",
    "    nodes=nodes_vejledninger_filtered[0:100],\n",
    "    num_questions_per_chunk=2,\n",
    ")"
   ]
  },
  {
   "cell_type": "markdown",
   "metadata": {},
   "source": [
    "**Example of generated questions**"
   ]
  },
  {
   "cell_type": "code",
   "execution_count": 19,
   "metadata": {},
   "outputs": [
    {
     "name": "stdout",
     "output_type": "stream",
     "text": [
      "Spørgsmål:\n",
      " Hvilke dokumenter skal jeg kigge i for at forstå de detaljerede regler om, hvordan man opgør arbejdstimer for at være berettiget til barselsdagpenge? \n",
      "\n",
      "Chunk:\n",
      " Vejledning om beskæftigelseskravet for ret til barselsdagpenge\n",
      "\n",
      "1.Indledning\n",
      "I denne vejledning beskrives hvilke beskæftigelseskrav, der gælder for at opnå ret til barselsdagpenge. Reglerne findes i §§ 27-29 i barselsloven (loven).\n",
      "\n",
      "I bekendtgørelse nr. 1090 af 1. juni 2021 om opgørelse af beskæftigelseskrav og beregning af barselsdagpenge m.v. (bekendtgørelsen) er fastsat nærmere regler om opgørelsen af beskæftigelseskravet.\n",
      "\n",
      "Denne vejledning erstatter vejledning nr. 10066 af 29. december 2020 om beskæftigelseskravet for ret til barselsdagpenge.\n",
      "\n",
      "En lønmodtager har ret til barselsdagpenge, hvis pågældende opfylder ét af de fem krav om tilknytning til arbejdsmarkedet, der er nævnt i lovens § 27, stk. 1.\n",
      "\n",
      "Kravet om aktuel beskæftigelse dagen før fraværet eller på første fraværsdag samt beskæftigelse i mindst 160 timer indberettet i indkomstregistret inden for de seneste 4 afsluttede kalendermåneder forud for fraværsperioden, jf. lovens § 27, stk. 1, nr. 1, er beskrevet i pkt. 2.1. \n",
      "\n"
     ]
    }
   ],
   "source": [
    "for query_id, query in qa_dataset.queries.items():\n",
    "    node_id = qa_dataset.relevant_docs[query_id][0]\n",
    "    text = qa_dataset.corpus[node_id]\n",
    "    print(f\"Spørgsmål:\\n {query} \\n\")\n",
    "    print(f\"Chunk:\\n {text} \\n\")\n",
    "    break"
   ]
  },
  {
   "cell_type": "markdown",
   "metadata": {},
   "source": [
    "**Save / Load Q&A dataset**"
   ]
  },
  {
   "cell_type": "code",
   "execution_count": 18,
   "metadata": {},
   "outputs": [],
   "source": [
    "# Save qa_dataset as json\n",
    "qa_dataset.save_json(\"data/qa_dataset_gp41106_07-12-23_100_samples.json\")"
   ]
  },
  {
   "cell_type": "code",
   "execution_count": null,
   "metadata": {},
   "outputs": [],
   "source": []
  }
 ],
 "metadata": {
  "kernelspec": {
   "display_name": "llm",
   "language": "python",
   "name": "python3"
  },
  "language_info": {
   "codemirror_mode": {
    "name": "ipython",
    "version": 3
   },
   "file_extension": ".py",
   "mimetype": "text/x-python",
   "name": "python",
   "nbconvert_exporter": "python",
   "pygments_lexer": "ipython3",
   "version": "3.11.4"
  }
 },
 "nbformat": 4,
 "nbformat_minor": 2
}
