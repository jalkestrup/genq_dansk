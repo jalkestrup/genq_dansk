{
 "cells": [
  {
   "cell_type": "markdown",
   "metadata": {},
   "source": [
    "### Set up API key"
   ]
  },
  {
   "cell_type": "code",
   "execution_count": 2,
   "metadata": {},
   "outputs": [],
   "source": [
    "import os\n",
    "from dotenv import load_dotenv\n",
    "import pandas as pd\n",
    "from datasets import Dataset\n",
    "from datasets import load_dataset\n",
    "load_dotenv(override=True)\n",
    "OPENAI_API_KEY = os.environ.get(\"OPENAI_API_KEY\")"
   ]
  },
  {
   "cell_type": "markdown",
   "metadata": {},
   "source": [
    "# Load data from HF into Llamaindex"
   ]
  },
  {
   "cell_type": "code",
   "execution_count": 3,
   "metadata": {},
   "outputs": [
    {
     "data": {
      "application/vnd.jupyter.widget-view+json": {
       "model_id": "c7ebfc4dc5a5471fa6b2850e317067ac",
       "version_major": 2,
       "version_minor": 0
      },
      "text/plain": [
       "Downloading readme:   0%|          | 0.00/1.16k [00:00<?, ?B/s]"
      ]
     },
     "metadata": {},
     "output_type": "display_data"
    },
    {
     "data": {
      "application/vnd.jupyter.widget-view+json": {
       "model_id": "6a100254853f458f903b5afb7a49f6d9",
       "version_major": 2,
       "version_minor": 0
      },
      "text/plain": [
       "Downloading data files:   0%|          | 0/1 [00:00<?, ?it/s]"
      ]
     },
     "metadata": {},
     "output_type": "display_data"
    },
    {
     "data": {
      "application/vnd.jupyter.widget-view+json": {
       "model_id": "edb6f29836414675a0a76a38c3f9863a",
       "version_major": 2,
       "version_minor": 0
      },
      "text/plain": [
       "Downloading data:   0%|          | 0.00/20.3M [00:00<?, ?B/s]"
      ]
     },
     "metadata": {},
     "output_type": "display_data"
    },
    {
     "data": {
      "application/vnd.jupyter.widget-view+json": {
       "model_id": "cf4a53a3213447acbafb28056595c0df",
       "version_major": 2,
       "version_minor": 0
      },
      "text/plain": [
       "Extracting data files:   0%|          | 0/1 [00:00<?, ?it/s]"
      ]
     },
     "metadata": {},
     "output_type": "display_data"
    },
    {
     "data": {
      "application/vnd.jupyter.widget-view+json": {
       "model_id": "6cc126dfa8a3493b9ce38f4515855d01",
       "version_major": 2,
       "version_minor": 0
      },
      "text/plain": [
       "Generating train split:   0%|          | 0/433 [00:00<?, ? examples/s]"
      ]
     },
     "metadata": {},
     "output_type": "display_data"
    }
   ],
   "source": [
    "# Load from hub\n",
    "ds_vejledninger = load_dataset(\n",
    "    \"jealk/dk_retrieval_benchmark\", split=\"train\", download_mode=\"force_redownload\"\n",
    ")"
   ]
  },
  {
   "cell_type": "code",
   "execution_count": 4,
   "metadata": {},
   "outputs": [
    {
     "data": {
      "text/html": [
       "<div>\n",
       "<style scoped>\n",
       "    .dataframe tbody tr th:only-of-type {\n",
       "        vertical-align: middle;\n",
       "    }\n",
       "\n",
       "    .dataframe tbody tr th {\n",
       "        vertical-align: top;\n",
       "    }\n",
       "\n",
       "    .dataframe thead th {\n",
       "        text-align: right;\n",
       "    }\n",
       "</style>\n",
       "<table border=\"1\" class=\"dataframe\">\n",
       "  <thead>\n",
       "    <tr style=\"text-align: right;\">\n",
       "      <th></th>\n",
       "      <th>url</th>\n",
       "      <th>title</th>\n",
       "      <th>html_content</th>\n",
       "      <th>text_content</th>\n",
       "    </tr>\n",
       "  </thead>\n",
       "  <tbody>\n",
       "    <tr>\n",
       "      <th>0</th>\n",
       "      <td>https://www.retsinformation.dk/eli/retsinfo/20...</td>\n",
       "      <td>Vejledning om regulering af satser fra 1. janu...</td>\n",
       "      <td>&lt;div class=\"document-content\" id=\"restylingRoo...</td>\n",
       "      <td>Vejledning om regulering af satser fra 1. janu...</td>\n",
       "    </tr>\n",
       "    <tr>\n",
       "      <th>1</th>\n",
       "      <td>https://www.retsinformation.dk/eli/retsinfo/20...</td>\n",
       "      <td>Vejledning om satser i 2024 for betaling af ud...</td>\n",
       "      <td>&lt;div class=\"document-content\" id=\"restylingRoo...</td>\n",
       "      <td>Vejledning om satser i 2024 for betaling af ud...</td>\n",
       "    </tr>\n",
       "    <tr>\n",
       "      <th>2</th>\n",
       "      <td>https://www.retsinformation.dk/eli/retsinfo/20...</td>\n",
       "      <td>Vejledning om obligatorisk selvbooking af jobs...</td>\n",
       "      <td>&lt;div class=\"document-content\" id=\"restylingRoo...</td>\n",
       "      <td>Vejledning om obligatorisk selvbooking af jobs...</td>\n",
       "    </tr>\n",
       "    <tr>\n",
       "      <th>3</th>\n",
       "      <td>https://www.retsinformation.dk/eli/retsinfo/20...</td>\n",
       "      <td>Vejledning til bekendtgørelse om tilskud til s...</td>\n",
       "      <td>&lt;div class=\"document-content\" id=\"restylingRoo...</td>\n",
       "      <td>Vejledning til bekendtgørelse om tilskud til s...</td>\n",
       "    </tr>\n",
       "    <tr>\n",
       "      <th>4</th>\n",
       "      <td>https://www.retsinformation.dk/eli/retsinfo/20...</td>\n",
       "      <td>Vejledning om fleksløntilskud m.v.</td>\n",
       "      <td>&lt;div class=\"document-content\" id=\"restylingRoo...</td>\n",
       "      <td>Vejledning om fleksløntilskud m.v.\\n1.Indledni...</td>\n",
       "    </tr>\n",
       "  </tbody>\n",
       "</table>\n",
       "</div>"
      ],
      "text/plain": [
       "                                                 url  \\\n",
       "0  https://www.retsinformation.dk/eli/retsinfo/20...   \n",
       "1  https://www.retsinformation.dk/eli/retsinfo/20...   \n",
       "2  https://www.retsinformation.dk/eli/retsinfo/20...   \n",
       "3  https://www.retsinformation.dk/eli/retsinfo/20...   \n",
       "4  https://www.retsinformation.dk/eli/retsinfo/20...   \n",
       "\n",
       "                                               title  \\\n",
       "0  Vejledning om regulering af satser fra 1. janu...   \n",
       "1  Vejledning om satser i 2024 for betaling af ud...   \n",
       "2  Vejledning om obligatorisk selvbooking af jobs...   \n",
       "3  Vejledning til bekendtgørelse om tilskud til s...   \n",
       "4                 Vejledning om fleksløntilskud m.v.   \n",
       "\n",
       "                                        html_content  \\\n",
       "0  <div class=\"document-content\" id=\"restylingRoo...   \n",
       "1  <div class=\"document-content\" id=\"restylingRoo...   \n",
       "2  <div class=\"document-content\" id=\"restylingRoo...   \n",
       "3  <div class=\"document-content\" id=\"restylingRoo...   \n",
       "4  <div class=\"document-content\" id=\"restylingRoo...   \n",
       "\n",
       "                                        text_content  \n",
       "0  Vejledning om regulering af satser fra 1. janu...  \n",
       "1  Vejledning om satser i 2024 for betaling af ud...  \n",
       "2  Vejledning om obligatorisk selvbooking af jobs...  \n",
       "3  Vejledning til bekendtgørelse om tilskud til s...  \n",
       "4  Vejledning om fleksløntilskud m.v.\\n1.Indledni...  "
      ]
     },
     "execution_count": 4,
     "metadata": {},
     "output_type": "execute_result"
    }
   ],
   "source": [
    "# Create pandas dataframe from the dataset using the huggingface datasets library\n",
    "df_vejledninger = ds_vejledninger.to_pandas()\n",
    "df_vejledninger.head()"
   ]
  },
  {
   "cell_type": "code",
   "execution_count": 5,
   "metadata": {},
   "outputs": [
    {
     "name": "stdout",
     "output_type": "stream",
     "text": [
      "There is a total of 433 documents in the dataset\n"
     ]
    }
   ],
   "source": [
    "print(f\"There is a total of {len(df_vejledninger)} documents in the dataset\")"
   ]
  },
  {
   "cell_type": "markdown",
   "metadata": {},
   "source": [
    "### Load into Llamaindex documents\n",
    "Esentially just dicts with text and metadata"
   ]
  },
  {
   "cell_type": "code",
   "execution_count": 6,
   "metadata": {},
   "outputs": [
    {
     "data": {
      "text/plain": [
       "433"
      ]
     },
     "execution_count": 6,
     "metadata": {},
     "output_type": "execute_result"
    }
   ],
   "source": [
    "from llama_index import Document\n",
    "\n",
    "# Iterate over the huggingface dataset object and create a list of llama documents\n",
    "documents_vejledninger = [\n",
    "    Document(text=content, metadata={\"title_vejledning\": name, \"url\": url})\n",
    "    for name, content, url in zip(\n",
    "        ds_vejledninger[\"title\"],\n",
    "        ds_vejledninger[\"text_content\"],\n",
    "        ds_vejledninger[\"url\"],\n",
    "    )\n",
    "]\n",
    "\n",
    "len(documents_vejledninger)"
   ]
  },
  {
   "cell_type": "code",
   "execution_count": 7,
   "metadata": {},
   "outputs": [
    {
     "data": {
      "text/plain": [
       "{'title_vejledning': 'Vejledning om regulering af satser fra 1. januar 2024 efter lov om arbejdsskadesikring, lov om sikring mod følger af arbejdsskade, lov om arbejdsskadeforsikring og lov om forsikring mod følger af ulykkestilfælde',\n",
       " 'url': 'https://www.retsinformation.dk/eli/retsinfo/2024/9001'}"
      ]
     },
     "execution_count": 7,
     "metadata": {},
     "output_type": "execute_result"
    }
   ],
   "source": [
    "# Inspecting the meta data of a document\n",
    "documents_vejledninger[0].metadata"
   ]
  },
  {
   "cell_type": "code",
   "execution_count": 8,
   "metadata": {},
   "outputs": [
    {
     "data": {
      "text/plain": [
       "'Vejledning om regulering af satser fra 1. januar 2024 efter lov om arbejdsskadesikring, lov om sikring mod følger af arbejdsskade, lov om arbejdsskadeforsikring og lov om forsikring mod følger af ulykkestilfælde\\nIndledning\\nEfter lov om arbejdsskadesikring, jf. lovbekendtgørelse nr. 1186 af 19. august 2022 med de ændringer, der følger af lov nr. 1541 af 12. december 2023, og lov om sikring mod følger af arbejdsskade, jf. lovbekendtgørelse nr. 943 af 16. oktober 2000, skal der med virkning fra 1. '"
      ]
     },
     "execution_count": 8,
     "metadata": {},
     "output_type": "execute_result"
    }
   ],
   "source": [
    "# Inspecting the text of a document\n",
    "documents_vejledninger[0].text[0:500]"
   ]
  },
  {
   "cell_type": "markdown",
   "metadata": {},
   "source": [
    "## Chunking text\n",
    "First parsing the data into nodes (llamaindex way of structuring data, including the relation to other nodes, embedding info etc.)"
   ]
  },
  {
   "cell_type": "code",
   "execution_count": 9,
   "metadata": {},
   "outputs": [
    {
     "data": {
      "application/vnd.jupyter.widget-view+json": {
       "model_id": "08d9d676eeea4109a2d51a369b14ec14",
       "version_major": 2,
       "version_minor": 0
      },
      "text/plain": [
       "Parsing nodes:   0%|          | 0/433 [00:00<?, ?it/s]"
      ]
     },
     "metadata": {},
     "output_type": "display_data"
    },
    {
     "name": "stderr",
     "output_type": "stream",
     "text": [
      "Token indices sequence length is longer than the specified maximum sequence length for this model (24739 > 512). Running this sequence through the model will result in indexing errors\n"
     ]
    }
   ],
   "source": [
    "from llama_index.node_parser import SentenceSplitter\n",
    "from transformers import AutoTokenizer\n",
    "\n",
    "tokenizer_e5 = AutoTokenizer.from_pretrained(\"intfloat/e5-base-v2\")\n",
    "\n",
    "# Setting max length and defining tokenizer as intended embedding model (e5)\n",
    "# Splitting preferably by \\n (because I formated the html so that all <p> was replaced by a \\n), and if no \\n is found, split by nearest delimeter char . ? ! etc.\n",
    "node_parser = SentenceSplitter(\n",
    "    chunk_size=512,\n",
    "    chunk_overlap=0,\n",
    "    # As of 18/12/2023 the paragraph seperator expects a string\n",
    "    # Some uncertainty of whether the regex is working as intended\n",
    "    secondary_chunking_regex=str([\"\\n\"]),\n",
    "    paragraph_separator=str([\"\\n\\n\"]),\n",
    "    tokenizer=tokenizer_e5.tokenize,\n",
    ")\n",
    "\n",
    "nodes_vejledninger = node_parser.get_nodes_from_documents(\n",
    "    documents_vejledninger, show_progress=True\n",
    ")"
   ]
  },
  {
   "cell_type": "code",
   "execution_count": 10,
   "metadata": {},
   "outputs": [
    {
     "data": {
      "text/plain": [
       "'1541 af 12. december 2023.\\nÅrlig løbende erstatning for tab af erhvervsevne og tab af forsørger samt årlig uddannelsesgodtgørelse beregnes herefter som grundydelsen pr. 1. januar 2024, jf. ovenfor, med et tillæg på 0,0 pct.\\nKapitalerstatninger for tab af erhvervsevne beregnes som den årlige løbende erstatning på afgørelsestidspunktet × kapitaliseringsfaktoren på afgørelsestidspunktet.\\nMéngodtgørelsen beregnes som ménprocenten × 1.013.500 kr. Hvis tilskadekomne ved skadens indtræden var fyldt 40 år, nedsættes méngodtgørelsen med 1 pct. for hvert år tilskadekomne på skadestidspunktet var over 39 år. Hvis tilskadekomne ved skadens indtræden var fyldt 60 år, nedsættes méngodtgørelsen herudover med yderligere 1 pct. for hvert år tilskadekomne på skadestidspunktet var over 59 år. Méngodtgørelsen nedsættes ikke yderligere efter det fyldte 69. år.\\nOvergangsbeløbet ved dødsfald udgør 191.000 kr.'"
      ]
     },
     "execution_count": 10,
     "metadata": {},
     "output_type": "execute_result"
    }
   ],
   "source": [
    "nodes_vejledninger[25].text"
   ]
  },
  {
   "cell_type": "markdown",
   "metadata": {},
   "source": [
    "### (Optional chunk len vizualization)\n",
    "Inspecting the distribution of token size of the chunked data"
   ]
  },
  {
   "cell_type": "code",
   "execution_count": 14,
   "metadata": {},
   "outputs": [
    {
     "data": {
      "image/png": "[encoded data removed]",
      "text/plain": [
       "<Figure size 640x480 with 1 Axes>"
      ]
     },
     "metadata": {},
     "output_type": "display_data"
    }
   ],
   "source": [
    "### Use HF tokenizer to verify length\n",
    "from transformers import AutoTokenizer\n",
    "\n",
    "tokenizer = AutoTokenizer.from_pretrained(\"intfloat/e5-base-v2\")\n",
    "token_counts = []\n",
    "for text in [node.text for node in nodes_vejledninger]:\n",
    "    token_counts.append(len(tokenizer.tokenize(text)))\n",
    "\n",
    "# Efficient batch processing to tokenize all texts\n",
    "# batch_dict = tokenizer([node.text for node in nodes_vejledninger], max_length=512, padding=True, truncation=True, return_tensors='pt')\n",
    "\n",
    "# Plot a histogram of the length of the text in all nodes\n",
    "import matplotlib.pyplot as plt\n",
    "\n",
    "text_len = token_counts\n",
    "plt.hist(text_len, bins=100)\n",
    "plt.title(\"Histogram of text length in nodes\")\n",
    "plt.xlabel(\"Token length\")\n",
    "plt.ylabel(\"Number of chunks\")\n",
    "plt.show()"
   ]
  },
  {
   "cell_type": "code",
   "execution_count": 15,
   "metadata": {},
   "outputs": [
    {
     "name": "stdout",
     "output_type": "stream",
     "text": [
      "Example 1 of texts under 100 tokens:\n",
      "9650 af 20. juni 2022.\n",
      "\n",
      "Beskæftigelsesministeriet, den 19. december 2023\n",
      "Kirsten Brix Pedersen\n",
      "/ Anne Hedegaard\n",
      "\n",
      "\n",
      "Example 2 of texts under 100 tokens:\n",
      "Styrelsen for Arbejdsmarked og Rekruttering, den 20. december 2023\n",
      "Kirsten Brix Pedersen\n",
      "/ Anne Hedegaard\n",
      "\n",
      "\n",
      "Example 3 of texts under 100 tokens:\n",
      "3, i retssikkerhedsbekendtgørelsen træffer Ankestyrelsen/Ankestyrelsens Beskæftigelsesudvalg afgørelse inden 4 uger efter, at klagen er modtaget.\n",
      "\n",
      "Styrelsen for Arbejdsmarked og Rekruttering, den 19. december 2023\n",
      "Jakob Heltoft\n",
      "/ Astrid Finderup\n",
      "\n",
      "\n",
      "Example 4 of texts under 100 tokens:\n",
      "Arbejdstilsynet, den 30. oktober 2023\n",
      "Sine Frederiksen\n",
      "/ Helle Klostergaard Christensen\n",
      "\n",
      "\n",
      "Example 5 of texts under 100 tokens:\n",
      "Arbejdstilsynet, den 4. oktober 2023\n",
      "\n",
      "\n"
     ]
    }
   ],
   "source": [
    "# Print first 5 examples of texts under 100 tokens\n",
    "for i in range(5):\n",
    "    print(f\"Example {i+1} of texts under 100 tokens:\")\n",
    "    print(\n",
    "        [\n",
    "            node.text\n",
    "            for node in nodes_vejledninger\n",
    "            if len(tokenizer.tokenize(node.text)) < 100\n",
    "        ][i]\n",
    "    )\n",
    "    print(\"\\n\")"
   ]
  },
  {
   "cell_type": "markdown",
   "metadata": {},
   "source": [
    "**Short texts, what's happening?**\n",
    "\n",
    "I inspected a few samples of the <100 token texts, and they mostly seem simply to be the end of documents, where this part likely could not fit into the context window of the previous chunk.\n"
   ]
  },
  {
   "cell_type": "markdown",
   "metadata": {},
   "source": [
    "### Discarding short chunks\n",
    "Discard any chunks less than 150 tokens long"
   ]
  },
  {
   "cell_type": "code",
   "execution_count": 11,
   "metadata": {},
   "outputs": [],
   "source": [
    "### Use HF tokenizer to verify length\n",
    "\n",
    "nodes_vejledninger_filtered = [\n",
    "    node for node in nodes_vejledninger if len(tokenizer_e5.tokenize(node.text)) > 150\n",
    "]"
   ]
  },
  {
   "cell_type": "code",
   "execution_count": 12,
   "metadata": {},
   "outputs": [
    {
     "name": "stdout",
     "output_type": "stream",
     "text": [
      "We now have 18423 chunks of text to generate questions from\n"
     ]
    }
   ],
   "source": [
    "print(\n",
    "    f\"We now have {len(nodes_vejledninger_filtered)} chunks of text to generate questions from\"\n",
    ")"
   ]
  },
  {
   "cell_type": "markdown",
   "metadata": {},
   "source": [
    "#### Export nodes into a document store and saver for later use\n",
    "The node object contains relevant info such as what node preceeded and followed it, and the meta data of the source document, both which might be relevant later. \n"
   ]
  },
  {
   "cell_type": "code",
   "execution_count": 13,
   "metadata": {},
   "outputs": [
    {
     "data": {
      "text/plain": [
       "TextNode(id_='de8fc424-d79a-498e-93a7-d0d6244d99b3', embedding=None, metadata={'title_vejledning': 'Vejledning om regulering af satser fra 1. januar 2024 efter lov om arbejdsskadesikring, lov om sikring mod følger af arbejdsskade, lov om arbejdsskadeforsikring og lov om forsikring mod følger af ulykkestilfælde', 'url': 'https://www.retsinformation.dk/eli/retsinfo/2024/9001'}, excluded_embed_metadata_keys=[], excluded_llm_metadata_keys=[], relationships={<NodeRelationship.SOURCE: '1'>: RelatedNodeInfo(node_id='5a30824f-1aad-4b20-a214-339f136bbd59', node_type=<ObjectType.DOCUMENT: '4'>, metadata={'title_vejledning': 'Vejledning om regulering af satser fra 1. januar 2024 efter lov om arbejdsskadesikring, lov om sikring mod følger af arbejdsskade, lov om arbejdsskadeforsikring og lov om forsikring mod følger af ulykkestilfælde', 'url': 'https://www.retsinformation.dk/eli/retsinfo/2024/9001'}, hash='38b309944fe6155453e3117dea7104ee23212a96f2a93b5acbb957eec81f202b'), <NodeRelationship.NEXT: '3'>: RelatedNodeInfo(node_id='c2cb9950-8c50-4f25-931c-8aa3423dffc3', node_type=<ObjectType.TEXT: '1'>, metadata={}, hash='f6ed34c1c002377faeddbec410354ffe8084f1cbe3210cc20df7404ed0a05368')}, text='Vejledning om regulering af satser fra 1. januar 2024 efter lov om arbejdsskadesikring, lov om sikring mod følger af arbejdsskade, lov om arbejdsskadeforsikring og lov om forsikring mod følger af ulykkestilfælde\\nIndledning\\nEfter lov om arbejdsskadesikring, jf. lovbekendtgørelse nr. 1186 af 19. august 2022 med de ændringer, der følger af lov nr. 1541 af 12. december 2023, og lov om sikring mod følger af arbejdsskade, jf. lovbekendtgørelse nr. 943 af 16. oktober 2000, skal der med virkning fra 1. januar 2024 efter indstilling fra bestyrelsen for Arbejdsmarkedets Erhvervssikring ske regulering af lovens årslønsbeløb, godtgørelsesbeløb, overgangsbeløb samt løbende erstatninger.\\nReguleringen af satserne fastsættes af Arbejdstilsynets direktør efter bemyndigelse fra beskæftigelsesministeren.\\nSatser efter loven reguleres med 2 procent tillagt tilpasningsprocenten for finansåret 2024 (jf. lov om en satsreguleringsprocent).', start_char_idx=0, end_char_idx=928, text_template='{metadata_str}\\n\\n{content}', metadata_template='{key}: {value}', metadata_seperator='\\n')"
      ]
     },
     "execution_count": 13,
     "metadata": {},
     "output_type": "execute_result"
    }
   ],
   "source": [
    "nodes_vejledninger_filtered[0]"
   ]
  },
  {
   "cell_type": "markdown",
   "metadata": {},
   "source": [
    "**Option to save the nodes to disk for later use**"
   ]
  },
  {
   "cell_type": "code",
   "execution_count": 37,
   "metadata": {},
   "outputs": [
    {
     "data": {
      "text/plain": [
       "'\\nfrom llama_index.storage.docstore import SimpleDocumentStore\\n\\n# create (or load) docstore and add nodes\\ndocstore = SimpleDocumentStore()\\ndocstore.add_documents(nodes_vejledninger_filtered)\\n\\n# persist nodes to disk\\ndocstore.persist(\"data/node_store_25-11-23\")\\n'"
      ]
     },
     "execution_count": 37,
     "metadata": {},
     "output_type": "execute_result"
    }
   ],
   "source": [
    "\"\"\"\n",
    "#To save the docs locally\n",
    "from llama_index.storage.docstore import SimpleDocumentStore\n",
    "\n",
    "# create (or load) docstore and add nodes\n",
    "docstore = SimpleDocumentStore()\n",
    "docstore.add_documents(nodes_vejledninger_filtered)\n",
    "\n",
    "# persist nodes to disk\n",
    "docstore.persist(\"data/node_store_25-11-23\")\n",
    "\"\"\""
   ]
  },
  {
   "cell_type": "code",
   "execution_count": 37,
   "metadata": {},
   "outputs": [],
   "source": [
    "\"\"\"\n",
    "from llama_index.storage.docstore import SimpleDocumentStore\n",
    "\n",
    "# Load the SimpleDocumentStore from the persisted file\n",
    "docstore = SimpleDocumentStore.from_persist_path(\"data/node_store_25-11-23\")\n",
    "# Create a list of nodes by list comprehension by iterating over the key (store hash) value (llamnaindex node) pairs of the docstore.docs object and appending the value to the list\n",
    "nodes_vejledninger_filtered = [node for key, node in docstore.docs.items()]\n",
    "\"\"\""
   ]
  },
  {
   "cell_type": "markdown",
   "metadata": {},
   "source": [
    "**Short addition to save parts of the node data in a dataframe for HF dataset creation**"
   ]
  },
  {
   "cell_type": "code",
   "execution_count": 29,
   "metadata": {},
   "outputs": [
    {
     "data": {
      "text/html": [
       "<div>\n",
       "<style scoped>\n",
       "    .dataframe tbody tr th:only-of-type {\n",
       "        vertical-align: middle;\n",
       "    }\n",
       "\n",
       "    .dataframe tbody tr th {\n",
       "        vertical-align: top;\n",
       "    }\n",
       "\n",
       "    .dataframe thead th {\n",
       "        text-align: right;\n",
       "    }\n",
       "</style>\n",
       "<table border=\"1\" class=\"dataframe\">\n",
       "  <thead>\n",
       "    <tr style=\"text-align: right;\">\n",
       "      <th></th>\n",
       "      <th>title_vejledning</th>\n",
       "      <th>chunk_id</th>\n",
       "      <th>chunk_text</th>\n",
       "      <th>url</th>\n",
       "    </tr>\n",
       "  </thead>\n",
       "  <tbody>\n",
       "    <tr>\n",
       "      <th>0</th>\n",
       "      <td>Vejledning om regulering af satser fra 1. janu...</td>\n",
       "      <td>de8fc424-d79a-498e-93a7-d0d6244d99b3</td>\n",
       "      <td>Vejledning om regulering af satser fra 1. janu...</td>\n",
       "      <td>https://www.retsinformation.dk/eli/retsinfo/20...</td>\n",
       "    </tr>\n",
       "    <tr>\n",
       "      <th>1</th>\n",
       "      <td>Vejledning om regulering af satser fra 1. janu...</td>\n",
       "      <td>c2cb9950-8c50-4f25-931c-8aa3423dffc3</td>\n",
       "      <td>Tilpasningsprocenten er ved Finansministeriets...</td>\n",
       "      <td>https://www.retsinformation.dk/eli/retsinfo/20...</td>\n",
       "    </tr>\n",
       "    <tr>\n",
       "      <th>2</th>\n",
       "      <td>Vejledning om regulering af satser fra 1. janu...</td>\n",
       "      <td>e0992bd4-6a05-4c43-9d43-15c997c02402</td>\n",
       "      <td>1541 af 12. december 2023 fastsættes løbende e...</td>\n",
       "      <td>https://www.retsinformation.dk/eli/retsinfo/20...</td>\n",
       "    </tr>\n",
       "    <tr>\n",
       "      <th>3</th>\n",
       "      <td>Vejledning om regulering af satser fra 1. janu...</td>\n",
       "      <td>45447920-aec1-4f66-bc55-6dbe97a38281</td>\n",
       "      <td>og det maksimale årslønsbeløb, der var gældend...</td>\n",
       "      <td>https://www.retsinformation.dk/eli/retsinfo/20...</td>\n",
       "    </tr>\n",
       "    <tr>\n",
       "      <th>4</th>\n",
       "      <td>Vejledning om regulering af satser fra 1. janu...</td>\n",
       "      <td>c08ddce7-bcfd-4b25-8d7b-86bb58012632</td>\n",
       "      <td>Satser for arbejdsskader indtruffet 1. juli 20...</td>\n",
       "      <td>https://www.retsinformation.dk/eli/retsinfo/20...</td>\n",
       "    </tr>\n",
       "  </tbody>\n",
       "</table>\n",
       "</div>"
      ],
      "text/plain": [
       "                                    title_vejledning  \\\n",
       "0  Vejledning om regulering af satser fra 1. janu...   \n",
       "1  Vejledning om regulering af satser fra 1. janu...   \n",
       "2  Vejledning om regulering af satser fra 1. janu...   \n",
       "3  Vejledning om regulering af satser fra 1. janu...   \n",
       "4  Vejledning om regulering af satser fra 1. janu...   \n",
       "\n",
       "                               chunk_id  \\\n",
       "0  de8fc424-d79a-498e-93a7-d0d6244d99b3   \n",
       "1  c2cb9950-8c50-4f25-931c-8aa3423dffc3   \n",
       "2  e0992bd4-6a05-4c43-9d43-15c997c02402   \n",
       "3  45447920-aec1-4f66-bc55-6dbe97a38281   \n",
       "4  c08ddce7-bcfd-4b25-8d7b-86bb58012632   \n",
       "\n",
       "                                          chunk_text  \\\n",
       "0  Vejledning om regulering af satser fra 1. janu...   \n",
       "1  Tilpasningsprocenten er ved Finansministeriets...   \n",
       "2  1541 af 12. december 2023 fastsættes løbende e...   \n",
       "3  og det maksimale årslønsbeløb, der var gældend...   \n",
       "4  Satser for arbejdsskader indtruffet 1. juli 20...   \n",
       "\n",
       "                                                 url  \n",
       "0  https://www.retsinformation.dk/eli/retsinfo/20...  \n",
       "1  https://www.retsinformation.dk/eli/retsinfo/20...  \n",
       "2  https://www.retsinformation.dk/eli/retsinfo/20...  \n",
       "3  https://www.retsinformation.dk/eli/retsinfo/20...  \n",
       "4  https://www.retsinformation.dk/eli/retsinfo/20...  "
      ]
     },
     "execution_count": 29,
     "metadata": {},
     "output_type": "execute_result"
    }
   ],
   "source": [
    "# Create a pandas dataframe from the nodes_vejledninger_filtered object\n",
    "# Only include the id_, metadata['file_name'] and text attributes of the object\n",
    "import pandas as pd\n",
    "\n",
    "df_llama_chunks = pd.DataFrame(\n",
    "    [\n",
    "        [node.metadata[\"title_vejledning\"], node.id_, node.text, node.metadata[\"url\"]]\n",
    "        for node in nodes_vejledninger_filtered\n",
    "    ],\n",
    "    columns=[\"title_vejledning\", \"chunk_id\", \"chunk_text\", \"url\"],\n",
    ")\n",
    "df_llama_chunks.head()"
   ]
  },
  {
   "cell_type": "code",
   "execution_count": 40,
   "metadata": {},
   "outputs": [],
   "source": [
    "# Save the dataframe as a csv file ensure that non ascii characters are encoded as utf-8\n",
    "# df_llama_chunks.to_csv(\"data/chunks_id_text-14-01-24-v1.csv\", encoding=\"utf-8\")"
   ]
  },
  {
   "cell_type": "code",
   "execution_count": 48,
   "metadata": {},
   "outputs": [],
   "source": [
    "# ds_llama_chunks = Dataset.from_pandas(df_llama_chunks)"
   ]
  },
  {
   "cell_type": "markdown",
   "metadata": {},
   "source": [
    "## Generate Q "
   ]
  },
  {
   "cell_type": "markdown",
   "metadata": {},
   "source": [
    "**Write the Question gen prompt template**"
   ]
  },
  {
   "cell_type": "code",
   "execution_count": 20,
   "metadata": {},
   "outputs": [],
   "source": [
    "from llama_index.prompts import PromptTemplate\n",
    "\n",
    "# Define your custom prompt template in Danish\n",
    "qa_sagsbehandler_tmlp = \"\"\" Nedenfor er et uddrag (kontekst) fra en længere tekst:\n",
    "---------------------\n",
    "{context_str}\n",
    "---------------------\n",
    "Givet ovenstående uddrag og ingen forudgående viden, er din opgave at generere spørgsmål til uddraget.\n",
    "Du er en erfaren sagsbehandler, og din opgave er at stille præcis {num_questions_per_chunk} spørgsmål.\n",
    "\n",
    "Svaret til det enkelte spørgsmål, skal kunne findes i ovenstående uddrag.\n",
    "Spørgsmålet skal indeholde specifik kontekst, således at spørgsmålet kan besvares entydigt uden adgang til uddraget. \n",
    "Spørgsmålet skal være kort og præcist, og stilles i et sprog som en borger uden juridisk ekspertise kan forstå.\n",
    "\n",
    "Eksempel på et dårligt spørgsmål der ikke har en specifik kontekst: \n",
    "\"Hvilket dokument har den nye vejledning erstattet, og hvornår blev det tidligere dokument udsendt?\", da spørgsmålet er tvetydigt og vil have flere svarmuligheder afhængigt af hvilken vejledning og dokument der refereres til.\n",
    "\n",
    "Eksempel på et godt spørgsmål, som kan besvares uden kendskab til uddraget:\n",
    "\"Hvor meget vil godtgørelsen for et varigt mén være, hvis det er vurderet til 100%?\"\n",
    "\"\"\"\n",
    "\n",
    "qa_sagsbehandler_tmlp = PromptTemplate(qa_sagsbehandler_tmlp)"
   ]
  },
  {
   "cell_type": "markdown",
   "metadata": {},
   "source": [
    "**Generate the questions**"
   ]
  },
  {
   "cell_type": "code",
   "execution_count": 23,
   "metadata": {},
   "outputs": [
    {
     "name": "stderr",
     "output_type": "stream",
     "text": [
      "100%|██████████| 100/100 [09:30<00:00,  5.71s/it]\n"
     ]
    }
   ],
   "source": [
    "from llama_index.finetuning import generate_qa_embedding_pairs\n",
    "from llama_index.llms import OpenAI\n",
    "\n",
    "# define LLM\n",
    "llm_oai = OpenAI(temperature=0.0, model=\"gpt-4-0125-preview\")\n",
    "\n",
    "qa_dataset = generate_qa_embedding_pairs(\n",
    "    qa_generate_prompt_tmpl=qa_sagsbehandler_tmlp,\n",
    "    llm=llm_oai,\n",
    "    nodes=nodes_vejledninger_filtered[0:100],\n",
    "    num_questions_per_chunk=2,\n",
    ")"
   ]
  },
  {
   "cell_type": "markdown",
   "metadata": {},
   "source": [
    "**Example of generated questions**"
   ]
  },
  {
   "cell_type": "code",
   "execution_count": 34,
   "metadata": {},
   "outputs": [
    {
     "name": "stdout",
     "output_type": "stream",
     "text": [
      "Spørgsmål:\n",
      " Hvem fastsætter reguleringen af satserne for arbejdsskadesikring og andre relaterede ydelser fra 1. januar 2024? \n",
      "\n",
      "Chunk:\n",
      " Vejledning om regulering af satser fra 1. januar 2024 efter lov om arbejdsskadesikring, lov om sikring mod følger af arbejdsskade, lov om arbejdsskadeforsikring og lov om forsikring mod følger af ulykkestilfælde\n",
      "Indledning\n",
      "Efter lov om arbejdsskadesikring, jf. lovbekendtgørelse nr. 1186 af 19. august 2022 med de ændringer, der følger af lov nr. 1541 af 12. december 2023, og lov om sikring mod følger af arbejdsskade, jf. lovbekendtgørelse nr. 943 af 16. oktober 2000, skal der med virkning fra 1. januar 2024 efter indstilling fra bestyrelsen for Arbejdsmarkedets Erhvervssikring ske regulering af lovens årslønsbeløb, godtgørelsesbeløb, overgangsbeløb samt løbende erstatninger.\n",
      "Reguleringen af satserne fastsættes af Arbejdstilsynets direktør efter bemyndigelse fra beskæftigelsesministeren.\n",
      "Satser efter loven reguleres med 2 procent tillagt tilpasningsprocenten for finansåret 2024 (jf. lov om en satsreguleringsprocent). \n",
      "\n"
     ]
    }
   ],
   "source": [
    "for query_id, query in qa_dataset.queries.items():\n",
    "    node_id = qa_dataset.relevant_docs[query_id][0]\n",
    "    text = qa_dataset.corpus[node_id]\n",
    "    print(f\"Spørgsmål:\\n {query} \\n\")\n",
    "    print(f\"Chunk:\\n {text} \\n\")\n",
    "    break\n",
    "\n",
    "    "
   ]
  },
  {
   "cell_type": "markdown",
   "metadata": {},
   "source": [
    "**Append to DF and transform to HF dataset**\n"
   ]
  },
  {
   "cell_type": "code",
   "execution_count": 37,
   "metadata": {},
   "outputs": [
    {
     "data": {
      "text/html": [
       "<div>\n",
       "<style scoped>\n",
       "    .dataframe tbody tr th:only-of-type {\n",
       "        vertical-align: middle;\n",
       "    }\n",
       "\n",
       "    .dataframe tbody tr th {\n",
       "        vertical-align: top;\n",
       "    }\n",
       "\n",
       "    .dataframe thead th {\n",
       "        text-align: right;\n",
       "    }\n",
       "</style>\n",
       "<table border=\"1\" class=\"dataframe\">\n",
       "  <thead>\n",
       "    <tr style=\"text-align: right;\">\n",
       "      <th></th>\n",
       "      <th>title_vejledning</th>\n",
       "      <th>chunk_id</th>\n",
       "      <th>chunk_text</th>\n",
       "      <th>url</th>\n",
       "    </tr>\n",
       "  </thead>\n",
       "  <tbody>\n",
       "    <tr>\n",
       "      <th>0</th>\n",
       "      <td>Vejledning om regulering af satser fra 1. janu...</td>\n",
       "      <td>de8fc424-d79a-498e-93a7-d0d6244d99b3</td>\n",
       "      <td>Vejledning om regulering af satser fra 1. janu...</td>\n",
       "      <td>https://www.retsinformation.dk/eli/retsinfo/20...</td>\n",
       "    </tr>\n",
       "    <tr>\n",
       "      <th>1</th>\n",
       "      <td>Vejledning om regulering af satser fra 1. janu...</td>\n",
       "      <td>de8fc424-d79a-498e-93a7-d0d6244d99b3</td>\n",
       "      <td>Vejledning om regulering af satser fra 1. janu...</td>\n",
       "      <td>https://www.retsinformation.dk/eli/retsinfo/20...</td>\n",
       "    </tr>\n",
       "    <tr>\n",
       "      <th>2</th>\n",
       "      <td>Vejledning om regulering af satser fra 1. janu...</td>\n",
       "      <td>c2cb9950-8c50-4f25-931c-8aa3423dffc3</td>\n",
       "      <td>Tilpasningsprocenten er ved Finansministeriets...</td>\n",
       "      <td>https://www.retsinformation.dk/eli/retsinfo/20...</td>\n",
       "    </tr>\n",
       "    <tr>\n",
       "      <th>3</th>\n",
       "      <td>Vejledning om regulering af satser fra 1. janu...</td>\n",
       "      <td>c2cb9950-8c50-4f25-931c-8aa3423dffc3</td>\n",
       "      <td>Tilpasningsprocenten er ved Finansministeriets...</td>\n",
       "      <td>https://www.retsinformation.dk/eli/retsinfo/20...</td>\n",
       "    </tr>\n",
       "    <tr>\n",
       "      <th>4</th>\n",
       "      <td>Vejledning om regulering af satser fra 1. janu...</td>\n",
       "      <td>e0992bd4-6a05-4c43-9d43-15c997c02402</td>\n",
       "      <td>1541 af 12. december 2023 fastsættes løbende e...</td>\n",
       "      <td>https://www.retsinformation.dk/eli/retsinfo/20...</td>\n",
       "    </tr>\n",
       "  </tbody>\n",
       "</table>\n",
       "</div>"
      ],
      "text/plain": [
       "                                    title_vejledning  \\\n",
       "0  Vejledning om regulering af satser fra 1. janu...   \n",
       "1  Vejledning om regulering af satser fra 1. janu...   \n",
       "2  Vejledning om regulering af satser fra 1. janu...   \n",
       "3  Vejledning om regulering af satser fra 1. janu...   \n",
       "4  Vejledning om regulering af satser fra 1. janu...   \n",
       "\n",
       "                               chunk_id  \\\n",
       "0  de8fc424-d79a-498e-93a7-d0d6244d99b3   \n",
       "1  de8fc424-d79a-498e-93a7-d0d6244d99b3   \n",
       "2  c2cb9950-8c50-4f25-931c-8aa3423dffc3   \n",
       "3  c2cb9950-8c50-4f25-931c-8aa3423dffc3   \n",
       "4  e0992bd4-6a05-4c43-9d43-15c997c02402   \n",
       "\n",
       "                                          chunk_text  \\\n",
       "0  Vejledning om regulering af satser fra 1. janu...   \n",
       "1  Vejledning om regulering af satser fra 1. janu...   \n",
       "2  Tilpasningsprocenten er ved Finansministeriets...   \n",
       "3  Tilpasningsprocenten er ved Finansministeriets...   \n",
       "4  1541 af 12. december 2023 fastsættes løbende e...   \n",
       "\n",
       "                                                 url  \n",
       "0  https://www.retsinformation.dk/eli/retsinfo/20...  \n",
       "1  https://www.retsinformation.dk/eli/retsinfo/20...  \n",
       "2  https://www.retsinformation.dk/eli/retsinfo/20...  \n",
       "3  https://www.retsinformation.dk/eli/retsinfo/20...  \n",
       "4  https://www.retsinformation.dk/eli/retsinfo/20...  "
      ]
     },
     "execution_count": 37,
     "metadata": {},
     "output_type": "execute_result"
    }
   ],
   "source": [
    "#First duplicate all rows in the dataframe, as we have two questions per chunk\n",
    "#Ensure that the duplicate rows follow one another, so that row 1 and 2 are duplicates, row 3 and 4 are duplicates etc.\n",
    "# Duplicate each row in the DataFrame\n",
    "df_llama_chunks_duplicated = pd.concat([df_llama_chunks[0:100], df_llama_chunks[0:100]]).sort_index(kind='merge')\n",
    "\n",
    "# If you need to reset the index and do not want the old index to be added as a column\n",
    "df_llama_chunks_duplicated.reset_index(drop=True, inplace=True)\n",
    "\n",
    "# Display the first few rows to verify the duplication and sorting\n",
    "df_llama_chunks_duplicated.head()"
   ]
  },
  {
   "cell_type": "code",
   "execution_count": 38,
   "metadata": {},
   "outputs": [
    {
     "name": "stdout",
     "output_type": "stream",
     "text": [
      "We have generated 200 questions\n"
     ]
    },
    {
     "data": {
      "text/html": [
       "<div>\n",
       "<style scoped>\n",
       "    .dataframe tbody tr th:only-of-type {\n",
       "        vertical-align: middle;\n",
       "    }\n",
       "\n",
       "    .dataframe tbody tr th {\n",
       "        vertical-align: top;\n",
       "    }\n",
       "\n",
       "    .dataframe thead th {\n",
       "        text-align: right;\n",
       "    }\n",
       "</style>\n",
       "<table border=\"1\" class=\"dataframe\">\n",
       "  <thead>\n",
       "    <tr style=\"text-align: right;\">\n",
       "      <th></th>\n",
       "      <th>title_vejledning</th>\n",
       "      <th>chunk_id</th>\n",
       "      <th>chunk_text</th>\n",
       "      <th>url</th>\n",
       "      <th>generated_question</th>\n",
       "    </tr>\n",
       "  </thead>\n",
       "  <tbody>\n",
       "    <tr>\n",
       "      <th>0</th>\n",
       "      <td>Vejledning om regulering af satser fra 1. janu...</td>\n",
       "      <td>de8fc424-d79a-498e-93a7-d0d6244d99b3</td>\n",
       "      <td>Vejledning om regulering af satser fra 1. janu...</td>\n",
       "      <td>https://www.retsinformation.dk/eli/retsinfo/20...</td>\n",
       "      <td>Hvem fastsætter reguleringen af satserne for a...</td>\n",
       "    </tr>\n",
       "    <tr>\n",
       "      <th>1</th>\n",
       "      <td>Vejledning om regulering af satser fra 1. janu...</td>\n",
       "      <td>de8fc424-d79a-498e-93a7-d0d6244d99b3</td>\n",
       "      <td>Vejledning om regulering af satser fra 1. janu...</td>\n",
       "      <td>https://www.retsinformation.dk/eli/retsinfo/20...</td>\n",
       "      <td>Med hvilken procent vil satserne for arbejdssk...</td>\n",
       "    </tr>\n",
       "    <tr>\n",
       "      <th>2</th>\n",
       "      <td>Vejledning om regulering af satser fra 1. janu...</td>\n",
       "      <td>c2cb9950-8c50-4f25-931c-8aa3423dffc3</td>\n",
       "      <td>Tilpasningsprocenten er ved Finansministeriets...</td>\n",
       "      <td>https://www.retsinformation.dk/eli/retsinfo/20...</td>\n",
       "      <td>Hvad er tilpasningsprocenten for finansåret 20...</td>\n",
       "    </tr>\n",
       "    <tr>\n",
       "      <th>3</th>\n",
       "      <td>Vejledning om regulering af satser fra 1. janu...</td>\n",
       "      <td>c2cb9950-8c50-4f25-931c-8aa3423dffc3</td>\n",
       "      <td>Tilpasningsprocenten er ved Finansministeriets...</td>\n",
       "      <td>https://www.retsinformation.dk/eli/retsinfo/20...</td>\n",
       "      <td>Fra hvilken dato træder de nye satser i lov om...</td>\n",
       "    </tr>\n",
       "    <tr>\n",
       "      <th>4</th>\n",
       "      <td>Vejledning om regulering af satser fra 1. janu...</td>\n",
       "      <td>e0992bd4-6a05-4c43-9d43-15c997c02402</td>\n",
       "      <td>1541 af 12. december 2023 fastsættes løbende e...</td>\n",
       "      <td>https://www.retsinformation.dk/eli/retsinfo/20...</td>\n",
       "      <td>Fra hvilken dato vil arbejdsskader, der sker, ...</td>\n",
       "    </tr>\n",
       "  </tbody>\n",
       "</table>\n",
       "</div>"
      ],
      "text/plain": [
       "                                    title_vejledning  \\\n",
       "0  Vejledning om regulering af satser fra 1. janu...   \n",
       "1  Vejledning om regulering af satser fra 1. janu...   \n",
       "2  Vejledning om regulering af satser fra 1. janu...   \n",
       "3  Vejledning om regulering af satser fra 1. janu...   \n",
       "4  Vejledning om regulering af satser fra 1. janu...   \n",
       "\n",
       "                               chunk_id  \\\n",
       "0  de8fc424-d79a-498e-93a7-d0d6244d99b3   \n",
       "1  de8fc424-d79a-498e-93a7-d0d6244d99b3   \n",
       "2  c2cb9950-8c50-4f25-931c-8aa3423dffc3   \n",
       "3  c2cb9950-8c50-4f25-931c-8aa3423dffc3   \n",
       "4  e0992bd4-6a05-4c43-9d43-15c997c02402   \n",
       "\n",
       "                                          chunk_text  \\\n",
       "0  Vejledning om regulering af satser fra 1. janu...   \n",
       "1  Vejledning om regulering af satser fra 1. janu...   \n",
       "2  Tilpasningsprocenten er ved Finansministeriets...   \n",
       "3  Tilpasningsprocenten er ved Finansministeriets...   \n",
       "4  1541 af 12. december 2023 fastsættes løbende e...   \n",
       "\n",
       "                                                 url  \\\n",
       "0  https://www.retsinformation.dk/eli/retsinfo/20...   \n",
       "1  https://www.retsinformation.dk/eli/retsinfo/20...   \n",
       "2  https://www.retsinformation.dk/eli/retsinfo/20...   \n",
       "3  https://www.retsinformation.dk/eli/retsinfo/20...   \n",
       "4  https://www.retsinformation.dk/eli/retsinfo/20...   \n",
       "\n",
       "                                  generated_question  \n",
       "0  Hvem fastsætter reguleringen af satserne for a...  \n",
       "1  Med hvilken procent vil satserne for arbejdssk...  \n",
       "2  Hvad er tilpasningsprocenten for finansåret 20...  \n",
       "3  Fra hvilken dato træder de nye satser i lov om...  \n",
       "4  Fra hvilken dato vil arbejdsskader, der sker, ...  "
      ]
     },
     "execution_count": 38,
     "metadata": {},
     "output_type": "execute_result"
    }
   ],
   "source": [
    "#Now add a column called generated_question to the dataframe\n",
    "#The column should contain the generated questions from the LLM\n",
    "#The questions are generated in the same order as the duplicated rows\n",
    "\n",
    "# Create a list to store the generated questions\n",
    "generated_questions = []\n",
    "for question_id, question in qa_dataset.queries.items():\n",
    "    generated_questions.append(question)\n",
    "    \n",
    "print(f\"We have generated {len(generated_questions)} questions\")\n",
    "\n",
    "# Add the generated questions to the dataframe\n",
    "df_llama_chunks_duplicated[\"generated_question\"] = generated_questions\n",
    "df_llama_chunks_duplicated.head()"
   ]
  },
  {
   "cell_type": "code",
   "execution_count": 39,
   "metadata": {},
   "outputs": [],
   "source": [
    "#Drop the chunk_id column\n",
    "df_llama_chunks_duplicated = df_llama_chunks_duplicated.drop(columns=[\"chunk_id\"])"
   ]
  },
  {
   "cell_type": "markdown",
   "metadata": {},
   "source": [
    "**Convert to HF dataset and push to hub**"
   ]
  },
  {
   "cell_type": "code",
   "execution_count": 41,
   "metadata": {},
   "outputs": [],
   "source": [
    "from datasets import Dataset, DatasetDict\n",
    "\n",
    "ds_gen_q = Dataset.from_pandas(df_llama_chunks_duplicated)\n",
    "ds_gen_q.info.dataset_name = \"Syntetisk genererede spørgsmål fra uddrag af Retsinformation.dk\"\n",
    "# Note: For new configuration, you might want to adjust this\n",
    "ds_gen_q_dict = DatasetDict({\"train\": ds_gen_q})\n"
   ]
  },
  {
   "cell_type": "code",
   "execution_count": 45,
   "metadata": {},
   "outputs": [
    {
     "data": {
      "application/vnd.jupyter.widget-view+json": {
       "model_id": "05df8277022b46e5bc0131db1d041658",
       "version_major": 2,
       "version_minor": 0
      },
      "text/plain": [
       "Pushing dataset shards to the dataset hub:   0%|          | 0/1 [00:00<?, ?it/s]"
      ]
     },
     "metadata": {},
     "output_type": "display_data"
    },
    {
     "data": {
      "application/vnd.jupyter.widget-view+json": {
       "model_id": "9720a1766bf341868b36b30ef986bf49",
       "version_major": 2,
       "version_minor": 0
      },
      "text/plain": [
       "Creating parquet from Arrow format:   0%|          | 0/1 [00:00<?, ?ba/s]"
      ]
     },
     "metadata": {},
     "output_type": "display_data"
    },
    {
     "data": {
      "application/vnd.jupyter.widget-view+json": {
       "model_id": "37be7fe720924474a4c4b786e0950bce",
       "version_major": 2,
       "version_minor": 0
      },
      "text/plain": [
       "Downloading metadata:   0%|          | 0.00/1.16k [00:00<?, ?B/s]"
      ]
     },
     "metadata": {},
     "output_type": "display_data"
    }
   ],
   "source": [
    "ds_gen_q_dict.push_to_hub(\n",
    "    repo_id='dk_retrieval_benchmark',  # Use your actual Hugging Face username and desired repo name\n",
    "    config_name='generated_questions',  # Adjust the config_name as needed\n",
    "    #commit_message='Sample of 200 questions generated from retsinformation dk using gpt4-0125 and updated prompt'  # Your custom commit message\n",
    ")"
   ]
  },
  {
   "cell_type": "markdown",
   "metadata": {},
   "source": [
    "### Visualize len of generated questions"
   ]
  },
  {
   "cell_type": "code",
   "execution_count": 46,
   "metadata": {},
   "outputs": [
    {
     "data": {
      "text/plain": [
       "Text(0.5, 1.0, 'Histogram of text length in generated questions')"
      ]
     },
     "execution_count": 46,
     "metadata": {},
     "output_type": "execute_result"
    },
    {
     "data": {
      "image/png": "[encoded data removed]",
      "text/plain": [
       "<Figure size 640x480 with 1 Axes>"
      ]
     },
     "metadata": {},
     "output_type": "display_data"
    }
   ],
   "source": [
    "#Visualize len of questions\n",
    "import matplotlib.pyplot as plt\n",
    "\n",
    "# Plot a histogram of the length of the text in all texts in the generated questions list\n",
    "text_len = [len(text) for text in generated_questions]\n",
    "plt.hist(text_len, bins=100)\n",
    "plt.title(\"Histogram of text length in generated questions\")"
   ]
  },
  {
   "cell_type": "code",
   "execution_count": 47,
   "metadata": {},
   "outputs": [
    {
     "name": "stdout",
     "output_type": "stream",
     "text": [
      "Example 1 of texts under 100 chars:\n",
      "Hvad er tilpasningsprocenten for finansåret 2024 som fastsat af Finansministeriet?\n",
      "\n",
      "\n",
      "Example 2 of texts under 100 chars:\n",
      "Hvor meget udgør uddannelsesgodtgørelsen årligt, hvis den forlænges efter § 18 b, stk. 3, 2. pkt.?\n",
      "\n",
      "\n",
      "Example 3 of texts under 100 chars:\n",
      "\"Hvor stort er overgangsbeløbet ved dødsfald, som det er fastsat i § 19, stk. 1?\"\n",
      "\n",
      "\n",
      "Example 4 of texts under 100 chars:\n",
      "Hvad er overgangsbeløbet ved dødsfald fastsat til efter den relevante paragraf?\n",
      "\n",
      "\n",
      "Example 5 of texts under 100 chars:\n",
      "\"Hvad er den årlige erstatning for et 100% varigt mén fastsat til fra 1. januar 2024?\"\n",
      "\n",
      "\n"
     ]
    }
   ],
   "source": [
    "# Print first 5 examples of texts under 100 chars\n",
    "for i in range(5):\n",
    "    print(f\"Example {i+1} of texts under 100 chars:\")\n",
    "    print([text for text in generated_questions if len(text) < 100][i])\n",
    "    print(\"\\n\")"
   ]
  },
  {
   "cell_type": "markdown",
   "metadata": {},
   "source": [
    "**Old not wrapped up: Save / Load Q&A dataset**"
   ]
  },
  {
   "cell_type": "code",
   "execution_count": 75,
   "metadata": {},
   "outputs": [],
   "source": [
    "# the llamaindex object only has a save_json method, so first we save the object as a json file, and then reload it as a hf dataset object in order to push to hf repo\n",
    "\n",
    "# ensure_ascii=False is used to ensure that non ascii characters are encoded (æøå)\n",
    "\n",
    "qa_dataset.save_json(\"data/data/qa_dataset_gp41106_100_samples.json\", ensure_ascii=False)\n"
   ]
  },
  {
   "cell_type": "code",
   "execution_count": 16,
   "metadata": {},
   "outputs": [
    {
     "data": {
      "application/vnd.jupyter.widget-view+json": {
       "model_id": "0f71a202aeec4490b89521c75cb94b20",
       "version_major": 2,
       "version_minor": 0
      },
      "text/plain": [
       "Downloading data files:   0%|          | 0/1 [00:00<?, ?it/s]"
      ]
     },
     "metadata": {},
     "output_type": "display_data"
    },
    {
     "data": {
      "application/vnd.jupyter.widget-view+json": {
       "model_id": "4582da7d6c37411d840ba636ace39a23",
       "version_major": 2,
       "version_minor": 0
      },
      "text/plain": [
       "Extracting data files:   0%|          | 0/1 [00:00<?, ?it/s]"
      ]
     },
     "metadata": {},
     "output_type": "display_data"
    },
    {
     "data": {
      "application/vnd.jupyter.widget-view+json": {
       "model_id": "cab94a4ecad74141814f79cf5d202b72",
       "version_major": 2,
       "version_minor": 0
      },
      "text/plain": [
       "Generating train split: 0 examples [00:00, ? examples/s]"
      ]
     },
     "metadata": {},
     "output_type": "display_data"
    }
   ],
   "source": [
    "# Push json file to hf repo\n",
    "\n",
    "#ds_qa_dataset = load_dataset('json', data_files='data_old/qa_dataset_gp41106_24-01-14_100_samples.json', encoding='utf-8')"
   ]
  },
  {
   "cell_type": "code",
   "execution_count": null,
   "metadata": {},
   "outputs": [],
   "source": []
  }
 ],
 "metadata": {
  "kernelspec": {
   "display_name": "llm",
   "language": "python",
   "name": "python3"
  },
  "language_info": {
   "codemirror_mode": {
    "name": "ipython",
    "version": 3
   },
   "file_extension": ".py",
   "mimetype": "text/x-python",
   "name": "python",
   "nbconvert_exporter": "python",
   "pygments_lexer": "ipython3",
   "version": "3.11.4"
  }
 },
 "nbformat": 4,
 "nbformat_minor": 2
}
