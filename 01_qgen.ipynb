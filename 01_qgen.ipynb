{
 "cells": [
  {
   "cell_type": "markdown",
   "metadata": {},
   "source": [
    "### Set up API key"
   ]
  },
  {
   "cell_type": "code",
   "execution_count": 23,
   "metadata": {},
   "outputs": [],
   "source": [
    "import os\n",
    "from dotenv import load_dotenv\n",
    "import pandas as pd\n",
    "from datasets import Dataset\n",
    "\n",
    "load_dotenv(override=True)\n",
    "OPENAI_API_KEY = os.environ.get(\"OPENAI_API_KEY\")"
   ]
  },
  {
   "cell_type": "markdown",
   "metadata": {},
   "source": [
    "# Load data from HF into Llamaindex"
   ]
  },
  {
   "cell_type": "code",
   "execution_count": 3,
   "metadata": {},
   "outputs": [
    {
     "name": "stderr",
     "output_type": "stream",
     "text": [
      "Downloading readme: 100%|██████████| 1.14k/1.14k [00:00<00:00, 5.79MB/s]\n",
      "Downloading data: 100%|██████████| 20.3M/20.3M [00:02<00:00, 8.13MB/s]\n",
      "Generating train split: 100%|██████████| 433/433 [00:01<00:00, 292.65 examples/s]\n"
     ]
    }
   ],
   "source": [
    "# Load from hub\n",
    "ds_vejledninger = load_dataset(\n",
    "    \"jealk/dk_retrieval_benchmark\", split=\"train\", download_mode=\"force_redownload\"\n",
    ")"
   ]
  },
  {
   "cell_type": "code",
   "execution_count": 4,
   "metadata": {},
   "outputs": [
    {
     "data": {
      "text/html": [
       "<div>\n",
       "<style scoped>\n",
       "    .dataframe tbody tr th:only-of-type {\n",
       "        vertical-align: middle;\n",
       "    }\n",
       "\n",
       "    .dataframe tbody tr th {\n",
       "        vertical-align: top;\n",
       "    }\n",
       "\n",
       "    .dataframe thead th {\n",
       "        text-align: right;\n",
       "    }\n",
       "</style>\n",
       "<table border=\"1\" class=\"dataframe\">\n",
       "  <thead>\n",
       "    <tr style=\"text-align: right;\">\n",
       "      <th></th>\n",
       "      <th>url</th>\n",
       "      <th>title</th>\n",
       "      <th>html_content</th>\n",
       "      <th>text_content</th>\n",
       "    </tr>\n",
       "  </thead>\n",
       "  <tbody>\n",
       "    <tr>\n",
       "      <th>0</th>\n",
       "      <td>https://www.retsinformation.dk/eli/retsinfo/20...</td>\n",
       "      <td>Vejledning om regulering af satser fra 1. janu...</td>\n",
       "      <td>&lt;div class=\"document-content\" id=\"restylingRoo...</td>\n",
       "      <td>Vejledning om regulering af satser fra 1. janu...</td>\n",
       "    </tr>\n",
       "    <tr>\n",
       "      <th>1</th>\n",
       "      <td>https://www.retsinformation.dk/eli/retsinfo/20...</td>\n",
       "      <td>Vejledning om satser i 2024 for betaling af ud...</td>\n",
       "      <td>&lt;div class=\"document-content\" id=\"restylingRoo...</td>\n",
       "      <td>Vejledning om satser i 2024 for betaling af ud...</td>\n",
       "    </tr>\n",
       "    <tr>\n",
       "      <th>2</th>\n",
       "      <td>https://www.retsinformation.dk/eli/retsinfo/20...</td>\n",
       "      <td>Vejledning om obligatorisk selvbooking af jobs...</td>\n",
       "      <td>&lt;div class=\"document-content\" id=\"restylingRoo...</td>\n",
       "      <td>Vejledning om obligatorisk selvbooking af jobs...</td>\n",
       "    </tr>\n",
       "    <tr>\n",
       "      <th>3</th>\n",
       "      <td>https://www.retsinformation.dk/eli/retsinfo/20...</td>\n",
       "      <td>Vejledning til bekendtgørelse om tilskud til s...</td>\n",
       "      <td>&lt;div class=\"document-content\" id=\"restylingRoo...</td>\n",
       "      <td>Vejledning til bekendtgørelse om tilskud til s...</td>\n",
       "    </tr>\n",
       "    <tr>\n",
       "      <th>4</th>\n",
       "      <td>https://www.retsinformation.dk/eli/retsinfo/20...</td>\n",
       "      <td>Vejledning om fleksløntilskud m.v.</td>\n",
       "      <td>&lt;div class=\"document-content\" id=\"restylingRoo...</td>\n",
       "      <td>Vejledning om fleksløntilskud m.v.\\n1.Indledni...</td>\n",
       "    </tr>\n",
       "  </tbody>\n",
       "</table>\n",
       "</div>"
      ],
      "text/plain": [
       "                                                 url  \\\n",
       "0  https://www.retsinformation.dk/eli/retsinfo/20...   \n",
       "1  https://www.retsinformation.dk/eli/retsinfo/20...   \n",
       "2  https://www.retsinformation.dk/eli/retsinfo/20...   \n",
       "3  https://www.retsinformation.dk/eli/retsinfo/20...   \n",
       "4  https://www.retsinformation.dk/eli/retsinfo/20...   \n",
       "\n",
       "                                               title  \\\n",
       "0  Vejledning om regulering af satser fra 1. janu...   \n",
       "1  Vejledning om satser i 2024 for betaling af ud...   \n",
       "2  Vejledning om obligatorisk selvbooking af jobs...   \n",
       "3  Vejledning til bekendtgørelse om tilskud til s...   \n",
       "4                 Vejledning om fleksløntilskud m.v.   \n",
       "\n",
       "                                        html_content  \\\n",
       "0  <div class=\"document-content\" id=\"restylingRoo...   \n",
       "1  <div class=\"document-content\" id=\"restylingRoo...   \n",
       "2  <div class=\"document-content\" id=\"restylingRoo...   \n",
       "3  <div class=\"document-content\" id=\"restylingRoo...   \n",
       "4  <div class=\"document-content\" id=\"restylingRoo...   \n",
       "\n",
       "                                        text_content  \n",
       "0  Vejledning om regulering af satser fra 1. janu...  \n",
       "1  Vejledning om satser i 2024 for betaling af ud...  \n",
       "2  Vejledning om obligatorisk selvbooking af jobs...  \n",
       "3  Vejledning til bekendtgørelse om tilskud til s...  \n",
       "4  Vejledning om fleksløntilskud m.v.\\n1.Indledni...  "
      ]
     },
     "execution_count": 4,
     "metadata": {},
     "output_type": "execute_result"
    }
   ],
   "source": [
    "# Create pandas dataframe from the dataset using the huggingface datasets library\n",
    "df_vejledninger = ds_vejledninger.to_pandas()\n",
    "df_vejledninger.head()"
   ]
  },
  {
   "cell_type": "code",
   "execution_count": 5,
   "metadata": {},
   "outputs": [
    {
     "name": "stdout",
     "output_type": "stream",
     "text": [
      "There is a total of 433 documents in the dataset\n"
     ]
    }
   ],
   "source": [
    "print(f\"There is a total of {len(df_vejledninger)} documents in the dataset\")"
   ]
  },
  {
   "cell_type": "markdown",
   "metadata": {},
   "source": [
    "### Load into Llamaindex documents\n",
    "Esentially just dicts with text and metadata"
   ]
  },
  {
   "cell_type": "code",
   "execution_count": 7,
   "metadata": {},
   "outputs": [
    {
     "data": {
      "text/plain": [
       "433"
      ]
     },
     "execution_count": 7,
     "metadata": {},
     "output_type": "execute_result"
    }
   ],
   "source": [
    "from llama_index import Document\n",
    "\n",
    "# Iterate over the huggingface dataset object and create a list of llama documents\n",
    "documents_vejledninger = [\n",
    "    Document(text=content, metadata={\"title_vejledning\": name, \"url\": url})\n",
    "    for name, content, url in zip(\n",
    "        ds_vejledninger[\"title\"],\n",
    "        ds_vejledninger[\"text_content\"],\n",
    "        ds_vejledninger[\"url\"],\n",
    "    )\n",
    "]\n",
    "\n",
    "len(documents_vejledninger)"
   ]
  },
  {
   "cell_type": "code",
   "execution_count": 8,
   "metadata": {},
   "outputs": [
    {
     "data": {
      "text/plain": [
       "{'title_vejledning': 'Vejledning om regulering af satser fra 1. januar 2024 efter lov om arbejdsskadesikring, lov om sikring mod følger af arbejdsskade, lov om arbejdsskadeforsikring og lov om forsikring mod følger af ulykkestilfælde',\n",
       " 'url': 'https://www.retsinformation.dk/eli/retsinfo/2024/9001'}"
      ]
     },
     "execution_count": 8,
     "metadata": {},
     "output_type": "execute_result"
    }
   ],
   "source": [
    "# Inspecting the meta data of a document\n",
    "documents_vejledninger[0].metadata"
   ]
  },
  {
   "cell_type": "code",
   "execution_count": 9,
   "metadata": {},
   "outputs": [
    {
     "data": {
      "text/plain": [
       "'Vejledning om regulering af satser fra 1. januar 2024 efter lov om arbejdsskadesikring, lov om sikring mod følger af arbejdsskade, lov om arbejdsskadeforsikring og lov om forsikring mod følger af ulykkestilfælde\\nIndledning\\nEfter lov om arbejdsskadesikring, jf. lovbekendtgørelse nr. 1186 af 19. august 2022 med de ændringer, der følger af lov nr. 1541 af 12. december 2023, og lov om sikring mod følger af arbejdsskade, jf. lovbekendtgørelse nr. 943 af 16. oktober 2000, skal der med virkning fra 1. '"
      ]
     },
     "execution_count": 9,
     "metadata": {},
     "output_type": "execute_result"
    }
   ],
   "source": [
    "# Inspecting the text of a document\n",
    "documents_vejledninger[0].text[0:500]"
   ]
  },
  {
   "cell_type": "markdown",
   "metadata": {},
   "source": [
    "## Chunking text\n",
    "First parsing the data into nodes (llamaindex way of structuring data, including the relation to other nodes, embedding info etc.)"
   ]
  },
  {
   "cell_type": "code",
   "execution_count": 11,
   "metadata": {},
   "outputs": [
    {
     "name": "stderr",
     "output_type": "stream",
     "text": [
      "None of PyTorch, TensorFlow >= 2.0, or Flax have been found. Models won't be available and only tokenizers, configuration and file/data utilities can be used.\n"
     ]
    },
    {
     "name": "stderr",
     "output_type": "stream",
     "text": [
      "tokenizer_config.json: 100%|██████████| 314/314 [00:00<00:00, 2.01MB/s]\n",
      "vocab.txt: 100%|██████████| 232k/232k [00:00<00:00, 1.28MB/s]\n",
      "tokenizer.json: 100%|██████████| 711k/711k [00:00<00:00, 1.96MB/s]\n",
      "special_tokens_map.json: 100%|██████████| 125/125 [00:00<00:00, 158kB/s]\n",
      "Parsing nodes:   0%|          | 0/433 [00:00<?, ?it/s]Token indices sequence length is longer than the specified maximum sequence length for this model (24739 > 512). Running this sequence through the model will result in indexing errors\n",
      "Parsing nodes: 100%|██████████| 433/433 [00:33<00:00, 12.82it/s]\n"
     ]
    }
   ],
   "source": [
    "from llama_index.node_parser import SentenceSplitter\n",
    "from transformers import AutoTokenizer\n",
    "\n",
    "tokenizer_e5 = AutoTokenizer.from_pretrained(\"intfloat/e5-base-v2\")\n",
    "\n",
    "# Setting max length and defining tokenizer as intended embedding model (e5)\n",
    "# Splitting preferably by \\n (because I formated the html so that all <p> was replaced by a \\n), and if no \\n is found, split by nearest delimeter char . ? ! etc.\n",
    "node_parser = SentenceSplitter(\n",
    "    chunk_size=512,\n",
    "    chunk_overlap=0,\n",
    "    # As of 18/12/2023 the paragraph seperator expects a string\n",
    "    # Some uncertainty of whether the regex is working as intended\n",
    "    secondary_chunking_regex=str([\"\\n\"]),\n",
    "    paragraph_separator=str([\"\\n\\n\"]),\n",
    "    tokenizer=tokenizer_e5.tokenize,\n",
    ")\n",
    "\n",
    "nodes_vejledninger = node_parser.get_nodes_from_documents(\n",
    "    documents_vejledninger, show_progress=True\n",
    ")"
   ]
  },
  {
   "cell_type": "code",
   "execution_count": 12,
   "metadata": {},
   "outputs": [
    {
     "data": {
      "text/plain": [
       "'1541 af 12. december 2023.\\nÅrlig løbende erstatning for tab af erhvervsevne og tab af forsørger samt årlig uddannelsesgodtgørelse beregnes herefter som grundydelsen pr. 1. januar 2024, jf. ovenfor, med et tillæg på 0,0 pct.\\nKapitalerstatninger for tab af erhvervsevne beregnes som den årlige løbende erstatning på afgørelsestidspunktet × kapitaliseringsfaktoren på afgørelsestidspunktet.\\nMéngodtgørelsen beregnes som ménprocenten × 1.013.500 kr. Hvis tilskadekomne ved skadens indtræden var fyldt 40 år, nedsættes méngodtgørelsen med 1 pct. for hvert år tilskadekomne på skadestidspunktet var over 39 år. Hvis tilskadekomne ved skadens indtræden var fyldt 60 år, nedsættes méngodtgørelsen herudover med yderligere 1 pct. for hvert år tilskadekomne på skadestidspunktet var over 59 år. Méngodtgørelsen nedsættes ikke yderligere efter det fyldte 69. år.\\nOvergangsbeløbet ved dødsfald udgør 191.000 kr.'"
      ]
     },
     "execution_count": 12,
     "metadata": {},
     "output_type": "execute_result"
    }
   ],
   "source": [
    "nodes_vejledninger[25].text"
   ]
  },
  {
   "cell_type": "markdown",
   "metadata": {},
   "source": [
    "### (Optional chunk len vizualization)\n",
    "Inspecting the distribution of token size of the chunked data"
   ]
  },
  {
   "cell_type": "code",
   "execution_count": 14,
   "metadata": {},
   "outputs": [
    {
     "data": {
      "image/png": "[encoded data removed]",
      "text/plain": [
       "<Figure size 640x480 with 1 Axes>"
      ]
     },
     "metadata": {},
     "output_type": "display_data"
    }
   ],
   "source": [
    "### Use HF tokenizer to verify length\n",
    "from transformers import AutoTokenizer\n",
    "\n",
    "tokenizer = AutoTokenizer.from_pretrained(\"intfloat/e5-base-v2\")\n",
    "token_counts = []\n",
    "for text in [node.text for node in nodes_vejledninger]:\n",
    "    token_counts.append(len(tokenizer.tokenize(text)))\n",
    "\n",
    "# Efficient batch processing to tokenize all texts\n",
    "# batch_dict = tokenizer([node.text for node in nodes_vejledninger], max_length=512, padding=True, truncation=True, return_tensors='pt')\n",
    "\n",
    "# Plot a histogram of the length of the text in all nodes\n",
    "import matplotlib.pyplot as plt\n",
    "\n",
    "text_len = token_counts\n",
    "plt.hist(text_len, bins=100)\n",
    "plt.title(\"Histogram of text length in nodes\")\n",
    "plt.xlabel(\"Token length\")\n",
    "plt.ylabel(\"Number of chunks\")\n",
    "plt.show()"
   ]
  },
  {
   "cell_type": "code",
   "execution_count": 15,
   "metadata": {},
   "outputs": [
    {
     "name": "stdout",
     "output_type": "stream",
     "text": [
      "Example 1 of texts under 100 tokens:\n",
      "9650 af 20. juni 2022.\n",
      "\n",
      "Beskæftigelsesministeriet, den 19. december 2023\n",
      "Kirsten Brix Pedersen\n",
      "/ Anne Hedegaard\n",
      "\n",
      "\n",
      "Example 2 of texts under 100 tokens:\n",
      "Styrelsen for Arbejdsmarked og Rekruttering, den 20. december 2023\n",
      "Kirsten Brix Pedersen\n",
      "/ Anne Hedegaard\n",
      "\n",
      "\n",
      "Example 3 of texts under 100 tokens:\n",
      "3, i retssikkerhedsbekendtgørelsen træffer Ankestyrelsen/Ankestyrelsens Beskæftigelsesudvalg afgørelse inden 4 uger efter, at klagen er modtaget.\n",
      "\n",
      "Styrelsen for Arbejdsmarked og Rekruttering, den 19. december 2023\n",
      "Jakob Heltoft\n",
      "/ Astrid Finderup\n",
      "\n",
      "\n",
      "Example 4 of texts under 100 tokens:\n",
      "Arbejdstilsynet, den 30. oktober 2023\n",
      "Sine Frederiksen\n",
      "/ Helle Klostergaard Christensen\n",
      "\n",
      "\n",
      "Example 5 of texts under 100 tokens:\n",
      "Arbejdstilsynet, den 4. oktober 2023\n",
      "\n",
      "\n"
     ]
    }
   ],
   "source": [
    "# Print first 5 examples of texts under 100 tokens\n",
    "for i in range(5):\n",
    "    print(f\"Example {i+1} of texts under 100 tokens:\")\n",
    "    print(\n",
    "        [\n",
    "            node.text\n",
    "            for node in nodes_vejledninger\n",
    "            if len(tokenizer.tokenize(node.text)) < 100\n",
    "        ][i]\n",
    "    )\n",
    "    print(\"\\n\")"
   ]
  },
  {
   "cell_type": "markdown",
   "metadata": {},
   "source": [
    "**Short texts, what's happening?**\n",
    "\n",
    "I inspected a few samples of the <100 token texts, and they mostly seem simply to be the end of documents, where this part likely could not fit into the context window of the previous chunk.\n"
   ]
  },
  {
   "cell_type": "markdown",
   "metadata": {},
   "source": [
    "### Discarding short chunks\n",
    "Discard any chunks less than 150 tokens long"
   ]
  },
  {
   "cell_type": "code",
   "execution_count": 16,
   "metadata": {},
   "outputs": [],
   "source": [
    "### Use HF tokenizer to verify length\n",
    "\n",
    "nodes_vejledninger_filtered = [\n",
    "    node for node in nodes_vejledninger if len(tokenizer_e5.tokenize(node.text)) > 150\n",
    "]"
   ]
  },
  {
   "cell_type": "code",
   "execution_count": 18,
   "metadata": {},
   "outputs": [
    {
     "name": "stdout",
     "output_type": "stream",
     "text": [
      "We now have 18423 chunks of text to generate questions from\n"
     ]
    }
   ],
   "source": [
    "print(\n",
    "    f\"We now have {len(nodes_vejledninger_filtered)} chunks of text to generate questions from\"\n",
    ")"
   ]
  },
  {
   "cell_type": "markdown",
   "metadata": {},
   "source": [
    "#### Export nodes into a document store and saver for later use\n",
    "The node object contains relevant info such as what node preceeded and followed it, and the meta data of the source document, both which might be relevant later. \n"
   ]
  },
  {
   "cell_type": "code",
   "execution_count": 19,
   "metadata": {},
   "outputs": [
    {
     "data": {
      "text/plain": [
       "TextNode(id_='d9768a31-2fcb-4a70-a134-ed801969b298', embedding=None, metadata={'title_vejledning': 'Vejledning om regulering af satser fra 1. januar 2024 efter lov om arbejdsskadesikring, lov om sikring mod følger af arbejdsskade, lov om arbejdsskadeforsikring og lov om forsikring mod følger af ulykkestilfælde', 'url': 'https://www.retsinformation.dk/eli/retsinfo/2024/9001'}, excluded_embed_metadata_keys=[], excluded_llm_metadata_keys=[], relationships={<NodeRelationship.SOURCE: '1'>: RelatedNodeInfo(node_id='4682d2c4-1876-4772-ad60-7117ade93a51', node_type=<ObjectType.DOCUMENT: '4'>, metadata={'title_vejledning': 'Vejledning om regulering af satser fra 1. januar 2024 efter lov om arbejdsskadesikring, lov om sikring mod følger af arbejdsskade, lov om arbejdsskadeforsikring og lov om forsikring mod følger af ulykkestilfælde', 'url': 'https://www.retsinformation.dk/eli/retsinfo/2024/9001'}, hash='38b309944fe6155453e3117dea7104ee23212a96f2a93b5acbb957eec81f202b'), <NodeRelationship.NEXT: '3'>: RelatedNodeInfo(node_id='1b74b657-4055-442e-86e4-285863a52670', node_type=<ObjectType.TEXT: '1'>, metadata={}, hash='f6ed34c1c002377faeddbec410354ffe8084f1cbe3210cc20df7404ed0a05368')}, hash='222122ad72e8f4a92916983315e4a7ce2ff399ddeaca126d543f6ba1a871dfa9', text='Vejledning om regulering af satser fra 1. januar 2024 efter lov om arbejdsskadesikring, lov om sikring mod følger af arbejdsskade, lov om arbejdsskadeforsikring og lov om forsikring mod følger af ulykkestilfælde\\nIndledning\\nEfter lov om arbejdsskadesikring, jf. lovbekendtgørelse nr. 1186 af 19. august 2022 med de ændringer, der følger af lov nr. 1541 af 12. december 2023, og lov om sikring mod følger af arbejdsskade, jf. lovbekendtgørelse nr. 943 af 16. oktober 2000, skal der med virkning fra 1. januar 2024 efter indstilling fra bestyrelsen for Arbejdsmarkedets Erhvervssikring ske regulering af lovens årslønsbeløb, godtgørelsesbeløb, overgangsbeløb samt løbende erstatninger.\\nReguleringen af satserne fastsættes af Arbejdstilsynets direktør efter bemyndigelse fra beskæftigelsesministeren.\\nSatser efter loven reguleres med 2 procent tillagt tilpasningsprocenten for finansåret 2024 (jf. lov om en satsreguleringsprocent).', start_char_idx=0, end_char_idx=928, text_template='{metadata_str}\\n\\n{content}', metadata_template='{key}: {value}', metadata_seperator='\\n')"
      ]
     },
     "execution_count": 19,
     "metadata": {},
     "output_type": "execute_result"
    }
   ],
   "source": [
    "nodes_vejledninger_filtered[0]"
   ]
  },
  {
   "cell_type": "markdown",
   "metadata": {},
   "source": [
    "**Option to save the nodes to disk for later use**"
   ]
  },
  {
   "cell_type": "code",
   "execution_count": 37,
   "metadata": {},
   "outputs": [
    {
     "data": {
      "text/plain": [
       "'\\nfrom llama_index.storage.docstore import SimpleDocumentStore\\n\\n# create (or load) docstore and add nodes\\ndocstore = SimpleDocumentStore()\\ndocstore.add_documents(nodes_vejledninger_filtered)\\n\\n# persist nodes to disk\\ndocstore.persist(\"data/node_store_25-11-23\")\\n'"
      ]
     },
     "execution_count": 37,
     "metadata": {},
     "output_type": "execute_result"
    }
   ],
   "source": [
    "\"\"\"\n",
    "#To save the docs locally\n",
    "from llama_index.storage.docstore import SimpleDocumentStore\n",
    "\n",
    "# create (or load) docstore and add nodes\n",
    "docstore = SimpleDocumentStore()\n",
    "docstore.add_documents(nodes_vejledninger_filtered)\n",
    "\n",
    "# persist nodes to disk\n",
    "docstore.persist(\"data/node_store_25-11-23\")\n",
    "\"\"\""
   ]
  },
  {
   "cell_type": "code",
   "execution_count": 37,
   "metadata": {},
   "outputs": [],
   "source": [
    "\"\"\"\n",
    "from llama_index.storage.docstore import SimpleDocumentStore\n",
    "\n",
    "# Load the SimpleDocumentStore from the persisted file\n",
    "docstore = SimpleDocumentStore.from_persist_path(\"data/node_store_25-11-23\")\n",
    "# Create a list of nodes by list comprehension by iterating over the key (store hash) value (llamnaindex node) pairs of the docstore.docs object and appending the value to the list\n",
    "nodes_vejledninger_filtered = [node for key, node in docstore.docs.items()]\n",
    "\"\"\""
   ]
  },
  {
   "cell_type": "markdown",
   "metadata": {},
   "source": [
    "**Short addition to save parts of the node data in a dataframe for HF dataset creation**"
   ]
  },
  {
   "cell_type": "code",
   "execution_count": 20,
   "metadata": {},
   "outputs": [
    {
     "data": {
      "text/html": [
       "<div>\n",
       "<style scoped>\n",
       "    .dataframe tbody tr th:only-of-type {\n",
       "        vertical-align: middle;\n",
       "    }\n",
       "\n",
       "    .dataframe tbody tr th {\n",
       "        vertical-align: top;\n",
       "    }\n",
       "\n",
       "    .dataframe thead th {\n",
       "        text-align: right;\n",
       "    }\n",
       "</style>\n",
       "<table border=\"1\" class=\"dataframe\">\n",
       "  <thead>\n",
       "    <tr style=\"text-align: right;\">\n",
       "      <th></th>\n",
       "      <th>title_vejledning</th>\n",
       "      <th>chunk_id</th>\n",
       "      <th>chunk_text</th>\n",
       "      <th>url</th>\n",
       "    </tr>\n",
       "  </thead>\n",
       "  <tbody>\n",
       "    <tr>\n",
       "      <th>0</th>\n",
       "      <td>Vejledning om regulering af satser fra 1. janu...</td>\n",
       "      <td>d9768a31-2fcb-4a70-a134-ed801969b298</td>\n",
       "      <td>Vejledning om regulering af satser fra 1. janu...</td>\n",
       "      <td>https://www.retsinformation.dk/eli/retsinfo/20...</td>\n",
       "    </tr>\n",
       "    <tr>\n",
       "      <th>1</th>\n",
       "      <td>Vejledning om regulering af satser fra 1. janu...</td>\n",
       "      <td>1b74b657-4055-442e-86e4-285863a52670</td>\n",
       "      <td>Tilpasningsprocenten er ved Finansministeriets...</td>\n",
       "      <td>https://www.retsinformation.dk/eli/retsinfo/20...</td>\n",
       "    </tr>\n",
       "    <tr>\n",
       "      <th>2</th>\n",
       "      <td>Vejledning om regulering af satser fra 1. janu...</td>\n",
       "      <td>3140756e-3b1a-432d-90d4-ece3602992e8</td>\n",
       "      <td>1541 af 12. december 2023 fastsættes løbende e...</td>\n",
       "      <td>https://www.retsinformation.dk/eli/retsinfo/20...</td>\n",
       "    </tr>\n",
       "    <tr>\n",
       "      <th>3</th>\n",
       "      <td>Vejledning om regulering af satser fra 1. janu...</td>\n",
       "      <td>e27a1318-42e8-47b1-8eac-254bdff31547</td>\n",
       "      <td>og det maksimale årslønsbeløb, der var gældend...</td>\n",
       "      <td>https://www.retsinformation.dk/eli/retsinfo/20...</td>\n",
       "    </tr>\n",
       "    <tr>\n",
       "      <th>4</th>\n",
       "      <td>Vejledning om regulering af satser fra 1. janu...</td>\n",
       "      <td>e6d40f3c-9513-4205-a799-0ed313cc257f</td>\n",
       "      <td>Satser for arbejdsskader indtruffet 1. juli 20...</td>\n",
       "      <td>https://www.retsinformation.dk/eli/retsinfo/20...</td>\n",
       "    </tr>\n",
       "  </tbody>\n",
       "</table>\n",
       "</div>"
      ],
      "text/plain": [
       "                                    title_vejledning  \\\n",
       "0  Vejledning om regulering af satser fra 1. janu...   \n",
       "1  Vejledning om regulering af satser fra 1. janu...   \n",
       "2  Vejledning om regulering af satser fra 1. janu...   \n",
       "3  Vejledning om regulering af satser fra 1. janu...   \n",
       "4  Vejledning om regulering af satser fra 1. janu...   \n",
       "\n",
       "                               chunk_id  \\\n",
       "0  d9768a31-2fcb-4a70-a134-ed801969b298   \n",
       "1  1b74b657-4055-442e-86e4-285863a52670   \n",
       "2  3140756e-3b1a-432d-90d4-ece3602992e8   \n",
       "3  e27a1318-42e8-47b1-8eac-254bdff31547   \n",
       "4  e6d40f3c-9513-4205-a799-0ed313cc257f   \n",
       "\n",
       "                                          chunk_text  \\\n",
       "0  Vejledning om regulering af satser fra 1. janu...   \n",
       "1  Tilpasningsprocenten er ved Finansministeriets...   \n",
       "2  1541 af 12. december 2023 fastsættes løbende e...   \n",
       "3  og det maksimale årslønsbeløb, der var gældend...   \n",
       "4  Satser for arbejdsskader indtruffet 1. juli 20...   \n",
       "\n",
       "                                                 url  \n",
       "0  https://www.retsinformation.dk/eli/retsinfo/20...  \n",
       "1  https://www.retsinformation.dk/eli/retsinfo/20...  \n",
       "2  https://www.retsinformation.dk/eli/retsinfo/20...  \n",
       "3  https://www.retsinformation.dk/eli/retsinfo/20...  \n",
       "4  https://www.retsinformation.dk/eli/retsinfo/20...  "
      ]
     },
     "execution_count": 20,
     "metadata": {},
     "output_type": "execute_result"
    }
   ],
   "source": [
    "# Create a pandas dataframe from the nodes_vejledninger_filtered object\n",
    "# Only include the id_, metadata['file_name'] and text attributes of the object\n",
    "import pandas as pd\n",
    "\n",
    "df_llama_chunks = pd.DataFrame(\n",
    "    [\n",
    "        [node.metadata[\"title_vejledning\"], node.id_, node.text, node.metadata[\"url\"]]\n",
    "        for node in nodes_vejledninger_filtered\n",
    "    ],\n",
    "    columns=[\"title_vejledning\", \"chunk_id\", \"chunk_text\", \"url\"],\n",
    ")\n",
    "df_llama_chunks.head()"
   ]
  },
  {
   "cell_type": "code",
   "execution_count": 40,
   "metadata": {},
   "outputs": [],
   "source": [
    "# Save the dataframe as a csv file ensure that non ascii characters are encoded as utf-8\n",
    "# df_llama_chunks.to_csv(\"data/chunks_id_text-14-01-24-v1.csv\", encoding=\"utf-8\")"
   ]
  },
  {
   "cell_type": "code",
   "execution_count": 48,
   "metadata": {},
   "outputs": [],
   "source": [
    "# ds_llama_chunks = Dataset.from_pandas(df_llama_chunks)"
   ]
  },
  {
   "cell_type": "markdown",
   "metadata": {},
   "source": [
    "## Generate Q "
   ]
  },
  {
   "cell_type": "markdown",
   "metadata": {},
   "source": [
    "**Write the Question gen prompt template**"
   ]
  },
  {
   "cell_type": "code",
   "execution_count": 21,
   "metadata": {},
   "outputs": [],
   "source": [
    "from llama_index.prompts import PromptTemplate\n",
    "\n",
    "# Define your custom prompt template in Danish\n",
    "qa_sagsbehandler_tmlp = \"\"\" Nedenfor er et uddrag (kontekst) fra en længere tekst:\n",
    "---------------------\n",
    "{context_str}\n",
    "---------------------\n",
    "Givet ovenstående uddrag (kontekst) og ingen forudgående viden, er din opgave at generere spørgsmål til teksten.\n",
    "Du er en erfaren sagsbehandler, og din opgave er at stille præcis {num_questions_per_chunk} spørgsmål, som kan besvares i uddraget.\n",
    "Spørgsmålene skal være af forskellig karakter og dække teksten bredt, men stilles i et sprog som en borger uden juridisk ekspertise kan forstå.\n",
    "Svaret til spørgsmålet, skal kunne findes i ovenstående uddrag (kontekst).\n",
    "\"\"\"\n",
    "\n",
    "qa_sagsbehandler_tmlp = PromptTemplate(qa_sagsbehandler_tmlp)"
   ]
  },
  {
   "cell_type": "markdown",
   "metadata": {},
   "source": [
    "**Generate the questions**"
   ]
  },
  {
   "cell_type": "code",
   "execution_count": null,
   "metadata": {},
   "outputs": [],
   "source": [
    "from llama_index.finetuning import generate_qa_embedding_pairs\n",
    "from llama_index.llms import OpenAI\n",
    "\n",
    "# define LLM\n",
    "llm_oai = OpenAI(temperature=0.0, model=\"gpt-4-1106-preview\")\n",
    "\n",
    "qa_dataset = generate_qa_embedding_pairs(\n",
    "    qa_generate_prompt_tmpl=qa_sagsbehandler_tmlp,\n",
    "    llm=llm_oai,\n",
    "    nodes=nodes_vejledninger_filtered[0:100],\n",
    "    num_questions_per_chunk=2,\n",
    ")"
   ]
  },
  {
   "cell_type": "markdown",
   "metadata": {},
   "source": [
    "**Example of generated questions**"
   ]
  },
  {
   "cell_type": "code",
   "execution_count": 49,
   "metadata": {},
   "outputs": [
    {
     "name": "stdout",
     "output_type": "stream",
     "text": [
      "Spørgsmål:\n",
      " Hvem har ansvaret for at justere de beløb, man kan få i erstatning ifølge arbejdsskadelovgivningen fra 1. januar 2024? \n",
      "\n",
      "Chunk:\n",
      " Vejledning om regulering af satser fra 1. januar 2024 efter lov om arbejdsskadesikring, lov om sikring mod følger af arbejdsskade, lov om arbejdsskadeforsikring og lov om forsikring mod følger af ulykkestilfælde\n",
      "Indledning\n",
      "Efter lov om arbejdsskadesikring, jf. lovbekendtgørelse nr. 1186 af 19. august 2022 med de ændringer, der følger af lov nr. 1541 af 12. december 2023, og lov om sikring mod følger af arbejdsskade, jf. lovbekendtgørelse nr. 943 af 16. oktober 2000, skal der med virkning fra 1. januar 2024 efter indstilling fra bestyrelsen for Arbejdsmarkedets Erhvervssikring ske regulering af lovens årslønsbeløb, godtgørelsesbeløb, overgangsbeløb samt løbende erstatninger.\n",
      "Reguleringen af satserne fastsættes af Arbejdstilsynets direktør efter bemyndigelse fra beskæftigelsesministeren.\n",
      "Satser efter loven reguleres med 2 procent tillagt tilpasningsprocenten for finansåret 2024 (jf. lov om en satsreguleringsprocent). \n",
      "\n"
     ]
    }
   ],
   "source": [
    "for query_id, query in qa_dataset.queries.items():\n",
    "    node_id = qa_dataset.relevant_docs[query_id][0]\n",
    "    text = qa_dataset.corpus[node_id]\n",
    "    print(f\"Spørgsmål:\\n {query} \\n\")\n",
    "    print(f\"Chunk:\\n {text} \\n\")\n",
    "    break"
   ]
  },
  {
   "cell_type": "markdown",
   "metadata": {},
   "source": [
    "**Save / Load Q&A dataset**"
   ]
  },
  {
   "cell_type": "code",
   "execution_count": 75,
   "metadata": {},
   "outputs": [],
   "source": [
    "# the llamaindex object only has a save_json method, so first we save the object as a json file, and then reload it as a hf dataset object in order to push to hf repo\n",
    "qa_dataset.save_json(\"data/data/qa_dataset_gp41106_100_samples.json\")\n",
    "# Push json file to hf repo\n",
    "\n",
    "# ds_qa_dataset = load_dataset('json', data_files='data_old/qa_dataset_gp41106_24-01-14_100_samples.json')"
   ]
  }
 ],
 "metadata": {
  "kernelspec": {
   "display_name": "llm",
   "language": "python",
   "name": "python3"
  },
  "language_info": {
   "codemirror_mode": {
    "name": "ipython",
    "version": 3
   },
   "file_extension": ".py",
   "mimetype": "text/x-python",
   "name": "python",
   "nbconvert_exporter": "python",
   "pygments_lexer": "ipython3",
   "version": "3.11.5"
  }
 },
 "nbformat": 4,
 "nbformat_minor": 2
}
