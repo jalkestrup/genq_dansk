{
 "cells": [
  {
   "cell_type": "markdown",
   "metadata": {},
   "source": [
    "### Set up API key"
   ]
  },
  {
   "cell_type": "code",
   "execution_count": 2,
   "metadata": {},
   "outputs": [],
   "source": [
    "import os\n",
    "from dotenv import load_dotenv\n",
    "import pandas as pd\n",
    "from datasets import Dataset\n",
    "from datasets import load_dataset\n",
    "load_dotenv(override=True)\n",
    "OPENAI_API_KEY = os.environ.get(\"OPENAI_API_KEY\")"
   ]
  },
  {
   "cell_type": "markdown",
   "metadata": {},
   "source": [
    "# Load data from HF into Llamaindex"
   ]
  },
  {
   "cell_type": "code",
   "execution_count": 3,
   "metadata": {},
   "outputs": [
    {
     "data": {
      "application/vnd.jupyter.widget-view+json": {
       "model_id": "43ef2f6e19374cb593aa6274bc051731",
       "version_major": 2,
       "version_minor": 0
      },
      "text/plain": [
       "Downloading readme:   0%|          | 0.00/1.14k [00:00<?, ?B/s]"
      ]
     },
     "metadata": {},
     "output_type": "display_data"
    },
    {
     "data": {
      "application/vnd.jupyter.widget-view+json": {
       "model_id": "20cc434c49cb4ba889fffc02616b4188",
       "version_major": 2,
       "version_minor": 0
      },
      "text/plain": [
       "Downloading data files:   0%|          | 0/1 [00:00<?, ?it/s]"
      ]
     },
     "metadata": {},
     "output_type": "display_data"
    },
    {
     "data": {
      "application/vnd.jupyter.widget-view+json": {
       "model_id": "6f635879c2744649bb2b031920faf600",
       "version_major": 2,
       "version_minor": 0
      },
      "text/plain": [
       "Downloading data:   0%|          | 0.00/20.3M [00:00<?, ?B/s]"
      ]
     },
     "metadata": {},
     "output_type": "display_data"
    },
    {
     "data": {
      "application/vnd.jupyter.widget-view+json": {
       "model_id": "7e7022d159304dc88a789524f0d62ad8",
       "version_major": 2,
       "version_minor": 0
      },
      "text/plain": [
       "Extracting data files:   0%|          | 0/1 [00:00<?, ?it/s]"
      ]
     },
     "metadata": {},
     "output_type": "display_data"
    },
    {
     "data": {
      "application/vnd.jupyter.widget-view+json": {
       "model_id": "d600556fd0764d34a7fba85a692f37b5",
       "version_major": 2,
       "version_minor": 0
      },
      "text/plain": [
       "Generating train split:   0%|          | 0/433 [00:00<?, ? examples/s]"
      ]
     },
     "metadata": {},
     "output_type": "display_data"
    }
   ],
   "source": [
    "# Load from hub\n",
    "ds_vejledninger = load_dataset(\n",
    "    \"jealk/dk_retrieval_benchmark\", split=\"train\", download_mode=\"force_redownload\"\n",
    ")"
   ]
  },
  {
   "cell_type": "code",
   "execution_count": 4,
   "metadata": {},
   "outputs": [
    {
     "data": {
      "text/html": [
       "<div>\n",
       "<style scoped>\n",
       "    .dataframe tbody tr th:only-of-type {\n",
       "        vertical-align: middle;\n",
       "    }\n",
       "\n",
       "    .dataframe tbody tr th {\n",
       "        vertical-align: top;\n",
       "    }\n",
       "\n",
       "    .dataframe thead th {\n",
       "        text-align: right;\n",
       "    }\n",
       "</style>\n",
       "<table border=\"1\" class=\"dataframe\">\n",
       "  <thead>\n",
       "    <tr style=\"text-align: right;\">\n",
       "      <th></th>\n",
       "      <th>url</th>\n",
       "      <th>title</th>\n",
       "      <th>html_content</th>\n",
       "      <th>text_content</th>\n",
       "    </tr>\n",
       "  </thead>\n",
       "  <tbody>\n",
       "    <tr>\n",
       "      <th>0</th>\n",
       "      <td>https://www.retsinformation.dk/eli/retsinfo/20...</td>\n",
       "      <td>Vejledning om regulering af satser fra 1. janu...</td>\n",
       "      <td>&lt;div class=\"document-content\" id=\"restylingRoo...</td>\n",
       "      <td>Vejledning om regulering af satser fra 1. janu...</td>\n",
       "    </tr>\n",
       "    <tr>\n",
       "      <th>1</th>\n",
       "      <td>https://www.retsinformation.dk/eli/retsinfo/20...</td>\n",
       "      <td>Vejledning om satser i 2024 for betaling af ud...</td>\n",
       "      <td>&lt;div class=\"document-content\" id=\"restylingRoo...</td>\n",
       "      <td>Vejledning om satser i 2024 for betaling af ud...</td>\n",
       "    </tr>\n",
       "    <tr>\n",
       "      <th>2</th>\n",
       "      <td>https://www.retsinformation.dk/eli/retsinfo/20...</td>\n",
       "      <td>Vejledning om obligatorisk selvbooking af jobs...</td>\n",
       "      <td>&lt;div class=\"document-content\" id=\"restylingRoo...</td>\n",
       "      <td>Vejledning om obligatorisk selvbooking af jobs...</td>\n",
       "    </tr>\n",
       "    <tr>\n",
       "      <th>3</th>\n",
       "      <td>https://www.retsinformation.dk/eli/retsinfo/20...</td>\n",
       "      <td>Vejledning til bekendtgørelse om tilskud til s...</td>\n",
       "      <td>&lt;div class=\"document-content\" id=\"restylingRoo...</td>\n",
       "      <td>Vejledning til bekendtgørelse om tilskud til s...</td>\n",
       "    </tr>\n",
       "    <tr>\n",
       "      <th>4</th>\n",
       "      <td>https://www.retsinformation.dk/eli/retsinfo/20...</td>\n",
       "      <td>Vejledning om fleksløntilskud m.v.</td>\n",
       "      <td>&lt;div class=\"document-content\" id=\"restylingRoo...</td>\n",
       "      <td>Vejledning om fleksløntilskud m.v.\\n1.Indledni...</td>\n",
       "    </tr>\n",
       "  </tbody>\n",
       "</table>\n",
       "</div>"
      ],
      "text/plain": [
       "                                                 url  \\\n",
       "0  https://www.retsinformation.dk/eli/retsinfo/20...   \n",
       "1  https://www.retsinformation.dk/eli/retsinfo/20...   \n",
       "2  https://www.retsinformation.dk/eli/retsinfo/20...   \n",
       "3  https://www.retsinformation.dk/eli/retsinfo/20...   \n",
       "4  https://www.retsinformation.dk/eli/retsinfo/20...   \n",
       "\n",
       "                                               title  \\\n",
       "0  Vejledning om regulering af satser fra 1. janu...   \n",
       "1  Vejledning om satser i 2024 for betaling af ud...   \n",
       "2  Vejledning om obligatorisk selvbooking af jobs...   \n",
       "3  Vejledning til bekendtgørelse om tilskud til s...   \n",
       "4                 Vejledning om fleksløntilskud m.v.   \n",
       "\n",
       "                                        html_content  \\\n",
       "0  <div class=\"document-content\" id=\"restylingRoo...   \n",
       "1  <div class=\"document-content\" id=\"restylingRoo...   \n",
       "2  <div class=\"document-content\" id=\"restylingRoo...   \n",
       "3  <div class=\"document-content\" id=\"restylingRoo...   \n",
       "4  <div class=\"document-content\" id=\"restylingRoo...   \n",
       "\n",
       "                                        text_content  \n",
       "0  Vejledning om regulering af satser fra 1. janu...  \n",
       "1  Vejledning om satser i 2024 for betaling af ud...  \n",
       "2  Vejledning om obligatorisk selvbooking af jobs...  \n",
       "3  Vejledning til bekendtgørelse om tilskud til s...  \n",
       "4  Vejledning om fleksløntilskud m.v.\\n1.Indledni...  "
      ]
     },
     "execution_count": 4,
     "metadata": {},
     "output_type": "execute_result"
    }
   ],
   "source": [
    "# Create pandas dataframe from the dataset using the huggingface datasets library\n",
    "df_vejledninger = ds_vejledninger.to_pandas()\n",
    "df_vejledninger.head()"
   ]
  },
  {
   "cell_type": "code",
   "execution_count": 5,
   "metadata": {},
   "outputs": [
    {
     "name": "stdout",
     "output_type": "stream",
     "text": [
      "There is a total of 433 documents in the dataset\n"
     ]
    }
   ],
   "source": [
    "print(f\"There is a total of {len(df_vejledninger)} documents in the dataset\")"
   ]
  },
  {
   "cell_type": "markdown",
   "metadata": {},
   "source": [
    "### Load into Llamaindex documents\n",
    "Esentially just dicts with text and metadata"
   ]
  },
  {
   "cell_type": "code",
   "execution_count": 6,
   "metadata": {},
   "outputs": [
    {
     "name": "stderr",
     "output_type": "stream",
     "text": [
      "/home/jealk/mambaforge/envs/llm/lib/python3.11/site-packages/deeplake/util/check_latest_version.py:32: UserWarning: A newer version of deeplake (3.8.19) is available. It's recommended that you update to the latest version using `pip install -U deeplake`.\n",
      "  warnings.warn(\n"
     ]
    },
    {
     "data": {
      "text/plain": [
       "433"
      ]
     },
     "execution_count": 6,
     "metadata": {},
     "output_type": "execute_result"
    }
   ],
   "source": [
    "from llama_index import Document\n",
    "\n",
    "# Iterate over the huggingface dataset object and create a list of llama documents\n",
    "documents_vejledninger = [\n",
    "    Document(text=content, metadata={\"title_vejledning\": name, \"url\": url})\n",
    "    for name, content, url in zip(\n",
    "        ds_vejledninger[\"title\"],\n",
    "        ds_vejledninger[\"text_content\"],\n",
    "        ds_vejledninger[\"url\"],\n",
    "    )\n",
    "]\n",
    "\n",
    "len(documents_vejledninger)"
   ]
  },
  {
   "cell_type": "code",
   "execution_count": 7,
   "metadata": {},
   "outputs": [
    {
     "data": {
      "text/plain": [
       "{'title_vejledning': 'Vejledning om regulering af satser fra 1. januar 2024 efter lov om arbejdsskadesikring, lov om sikring mod følger af arbejdsskade, lov om arbejdsskadeforsikring og lov om forsikring mod følger af ulykkestilfælde',\n",
       " 'url': 'https://www.retsinformation.dk/eli/retsinfo/2024/9001'}"
      ]
     },
     "execution_count": 7,
     "metadata": {},
     "output_type": "execute_result"
    }
   ],
   "source": [
    "# Inspecting the meta data of a document\n",
    "documents_vejledninger[0].metadata"
   ]
  },
  {
   "cell_type": "code",
   "execution_count": 8,
   "metadata": {},
   "outputs": [
    {
     "data": {
      "text/plain": [
       "'Vejledning om regulering af satser fra 1. januar 2024 efter lov om arbejdsskadesikring, lov om sikring mod følger af arbejdsskade, lov om arbejdsskadeforsikring og lov om forsikring mod følger af ulykkestilfælde\\nIndledning\\nEfter lov om arbejdsskadesikring, jf. lovbekendtgørelse nr. 1186 af 19. august 2022 med de ændringer, der følger af lov nr. 1541 af 12. december 2023, og lov om sikring mod følger af arbejdsskade, jf. lovbekendtgørelse nr. 943 af 16. oktober 2000, skal der med virkning fra 1. '"
      ]
     },
     "execution_count": 8,
     "metadata": {},
     "output_type": "execute_result"
    }
   ],
   "source": [
    "# Inspecting the text of a document\n",
    "documents_vejledninger[0].text[0:500]"
   ]
  },
  {
   "cell_type": "markdown",
   "metadata": {},
   "source": [
    "## Chunking text\n",
    "First parsing the data into nodes (llamaindex way of structuring data, including the relation to other nodes, embedding info etc.)"
   ]
  },
  {
   "cell_type": "code",
   "execution_count": 9,
   "metadata": {},
   "outputs": [
    {
     "data": {
      "application/vnd.jupyter.widget-view+json": {
       "model_id": "73dae9561ea94e66a702e7ebda83b95d",
       "version_major": 2,
       "version_minor": 0
      },
      "text/plain": [
       "Parsing nodes:   0%|          | 0/433 [00:00<?, ?it/s]"
      ]
     },
     "metadata": {},
     "output_type": "display_data"
    },
    {
     "name": "stderr",
     "output_type": "stream",
     "text": [
      "Token indices sequence length is longer than the specified maximum sequence length for this model (24739 > 512). Running this sequence through the model will result in indexing errors\n"
     ]
    }
   ],
   "source": [
    "from llama_index.node_parser import SentenceSplitter\n",
    "from transformers import AutoTokenizer\n",
    "\n",
    "tokenizer_e5 = AutoTokenizer.from_pretrained(\"intfloat/e5-base-v2\")\n",
    "\n",
    "# Setting max length and defining tokenizer as intended embedding model (e5)\n",
    "# Splitting preferably by \\n (because I formated the html so that all <p> was replaced by a \\n), and if no \\n is found, split by nearest delimeter char . ? ! etc.\n",
    "node_parser = SentenceSplitter(\n",
    "    chunk_size=512,\n",
    "    chunk_overlap=0,\n",
    "    # As of 18/12/2023 the paragraph seperator expects a string\n",
    "    # Some uncertainty of whether the regex is working as intended\n",
    "    secondary_chunking_regex=str([\"\\n\"]),\n",
    "    paragraph_separator=str([\"\\n\\n\"]),\n",
    "    tokenizer=tokenizer_e5.tokenize,\n",
    ")\n",
    "\n",
    "nodes_vejledninger = node_parser.get_nodes_from_documents(\n",
    "    documents_vejledninger, show_progress=True\n",
    ")"
   ]
  },
  {
   "cell_type": "code",
   "execution_count": 10,
   "metadata": {},
   "outputs": [
    {
     "data": {
      "text/plain": [
       "'1541 af 12. december 2023.\\nÅrlig løbende erstatning for tab af erhvervsevne og tab af forsørger samt årlig uddannelsesgodtgørelse beregnes herefter som grundydelsen pr. 1. januar 2024, jf. ovenfor, med et tillæg på 0,0 pct.\\nKapitalerstatninger for tab af erhvervsevne beregnes som den årlige løbende erstatning på afgørelsestidspunktet × kapitaliseringsfaktoren på afgørelsestidspunktet.\\nMéngodtgørelsen beregnes som ménprocenten × 1.013.500 kr. Hvis tilskadekomne ved skadens indtræden var fyldt 40 år, nedsættes méngodtgørelsen med 1 pct. for hvert år tilskadekomne på skadestidspunktet var over 39 år. Hvis tilskadekomne ved skadens indtræden var fyldt 60 år, nedsættes méngodtgørelsen herudover med yderligere 1 pct. for hvert år tilskadekomne på skadestidspunktet var over 59 år. Méngodtgørelsen nedsættes ikke yderligere efter det fyldte 69. år.\\nOvergangsbeløbet ved dødsfald udgør 191.000 kr.'"
      ]
     },
     "execution_count": 10,
     "metadata": {},
     "output_type": "execute_result"
    }
   ],
   "source": [
    "nodes_vejledninger[25].text"
   ]
  },
  {
   "cell_type": "markdown",
   "metadata": {},
   "source": [
    "### (Optional chunk len vizualization)\n",
    "Inspecting the distribution of token size of the chunked data"
   ]
  },
  {
   "cell_type": "code",
   "execution_count": 14,
   "metadata": {},
   "outputs": [
    {
     "data": {
      "image/png": "[encoded data removed]",
      "text/plain": [
       "<Figure size 640x480 with 1 Axes>"
      ]
     },
     "metadata": {},
     "output_type": "display_data"
    }
   ],
   "source": [
    "### Use HF tokenizer to verify length\n",
    "from transformers import AutoTokenizer\n",
    "\n",
    "tokenizer = AutoTokenizer.from_pretrained(\"intfloat/e5-base-v2\")\n",
    "token_counts = []\n",
    "for text in [node.text for node in nodes_vejledninger]:\n",
    "    token_counts.append(len(tokenizer.tokenize(text)))\n",
    "\n",
    "# Efficient batch processing to tokenize all texts\n",
    "# batch_dict = tokenizer([node.text for node in nodes_vejledninger], max_length=512, padding=True, truncation=True, return_tensors='pt')\n",
    "\n",
    "# Plot a histogram of the length of the text in all nodes\n",
    "import matplotlib.pyplot as plt\n",
    "\n",
    "text_len = token_counts\n",
    "plt.hist(text_len, bins=100)\n",
    "plt.title(\"Histogram of text length in nodes\")\n",
    "plt.xlabel(\"Token length\")\n",
    "plt.ylabel(\"Number of chunks\")\n",
    "plt.show()"
   ]
  },
  {
   "cell_type": "code",
   "execution_count": 15,
   "metadata": {},
   "outputs": [
    {
     "name": "stdout",
     "output_type": "stream",
     "text": [
      "Example 1 of texts under 100 tokens:\n",
      "9650 af 20. juni 2022.\n",
      "\n",
      "Beskæftigelsesministeriet, den 19. december 2023\n",
      "Kirsten Brix Pedersen\n",
      "/ Anne Hedegaard\n",
      "\n",
      "\n",
      "Example 2 of texts under 100 tokens:\n",
      "Styrelsen for Arbejdsmarked og Rekruttering, den 20. december 2023\n",
      "Kirsten Brix Pedersen\n",
      "/ Anne Hedegaard\n",
      "\n",
      "\n",
      "Example 3 of texts under 100 tokens:\n",
      "3, i retssikkerhedsbekendtgørelsen træffer Ankestyrelsen/Ankestyrelsens Beskæftigelsesudvalg afgørelse inden 4 uger efter, at klagen er modtaget.\n",
      "\n",
      "Styrelsen for Arbejdsmarked og Rekruttering, den 19. december 2023\n",
      "Jakob Heltoft\n",
      "/ Astrid Finderup\n",
      "\n",
      "\n",
      "Example 4 of texts under 100 tokens:\n",
      "Arbejdstilsynet, den 30. oktober 2023\n",
      "Sine Frederiksen\n",
      "/ Helle Klostergaard Christensen\n",
      "\n",
      "\n",
      "Example 5 of texts under 100 tokens:\n",
      "Arbejdstilsynet, den 4. oktober 2023\n",
      "\n",
      "\n"
     ]
    }
   ],
   "source": [
    "# Print first 5 examples of texts under 100 tokens\n",
    "for i in range(5):\n",
    "    print(f\"Example {i+1} of texts under 100 tokens:\")\n",
    "    print(\n",
    "        [\n",
    "            node.text\n",
    "            for node in nodes_vejledninger\n",
    "            if len(tokenizer.tokenize(node.text)) < 100\n",
    "        ][i]\n",
    "    )\n",
    "    print(\"\\n\")"
   ]
  },
  {
   "cell_type": "markdown",
   "metadata": {},
   "source": [
    "**Short texts, what's happening?**\n",
    "\n",
    "I inspected a few samples of the <100 token texts, and they mostly seem simply to be the end of documents, where this part likely could not fit into the context window of the previous chunk.\n"
   ]
  },
  {
   "cell_type": "markdown",
   "metadata": {},
   "source": [
    "### Discarding short chunks\n",
    "Discard any chunks less than 150 tokens long"
   ]
  },
  {
   "cell_type": "code",
   "execution_count": 11,
   "metadata": {},
   "outputs": [],
   "source": [
    "### Use HF tokenizer to verify length\n",
    "\n",
    "nodes_vejledninger_filtered = [\n",
    "    node for node in nodes_vejledninger if len(tokenizer_e5.tokenize(node.text)) > 150\n",
    "]"
   ]
  },
  {
   "cell_type": "code",
   "execution_count": 12,
   "metadata": {},
   "outputs": [
    {
     "name": "stdout",
     "output_type": "stream",
     "text": [
      "We now have 18423 chunks of text to generate questions from\n"
     ]
    }
   ],
   "source": [
    "print(\n",
    "    f\"We now have {len(nodes_vejledninger_filtered)} chunks of text to generate questions from\"\n",
    ")"
   ]
  },
  {
   "cell_type": "markdown",
   "metadata": {},
   "source": [
    "#### Export nodes into a document store and saver for later use\n",
    "The node object contains relevant info such as what node preceeded and followed it, and the meta data of the source document, both which might be relevant later. \n"
   ]
  },
  {
   "cell_type": "code",
   "execution_count": 13,
   "metadata": {},
   "outputs": [
    {
     "data": {
      "text/plain": [
       "TextNode(id_='0486bd0e-f425-4ce4-85c8-7eda4725265d', embedding=None, metadata={'title_vejledning': 'Vejledning om regulering af satser fra 1. januar 2024 efter lov om arbejdsskadesikring, lov om sikring mod følger af arbejdsskade, lov om arbejdsskadeforsikring og lov om forsikring mod følger af ulykkestilfælde', 'url': 'https://www.retsinformation.dk/eli/retsinfo/2024/9001'}, excluded_embed_metadata_keys=[], excluded_llm_metadata_keys=[], relationships={<NodeRelationship.SOURCE: '1'>: RelatedNodeInfo(node_id='249062be-f830-41d3-bd57-ca227e007594', node_type=<ObjectType.DOCUMENT: '4'>, metadata={'title_vejledning': 'Vejledning om regulering af satser fra 1. januar 2024 efter lov om arbejdsskadesikring, lov om sikring mod følger af arbejdsskade, lov om arbejdsskadeforsikring og lov om forsikring mod følger af ulykkestilfælde', 'url': 'https://www.retsinformation.dk/eli/retsinfo/2024/9001'}, hash='38b309944fe6155453e3117dea7104ee23212a96f2a93b5acbb957eec81f202b'), <NodeRelationship.NEXT: '3'>: RelatedNodeInfo(node_id='347f812b-8ec5-4bba-8fe1-afe8dac36c51', node_type=<ObjectType.TEXT: '1'>, metadata={}, hash='f6ed34c1c002377faeddbec410354ffe8084f1cbe3210cc20df7404ed0a05368')}, hash='222122ad72e8f4a92916983315e4a7ce2ff399ddeaca126d543f6ba1a871dfa9', text='Vejledning om regulering af satser fra 1. januar 2024 efter lov om arbejdsskadesikring, lov om sikring mod følger af arbejdsskade, lov om arbejdsskadeforsikring og lov om forsikring mod følger af ulykkestilfælde\\nIndledning\\nEfter lov om arbejdsskadesikring, jf. lovbekendtgørelse nr. 1186 af 19. august 2022 med de ændringer, der følger af lov nr. 1541 af 12. december 2023, og lov om sikring mod følger af arbejdsskade, jf. lovbekendtgørelse nr. 943 af 16. oktober 2000, skal der med virkning fra 1. januar 2024 efter indstilling fra bestyrelsen for Arbejdsmarkedets Erhvervssikring ske regulering af lovens årslønsbeløb, godtgørelsesbeløb, overgangsbeløb samt løbende erstatninger.\\nReguleringen af satserne fastsættes af Arbejdstilsynets direktør efter bemyndigelse fra beskæftigelsesministeren.\\nSatser efter loven reguleres med 2 procent tillagt tilpasningsprocenten for finansåret 2024 (jf. lov om en satsreguleringsprocent).', start_char_idx=0, end_char_idx=928, text_template='{metadata_str}\\n\\n{content}', metadata_template='{key}: {value}', metadata_seperator='\\n')"
      ]
     },
     "execution_count": 13,
     "metadata": {},
     "output_type": "execute_result"
    }
   ],
   "source": [
    "nodes_vejledninger_filtered[0]"
   ]
  },
  {
   "cell_type": "markdown",
   "metadata": {},
   "source": [
    "**Option to save the nodes to disk for later use**"
   ]
  },
  {
   "cell_type": "code",
   "execution_count": 37,
   "metadata": {},
   "outputs": [
    {
     "data": {
      "text/plain": [
       "'\\nfrom llama_index.storage.docstore import SimpleDocumentStore\\n\\n# create (or load) docstore and add nodes\\ndocstore = SimpleDocumentStore()\\ndocstore.add_documents(nodes_vejledninger_filtered)\\n\\n# persist nodes to disk\\ndocstore.persist(\"data/node_store_25-11-23\")\\n'"
      ]
     },
     "execution_count": 37,
     "metadata": {},
     "output_type": "execute_result"
    }
   ],
   "source": [
    "\"\"\"\n",
    "#To save the docs locally\n",
    "from llama_index.storage.docstore import SimpleDocumentStore\n",
    "\n",
    "# create (or load) docstore and add nodes\n",
    "docstore = SimpleDocumentStore()\n",
    "docstore.add_documents(nodes_vejledninger_filtered)\n",
    "\n",
    "# persist nodes to disk\n",
    "docstore.persist(\"data/node_store_25-11-23\")\n",
    "\"\"\""
   ]
  },
  {
   "cell_type": "code",
   "execution_count": 37,
   "metadata": {},
   "outputs": [],
   "source": [
    "\"\"\"\n",
    "from llama_index.storage.docstore import SimpleDocumentStore\n",
    "\n",
    "# Load the SimpleDocumentStore from the persisted file\n",
    "docstore = SimpleDocumentStore.from_persist_path(\"data/node_store_25-11-23\")\n",
    "# Create a list of nodes by list comprehension by iterating over the key (store hash) value (llamnaindex node) pairs of the docstore.docs object and appending the value to the list\n",
    "nodes_vejledninger_filtered = [node for key, node in docstore.docs.items()]\n",
    "\"\"\""
   ]
  },
  {
   "cell_type": "markdown",
   "metadata": {},
   "source": [
    "**Short addition to save parts of the node data in a dataframe for HF dataset creation**"
   ]
  },
  {
   "cell_type": "code",
   "execution_count": 14,
   "metadata": {},
   "outputs": [
    {
     "data": {
      "text/html": [
       "<div>\n",
       "<style scoped>\n",
       "    .dataframe tbody tr th:only-of-type {\n",
       "        vertical-align: middle;\n",
       "    }\n",
       "\n",
       "    .dataframe tbody tr th {\n",
       "        vertical-align: top;\n",
       "    }\n",
       "\n",
       "    .dataframe thead th {\n",
       "        text-align: right;\n",
       "    }\n",
       "</style>\n",
       "<table border=\"1\" class=\"dataframe\">\n",
       "  <thead>\n",
       "    <tr style=\"text-align: right;\">\n",
       "      <th></th>\n",
       "      <th>title_vejledning</th>\n",
       "      <th>chunk_id</th>\n",
       "      <th>chunk_text</th>\n",
       "      <th>url</th>\n",
       "    </tr>\n",
       "  </thead>\n",
       "  <tbody>\n",
       "    <tr>\n",
       "      <th>0</th>\n",
       "      <td>Vejledning om regulering af satser fra 1. janu...</td>\n",
       "      <td>0486bd0e-f425-4ce4-85c8-7eda4725265d</td>\n",
       "      <td>Vejledning om regulering af satser fra 1. janu...</td>\n",
       "      <td>https://www.retsinformation.dk/eli/retsinfo/20...</td>\n",
       "    </tr>\n",
       "    <tr>\n",
       "      <th>1</th>\n",
       "      <td>Vejledning om regulering af satser fra 1. janu...</td>\n",
       "      <td>347f812b-8ec5-4bba-8fe1-afe8dac36c51</td>\n",
       "      <td>Tilpasningsprocenten er ved Finansministeriets...</td>\n",
       "      <td>https://www.retsinformation.dk/eli/retsinfo/20...</td>\n",
       "    </tr>\n",
       "    <tr>\n",
       "      <th>2</th>\n",
       "      <td>Vejledning om regulering af satser fra 1. janu...</td>\n",
       "      <td>a6a196f1-2b2a-41cb-aaaa-5177f1589878</td>\n",
       "      <td>1541 af 12. december 2023 fastsættes løbende e...</td>\n",
       "      <td>https://www.retsinformation.dk/eli/retsinfo/20...</td>\n",
       "    </tr>\n",
       "    <tr>\n",
       "      <th>3</th>\n",
       "      <td>Vejledning om regulering af satser fra 1. janu...</td>\n",
       "      <td>8c3efbe5-c9ff-459b-ac36-1c88c0b62003</td>\n",
       "      <td>og det maksimale årslønsbeløb, der var gældend...</td>\n",
       "      <td>https://www.retsinformation.dk/eli/retsinfo/20...</td>\n",
       "    </tr>\n",
       "    <tr>\n",
       "      <th>4</th>\n",
       "      <td>Vejledning om regulering af satser fra 1. janu...</td>\n",
       "      <td>b6c140e2-26d6-40be-93fa-4f2a3e49c0d2</td>\n",
       "      <td>Satser for arbejdsskader indtruffet 1. juli 20...</td>\n",
       "      <td>https://www.retsinformation.dk/eli/retsinfo/20...</td>\n",
       "    </tr>\n",
       "  </tbody>\n",
       "</table>\n",
       "</div>"
      ],
      "text/plain": [
       "                                    title_vejledning  \\\n",
       "0  Vejledning om regulering af satser fra 1. janu...   \n",
       "1  Vejledning om regulering af satser fra 1. janu...   \n",
       "2  Vejledning om regulering af satser fra 1. janu...   \n",
       "3  Vejledning om regulering af satser fra 1. janu...   \n",
       "4  Vejledning om regulering af satser fra 1. janu...   \n",
       "\n",
       "                               chunk_id  \\\n",
       "0  0486bd0e-f425-4ce4-85c8-7eda4725265d   \n",
       "1  347f812b-8ec5-4bba-8fe1-afe8dac36c51   \n",
       "2  a6a196f1-2b2a-41cb-aaaa-5177f1589878   \n",
       "3  8c3efbe5-c9ff-459b-ac36-1c88c0b62003   \n",
       "4  b6c140e2-26d6-40be-93fa-4f2a3e49c0d2   \n",
       "\n",
       "                                          chunk_text  \\\n",
       "0  Vejledning om regulering af satser fra 1. janu...   \n",
       "1  Tilpasningsprocenten er ved Finansministeriets...   \n",
       "2  1541 af 12. december 2023 fastsættes løbende e...   \n",
       "3  og det maksimale årslønsbeløb, der var gældend...   \n",
       "4  Satser for arbejdsskader indtruffet 1. juli 20...   \n",
       "\n",
       "                                                 url  \n",
       "0  https://www.retsinformation.dk/eli/retsinfo/20...  \n",
       "1  https://www.retsinformation.dk/eli/retsinfo/20...  \n",
       "2  https://www.retsinformation.dk/eli/retsinfo/20...  \n",
       "3  https://www.retsinformation.dk/eli/retsinfo/20...  \n",
       "4  https://www.retsinformation.dk/eli/retsinfo/20...  "
      ]
     },
     "execution_count": 14,
     "metadata": {},
     "output_type": "execute_result"
    }
   ],
   "source": [
    "# Create a pandas dataframe from the nodes_vejledninger_filtered object\n",
    "# Only include the id_, metadata['file_name'] and text attributes of the object\n",
    "import pandas as pd\n",
    "\n",
    "df_llama_chunks = pd.DataFrame(\n",
    "    [\n",
    "        [node.metadata[\"title_vejledning\"], node.id_, node.text, node.metadata[\"url\"]]\n",
    "        for node in nodes_vejledninger_filtered\n",
    "    ],\n",
    "    columns=[\"title_vejledning\", \"chunk_id\", \"chunk_text\", \"url\"],\n",
    ")\n",
    "df_llama_chunks.head()"
   ]
  },
  {
   "cell_type": "code",
   "execution_count": 40,
   "metadata": {},
   "outputs": [],
   "source": [
    "# Save the dataframe as a csv file ensure that non ascii characters are encoded as utf-8\n",
    "# df_llama_chunks.to_csv(\"data/chunks_id_text-14-01-24-v1.csv\", encoding=\"utf-8\")"
   ]
  },
  {
   "cell_type": "code",
   "execution_count": 48,
   "metadata": {},
   "outputs": [],
   "source": [
    "# ds_llama_chunks = Dataset.from_pandas(df_llama_chunks)"
   ]
  },
  {
   "cell_type": "markdown",
   "metadata": {},
   "source": [
    "## Generate Q "
   ]
  },
  {
   "cell_type": "markdown",
   "metadata": {},
   "source": [
    "**Write the Question gen prompt template**"
   ]
  },
  {
   "cell_type": "code",
   "execution_count": 31,
   "metadata": {},
   "outputs": [],
   "source": [
    "from llama_index.prompts import PromptTemplate\n",
    "\n",
    "# Define your custom prompt template in Danish\n",
    "qa_sagsbehandler_tmlp = \"\"\" Nedenfor er et uddrag (kontekst) fra en længere tekst:\n",
    "---------------------\n",
    "{context_str}\n",
    "---------------------\n",
    "Givet ovenstående uddrag og ingen forudgående viden, er din opgave at generere spørgsmål til teksten.\n",
    "Spørgsmålet skal indeholde specifik kontekst, således at spørgsmålet kan besvares uden tvetydighed udenfor uddraget. \n",
    "Du er en erfaren sagsbehandler, og din opgave er at stille præcis {num_questions_per_chunk} spørgsmål, som kan besvares i uddraget.\n",
    "Spørgsmålene skal være af forskellig karakter og dække teksten bredt, men stilles i et sprog som en borger uden juridisk ekspertise kan forstå.\n",
    "Svaret til spørgsmålet, skal kunne findes i ovenstående uddrag.\n",
    "\n",
    "Eksempel på et spørgsmål der ikke har en specifik kontekst: \n",
    "\"Hvilket dokument har den nye vejledning erstattet, og hvornår blev det tidligere dokument udsendt?\", da spørgsmålet er tvetydigt og vil have flere svarmuligheder afhængigt af hvilken vejledning og dokument der refereres til.\n",
    "\n",
    "Eksempel på et godt spørgsmål, som kan besvares uden kendskab til uddraget:\n",
    "\"Hvor meget vil godtgørelsen for et varigt mén være, hvis det er vurderet til 100%?\"\n",
    "\n",
    "\"\"\"\n",
    "\n",
    "qa_sagsbehandler_tmlp = PromptTemplate(qa_sagsbehandler_tmlp)"
   ]
  },
  {
   "cell_type": "markdown",
   "metadata": {},
   "source": [
    "**Generate the questions**"
   ]
  },
  {
   "cell_type": "code",
   "execution_count": 34,
   "metadata": {},
   "outputs": [
    {
     "name": "stderr",
     "output_type": "stream",
     "text": [
      "  0%|          | 0/100 [00:00<?, ?it/s]\n"
     ]
    },
    {
     "ename": "ValueError",
     "evalue": "Unknown model 'gpt-4-1025-preview'. Please provide a valid OpenAI model name in: gpt-4, gpt-4-32k, gpt-4-1106-preview, gpt-4-vision-preview, gpt-4-0613, gpt-4-32k-0613, gpt-4-0314, gpt-4-32k-0314, gpt-3.5-turbo, gpt-3.5-turbo-16k, gpt-3.5-turbo-1106, gpt-3.5-turbo-0613, gpt-3.5-turbo-16k-0613, gpt-3.5-turbo-0301, text-davinci-003, text-davinci-002, gpt-3.5-turbo-instruct, text-ada-001, text-babbage-001, text-curie-001, ada, babbage, curie, davinci, gpt-35-turbo-16k, gpt-35-turbo, gpt-35-turbo-1106, gpt-35-turbo-0613, gpt-35-turbo-16k-0613",
     "output_type": "error",
     "traceback": [
      "\u001b[0;31m---------------------------------------------------------------------------\u001b[0m",
      "\u001b[0;31mValueError\u001b[0m                                Traceback (most recent call last)",
      "Cell \u001b[0;32mIn[34], line 7\u001b[0m\n\u001b[1;32m      4\u001b[0m \u001b[38;5;66;03m# define LLM\u001b[39;00m\n\u001b[1;32m      5\u001b[0m llm_oai \u001b[38;5;241m=\u001b[39m OpenAI(temperature\u001b[38;5;241m=\u001b[39m\u001b[38;5;241m0.0\u001b[39m, model\u001b[38;5;241m=\u001b[39m\u001b[38;5;124m\"\u001b[39m\u001b[38;5;124mgpt-4-1025-preview\u001b[39m\u001b[38;5;124m\"\u001b[39m)\n\u001b[0;32m----> 7\u001b[0m qa_dataset \u001b[38;5;241m=\u001b[39m \u001b[43mgenerate_qa_embedding_pairs\u001b[49m\u001b[43m(\u001b[49m\n\u001b[1;32m      8\u001b[0m \u001b[43m    \u001b[49m\u001b[43mqa_generate_prompt_tmpl\u001b[49m\u001b[38;5;241;43m=\u001b[39;49m\u001b[43mqa_sagsbehandler_tmlp\u001b[49m\u001b[43m,\u001b[49m\n\u001b[1;32m      9\u001b[0m \u001b[43m    \u001b[49m\u001b[43mllm\u001b[49m\u001b[38;5;241;43m=\u001b[39;49m\u001b[43mllm_oai\u001b[49m\u001b[43m,\u001b[49m\n\u001b[1;32m     10\u001b[0m \u001b[43m    \u001b[49m\u001b[43mnodes\u001b[49m\u001b[38;5;241;43m=\u001b[39;49m\u001b[43mnodes_vejledninger_filtered\u001b[49m\u001b[43m[\u001b[49m\u001b[38;5;241;43m0\u001b[39;49m\u001b[43m:\u001b[49m\u001b[38;5;241;43m100\u001b[39;49m\u001b[43m]\u001b[49m\u001b[43m,\u001b[49m\n\u001b[1;32m     11\u001b[0m \u001b[43m    \u001b[49m\u001b[43mnum_questions_per_chunk\u001b[49m\u001b[38;5;241;43m=\u001b[39;49m\u001b[38;5;241;43m2\u001b[39;49m\u001b[43m,\u001b[49m\n\u001b[1;32m     12\u001b[0m \u001b[43m)\u001b[49m\n",
      "File \u001b[0;32m~/mambaforge/envs/llm/lib/python3.11/site-packages/llama_index/finetuning/embeddings/common.py:87\u001b[0m, in \u001b[0;36mgenerate_qa_embedding_pairs\u001b[0;34m(nodes, llm, qa_generate_prompt_tmpl, num_questions_per_chunk)\u001b[0m\n\u001b[1;32m     83\u001b[0m \u001b[38;5;28;01mfor\u001b[39;00m node_id, text \u001b[38;5;129;01min\u001b[39;00m tqdm(node_dict\u001b[38;5;241m.\u001b[39mitems()):\n\u001b[1;32m     84\u001b[0m     query \u001b[38;5;241m=\u001b[39m qa_generate_prompt_tmpl\u001b[38;5;241m.\u001b[39mformat(\n\u001b[1;32m     85\u001b[0m         context_str\u001b[38;5;241m=\u001b[39mtext, num_questions_per_chunk\u001b[38;5;241m=\u001b[39mnum_questions_per_chunk\n\u001b[1;32m     86\u001b[0m     )\n\u001b[0;32m---> 87\u001b[0m     response \u001b[38;5;241m=\u001b[39m \u001b[43mllm\u001b[49m\u001b[38;5;241;43m.\u001b[39;49m\u001b[43mcomplete\u001b[49m\u001b[43m(\u001b[49m\u001b[43mquery\u001b[49m\u001b[43m)\u001b[49m\n\u001b[1;32m     89\u001b[0m     result \u001b[38;5;241m=\u001b[39m \u001b[38;5;28mstr\u001b[39m(response)\u001b[38;5;241m.\u001b[39mstrip()\u001b[38;5;241m.\u001b[39msplit(\u001b[38;5;124m\"\u001b[39m\u001b[38;5;130;01m\\n\u001b[39;00m\u001b[38;5;124m\"\u001b[39m)\n\u001b[1;32m     90\u001b[0m     questions \u001b[38;5;241m=\u001b[39m [\n\u001b[1;32m     91\u001b[0m         re\u001b[38;5;241m.\u001b[39msub(\u001b[38;5;124mr\u001b[39m\u001b[38;5;124m\"\u001b[39m\u001b[38;5;124m^\u001b[39m\u001b[38;5;124m\\\u001b[39m\u001b[38;5;124md+[\u001b[39m\u001b[38;5;124m\\\u001b[39m\u001b[38;5;124m).\u001b[39m\u001b[38;5;124m\\\u001b[39m\u001b[38;5;124ms]\u001b[39m\u001b[38;5;124m\"\u001b[39m, \u001b[38;5;124m\"\u001b[39m\u001b[38;5;124m\"\u001b[39m, question)\u001b[38;5;241m.\u001b[39mstrip() \u001b[38;5;28;01mfor\u001b[39;00m question \u001b[38;5;129;01min\u001b[39;00m result\n\u001b[1;32m     92\u001b[0m     ]\n",
      "File \u001b[0;32m~/mambaforge/envs/llm/lib/python3.11/site-packages/llama_index/llms/base.py:226\u001b[0m, in \u001b[0;36mllm_completion_callback.<locals>.wrap.<locals>.wrapped_llm_predict\u001b[0;34m(_self, *args, **kwargs)\u001b[0m\n\u001b[1;32m    216\u001b[0m \u001b[38;5;28;01mwith\u001b[39;00m wrapper_logic(_self) \u001b[38;5;28;01mas\u001b[39;00m callback_manager:\n\u001b[1;32m    217\u001b[0m     event_id \u001b[38;5;241m=\u001b[39m callback_manager\u001b[38;5;241m.\u001b[39mon_event_start(\n\u001b[1;32m    218\u001b[0m         CBEventType\u001b[38;5;241m.\u001b[39mLLM,\n\u001b[1;32m    219\u001b[0m         payload\u001b[38;5;241m=\u001b[39m{\n\u001b[0;32m   (...)\u001b[0m\n\u001b[1;32m    223\u001b[0m         },\n\u001b[1;32m    224\u001b[0m     )\n\u001b[0;32m--> 226\u001b[0m     f_return_val \u001b[38;5;241m=\u001b[39m \u001b[43mf\u001b[49m\u001b[43m(\u001b[49m\u001b[43m_self\u001b[49m\u001b[43m,\u001b[49m\u001b[43m \u001b[49m\u001b[38;5;241;43m*\u001b[39;49m\u001b[43margs\u001b[49m\u001b[43m,\u001b[49m\u001b[43m \u001b[49m\u001b[38;5;241;43m*\u001b[39;49m\u001b[38;5;241;43m*\u001b[39;49m\u001b[43mkwargs\u001b[49m\u001b[43m)\u001b[49m\n\u001b[1;32m    227\u001b[0m     \u001b[38;5;28;01mif\u001b[39;00m \u001b[38;5;28misinstance\u001b[39m(f_return_val, Generator):\n\u001b[1;32m    228\u001b[0m         \u001b[38;5;66;03m# intercept the generator and add a callback to the end\u001b[39;00m\n\u001b[1;32m    229\u001b[0m         \u001b[38;5;28;01mdef\u001b[39;00m \u001b[38;5;21mwrapped_gen\u001b[39m() \u001b[38;5;241m-\u001b[39m\u001b[38;5;241m>\u001b[39m CompletionResponseGen:\n",
      "File \u001b[0;32m~/mambaforge/envs/llm/lib/python3.11/site-packages/llama_index/llms/openai.py:253\u001b[0m, in \u001b[0;36mOpenAI.complete\u001b[0;34m(self, prompt, formatted, **kwargs)\u001b[0m\n\u001b[1;32m    249\u001b[0m \u001b[38;5;129m@llm_completion_callback\u001b[39m()\n\u001b[1;32m    250\u001b[0m \u001b[38;5;28;01mdef\u001b[39;00m \u001b[38;5;21mcomplete\u001b[39m(\n\u001b[1;32m    251\u001b[0m     \u001b[38;5;28mself\u001b[39m, prompt: \u001b[38;5;28mstr\u001b[39m, formatted: \u001b[38;5;28mbool\u001b[39m \u001b[38;5;241m=\u001b[39m \u001b[38;5;28;01mFalse\u001b[39;00m, \u001b[38;5;241m*\u001b[39m\u001b[38;5;241m*\u001b[39mkwargs: Any\n\u001b[1;32m    252\u001b[0m ) \u001b[38;5;241m-\u001b[39m\u001b[38;5;241m>\u001b[39m CompletionResponse:\n\u001b[0;32m--> 253\u001b[0m     \u001b[38;5;28;01mif\u001b[39;00m \u001b[38;5;28;43mself\u001b[39;49m\u001b[38;5;241;43m.\u001b[39;49m\u001b[43m_use_chat_completions\u001b[49m\u001b[43m(\u001b[49m\u001b[43mkwargs\u001b[49m\u001b[43m)\u001b[49m:\n\u001b[1;32m    254\u001b[0m         complete_fn \u001b[38;5;241m=\u001b[39m chat_to_completion_decorator(\u001b[38;5;28mself\u001b[39m\u001b[38;5;241m.\u001b[39m_chat)\n\u001b[1;32m    255\u001b[0m     \u001b[38;5;28;01melse\u001b[39;00m:\n",
      "File \u001b[0;32m~/mambaforge/envs/llm/lib/python3.11/site-packages/llama_index/llms/openai.py:272\u001b[0m, in \u001b[0;36mOpenAI._use_chat_completions\u001b[0;34m(self, kwargs)\u001b[0m\n\u001b[1;32m    270\u001b[0m \u001b[38;5;28;01mif\u001b[39;00m \u001b[38;5;124m\"\u001b[39m\u001b[38;5;124muse_chat_completions\u001b[39m\u001b[38;5;124m\"\u001b[39m \u001b[38;5;129;01min\u001b[39;00m kwargs:\n\u001b[1;32m    271\u001b[0m     \u001b[38;5;28;01mreturn\u001b[39;00m kwargs[\u001b[38;5;124m\"\u001b[39m\u001b[38;5;124muse_chat_completions\u001b[39m\u001b[38;5;124m\"\u001b[39m]\n\u001b[0;32m--> 272\u001b[0m \u001b[38;5;28;01mreturn\u001b[39;00m \u001b[38;5;28;43mself\u001b[39;49m\u001b[38;5;241;43m.\u001b[39;49m\u001b[43mmetadata\u001b[49m\u001b[38;5;241m.\u001b[39mis_chat_model\n",
      "File \u001b[0;32m~/mambaforge/envs/llm/lib/python3.11/site-packages/llama_index/llms/openai.py:222\u001b[0m, in \u001b[0;36mOpenAI.metadata\u001b[0;34m(self)\u001b[0m\n\u001b[1;32m    219\u001b[0m \u001b[38;5;129m@property\u001b[39m\n\u001b[1;32m    220\u001b[0m \u001b[38;5;28;01mdef\u001b[39;00m \u001b[38;5;21mmetadata\u001b[39m(\u001b[38;5;28mself\u001b[39m) \u001b[38;5;241m-\u001b[39m\u001b[38;5;241m>\u001b[39m LLMMetadata:\n\u001b[1;32m    221\u001b[0m     \u001b[38;5;28;01mreturn\u001b[39;00m LLMMetadata(\n\u001b[0;32m--> 222\u001b[0m         context_window\u001b[38;5;241m=\u001b[39m\u001b[43mopenai_modelname_to_contextsize\u001b[49m\u001b[43m(\u001b[49m\u001b[38;5;28;43mself\u001b[39;49m\u001b[38;5;241;43m.\u001b[39;49m\u001b[43m_get_model_name\u001b[49m\u001b[43m(\u001b[49m\u001b[43m)\u001b[49m\u001b[43m)\u001b[49m,\n\u001b[1;32m    223\u001b[0m         num_output\u001b[38;5;241m=\u001b[39m\u001b[38;5;28mself\u001b[39m\u001b[38;5;241m.\u001b[39mmax_tokens \u001b[38;5;129;01mor\u001b[39;00m \u001b[38;5;241m-\u001b[39m\u001b[38;5;241m1\u001b[39m,\n\u001b[1;32m    224\u001b[0m         is_chat_model\u001b[38;5;241m=\u001b[39mis_chat_model(model\u001b[38;5;241m=\u001b[39m\u001b[38;5;28mself\u001b[39m\u001b[38;5;241m.\u001b[39m_get_model_name()),\n\u001b[1;32m    225\u001b[0m         is_function_calling_model\u001b[38;5;241m=\u001b[39mis_function_calling_model(\n\u001b[1;32m    226\u001b[0m             model\u001b[38;5;241m=\u001b[39m\u001b[38;5;28mself\u001b[39m\u001b[38;5;241m.\u001b[39m_get_model_name()\n\u001b[1;32m    227\u001b[0m         ),\n\u001b[1;32m    228\u001b[0m         model_name\u001b[38;5;241m=\u001b[39m\u001b[38;5;28mself\u001b[39m\u001b[38;5;241m.\u001b[39mmodel,\n\u001b[1;32m    229\u001b[0m     )\n",
      "File \u001b[0;32m~/mambaforge/envs/llm/lib/python3.11/site-packages/llama_index/llms/openai_utils.py:195\u001b[0m, in \u001b[0;36mopenai_modelname_to_contextsize\u001b[0;34m(modelname)\u001b[0m\n\u001b[1;32m    190\u001b[0m     \u001b[38;5;28;01mraise\u001b[39;00m \u001b[38;5;167;01mValueError\u001b[39;00m(\n\u001b[1;32m    191\u001b[0m         \u001b[38;5;124mf\u001b[39m\u001b[38;5;124m\"\u001b[39m\u001b[38;5;124mOpenAI model \u001b[39m\u001b[38;5;132;01m{\u001b[39;00mmodelname\u001b[38;5;132;01m}\u001b[39;00m\u001b[38;5;124m has been discontinued. \u001b[39m\u001b[38;5;124m\"\u001b[39m\n\u001b[1;32m    192\u001b[0m         \u001b[38;5;124m\"\u001b[39m\u001b[38;5;124mPlease choose another model.\u001b[39m\u001b[38;5;124m\"\u001b[39m\n\u001b[1;32m    193\u001b[0m     )\n\u001b[1;32m    194\u001b[0m \u001b[38;5;28;01mif\u001b[39;00m modelname \u001b[38;5;129;01mnot\u001b[39;00m \u001b[38;5;129;01min\u001b[39;00m ALL_AVAILABLE_MODELS:\n\u001b[0;32m--> 195\u001b[0m     \u001b[38;5;28;01mraise\u001b[39;00m \u001b[38;5;167;01mValueError\u001b[39;00m(\n\u001b[1;32m    196\u001b[0m         \u001b[38;5;124mf\u001b[39m\u001b[38;5;124m\"\u001b[39m\u001b[38;5;124mUnknown model \u001b[39m\u001b[38;5;132;01m{\u001b[39;00mmodelname\u001b[38;5;132;01m!r}\u001b[39;00m\u001b[38;5;124m. Please provide a valid OpenAI model name in:\u001b[39m\u001b[38;5;124m\"\u001b[39m\n\u001b[1;32m    197\u001b[0m         \u001b[38;5;124mf\u001b[39m\u001b[38;5;124m\"\u001b[39m\u001b[38;5;124m \u001b[39m\u001b[38;5;132;01m{\u001b[39;00m\u001b[38;5;124m'\u001b[39m\u001b[38;5;124m, \u001b[39m\u001b[38;5;124m'\u001b[39m\u001b[38;5;241m.\u001b[39mjoin(ALL_AVAILABLE_MODELS\u001b[38;5;241m.\u001b[39mkeys())\u001b[38;5;132;01m}\u001b[39;00m\u001b[38;5;124m\"\u001b[39m\n\u001b[1;32m    198\u001b[0m     )\n\u001b[1;32m    199\u001b[0m \u001b[38;5;28;01mreturn\u001b[39;00m ALL_AVAILABLE_MODELS[modelname]\n",
      "\u001b[0;31mValueError\u001b[0m: Unknown model 'gpt-4-1025-preview'. Please provide a valid OpenAI model name in: gpt-4, gpt-4-32k, gpt-4-1106-preview, gpt-4-vision-preview, gpt-4-0613, gpt-4-32k-0613, gpt-4-0314, gpt-4-32k-0314, gpt-3.5-turbo, gpt-3.5-turbo-16k, gpt-3.5-turbo-1106, gpt-3.5-turbo-0613, gpt-3.5-turbo-16k-0613, gpt-3.5-turbo-0301, text-davinci-003, text-davinci-002, gpt-3.5-turbo-instruct, text-ada-001, text-babbage-001, text-curie-001, ada, babbage, curie, davinci, gpt-35-turbo-16k, gpt-35-turbo, gpt-35-turbo-1106, gpt-35-turbo-0613, gpt-35-turbo-16k-0613"
     ]
    }
   ],
   "source": [
    "from llama_index.finetuning import generate_qa_embedding_pairs\n",
    "from llama_index.llms import OpenAI\n",
    "\n",
    "# define LLM\n",
    "llm_oai = OpenAI(temperature=0.0, model=\"gpt-4-0125-preview\")\n",
    "\n",
    "qa_dataset = generate_qa_embedding_pairs(\n",
    "    qa_generate_prompt_tmpl=qa_sagsbehandler_tmlp,\n",
    "    llm=llm_oai,\n",
    "    nodes=nodes_vejledninger_filtered[0:10],\n",
    "    num_questions_per_chunk=2,\n",
    ")"
   ]
  },
  {
   "cell_type": "markdown",
   "metadata": {},
   "source": [
    "**Example of generated questions**"
   ]
  },
  {
   "cell_type": "code",
   "execution_count": 49,
   "metadata": {},
   "outputs": [
    {
     "name": "stdout",
     "output_type": "stream",
     "text": [
      "Spørgsmål:\n",
      " Hvem har ansvaret for at justere de beløb, man kan få i erstatning ifølge arbejdsskadelovgivningen fra 1. januar 2024? \n",
      "\n",
      "Chunk:\n",
      " Vejledning om regulering af satser fra 1. januar 2024 efter lov om arbejdsskadesikring, lov om sikring mod følger af arbejdsskade, lov om arbejdsskadeforsikring og lov om forsikring mod følger af ulykkestilfælde\n",
      "Indledning\n",
      "Efter lov om arbejdsskadesikring, jf. lovbekendtgørelse nr. 1186 af 19. august 2022 med de ændringer, der følger af lov nr. 1541 af 12. december 2023, og lov om sikring mod følger af arbejdsskade, jf. lovbekendtgørelse nr. 943 af 16. oktober 2000, skal der med virkning fra 1. januar 2024 efter indstilling fra bestyrelsen for Arbejdsmarkedets Erhvervssikring ske regulering af lovens årslønsbeløb, godtgørelsesbeløb, overgangsbeløb samt løbende erstatninger.\n",
      "Reguleringen af satserne fastsættes af Arbejdstilsynets direktør efter bemyndigelse fra beskæftigelsesministeren.\n",
      "Satser efter loven reguleres med 2 procent tillagt tilpasningsprocenten for finansåret 2024 (jf. lov om en satsreguleringsprocent). \n",
      "\n"
     ]
    }
   ],
   "source": [
    "for query_id, query in qa_dataset.queries.items():\n",
    "    node_id = qa_dataset.relevant_docs[query_id][0]\n",
    "    text = qa_dataset.corpus[node_id]\n",
    "    print(f\"Spørgsmål:\\n {query} \\n\")\n",
    "    print(f\"Chunk:\\n {text} \\n\")\n",
    "    break"
   ]
  },
  {
   "cell_type": "markdown",
   "metadata": {},
   "source": [
    "**Save / Load Q&A dataset**"
   ]
  },
  {
   "cell_type": "code",
   "execution_count": 75,
   "metadata": {},
   "outputs": [],
   "source": [
    "# the llamaindex object only has a save_json method, so first we save the object as a json file, and then reload it as a hf dataset object in order to push to hf repo\n",
    "\n",
    "# ensure_ascii=False is used to ensure that non ascii characters are encoded (æøå)\n",
    "\n",
    "qa_dataset.save_json(\"data/data/qa_dataset_gp41106_100_samples.json\", ensure_ascii=False)\n"
   ]
  },
  {
   "cell_type": "code",
   "execution_count": 16,
   "metadata": {},
   "outputs": [
    {
     "data": {
      "application/vnd.jupyter.widget-view+json": {
       "model_id": "0f71a202aeec4490b89521c75cb94b20",
       "version_major": 2,
       "version_minor": 0
      },
      "text/plain": [
       "Downloading data files:   0%|          | 0/1 [00:00<?, ?it/s]"
      ]
     },
     "metadata": {},
     "output_type": "display_data"
    },
    {
     "data": {
      "application/vnd.jupyter.widget-view+json": {
       "model_id": "4582da7d6c37411d840ba636ace39a23",
       "version_major": 2,
       "version_minor": 0
      },
      "text/plain": [
       "Extracting data files:   0%|          | 0/1 [00:00<?, ?it/s]"
      ]
     },
     "metadata": {},
     "output_type": "display_data"
    },
    {
     "data": {
      "application/vnd.jupyter.widget-view+json": {
       "model_id": "cab94a4ecad74141814f79cf5d202b72",
       "version_major": 2,
       "version_minor": 0
      },
      "text/plain": [
       "Generating train split: 0 examples [00:00, ? examples/s]"
      ]
     },
     "metadata": {},
     "output_type": "display_data"
    }
   ],
   "source": [
    "# Push json file to hf repo\n",
    "\n",
    "ds_qa_dataset = load_dataset('json', data_files='data_old/qa_dataset_gp41106_24-01-14_100_samples.json', encoding='utf-8')"
   ]
  },
  {
   "cell_type": "code",
   "execution_count": 30,
   "metadata": {},
   "outputs": [
    {
     "data": {
      "text/plain": [
       "{'3dcf9df4-4de9-4bd4-a3d4-b69a45270e36': 'Hvem har ansvaret for at justere de beløb, man kan få i erstatning ifølge arbejdsskadelovgivningen fra 1. januar 2024?',\n",
       " 'c9c51bb6-dfea-460b-942f-d8d2de40ab52': 'Med hvilken procent vil satserne for erstatning blive reguleret fra 1. januar 2024?',\n",
       " '08cd3b63-a347-40f2-a407-c917460c2532': 'Hvad er den nye tilpasningsprocent for finansåret 2024 ifølge Finansministeriets bekendtgørelse?',\n",
       " '98dd71ba-a2df-4261-a764-22a71d95cbb4': 'Fra hvilken dato vil de nye satser for arbejdsskadeserstatning, som blev nulstillet, træde i kraft ifølge den seneste lovændring?',\n",
       " 'bd7eac8d-d32d-41a2-a559-86aeb9abd031': 'Hvis jeg har haft en arbejdsskade før den 1. juli 2024, vil min erstatning eller uddannelsesgodtgørelse så blive justeret op til det nye grundniveau fra den 1. januar 2024?',\n",
       " 'd53bc155-cd60-4d11-828d-0171e907c684': 'Hvordan beregnes den grundløn, der ligger til grund for uddannelsesgodtgørelsen, hvis min skade skete før den 1. juli 2024?',\n",
       " '1267141a-0cd3-44e1-9d34-e1e9d3ee3913': 'Hvis jeg har fået en arbejdsskade før 1. juli 2024, vil min erstatning eller uddannelsesgodtgørelse blive forhøjet i 2024?',\n",
       " '6a143fbb-0975-4eea-9143-242b90c0f2b0': 'Hvilket dokument har den nye vejledning erstattet, og hvornår blev det tidligere dokument udsendt?',\n",
       " '2e655e3f-72c7-4593-a8a2-0e60cafbe2d8': 'Hvis jeg har haft en arbejdsskade efter den 1. juli 2024, hvad er det højeste beløb jeg kan få udbetalt for min årsløn ifølge de nye satser?',\n",
       " 'c4feb76b-f29a-4be0-abec-78e43b9f3384': 'Hvor meget vil min familie modtage i overgangsbeløb, hvis jeg skulle gå bort på grund af en arbejdsskade efter den 1. juli 2024?',\n",
       " 'dec84ba3-4a57-413e-a19c-3c33400afa04': 'Hvis jeg har haft en arbejdsskade den 1. juli 2024 eller senere, hvordan vil min løbende erstatning eller uddannelsesgodtgørelse blive beregnet ifølge den nye lov?',\n",
       " '795ccd29-af27-4022-8f6e-f7e51ae68b80': 'Hvilken procentdel vil blive lagt oveni min erstatning eller uddannelsesgodtgørelse, hvis den fastsættes fra den 1. juli 2024?',\n",
       " 'a3e96e38-2e89-4f9c-895d-301db3b7a3a8': 'Hvor meget er det højeste beløb, en person kan modtage som årsløn ifølge de nye regler fastsat i december 2023?',\n",
       " '955b3210-d47c-44f8-a53c-6e845bdbede8': 'Hvis en person har et varigt mén og er berettiget til godtgørelse, hvor meget vil de så kunne modtage i henhold til de opdaterede beløb?',\n",
       " 'fea9b3c5-68a6-476b-8213-48c43a96dfe8': 'Hvor meget vil den årlige uddannelsesgodtgørelse være i en forlænget periode ifølge § 18 b, stk. 3, 2. pkt.?',\n",
       " 'd1461bf0-1484-49e3-8c66-9326c95ebce1': 'Hvis en person får tildelt en løbende erstatning for en arbejdsskade, der er sket mellem 1. januar 2024 og 30. juni 2024, vil der så være et tillæg til erstatningen, og i så fald, hvor meget?',\n",
       " '87159015-6090-4761-9c51-702e4d1d32a6': 'Hvis jeg har haft en arbejdsskade mellem 1. januar og 30. juni 2024, hvordan bliver min uddannelsesgodtgørelse eller erstatning beregnet?',\n",
       " 'ef68acea-18bf-4bc3-9bf4-1c6c549581bb': 'Vil der være nogen form for stigning i den godtgørelse eller erstatning, jeg modtager, hvis min uddannelsesgodtgørelse eller erstatning bliver fastsat den 1. juli 2024 eller efter denne dato?',\n",
       " '9a027782-1306-48c9-8520-3a0e5455b2c3': 'Hvis jeg får tildelt en løbende erstatning fra 1. januar 2024, vil der så blive lagt et ekstra beløb oveni den erstatning, jeg oprindeligt er blevet tildelt?',\n",
       " 'b5943960-d06c-491a-961b-4edeaa9f9e85': 'Hvor meget vil godtgørelsen for et varigt mén være, hvis det er vurderet til 100%?',\n",
       " '70d319fc-a61d-44c5-bbd6-762f6d9f44b2': 'Hvis en person er berettiget til uddannelsesgodtgørelse i en forlænget periode, hvor meget vil de så modtage om året?',\n",
       " 'f4627966-091c-48a2-aad5-d1c3d040e85b': 'Hvor meget vil de efterladte modtage som engangsbeløb, hvis en person dør i forbindelse med en arbejdsskade?',\n",
       " '8a0120ba-a47b-4493-844d-d9485938c76f': 'Hvis jeg har fået en varig skade på arbejdet efter den 1. juli 2002, hvor meget kan jeg så forvente at modtage i godtgørelse for en 100 procent varig mén?',\n",
       " 'd803501a-8f73-4737-8869-e3bf2f29125d': 'Hvis en person er død som følge af en arbejdsskade, hvilket beløb vil de pårørende så kunne modtage i overgangsbeløb ifølge den information, du har givet?',\n",
       " '426448a0-4582-40d3-b013-f0c7194ca6df': 'Hvis jeg har en arbejdsskade, der skete mellem 1. april 1978 og 31. december 1992, og jeg modtager løbende erstatning, vil jeg få nogen ekstra procent i tillæg til min erstatning fra 1. januar 2024?',\n",
       " '5c7aedb9-e0e4-463e-bf8b-1b6e941db363': 'Hvor meget vil den årlige erstatning være for en person, der har fået en varig skade vurderet til 100 % mén ifølge loven, som det står i teksten?',\n",
       " '5af357d8-e368-4dad-bbba-a1355230a60c': 'Hvis jeg modtager en løbende erstatning fra 1. januar 2024, vil der så blive lagt et ekstra beløb oveni den rente, som allerede er fastsat for min erstatning?',\n",
       " '11c79739-786d-4299-8e65-640273331952': 'Hvordan bliver mine erstatningsudbetalinger afrundet, hvis de ikke kan deles lige med 12?',\n",
       " '3a2c4f03-63ed-4f87-8347-565504ad29a4': 'Hvor meget kan man højst få i erstatning for et brillestel, hvis det er nødvendigt på grund af en arbejdsskade?',\n",
       " '6ea57e51-942b-4b88-8c60-94a406dfafed': 'Hvem er ansvarlig for at justere de erstatninger, der løbende udbetales, hvis de blev tildelt før 1. januar 2024?',\n",
       " '2d002be2-8ba4-4f8e-b866-f87ff460fc62': 'Hvilke typer af erstatninger og godtgørelser kan man finde eksempler på i Bilag 1, og hvilke love er de baseret på?',\n",
       " '7fd09c0a-9343-4599-afad-d20d794a69b3': 'Hvordan beregnes grundlønnen, der bruges til at fastsætte erstatninger for tab af erhvervsevne og tab af forsørger for arbejdsskader sket mellem 1. juli 2024 og 31. december 2024?',\n",
       " '0179b92a-754a-4ccf-996a-ee13c5efedad': 'Hvordan bliver min grundløn justeret, hvis jeg skal have beregnet en erstatning eller uddannelsesgodtgørelse?',\n",
       " 'ed853890-9066-4965-9894-545ff5090b63': 'Hvilke faktorer påvirker størrelsen af den årlige erstatning, jeg kan modtage, hvis jeg har mistet en del af min erhvervsevne?',\n",
       " '9d481a86-f731-4705-89e6-9f32be25b44e': 'Hvis jeg har gennemført en uddannelse og får uddannelsesgodtgørelse, hvor stor en procentdel af min grundløn vil jeg modtage som erstatning for tab af erhvervsevne?',\n",
       " '26e9e507-196b-405c-a323-c4cd1827ace4': 'Hvordan påvirker arbejdsmarkedsbidraget den løn, der bruges til at beregne min erstatning for tab af erhvervsevne?',\n",
       " '99676d2d-62b2-451e-9858-396631dbfc7f': 'Hvis jeg har haft en arbejdsskade og er blevet vurderet til at have mistet noget af min erhvervsevne, hvordan bliver den engangsbeløb, jeg kan få for dette tab, så beregnet?',\n",
       " '89c329ad-0afb-4053-a059-611d7375e8c1': 'Hvis en person, der har fået en skade, er over 40 år gammel, hvordan påvirker det så størrelsen på den kompensation, de kan modtage for varige mén?',\n",
       " 'f968c44e-fe3f-44a7-b66c-9291353d63d5': 'Hvis en person har mistet 60% af sin erhvervsevne, og personen tjente 475.000 kr. om året før skaden, hvor meget vil personen så modtage i erstatning hver måned?',\n",
       " 'fba3e7fc-6b94-49ff-aec1-b118b04523d7': 'Hvordan beregnes den årlige erstatning for en person, der har mistet en forsørger, som tjente 375.000 kr. om året, og hvad er det præcise årlige beløb personen vil modtage?',\n",
       " 'c705b82c-4eff-4539-8eb6-c5a1b508324c': 'Hvor meget vil personen, der blev skadet den 2. juli 2024, modtage hver måned i uddannelsesgodtgørelse?',\n",
       " '4e291fb4-5bde-41da-b199-027e961788d9': 'Hvordan beregnes den årlige grundydelse for personen med en årsløn på 425.000 kr., der er berettiget til uddannelsesgodtgørelse?',\n",
       " '10b3d89a-0ddd-4884-b2f7-54c5bf481f69': 'Hvis en person har en arbejdsskade, hvor meget vil den årlige erstatning være fra 1. januar 2024?',\n",
       " '2fe2b107-9950-4ee8-99ec-8e76b9755624': 'Hvordan påvirker en tilskadekomnes alder på skadestidspunktet størrelsen af méngodtgørelsen de kan modtage?',\n",
       " '478d6085-391b-4409-9ff1-56ee936e8f6e': 'Hvordan beregner man grundlønnen for en person, der skal have erstatning, baseret på lønniveauet fra 1. januar 2003?',\n",
       " '8fd5e38b-76f6-4eb7-8348-e24b6b12864d': 'Hvilken formel anvendes til at udregne den årlige erstatning, som en person med et tab af erhvervsevne vil modtage?',\n",
       " 'f0976d0c-2dba-4966-8208-c7f4b1e470e5': 'Hvis jeg har mistet min forsørger, hvordan beregnes den erstatning, jeg kan modtage hver måned?',\n",
       " '2020143f-1d8c-4edc-9add-c6bdea6284a7': 'Hvordan påvirker arbejdsmarkedsbidraget den løn, der bruges til at beregne min erstatning, hvis jeg har mistet en del af min evne til at arbejde på grund af en skade?',\n",
       " '8b4fb19d-7428-442f-8ccd-ae52bdc83df1': 'Hvor stor en procentdel af den normale erstatning vil en person, der har mistet sin erhvervsevne, modtage ifølge de nye regler?',\n",
       " 'fbe8ed33-c25c-4833-9b52-767e36f1fbfc': 'Hvis en person har afsluttet en uddannelse med uddannelsesgodtgørelse, vil de så modtage fuld erstatning for tab af erhvervsevne, eller vil deres erstatning blive reduceret?',\n",
       " 'b914be13-371e-4a8e-bf9f-cd81c48d7006': 'Hvis jeg har haft et arbejdsrelateret uheld og ikke længere kan arbejde som før, hvordan bliver min erstatning for tab af erhvervsevne så beregnet fra 1. januar 2024?',\n",
       " 'e7b44595-3cf0-41d4-bb61-e7c707d26de4': 'Hvordan påvirker min alder størrelsen af den engangsudbetaling, jeg kan få for varige mén, hvis jeg er blevet skadet på arbejdet?',\n",
       " 'eb7a9457-678c-4eeb-896b-fcfaecc351dc': 'Hvis en person har mistet 65% af sin erhvervsevne og havde en årsløn på 460.000 kr. før skaden, hvor meget vil personen så modtage i erstatning hver måned fra 1. januar 2024?',\n",
       " '6a359142-a737-4430-a501-b12c2e720dde': 'Hvordan beregnes den årlige grundydelse for en person, der har mistet en forsørger, og som havde en årsløn på 380.000 kr.?',\n",
       " 'e67dcd04-dec7-40eb-b0bf-3499c96e28d1': 'Hvor meget vil den månedlige erstatning være fra 1. januar 2024 ifølge den beregning, der er vist i teksten?',\n",
       " '08dabad2-c155-4ca3-aafa-99a46dd150ee': 'Hvis skadedatoen er den 5. februar 2024, og årslønnen er 300.000 kr., hvad er så det beregnede årlige beløb for uddannelsesgodtgørelsen fra 1. juli 2024 før afrunding?',\n",
       " 'f1f8a63e-0262-4e40-b992-ba7b8b7fc549': 'Hvor meget vil personen modtage hver måned som godtgørelse i 2024 ifølge den angivne årlige godtgørelse?',\n",
       " 'f337421b-2ec3-4aff-bae6-b0dd802a213a': 'Hvad er det samlede engangsbeløb, som personen vil modtage for varigt mén?',\n",
       " '4d612fe9-c7b6-4042-9312-404038d4dfce': 'Hvor meget ville en person, der var 55 år gammel på tidspunktet for en arbejdsskade, modtage i méngodtgørelse ifølge den beskrevne beregningsmetode?',\n",
       " 'fc014e96-04fa-4bc6-b7bc-2606ff0743de': 'Hvordan beregnes grundlønnen, som bruges til at justere løbende erstatninger for tab af erhvervsevne, hvis skaden er sket mellem 1. januar 2011 og 31. december 2023?',\n",
       " 'd9144217-d4bf-42f1-98b1-4b0f49c813c2': 'Hvordan beregnes den årlige løbende erstatning, hvis jeg har mistet en del af min erhvervsevne?',\n",
       " '427d11c1-fe12-4859-af50-32afc609b49a': 'Hvad menes der med \"grundlønnen\" i forbindelse med beregning af erstatning eller uddannelsesgodtgørelse?',\n",
       " '7f003552-45fe-43ab-adee-2e6d1ae9bf4d': 'Hvordan beregnes grundydelsen, når man skal have erstatning for tab af erhvervsevne efter at have afsluttet en uddannelse med uddannelsesgodtgørelse?',\n",
       " '994bbb9b-b858-4cd1-97c4-6e9e06f2ac25': 'Hvilken procentdel af årslønnen trækkes fra, når man beregner erstatning for tab af erhvervsevne, og hvad kaldes dette fradrag?',\n",
       " '39b9ff7f-67a3-4a37-aa56-080e34f35475': 'Hvis jeg har afsluttet en uddannelse med uddannelsesgodtgørelse, vil jeg så modtage fuld erstatning for tab af erhvervsevne, eller vil beløbet blive reduceret?',\n",
       " '282c2649-6081-4da0-99af-679a67800297': 'Hvad er den nye procentdel for grundydelsen, som vil blive anvendt fra 1. januar 2024, i forhold til den løbende erstatning eller uddannelsesgodtgørelse?',\n",
       " 'f70c1543-6061-4f7e-844b-0e3be27b7017': 'Hvis jeg har haft en arbejdsskade og min evne til at arbejde er nedsat med 70%, hvordan beregnes den erstatning jeg kan få for tab af erhvervsevne?',\n",
       " '769108d4-f785-4e96-a4bd-62b1423c2608': 'Hvordan påvirker min alder størrelsen af den engangsudbetaling jeg kan få for varige mén, hvis jeg er over 40 år gammel på tidspunktet for min skade?',\n",
       " '35c314f6-90e5-49f1-8a0b-fdff7653180e': 'Hvordan beregnes den månedlige erstatning for den person, der modtager grundydelsen pr. 1. januar 2024, og hvad er det præcise beløb, de vil modtage hver måned?',\n",
       " 'e85f8a51-3a76-41d8-be28-496bfc57ed61': 'På hvilken dato skete skaden, der førte til erstatning for tab af forsørger, og hvad var den årlige løn for den person, der gik bort, som erstatningen er baseret på?',\n",
       " '309f17ce-e0e1-4a84-bf38-5063650b6b0f': 'Hvor meget vil den månedlige uddannelsesgodtgørelse være fra 1. juli 2024 for personen, der blev skadet den 21. april 2020?',\n",
       " '933b01a0-4dfa-4634-9d20-b96c611665de': 'Hvad er den beregnede grundløn for personen, der blev skadet den 23. januar 2017, og hvordan påvirker det beregningen af erstatningen for tab af erhvervsevne?',\n",
       " '04ef06ce-a0a3-4b0d-9aab-c3626790ee38': 'Hvad vil den årlige grundydelse være for en person, der modtager erstatning fra 1. januar 2024 ifølge den oplysning, der er givet i teksten?',\n",
       " '8286fb14-ef11-4c8a-984e-4bbfa1042bd5': 'Hvor stor er den engangsudbetaling (kapitalerstatning), som er nævnt i teksten, for en person, der får årlig erstatning fra 1. januar 2024?',\n",
       " 'd0568ee6-a593-43c9-b37b-cda2df068da7': 'Hvordan beregnes den grundløn, der ligger til grund for erstatningen, hvis jeg har haft en arbejdsskade?',\n",
       " '82363467-66e3-4ee6-9f13-197d7bbd203c': 'Hvordan påvirker procentdelen af mit erhvervsevnetab den løbende erstatning, jeg kan modtage, hvis jeg ikke har modtaget uddannelsesgodtgørelse?',\n",
       " 'e9432665-9f38-4eac-8337-694d619e87e5': 'Hvis jeg har været skadet og ikke kunne færdiggøre min uddannelse, hvordan beregnes den erstatning, jeg kan få for det indtægtstab, jeg lider på grund af min nedsatte arbejdsevne?',\n",
       " 'ebd22dae-1282-4637-aff4-0984fa66cfdb': 'Hvordan påvirker det beløbet af min erstatning, hvis jeg allerede har afsluttet min uddannelse, før jeg kom til skade?',\n",
       " 'bb136553-e4fc-4869-96d5-23e617c10f98': 'Hvis jeg har været i gang med en uddannelse, hvor jeg modtog uddannelsesgodtgørelse, og jeg kommer til skade, hvor stor en del af min årsløn vil blive brugt til at beregne min erstatning for tab af erhvervsevne efter at arbejdsmarkedsbidraget er trukket fra?',\n",
       " '4dff09d3-d021-41fe-8959-e65eda313620': 'Hvor stor en procentdel af uddannelsesgodtgørelsen vil jeg modtage som erstatning, hvis jeg har deltaget i en uddannelse med uddannelsesgodtgørelse, men ikke har færdiggjort den?',\n",
       " 'b1815adc-5539-4149-89d4-ea4d52939b7c': 'Hvis jeg har afsluttet en uddannelse med uddannelsesgodtgørelse, vil jeg så modtage fuld erstatning for tab af erhvervsevne, eller vil der blive trukket noget fra?',\n",
       " 'bb1d58a5-e437-4813-9c4e-f471dd1d19b0': 'Hvordan beregnes den årlige erstatning eller uddannelsesgodtgørelse fra 1. januar 2024? Er der nogen form for tillæg til grundydelsen?',\n",
       " '82e94afa-c3b2-45fd-abd6-f9da38d81b78': 'Hvis jeg har fået en arbejdsskade, hvordan bliver størrelsen på den engangsbeløb, jeg kan få for det varige mén, beregnet?',\n",
       " 'd633cccb-999d-475d-9423-09d9d98ee587': 'Vil min alder på tidspunktet for arbejdsskaden have indflydelse på, hvor meget jeg kan få i erstatning for mit varige mén?',\n",
       " '72e668bd-dece-4a1e-a5ce-c87678244a17': 'Hvis en person har haft en skade, der påvirker deres evne til at arbejde, og de er fyldt 69 år, vil deres godtgørelse for tab af erhvervsevne blive reduceret yderligere på det tidspunkt?',\n",
       " '01db8c42-4bb2-4cb5-8c12-2f17e35d37d0': 'Hvor meget vil en person, der har mistet en forsørger i en ulykke, modtage som et engangsbeløb i erstatning?',\n",
       " '10b70a08-cfeb-4047-8e10-750d33d6358f': 'Hvordan beregnes den årlige grundydelse, der skal udbetales fra 1. januar 2024, og hvad er det præcise beløb, der vil blive udbetalt årligt?',\n",
       " 'ad6f63ea-507e-4512-a05d-ebed1e88d5f9': 'På hvilken dato skete skaden, der førte til erstatningsberegningen, og hvor gammel var personen på det tidspunkt?',\n",
       " '12b513b9-6568-4b93-9933-276cc4eb4965': 'Hvordan beregnes den årlige grundydelse for en person, der modtager erstatning fra 1. januar 2024 ifølge den tekst, du har givet mig?',\n",
       " 'a4c01f00-770b-4177-8a09-ebceb2ace14a': 'Kan du forklare mig, hvordan man finder frem til grundlønnen for arbejdsskader, der er sket mellem 1. juli 2002 og 31. december 2003?',\n",
       " '7007d4cf-94ea-4a75-aad1-633d40ecd365': 'Hvordan beregnes den årlige erstatning, som en person kan modtage, hvis de har mistet en del af deres evne til at arbejde?',\n",
       " '39b324c0-6715-4c1f-9f01-4dd63990db30': 'Hvad betyder den nye regel, der træder i kraft den 1. januar 2024, for størrelsen af den årlige erstatning sammenlignet med det oprindelige beløb fra 1. april 1994?',\n",
       " '1ac13973-f6dc-4abe-8616-78e9762b7013': 'Hvis jeg har mistet min evne til at arbejde på grund af en arbejdsskade, hvordan bliver den årlige erstatning jeg skal modtage i 2024 beregnet?',\n",
       " '78658415-20ee-4854-881a-cabce040320c': 'Hvordan påvirker min alder på tidspunktet for arbejdsskaden det beløb, jeg kan modtage for varigt mén?',\n",
       " '3280c6b6-f68f-49f8-bbc1-5668a290701a': 'Hvis en person blev skadet efter at have fyldt 60 år, hvordan påvirker det den erstatning, de kan modtage for deres skade?',\n",
       " 'a908bec5-7e43-4a66-9f87-c7a02d86f975': 'Hvordan beregnes den månedlige erstatning for en person, der har mistet 65% af deres erhvervsevne, baseret på eksemplet i teksten?',\n",
       " '0dd087d7-570a-4b26-80a2-a74ea80d6285': 'Hvor meget vil den månedlige erstatning for tab af forsørger være fra 1. januar 2024 for den person, der havde en årsløn på 250.000 kr.?',\n",
       " '300f5806-4620-4b75-84d4-8c0939203d56': 'Hvordan blev grundlønnen beregnet for personen, der havde en årsløn på 310.000 kr. og led et tab af erhvervsevne?',\n",
       " 'eed4dff5-85f9-4a81-8433-7ec7c999a687': 'Hvordan beregnes den årlige grundydelse for 2024 baseret på informationen i teksten?',\n",
       " '9fa9a544-16cf-4fc3-91c4-d7599b093e2a': 'Hvad er formelen for at udregne grundlønnen for løbende erstatninger for arbejdsskader, der skete mellem 31. januar 1995 og 30. juni 2002?',\n",
       " '6c8a3c54-dab2-4a6f-8f77-30afe2ae6bda': 'Hvordan beregnes den årlige erstatning, som en person kan modtage, hvis de har mistet en del af deres evne til at arbejde?',\n",
       " 'e324102d-1367-44dc-a6a4-ff41a175cf61': 'Hvad er den nye procentvise stigning i erstatningen fra 1. januar 2024 sammenlignet med det oprindelige erstatningsniveau fra 1. april 1994?',\n",
       " '84c11849-ae6d-48bd-a218-56dee4cf47fc': 'Hvis jeg har haft en arbejdsskade, hvordan bliver beløbet for den årlige erstatning jeg kan modtage for tab af erhvervsevne beregnet fra 1. januar 2024?',\n",
       " '3220fd02-8f31-4a67-868c-4ebb19fa03ee': 'Hvordan påvirker min alder på tidspunktet for arbejdsskaden størrelsen af den engangsbeløb jeg kan få for varige skader (méngodtgørelse)?',\n",
       " 'e8c8e01f-de53-41fa-b41d-822c6531c02f': 'Hvis en person har haft en skade, der påvirker deres evne til at arbejde, og de nu er 69 år eller ældre, vil deres erstatning for tab af erhvervsevne blive reduceret yderligere på grund af deres alder?',\n",
       " '0f57c674-33ad-4dee-a2cd-79e57512c863': 'Hvor meget vil en person, der har mistet en forsørger i en ulykke i februar 2001, og hvor forsørgeren tjente 250.000 kr. om året, modtage i erstatning hver måned, hvis erstatningsprocenten er 30%?',\n",
       " 'f12a208c-ba82-42bd-b9c4-496a7050dd93': 'Hvor meget vil den månedlige erstatning være for personen fra den 1. januar 2024, ifølge de beregninger der er vist i teksten?',\n",
       " '120f1e5b-ab8c-4178-87e2-440b3e1b80c3': 'Hvordan er grundydelsen for erstatning for tab af erhvervsevne blevet beregnet for personen, der har en årsløn på 310.000 kr.?',\n",
       " '9497a0db-3ca7-48b2-b39c-2991d6b599c3': 'Hvis jeg skulle modtage en årlig erstatning fra 1. januar 2024, hvad ville det beløb så være ifølge teksten?',\n",
       " '0eee1695-147d-4b1d-a336-adeee929e39d': 'Hvordan beregnes grundlønnen for arbejdsskader, der er sket mellem 1. januar 1993 og 30. januar 1995?',\n",
       " 'b843d659-c0a1-49d8-9077-7ef3c30e22fa': 'Hvordan beregnes den årlige erstatning, som en person kan modtage, hvis de har mistet en del af deres evne til at arbejde?',\n",
       " 'f7ec7dad-8d60-41ab-8022-4ce6973f736e': 'Hvad er den nye procentvise stigning i erstatningen fra 1. januar 2024 sammenlignet med det oprindelige erstatningsniveau fra 1. april 1992?',\n",
       " '9e934444-552e-430c-852e-bb883c819409': 'Hvis jeg har fået en arbejdsskade, hvordan bliver beløbet for den løbende erstatning jeg kan modtage for tab af erhvervsevne beregnet pr. 1. januar 2024?',\n",
       " '7e0a9b86-9a43-4fe4-bcf5-898b66b38bf9': 'Hvordan påvirker min alder på tidspunktet for arbejdsskaden størrelsen af den engangsbeløb jeg kan få for varige skader (méngodtgørelse)?',\n",
       " 'c7db1aa1-d218-43e4-96bb-6cbda4de3282': 'Hvis en person har haft en arbejdsskade den 1. januar 1995 og har mistet 65% af sin erhvervsevne, hvad ville så være den månedlige erstatning, de ville modtage fra den 1. januar 2024?',\n",
       " '73c5aad6-3c15-43c2-9ad7-870f0e25d476': 'Hvad er det fastsatte beløb, som udbetales ved dødsfald i forbindelse med en arbejdsskade?',\n",
       " 'd55ce189-d2f0-43cf-8fd7-ef89db8c4918': 'Hvor meget vil den månedlige erstatning være fra 1. januar 2024 for den person, der modtager årlig erstatning?',\n",
       " '78db9a82-dac6-4c14-bec9-8d587aeb5964': 'Hvordan blev den årlige grundydelse for erstatning for tab af erhvervsevne beregnet for personen, der havde en skadedato den 20. januar 1995?',\n",
       " '0059fb0b-d6da-40df-b70c-1fa9e56fb3f8': 'Hvis jeg har haft en arbejdsskade i perioden mellem 1. april 1987 og 31. december 1992, hvordan vil min grundløn blive beregnet for at finde ud af, hvad jeg er berettiget til i erstatning?',\n",
       " 'fe6f0917-7859-483e-925e-2e1cc796dc57': 'Hvad er den årlige erstatning, jeg kan forvente at modtage fra 1. januar 2024, hvis jeg har en arbejdsskade, og hvordan beregnes en eventuel kapitalerstatning ud fra dette beløb?',\n",
       " '290da80a-1d0c-4bf3-949b-55c31e856edb': 'Hvordan beregnes den årlige løbende erstatning for en person, der har mistet en del af sin erhvervsevne?',\n",
       " '38d2c047-3177-4e4b-9517-7a7ca00b9985': 'Hvad er det nye grundniveau for grundydelsen, som træder i kraft fra 1. januar 2024?',\n",
       " 'f8fc5f88-a479-48bc-bb8b-8a6dd72339a4': 'Hvis en person har fået et varigt mén på grund af en arbejdsskade, hvor meget vil personen så modtage i erstatning om året for et 100 procent varigt mén?',\n",
       " '807a8366-c4e9-4b96-a267-6a19c8ae3d36': 'Hvordan beregnes den årlige erstatning for en person, der har mistet en del af sin erhvervsevne på grund af en arbejdsskade, og kan du give et eksempel på, hvordan det regnes ud?',\n",
       " '9a8aab72-2a4e-4b91-bf47-875bf4a9f51b': 'Hvis jeg skulle modtage erstatning for personskade fra den 1. januar 2024, hvad ville min månedlige udbetaling så være?',\n",
       " '1ccd62d3-253d-45f2-a498-4add446812c5': 'Hvor meget vil den månedlige erstatning være for en person, der har mistet sin forsørger, startende fra den 1. januar 2024?',\n",
       " 'a909a6fc-5577-4487-9007-d032a935be92': 'Hvordan blev den årlige grundydelse for tab af erhvervsevne beregnet for personen, der er 60 år gammel?',\n",
       " '985afc33-b4ec-4015-b510-48c301a227a0': 'Hvis en person har haft en arbejdsskade mellem 1. april 1978 og 31. marts 1987, hvordan adskiller beregningen af erstatning for tab af erhvervsevne sig fra beregningen for skader sket mellem 1. april 1987 og 31. december 1992?',\n",
       " '7d2b2ccb-50e9-47cc-aca6-77c0c11b4c4c': 'Hvordan beregnes den årlige erstatning for tab af erhvervsevne fra 1. januar 2024 for en person, der har haft en tidligere afgørelse om tab af erhvervsevne før 1. juli 1999?',\n",
       " '161a7ead-9bba-43df-bd2e-0a25b9601b15': 'Hvad er den samlede kapitalerstatning, som vil blive udbetalt til en person med et 15% tab af erhvervsevne, hvis afgørelsesdatoen er den 4. oktober 2024?',\n",
       " 'e2d71a13-362d-4dbf-82a9-811989231601': 'Hvor meget vil den årlige erstatning for varigt mén være fra den 1. januar 2024 for en person, der blev skadet den 7. maj 1986 med et varigt mén på 65 procent?',\n",
       " '4927fc6c-7b91-4439-bd80-a6162c4388e9': 'Hvordan beregnes den årlige løbende rente for ulykkestilfælde, der er sket mellem den 1. oktober 1933 og den 31. marts 1978, fra den 1. januar 2024 ifølge den nye lovændring?',\n",
       " '55eb0878-e79f-404b-8b76-d0cdbc73339f': 'Hvordan beregnes den månedlige rente, som en person med en invaliditetserstatning vil modtage fra 1. januar 2024, baseret på eksemplet i teksten?',\n",
       " '28d9bd7f-a912-41b0-94c4-77bbb32e194a': 'Hvilken formel anvendes til at justere den årlige rente, så den kan udbetales i hele kroner, der er delelige med 12?',\n",
       " 'f1bc1554-d189-416e-aff9-ae9b19038606': 'Hvilken periode dækker de offentliggjorte satser for betaling af transportudgifter i forbindelse med lægebehandling i 2024?',\n",
       " '4caeb614-ce8b-4a9c-9aa8-dbc6b01c59e4': 'Hvem har underskrevet vejledningen om satserne for betaling af transportudgifter på vegne af Arbejdstilsynet?',\n",
       " '97782695-9c47-42b9-82db-44f464eeda18': 'Hvilke grupper af personer skal selv booke deres jobsamtaler ifølge den nye vejledning om aktiv beskæftigelsesindsats?',\n",
       " '54b0f7ea-d86a-490a-946a-029489ce3e83': 'Er sygedagpengemodtagere også nødt til at selv booke deres jobsamtaler under de nye regler?',\n",
       " '75d979ee-6579-4eaa-9e44-04637dc409b1': 'Hvor kan jeg finde de specifikke regler for, hvordan jeg skal booke mine egne jobsamtaler med arbejdsløshedskassen og jobcenteret?',\n",
       " 'c0ac3fe0-9be4-4fc1-bb31-d6f9ed2b3d07': 'Hvilke bekendtgørelser skal jeg kigge i for at forstå de detaljerede regler om jobsamtaler og rådighed i forbindelse med beskæftigelsesindsatsen?',\n",
       " '7cc800fc-9b00-4870-97ab-fc64833cdf22': 'Hvad er formålet med den vejledning, der nævnes i teksten, og hvad er den primære pligt for de personer, den omhandler?',\n",
       " '6503bb58-e1b1-4788-b7c5-13f873937e40': 'Hvordan er kontaktforløbet med jobcenteret struktureret for personer, der har været ledige i mere end 6 måneder?',\n",
       " '23a52a4b-e554-4dd8-b17a-f929540f4646': 'Hvem har ansvaret for at følge op på mig som dagpengemodtager i de første tre måneder efter jeg er blevet arbejdsløs fra 1. januar 2024?',\n",
       " '49437888-d512-4f4c-a73e-08fed72f91a2': 'Hvis jeg er en del af gruppen, der skal have et uddannelsespålæg, hvornår skal jeg senest være visiteret til et kontaktforløb i jobcenteret efter jeg har meldt mig jobsøgende?',\n",
       " '9f4dcfca-ef01-480a-b74e-947f7fda3427': 'Hvad er formålet med at dagpengemodtagere selv skal booke deres jobsamtaler?',\n",
       " '186341f8-1c27-4fed-b2ea-7c1a7aa1ba53': 'Er det kun muligt at booke en jobsamtale gennem Jobnet, eller kan det også gøres på andre måder?',\n",
       " '29751c36-3953-435e-a677-2f9de94136b8': 'Hvor mange jobsamtaler skal jeg som dagpengemodtager deltage i med arbejdsløshedskassen inden for de første tre måneder af min ledighed fra 1. januar 2024?',\n",
       " '3afbda64-bb0b-4d66-ab39-1ca56b42f025': 'Kan jeg vælge, om arbejdsløshedskassen skal være med til min første jobsamtale med jobcenteret, når jeg er dagpengemodtager?',\n",
       " 'e7cdcb7e-3d45-4d34-b185-d285cea57225': 'Hvor lang tid skal der som minimum være mellem en indkaldelse til jobsamtale og selve samtalen for personer, der skal selvbooke deres samtaler?',\n",
       " '74b3ce44-eda3-4054-9b5e-041572ebdbf1': 'Hvem er ansvarlig for at arrangere jobsamtalerne i de første tre måneder af en arbejdsløshedsperiode?',\n",
       " 'e9b4bba6-bb3d-45de-af49-9a2eac7f325f': 'Hvem har ansvaret for at arrangere jobsamtaler og fastlægge kontaktforløbet efter de første tre måneder af en ledig persons kontaktforløb med jobcenteret?',\n",
       " 'd36c6850-939d-4051-8a8d-434c58761c9b': 'Har en ledig person ret til at anmode om en jobsamtale med jobcenteret, og under hvilke omstændigheder kan jobsamtaler blive afholdt?',\n",
       " '9efdde08-9181-44c1-aeaa-072bc52c8bd7': 'Skal den første jobsamtale jeg har, når jeg er blevet ledig, altid være et møde, hvor jeg møder op personligt hos jobcenteret eller arbejdsløshedskassen?',\n",
       " '87d45c5a-b4df-4267-99b4-85a950104f19': 'Efter den første jobsamtale, har jeg så mulighed for selv at vælge, hvordan jeg ønsker at afholde de efterfølgende samtaler med jobcenteret?',\n",
       " '9d8886db-9f75-4dbd-a987-25f82ef557cd': 'Hvilke muligheder har jeg for at vælge, hvordan jeg ønsker at deltage i en jobsamtale efter den første samtale?',\n",
       " 'c3fd2fa6-dcf3-47e6-a277-b9e721883c08': 'Under hvilke omstændigheder kan jobcenteret kræve, at jeg skal møde op personligt til en jobsamtale, selvom jeg har valgt en anden samtaleform?',\n",
       " '53763531-8cd8-4ed1-af3c-74fd1de2da0e': 'Hvis jobcenteret vurderer, at jeg har brug for mere personlig vejledning, kan de så bede mig om at møde op personligt i stedet for at have en telefonisk samtale?',\n",
       " '57f13bc3-7e60-42ae-9556-29dddc801ec6': 'Kan jobcenteret eller arbejdsløshedskassen ændre min aftalte personlige møde til en telefonisk samtale, hvis de ønsker det?',\n",
       " 'b737aa3a-c2eb-4c6f-b084-9a8a63007680': 'Hvis jeg er på barsel og skal til jobsamtale, kan jeg så vælge at have samtalen over telefon eller video i stedet for at møde op personligt?',\n",
       " '5c2b2701-03b4-49b6-bcd2-c98fce08aa5d': 'Hvad sker der med jobsamtalerne, hvis jeg er sygemeldt med en alvorlig sygdom – skal jeg stadig deltage i dem?',\n",
       " 'd2f3d4ce-9d99-4d70-bf88-dfdfaf744c60': 'Hvis jeg ønsker at have en repræsentant fra arbejdsløshedskassen til stede under mit møde, kan jeg så vælge at deltage via video eller telefon, eller skal jeg møde op personligt?',\n",
       " 'c34f0a5a-14d8-4298-9ae5-6f4b9c7568a1': 'Hvor hurtigt efter jeg har registreret mig som jobsøgende, skal jeg forvente at blive indkaldt til en jobsamtale i arbejdsløshedskassen?',\n",
       " 'c77e7854-b31d-437a-a708-3b947ddfd187': 'Hvor hurtigt efter jeg har meldt mig som jobsøgende, skal jeg visiteres til et kontaktforløb i jobcenteret, hvis jeg er dagpengemodtager og falder ind under målgruppen for uddannelsespålæg?',\n",
       " '2b6c4e1e-12fb-4608-a0fb-12c59e1ece42': 'Hvor mange individuelle jobsamtaler skal jobcenteret have med mig inden for de første 6 måneder af min ledighed, hvis jeg modtager dagpenge og ikke er en del af målgruppen for uddannelsespålæg?',\n",
       " '1796dbf4-a014-4eeb-8539-a70d8e1be6b2': 'Hvor mange jobsamtaler skal en person, der modtager dagpenge, som minimum deltage i inden for de første seks måneder af deres ledighed?',\n",
       " '9d93f9c6-b696-46ae-b320-62555a9b0b29': 'Kan en dagpengemodtager vælge, at arbejdsløshedskassen ikke skal deltage i deres jobsamtale efter 16 måneders ledighed?',\n",
       " '488fa954-5b59-461b-a689-5ccf955846d9': 'Hvor hurtigt skal jobcenteret arrangere den første jobsamtale for en person, der lige har ansøgt om kontanthjælp eller uddannelseshjælp?',\n",
       " '25957bb3-5f66-4b4e-9679-b362eef3cc30': 'Hvordan kan en jobsamtale blive betragtet som \"indkaldt\" ifølge den information, jobcenteret har givet?',\n",
       " 'd8679269-1e61-4f04-bfa0-3d2447a93866': 'Hvis jeg lige er blevet arbejdsløs, hvor hurtigt skal jeg så have en jobsamtale med arbejdsløshedskassen, og hvad sker der, hvis jeg er i en situation, hvor jeg skal have uddannelsespålæg?',\n",
       " '01b06ef0-a798-4c4a-a4c5-6ce1a6a1a635': 'Efter de første tre måneder af min ledighed, hvem er det så, der bestemmer, om jeg selv skal booke min jobsamtale digitalt, eller om jobcenteret vil indkalde mig til samtalen?',\n",
       " '45bb57e4-e578-43dd-b15c-974b8f374ced': 'Hvis jeg som dagpengemodtager vælger ikke at have arbejdsløshedskassen med til en fælles jobsamtale, skal jobcenteret så stadig bruge en særlig type af samtale i deres systemer, når de indkalder mig?',\n",
       " 'f7f638fa-957f-4b6f-8479-98081d652244': 'Kan jobcenteret indkalde mig til en jobsamtale med mindre end 8 dages varsel, og hvis ja, under hvilke omstændigheder kan det ske?',\n",
       " '9286a523-4c4b-4206-b7d3-742d4ded36a6': 'Hvor lang tid i forvejen skal jobcenteret eller arbejdsløshedskassen give mig, hvis jeg skal selvbooke en jobsamtale?',\n",
       " '05298e43-deda-4af9-a348-9f6575639ed9': 'Hvordan kan jeg blive informeret om, at jeg har en frist for selvbooking af en jobsamtale?',\n",
       " 'e13f6a37-4271-49bf-b79d-cd589c15aa91': 'Hvis jeg tilmelder mig sms- og mail-service, hvor ofte vil jeg så modtage påmindelser om at booke en jobsamtale, og hvad er mit ansvar i forhold til at følge op på jobsamtaler via Jobnet?',\n",
       " '86c33765-03ff-47ea-8ac1-23a22393b641': 'Hvor mange dage efter fristen for at booke en jobsamtale har jeg til at afholde selve samtalen, og hvordan tager arbejdsløshedskassen hensyn til ferieperioder, når de fastsætter denne frist?',\n",
       " '936aa9ab-6a2c-4bc8-ae24-15e4d7e9a36a': 'Hvis jeg er dagpengemodtager og skal booke en jobsamtale, kan jeg så vælge mellem at møde op personligt, have samtalen over video eller telefon?',\n",
       " 'bbb8882e-881c-4196-b2c6-60b330291685': 'Hvad skal jeg gøre, hvis jeg prøver at booke en jobsamtale inden for den normale frist, men der ikke er nogen ledige tider tilgængelige?',\n",
       " 'eed81c15-04b1-4569-9983-9ffc5ae42173': 'Hvad sker der, hvis jeg som dagpengemodtager ikke tager kontakt til jobcenteret eller arbejdsløshedskassen inden for de første 3 måneders ledighed?',\n",
       " '78246dd5-cd85-4233-bdc5-a69da717a87f': 'Hvornår træder afmeldingen som jobsøgende i kraft, hvis jeg ikke overholder bookingfristen for en samtale med jobcenteret eller arbejdsløshedskassen?',\n",
       " 'd193f927-cdd4-4cb9-bf70-a914407d3467': 'Hvis jeg som dagpengemodtager glemmer at tilmelde mig som jobsøgende på den dag, jeg bliver afmeldt, vil det så påvirke min ret til at modtage dagpenge?',\n",
       " '4c344884-46ad-4377-8f5f-7b4b3140dd1c': 'Kan jeg ombooke en allerede aftalt jobsamtale, og er der nogen særlige regler for, hvor tidligt jeg skal gøre det?',\n",
       " '6d3d7216-e7e0-442d-8ba2-89568c31b94f': 'Hvis jeg som jobsøgende glemmer at booke en samtale inden for den fastsatte frist, hvad sker der så med min ret til at modtage dagpenge?',\n",
       " 'daa82895-e1ea-4649-b2dc-529922fa72e4': 'Hvad skal jeg gøre, hvis jeg logger ind på Jobnet efter fristen for at booke en jobsamtale er udløbet?',\n",
       " '5d7dd902-3e10-4cd6-93ef-a3e3b12c9d32': 'Hvis jeg ikke booker en jobsamtale inden for den fastsatte frist, hvad sker der så med min ydelse?',\n",
       " '0a9f4136-a6ee-4438-a0e0-57759b32be4b': 'Kan der være særlige grunde til, at jeg ikke får en sanktion, selvom jeg ikke har booket en jobsamtale til tiden?',\n",
       " 'd4a2b2c2-19f5-402d-879c-87bd870d9336': 'Hvilke omstændigheder kan gøre det acceptabelt for en person at ikke stå til rådighed for arbejdsmarkedet ifølge reglerne om aktiv socialpolitik?',\n",
       " '61ee0429-d37f-4834-b134-c5f75400fc23': 'Hvad sker der, hvis en dagpengemodtager ikke booker en jobsamtale inden for den fastsatte frist?',\n",
       " '1eb55ff6-e29e-4f36-858b-ca1a1b805b29': 'Hvem har ansvaret for at afgøre, om jeg stadig kan få dagpenge, hvis jeg ikke har tilmeldt mig som jobsøgende i tide?',\n",
       " '1922d078-0dbc-4eb8-ac69-d7efd2eedd25': 'Kan jeg stadig få en jobsamtale, hvis jeg møder op hos arbejdsløshedskassen eller jobcenteret uden at have booket en tid, og hvad betyder det for mig som dagpengemodtager?',\n",
       " '2675f035-a7aa-4e45-bac2-9423cf7d2645': 'Hvis jeg som dagpengemodtager kommer personligt forbi og beder om en jobsamtale, skal jeg så booke en ny tid, eller kan samtalen finde sted med det samme?',\n",
       " 'b4168e08-5ef1-4458-9c9c-e5bd0879e75d': 'Hvem skal jeg kontakte for at aftale en jobsamtale, hvis jeg er i et arbejdstilbud, og hvornår skal jeg gøre det?',\n",
       " 'fb1737e6-0ed8-4178-922c-5733b55da159': 'Hvis jeg som dagpengemodtager har problemer med selv at booke jobsamtaler, hvilken slags støtte kan arbejdsløshedskassen eller jobcenteret tilbyde mig for at hjælpe med dette?',\n",
       " '57c8fe72-11c0-4c2d-b462-c659f56e4029': 'Hvad sker der, hvis jeg som dagpengemodtager møder personligt op i arbejdsløshedskassen eller jobcenteret uden at have booket en jobsamtale inden for den fastsatte frist?',\n",
       " 'a4c4503d-1e8d-4cf0-9e81-3a92836ba554': 'Hvis jeg har problemer med at bruge selvbookingsystemet til at aftale jobsamtaler, hvad kan arbejdsløshedskassen eller jobcenteret så gøre for at hjælpe mig?',\n",
       " '216b909e-1164-4582-beb8-0a5a3fd2c175': 'Hvad skal jeg gøre, hvis jeg har været afmeldt fra arbejdsløshedskassen på grund af, at jeg ikke bookede en jobsamtale til tiden, og jeg nu vil genoptage min dagpengeperiode?',\n",
       " '5f6517c9-23af-4530-a3a5-50e33486520e': 'Hvis jeg som dagpengemodtager har været afmeldt og skal gentilmelde mig på Jobnet.dk, hvad skal jeg så gøre for at fuldføre min tilmelding?',\n",
       " 'a39d43eb-bce0-47ba-9bd2-2a813f111d3b': 'Hvad sker der, hvis jeg forsøger at booke en jobsamtale under \"straksbooking\", men der ikke er nogen ledige tider?',\n",
       " '119802e8-5e6f-433d-a083-0ec41583c00e': 'Hvis jeg som dagpengemodtager ikke har booket en jobsamtale inden for den fastsatte frist, hvad sker der så med min status på Jobnet?',\n",
       " '5d4027c2-2530-48c7-9f49-572ed6f00129': 'Hvad er jobcenterets ansvar i forhold til at sikre, at jeg som dagpengemodtager får booket en ny jobsamtale?'}"
      ]
     },
     "execution_count": 30,
     "metadata": {},
     "output_type": "execute_result"
    }
   ],
   "source": [
    "ds_qa_dataset['train']['queries'][0]"
   ]
  },
  {
   "cell_type": "code",
   "execution_count": 21,
   "metadata": {},
   "outputs": [
    {
     "ename": "AttributeError",
     "evalue": "'Dataset' object has no attribute 'queries'",
     "output_type": "error",
     "traceback": [
      "\u001b[0;31m---------------------------------------------------------------------------\u001b[0m",
      "\u001b[0;31mAttributeError\u001b[0m                            Traceback (most recent call last)",
      "Cell \u001b[0;32mIn[21], line 2\u001b[0m\n\u001b[1;32m      1\u001b[0m \u001b[38;5;66;03m#Convert to pandas dataframe\u001b[39;00m\n\u001b[0;32m----> 2\u001b[0m df_qa_dataset \u001b[38;5;241m=\u001b[39m \u001b[43mds_qa_dataset\u001b[49m\u001b[43m[\u001b[49m\u001b[38;5;124;43m'\u001b[39;49m\u001b[38;5;124;43mtrain\u001b[39;49m\u001b[38;5;124;43m'\u001b[39;49m\u001b[43m]\u001b[49m\u001b[38;5;241;43m.\u001b[39;49m\u001b[43mqueries\u001b[49m\u001b[38;5;241m.\u001b[39mto_pandas()\n",
      "\u001b[0;31mAttributeError\u001b[0m: 'Dataset' object has no attribute 'queries'"
     ]
    }
   ],
   "source": [
    "#Convert to pandas dataframe\n",
    "df_qa_dataset = ds_qa_dataset['train'].queries.to_pandas()"
   ]
  },
  {
   "cell_type": "code",
   "execution_count": 20,
   "metadata": {},
   "outputs": [
    {
     "data": {
      "text/html": [
       "<div>\n",
       "<style scoped>\n",
       "    .dataframe tbody tr th:only-of-type {\n",
       "        vertical-align: middle;\n",
       "    }\n",
       "\n",
       "    .dataframe tbody tr th {\n",
       "        vertical-align: top;\n",
       "    }\n",
       "\n",
       "    .dataframe thead th {\n",
       "        text-align: right;\n",
       "    }\n",
       "</style>\n",
       "<table border=\"1\" class=\"dataframe\">\n",
       "  <thead>\n",
       "    <tr style=\"text-align: right;\">\n",
       "      <th></th>\n",
       "      <th>queries</th>\n",
       "      <th>corpus</th>\n",
       "      <th>relevant_docs</th>\n",
       "      <th>mode</th>\n",
       "    </tr>\n",
       "  </thead>\n",
       "  <tbody>\n",
       "    <tr>\n",
       "      <th>0</th>\n",
       "      <td>{'3dcf9df4-4de9-4bd4-a3d4-b69a45270e36': 'Hvem...</td>\n",
       "      <td>{'46ff9bb3-4096-43a9-ae0f-185a689a4425': 'Vejl...</td>\n",
       "      <td>{'3dcf9df4-4de9-4bd4-a3d4-b69a45270e36': ['46f...</td>\n",
       "      <td>text</td>\n",
       "    </tr>\n",
       "  </tbody>\n",
       "</table>\n",
       "</div>"
      ],
      "text/plain": [
       "                                             queries  \\\n",
       "0  {'3dcf9df4-4de9-4bd4-a3d4-b69a45270e36': 'Hvem...   \n",
       "\n",
       "                                              corpus  \\\n",
       "0  {'46ff9bb3-4096-43a9-ae0f-185a689a4425': 'Vejl...   \n",
       "\n",
       "                                       relevant_docs  mode  \n",
       "0  {'3dcf9df4-4de9-4bd4-a3d4-b69a45270e36': ['46f...  text  "
      ]
     },
     "execution_count": 20,
     "metadata": {},
     "output_type": "execute_result"
    }
   ],
   "source": [
    "df_qa_dataset.head()"
   ]
  },
  {
   "cell_type": "code",
   "execution_count": null,
   "metadata": {},
   "outputs": [],
   "source": []
  }
 ],
 "metadata": {
  "kernelspec": {
   "display_name": "llm",
   "language": "python",
   "name": "python3"
  },
  "language_info": {
   "codemirror_mode": {
    "name": "ipython",
    "version": 3
   },
   "file_extension": ".py",
   "mimetype": "text/x-python",
   "name": "python",
   "nbconvert_exporter": "python",
   "pygments_lexer": "ipython3",
   "version": "3.11.4"
  }
 },
 "nbformat": 4,
 "nbformat_minor": 2
}
