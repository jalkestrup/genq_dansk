{
 "cells": [
  {
   "cell_type": "markdown",
   "metadata": {},
   "source": [
    "### Set up API key"
   ]
  },
  {
   "cell_type": "code",
   "execution_count": 47,
   "metadata": {},
   "outputs": [],
   "source": [
    "import os\n",
    "from dotenv import load_dotenv\n",
    "import pandas as pd\n",
    "from datasets import load_dataset\n",
    "from datasets import Dataset\n",
    "\n",
    "load_dotenv(override=True)\n",
    "OPENAI_API_KEY = os.environ.get(\"OPENAI_API_KEY\")"
   ]
  },
  {
   "cell_type": "markdown",
   "metadata": {},
   "source": [
    "# Load data from HF into Llamaindex"
   ]
  },
  {
   "cell_type": "code",
   "execution_count": 44,
   "metadata": {},
   "outputs": [
    {
     "data": {
      "application/vnd.jupyter.widget-view+json": {
       "model_id": "046dc4f54f9b47c8a55b08989f543156",
       "version_major": 2,
       "version_minor": 0
      },
      "text/plain": [
       "Downloading readme:   0%|          | 0.00/1.14k [00:00<?, ?B/s]"
      ]
     },
     "metadata": {},
     "output_type": "display_data"
    },
    {
     "data": {
      "application/vnd.jupyter.widget-view+json": {
       "model_id": "babe28a4e8634dbf97ec177710572d20",
       "version_major": 2,
       "version_minor": 0
      },
      "text/plain": [
       "Downloading data files:   0%|          | 0/1 [00:00<?, ?it/s]"
      ]
     },
     "metadata": {},
     "output_type": "display_data"
    },
    {
     "data": {
      "application/vnd.jupyter.widget-view+json": {
       "model_id": "81b86c282dc24521ad6d015b58b5efe2",
       "version_major": 2,
       "version_minor": 0
      },
      "text/plain": [
       "Downloading data:   0%|          | 0.00/20.3M [00:00<?, ?B/s]"
      ]
     },
     "metadata": {},
     "output_type": "display_data"
    },
    {
     "data": {
      "application/vnd.jupyter.widget-view+json": {
       "model_id": "772424e9fe8e4a8f98051abf05bc006d",
       "version_major": 2,
       "version_minor": 0
      },
      "text/plain": [
       "Extracting data files:   0%|          | 0/1 [00:00<?, ?it/s]"
      ]
     },
     "metadata": {},
     "output_type": "display_data"
    },
    {
     "data": {
      "application/vnd.jupyter.widget-view+json": {
       "model_id": "9bdf42a743a84f69bdd89344a4493bc9",
       "version_major": 2,
       "version_minor": 0
      },
      "text/plain": [
       "Generating train split:   0%|          | 0/433 [00:00<?, ? examples/s]"
      ]
     },
     "metadata": {},
     "output_type": "display_data"
    }
   ],
   "source": [
    "#Load from hub\n",
    "ds_vejledninger = load_dataset(\"jealk/dk_retrieval_benchmark\", split=\"train\", download_mode=\"force_redownload\")"
   ]
  },
  {
   "cell_type": "code",
   "execution_count": 45,
   "metadata": {},
   "outputs": [
    {
     "data": {
      "text/html": [
       "<div>\n",
       "<style scoped>\n",
       "    .dataframe tbody tr th:only-of-type {\n",
       "        vertical-align: middle;\n",
       "    }\n",
       "\n",
       "    .dataframe tbody tr th {\n",
       "        vertical-align: top;\n",
       "    }\n",
       "\n",
       "    .dataframe thead th {\n",
       "        text-align: right;\n",
       "    }\n",
       "</style>\n",
       "<table border=\"1\" class=\"dataframe\">\n",
       "  <thead>\n",
       "    <tr style=\"text-align: right;\">\n",
       "      <th></th>\n",
       "      <th>url</th>\n",
       "      <th>title</th>\n",
       "      <th>html_content</th>\n",
       "      <th>text_content</th>\n",
       "    </tr>\n",
       "  </thead>\n",
       "  <tbody>\n",
       "    <tr>\n",
       "      <th>0</th>\n",
       "      <td>https://www.retsinformation.dk/eli/retsinfo/20...</td>\n",
       "      <td>Vejledning om regulering af satser fra 1. janu...</td>\n",
       "      <td>&lt;div class=\"document-content\" id=\"restylingRoo...</td>\n",
       "      <td>Vejledning om regulering af satser fra 1. janu...</td>\n",
       "    </tr>\n",
       "    <tr>\n",
       "      <th>1</th>\n",
       "      <td>https://www.retsinformation.dk/eli/retsinfo/20...</td>\n",
       "      <td>Vejledning om satser i 2024 for betaling af ud...</td>\n",
       "      <td>&lt;div class=\"document-content\" id=\"restylingRoo...</td>\n",
       "      <td>Vejledning om satser i 2024 for betaling af ud...</td>\n",
       "    </tr>\n",
       "    <tr>\n",
       "      <th>2</th>\n",
       "      <td>https://www.retsinformation.dk/eli/retsinfo/20...</td>\n",
       "      <td>Vejledning om obligatorisk selvbooking af jobs...</td>\n",
       "      <td>&lt;div class=\"document-content\" id=\"restylingRoo...</td>\n",
       "      <td>Vejledning om obligatorisk selvbooking af jobs...</td>\n",
       "    </tr>\n",
       "    <tr>\n",
       "      <th>3</th>\n",
       "      <td>https://www.retsinformation.dk/eli/retsinfo/20...</td>\n",
       "      <td>Vejledning til bekendtgørelse om tilskud til s...</td>\n",
       "      <td>&lt;div class=\"document-content\" id=\"restylingRoo...</td>\n",
       "      <td>Vejledning til bekendtgørelse om tilskud til s...</td>\n",
       "    </tr>\n",
       "    <tr>\n",
       "      <th>4</th>\n",
       "      <td>https://www.retsinformation.dk/eli/retsinfo/20...</td>\n",
       "      <td>Vejledning om fleksløntilskud m.v.</td>\n",
       "      <td>&lt;div class=\"document-content\" id=\"restylingRoo...</td>\n",
       "      <td>Vejledning om fleksløntilskud m.v.\\n1.Indledni...</td>\n",
       "    </tr>\n",
       "  </tbody>\n",
       "</table>\n",
       "</div>"
      ],
      "text/plain": [
       "                                                 url  \\\n",
       "0  https://www.retsinformation.dk/eli/retsinfo/20...   \n",
       "1  https://www.retsinformation.dk/eli/retsinfo/20...   \n",
       "2  https://www.retsinformation.dk/eli/retsinfo/20...   \n",
       "3  https://www.retsinformation.dk/eli/retsinfo/20...   \n",
       "4  https://www.retsinformation.dk/eli/retsinfo/20...   \n",
       "\n",
       "                                               title  \\\n",
       "0  Vejledning om regulering af satser fra 1. janu...   \n",
       "1  Vejledning om satser i 2024 for betaling af ud...   \n",
       "2  Vejledning om obligatorisk selvbooking af jobs...   \n",
       "3  Vejledning til bekendtgørelse om tilskud til s...   \n",
       "4                 Vejledning om fleksløntilskud m.v.   \n",
       "\n",
       "                                        html_content  \\\n",
       "0  <div class=\"document-content\" id=\"restylingRoo...   \n",
       "1  <div class=\"document-content\" id=\"restylingRoo...   \n",
       "2  <div class=\"document-content\" id=\"restylingRoo...   \n",
       "3  <div class=\"document-content\" id=\"restylingRoo...   \n",
       "4  <div class=\"document-content\" id=\"restylingRoo...   \n",
       "\n",
       "                                        text_content  \n",
       "0  Vejledning om regulering af satser fra 1. janu...  \n",
       "1  Vejledning om satser i 2024 for betaling af ud...  \n",
       "2  Vejledning om obligatorisk selvbooking af jobs...  \n",
       "3  Vejledning til bekendtgørelse om tilskud til s...  \n",
       "4  Vejledning om fleksløntilskud m.v.\\n1.Indledni...  "
      ]
     },
     "execution_count": 45,
     "metadata": {},
     "output_type": "execute_result"
    }
   ],
   "source": [
    "#Create pandas dataframe from the dataset using the huggingface datasets library\n",
    "df_vejledninger = ds_vejledninger.to_pandas()\n",
    "df_vejledninger.head()"
   ]
  },
  {
   "cell_type": "code",
   "execution_count": 13,
   "metadata": {},
   "outputs": [
    {
     "name": "stdout",
     "output_type": "stream",
     "text": [
      "There is a total of 433 documents in the dataset\n"
     ]
    }
   ],
   "source": [
    "print(f'There is a total of {len(df_vejledninger)} documents in the dataset')"
   ]
  },
  {
   "cell_type": "markdown",
   "metadata": {},
   "source": [
    "### Load into Llamaindex documents\n",
    "Esentially just dicts with text and metadata"
   ]
  },
  {
   "cell_type": "code",
   "execution_count": 27,
   "metadata": {},
   "outputs": [
    {
     "data": {
      "text/plain": [
       "433"
      ]
     },
     "execution_count": 27,
     "metadata": {},
     "output_type": "execute_result"
    }
   ],
   "source": [
    "from llama_index import Document\n",
    "\n",
    "#Iterate over the huggingface dataset object and create a list of llama documents\n",
    "documents_vejledninger = [\n",
    "    Document(text=content, metadata={\"title_vejledning\": name, \"url\": url})\n",
    "    for name, content, url in zip(ds_vejledninger[\"title\"], ds_vejledninger[\"text_content\"], ds_vejledninger['url'])\n",
    "]\n",
    "\n",
    "len(documents_vejledninger)"
   ]
  },
  {
   "cell_type": "code",
   "execution_count": 28,
   "metadata": {},
   "outputs": [
    {
     "data": {
      "text/plain": [
       "{'title_vejledning': 'Vejledning om regulering af satser fra 1. januar 2024 efter lov om arbejdsskadesikring, lov om sikring mod følger af arbejdsskade, lov om arbejdsskadeforsikring og lov om forsikring mod følger af ulykkestilfælde',\n",
       " 'url': 'https://www.retsinformation.dk/eli/retsinfo/2024/9001'}"
      ]
     },
     "execution_count": 28,
     "metadata": {},
     "output_type": "execute_result"
    }
   ],
   "source": [
    "#Inspecting the meta data of a document\n",
    "documents_vejledninger[0].metadata"
   ]
  },
  {
   "cell_type": "code",
   "execution_count": 17,
   "metadata": {},
   "outputs": [
    {
     "data": {
      "text/plain": [
       "'Vejledning om regulering af satser fra 1. januar 2024 efter lov om arbejdsskadesikring, lov om sikring mod følger af arbejdsskade, lov om arbejdsskadeforsikring og lov om forsikring mod følger af ulykkestilfælde\\nIndledning\\nEfter lov om arbejdsskadesikring, jf. lovbekendtgørelse nr. 1186 af 19. august 2022 med de ændringer, der følger af lov nr. 1541 af 12. december 2023, og lov om sikring mod følger af arbejdsskade, jf. lovbekendtgørelse nr. 943 af 16. oktober 2000, skal der med virkning fra 1. '"
      ]
     },
     "execution_count": 17,
     "metadata": {},
     "output_type": "execute_result"
    }
   ],
   "source": [
    "#Inspecting the text of a document\n",
    "documents_vejledninger[0].text[0:500]"
   ]
  },
  {
   "cell_type": "markdown",
   "metadata": {},
   "source": [
    "## Chunking text\n",
    "First parsing the data into nodes (llamaindex way of structuring data, including the relation to other nodes, embedding info etc.)"
   ]
  },
  {
   "cell_type": "code",
   "execution_count": 31,
   "metadata": {},
   "outputs": [],
   "source": [
    "from llama_index.node_parser import SentenceSplitter\n",
    "from transformers import AutoTokenizer\n",
    "tokenizer_e5 = AutoTokenizer.from_pretrained(\"intfloat/e5-base-v2\")\n",
    "\n",
    "# Setting max length and defining tokenizer as intended embedding model (e5)\n",
    "# Splitting preferably by \\n (because I formated the html so that all <p> was replaced by a \\n), and if no \\n is found, split by nearest delimeter char . ? ! etc.\n",
    "node_parser = SentenceSplitter(\n",
    "    chunk_size=512,\n",
    "    chunk_overlap=0,\n",
    "    #As of 18/12/2023 the paragraph seperator expects a string\n",
    "    #Some uncertainty of whether the regex is working as intended \n",
    "    secondary_chunking_regex = str(['\\n']),\n",
    "    paragraph_separator=str(['\\n\\n']),\n",
    "    tokenizer=tokenizer_e5.tokenize,\n",
    ")\n",
    "\n",
    "nodes_vejledninger = node_parser.get_nodes_from_documents(\n",
    "    documents_vejledninger, show_progress=True\n",
    ")"
   ]
  },
  {
   "cell_type": "code",
   "execution_count": 19,
   "metadata": {},
   "outputs": [
    {
     "data": {
      "text/plain": [
       "'Méngodtgørelsen beregnes som ménprocenten × 1.013.500 kr. Hvis tilskadekomne ved skadens indtræden var fyldt 40 år, nedsættes méngodtgørelsen med 1 pct. for hvert år tilskadekomne på skadestidspunktet var over 39 år. Hvis tilskadekomne ved skadens indtræden var fyldt 60 år, nedsættes méngodtgørelsen herudover med yderligere 1 pct. for hvert år tilskadekomne på skadestidspunktet var over 59 år. Méngodtgørelsen nedsættes ikke yderligere efter det fyldte 69. år.\\nOvergangsbeløbet ved dødsfald udgør 191.000 kr.\\nEksempler\\n2.1 Løbende erstatninger\\na.Erstatning for tab af erhvervsevne\\nSkadedato: 10. januar 2024. Årsløn: 460.000 kr. Tab af erhvervsevne: 65 pct.\\nGrundløn: 460.000 kr. × 367.000/608.000 = 277.664 kr.\\nGrundydelse: 0,65 × 0,83 × 277.664 kr. × 0,92 = 137.815,75 kr. årligt.\\nGrundydelse pr. 1. januar 2024: 137.815,75 kr. × 1,657 = 228.360,70 kr. årligt.'"
      ]
     },
     "execution_count": 19,
     "metadata": {},
     "output_type": "execute_result"
    }
   ],
   "source": [
    "nodes_vejledninger[25].text"
   ]
  },
  {
   "cell_type": "markdown",
   "metadata": {},
   "source": [
    "### (Optional chunk len vizualization)\n",
    "Inspecting the distribution of token size of the chunked data"
   ]
  },
  {
   "cell_type": "code",
   "execution_count": 20,
   "metadata": {},
   "outputs": [
    {
     "data": {
      "image/png": "[encoded data removed]",
      "text/plain": [
       "<Figure size 640x480 with 1 Axes>"
      ]
     },
     "metadata": {},
     "output_type": "display_data"
    }
   ],
   "source": [
    "### Use HF tokenizer to verify length\n",
    "from transformers import AutoTokenizer\n",
    "\n",
    "tokenizer = AutoTokenizer.from_pretrained(\"intfloat/e5-base-v2\")\n",
    "token_counts = []\n",
    "for text in [node.text for node in nodes_vejledninger]:\n",
    "    token_counts.append(len(tokenizer.tokenize(text)))\n",
    "\n",
    "# Efficient batch processing to tokenize all texts\n",
    "# batch_dict = tokenizer([node.text for node in nodes_vejledninger], max_length=512, padding=True, truncation=True, return_tensors='pt')\n",
    "\n",
    "# Plot a histogram of the length of the text in all nodes\n",
    "import matplotlib.pyplot as plt\n",
    "\n",
    "text_len = token_counts\n",
    "plt.hist(text_len, bins=100)\n",
    "plt.title(\"Histogram of text length in nodes\")\n",
    "plt.xlabel(\"Token length\")\n",
    "plt.ylabel(\"Number of chunks\")\n",
    "plt.show()"
   ]
  },
  {
   "cell_type": "code",
   "execution_count": 21,
   "metadata": {},
   "outputs": [
    {
     "name": "stdout",
     "output_type": "stream",
     "text": [
      "Example 1 of texts under 100 tokens:\n",
      "delelige kronebeløb: 188.520 kr.\n",
      "Månedlig rente: 15.710 kr.\n",
      "\n",
      "\n",
      "Example 2 of texts under 100 tokens:\n",
      "I forbindelse med jobcenterets vurdering af arbejdsevnen anbefales det, at jobcenteret drøfter mulighederne for at få udvikling i fleksjobbet med arbejdsgiveren og den ansatte, herunder hvordan yderligere forringelse af arbejdsevnen kan forebygges.\n",
      "\n",
      "\n",
      "Example 3 of texts under 100 tokens:\n",
      "Tine Skovgaard Lund\n",
      "/ Christoffer Bruun Beck\n",
      "\n",
      "\n",
      "Example 4 of texts under 100 tokens:\n",
      "2) Mdl. indtægt mellem kr. 12.893 – 35.327 omregnes med faktor 1,61\n",
      "3) Mdl. indtægt på kr. 35.328 - omregnes med faktor 2,12\n",
      "Beskæftigelsesministeriet, den 12. december 2023\n",
      "Anne Pontoppidan Sørensen\n",
      "\n",
      "\n",
      "Example 5 of texts under 100 tokens:\n",
      "Unge under 25 år får som udgangspunkt arbejdsløshedsdagpenge beregnet med den individuelle sats, og de får altid denne sats under de første sammenlagt 962 timers ledighed (780 timer som deltidsforsikrede). (§ 13, stk. 1).\n",
      "\n",
      "\n"
     ]
    }
   ],
   "source": [
    "# Print first 5 examples of texts under 100 tokens\n",
    "for i in range(5):\n",
    "    print(f\"Example {i+1} of texts under 100 tokens:\")\n",
    "    print(\n",
    "        [\n",
    "            node.text\n",
    "            for node in nodes_vejledninger\n",
    "            if len(tokenizer.tokenize(node.text)) < 100\n",
    "        ][i]\n",
    "    )\n",
    "    print(\"\\n\")"
   ]
  },
  {
   "cell_type": "markdown",
   "metadata": {},
   "source": [
    "**Short texts, what's happening?**\n",
    "\n",
    "I inspected a few samples of the <100 token texts, and they mostly seem simply to be the end of documents, where this part likely could not fit into the context window of the previous chunk.\n"
   ]
  },
  {
   "cell_type": "markdown",
   "metadata": {},
   "source": [
    "### Discarding short chunks\n",
    "Discard any chunks less than 150 tokens long"
   ]
  },
  {
   "cell_type": "code",
   "execution_count": 32,
   "metadata": {},
   "outputs": [],
   "source": [
    "### Use HF tokenizer to verify length\n",
    "\n",
    "nodes_vejledninger_filtered = [\n",
    "    node for node in nodes_vejledninger if len(tokenizer_e5.tokenize(node.text)) > 150\n",
    "]"
   ]
  },
  {
   "cell_type": "code",
   "execution_count": 33,
   "metadata": {},
   "outputs": [
    {
     "data": {
      "text/plain": [
       "'Vejledning om regulering af satser fra 1. januar 2024 efter lov om arbejdsskadesikring, lov om sikring mod følger af arbejdsskade, lov om arbejdsskadeforsikring og lov om forsikring mod følger af ulykkestilfælde\\nIndledning\\nEfter lov om arbejdsskadesikring, jf. lovbekendtgørelse nr. 1186 af 19. august 2022 med de ændringer, der følger af lov nr. 1541 af 12. december 2023, og lov om sikring mod følger af arbejdsskade, jf. lovbekendtgørelse nr. 943 af 16. oktober 2000, skal der med virkning fra 1. januar 2024 efter indstilling fra bestyrelsen for Arbejdsmarkedets Erhvervssikring ske regulering af lovens årslønsbeløb, godtgørelsesbeløb, overgangsbeløb samt løbende erstatninger.\\nReguleringen af satserne fastsættes af Arbejdstilsynets direktør efter bemyndigelse fra beskæftigelsesministeren.\\nSatser efter loven reguleres med 2 procent tillagt tilpasningsprocenten for finansåret 2024 (jf. lov om en satsreguleringsprocent).'"
      ]
     },
     "execution_count": 33,
     "metadata": {},
     "output_type": "execute_result"
    }
   ],
   "source": [
    "nodes_vejledninger_filtered[0].text"
   ]
  },
  {
   "cell_type": "code",
   "execution_count": 34,
   "metadata": {},
   "outputs": [
    {
     "name": "stdout",
     "output_type": "stream",
     "text": [
      "We now have 18423 chunks of text to generate questions from\n"
     ]
    }
   ],
   "source": [
    "print(\n",
    "    f\"We now have {len(nodes_vejledninger_filtered)} chunks of text to generate questions from\"\n",
    ")"
   ]
  },
  {
   "cell_type": "markdown",
   "metadata": {},
   "source": [
    "#### Export nodes into a document store and saver for later use\n",
    "The node object contains relevant info such as what node preceeded and followed it, and the meta data of the source document, both which might be relevant later. \n"
   ]
  },
  {
   "cell_type": "code",
   "execution_count": 35,
   "metadata": {},
   "outputs": [
    {
     "data": {
      "text/plain": [
       "TextNode(id_='46ff9bb3-4096-43a9-ae0f-185a689a4425', embedding=None, metadata={'title_vejledning': 'Vejledning om regulering af satser fra 1. januar 2024 efter lov om arbejdsskadesikring, lov om sikring mod følger af arbejdsskade, lov om arbejdsskadeforsikring og lov om forsikring mod følger af ulykkestilfælde', 'url': 'https://www.retsinformation.dk/eli/retsinfo/2024/9001'}, excluded_embed_metadata_keys=[], excluded_llm_metadata_keys=[], relationships={<NodeRelationship.SOURCE: '1'>: RelatedNodeInfo(node_id='ad65d315-dedb-4cbd-9071-73a8274c1970', node_type=<ObjectType.DOCUMENT: '4'>, metadata={'title_vejledning': 'Vejledning om regulering af satser fra 1. januar 2024 efter lov om arbejdsskadesikring, lov om sikring mod følger af arbejdsskade, lov om arbejdsskadeforsikring og lov om forsikring mod følger af ulykkestilfælde', 'url': 'https://www.retsinformation.dk/eli/retsinfo/2024/9001'}, hash='38b309944fe6155453e3117dea7104ee23212a96f2a93b5acbb957eec81f202b'), <NodeRelationship.NEXT: '3'>: RelatedNodeInfo(node_id='47b3532b-329a-4032-aeb2-008995da7a07', node_type=<ObjectType.TEXT: '1'>, metadata={}, hash='f6ed34c1c002377faeddbec410354ffe8084f1cbe3210cc20df7404ed0a05368')}, hash='222122ad72e8f4a92916983315e4a7ce2ff399ddeaca126d543f6ba1a871dfa9', text='Vejledning om regulering af satser fra 1. januar 2024 efter lov om arbejdsskadesikring, lov om sikring mod følger af arbejdsskade, lov om arbejdsskadeforsikring og lov om forsikring mod følger af ulykkestilfælde\\nIndledning\\nEfter lov om arbejdsskadesikring, jf. lovbekendtgørelse nr. 1186 af 19. august 2022 med de ændringer, der følger af lov nr. 1541 af 12. december 2023, og lov om sikring mod følger af arbejdsskade, jf. lovbekendtgørelse nr. 943 af 16. oktober 2000, skal der med virkning fra 1. januar 2024 efter indstilling fra bestyrelsen for Arbejdsmarkedets Erhvervssikring ske regulering af lovens årslønsbeløb, godtgørelsesbeløb, overgangsbeløb samt løbende erstatninger.\\nReguleringen af satserne fastsættes af Arbejdstilsynets direktør efter bemyndigelse fra beskæftigelsesministeren.\\nSatser efter loven reguleres med 2 procent tillagt tilpasningsprocenten for finansåret 2024 (jf. lov om en satsreguleringsprocent).', start_char_idx=0, end_char_idx=928, text_template='{metadata_str}\\n\\n{content}', metadata_template='{key}: {value}', metadata_seperator='\\n')"
      ]
     },
     "execution_count": 35,
     "metadata": {},
     "output_type": "execute_result"
    }
   ],
   "source": [
    "nodes_vejledninger_filtered[0]"
   ]
  },
  {
   "cell_type": "markdown",
   "metadata": {},
   "source": [
    "**Option to save the nodes to disk for later use**"
   ]
  },
  {
   "cell_type": "code",
   "execution_count": 37,
   "metadata": {},
   "outputs": [
    {
     "data": {
      "text/plain": [
       "'\\nfrom llama_index.storage.docstore import SimpleDocumentStore\\n\\n# create (or load) docstore and add nodes\\ndocstore = SimpleDocumentStore()\\ndocstore.add_documents(nodes_vejledninger_filtered)\\n\\n# persist nodes to disk\\ndocstore.persist(\"data/node_store_25-11-23\")\\n'"
      ]
     },
     "execution_count": 37,
     "metadata": {},
     "output_type": "execute_result"
    }
   ],
   "source": [
    "\"\"\"\n",
    "#To save the docs locally\n",
    "from llama_index.storage.docstore import SimpleDocumentStore\n",
    "\n",
    "# create (or load) docstore and add nodes\n",
    "docstore = SimpleDocumentStore()\n",
    "docstore.add_documents(nodes_vejledninger_filtered)\n",
    "\n",
    "# persist nodes to disk\n",
    "docstore.persist(\"data/node_store_25-11-23\")\n",
    "\"\"\""
   ]
  },
  {
   "cell_type": "code",
   "execution_count": 37,
   "metadata": {},
   "outputs": [],
   "source": [
    "\"\"\"\n",
    "from llama_index.storage.docstore import SimpleDocumentStore\n",
    "\n",
    "# Load the SimpleDocumentStore from the persisted file\n",
    "docstore = SimpleDocumentStore.from_persist_path(\"data/node_store_25-11-23\")\n",
    "# Create a list of nodes by list comprehension by iterating over the key (store hash) value (llamnaindex node) pairs of the docstore.docs object and appending the value to the list\n",
    "nodes_vejledninger_filtered = [node for key, node in docstore.docs.items()]\n",
    "\"\"\""
   ]
  },
  {
   "cell_type": "markdown",
   "metadata": {},
   "source": [
    "**Short addition to save parts of the node data in a dataframe for HF dataset creation**"
   ]
  },
  {
   "cell_type": "code",
   "execution_count": 46,
   "metadata": {},
   "outputs": [
    {
     "data": {
      "text/html": [
       "<div>\n",
       "<style scoped>\n",
       "    .dataframe tbody tr th:only-of-type {\n",
       "        vertical-align: middle;\n",
       "    }\n",
       "\n",
       "    .dataframe tbody tr th {\n",
       "        vertical-align: top;\n",
       "    }\n",
       "\n",
       "    .dataframe thead th {\n",
       "        text-align: right;\n",
       "    }\n",
       "</style>\n",
       "<table border=\"1\" class=\"dataframe\">\n",
       "  <thead>\n",
       "    <tr style=\"text-align: right;\">\n",
       "      <th></th>\n",
       "      <th>title_vejledning</th>\n",
       "      <th>chunk_id</th>\n",
       "      <th>chunk_text</th>\n",
       "      <th>url</th>\n",
       "    </tr>\n",
       "  </thead>\n",
       "  <tbody>\n",
       "    <tr>\n",
       "      <th>0</th>\n",
       "      <td>Vejledning om regulering af satser fra 1. janu...</td>\n",
       "      <td>46ff9bb3-4096-43a9-ae0f-185a689a4425</td>\n",
       "      <td>Vejledning om regulering af satser fra 1. janu...</td>\n",
       "      <td>https://www.retsinformation.dk/eli/retsinfo/20...</td>\n",
       "    </tr>\n",
       "    <tr>\n",
       "      <th>1</th>\n",
       "      <td>Vejledning om regulering af satser fra 1. janu...</td>\n",
       "      <td>47b3532b-329a-4032-aeb2-008995da7a07</td>\n",
       "      <td>Tilpasningsprocenten er ved Finansministeriets...</td>\n",
       "      <td>https://www.retsinformation.dk/eli/retsinfo/20...</td>\n",
       "    </tr>\n",
       "    <tr>\n",
       "      <th>2</th>\n",
       "      <td>Vejledning om regulering af satser fra 1. janu...</td>\n",
       "      <td>ecbfe5d4-217e-4050-b443-055e12ae1ee4</td>\n",
       "      <td>1541 af 12. december 2023 fastsættes løbende e...</td>\n",
       "      <td>https://www.retsinformation.dk/eli/retsinfo/20...</td>\n",
       "    </tr>\n",
       "    <tr>\n",
       "      <th>3</th>\n",
       "      <td>Vejledning om regulering af satser fra 1. janu...</td>\n",
       "      <td>e26db7a7-823c-4c81-b816-0e301c1f734e</td>\n",
       "      <td>og det maksimale årslønsbeløb, der var gældend...</td>\n",
       "      <td>https://www.retsinformation.dk/eli/retsinfo/20...</td>\n",
       "    </tr>\n",
       "    <tr>\n",
       "      <th>4</th>\n",
       "      <td>Vejledning om regulering af satser fra 1. janu...</td>\n",
       "      <td>03e0adf9-1035-4628-9e5a-1cab319eefc8</td>\n",
       "      <td>Satser for arbejdsskader indtruffet 1. juli 20...</td>\n",
       "      <td>https://www.retsinformation.dk/eli/retsinfo/20...</td>\n",
       "    </tr>\n",
       "  </tbody>\n",
       "</table>\n",
       "</div>"
      ],
      "text/plain": [
       "                                    title_vejledning  \\\n",
       "0  Vejledning om regulering af satser fra 1. janu...   \n",
       "1  Vejledning om regulering af satser fra 1. janu...   \n",
       "2  Vejledning om regulering af satser fra 1. janu...   \n",
       "3  Vejledning om regulering af satser fra 1. janu...   \n",
       "4  Vejledning om regulering af satser fra 1. janu...   \n",
       "\n",
       "                               chunk_id  \\\n",
       "0  46ff9bb3-4096-43a9-ae0f-185a689a4425   \n",
       "1  47b3532b-329a-4032-aeb2-008995da7a07   \n",
       "2  ecbfe5d4-217e-4050-b443-055e12ae1ee4   \n",
       "3  e26db7a7-823c-4c81-b816-0e301c1f734e   \n",
       "4  03e0adf9-1035-4628-9e5a-1cab319eefc8   \n",
       "\n",
       "                                          chunk_text  \\\n",
       "0  Vejledning om regulering af satser fra 1. janu...   \n",
       "1  Tilpasningsprocenten er ved Finansministeriets...   \n",
       "2  1541 af 12. december 2023 fastsættes løbende e...   \n",
       "3  og det maksimale årslønsbeløb, der var gældend...   \n",
       "4  Satser for arbejdsskader indtruffet 1. juli 20...   \n",
       "\n",
       "                                                 url  \n",
       "0  https://www.retsinformation.dk/eli/retsinfo/20...  \n",
       "1  https://www.retsinformation.dk/eli/retsinfo/20...  \n",
       "2  https://www.retsinformation.dk/eli/retsinfo/20...  \n",
       "3  https://www.retsinformation.dk/eli/retsinfo/20...  \n",
       "4  https://www.retsinformation.dk/eli/retsinfo/20...  "
      ]
     },
     "execution_count": 46,
     "metadata": {},
     "output_type": "execute_result"
    }
   ],
   "source": [
    "#Create a pandas dataframe from the nodes_vejledninger_filtered object\n",
    "#Only include the id_, metadata['file_name'] and text attributes of the object\n",
    "import pandas as pd\n",
    "df_llama_chunks = pd.DataFrame([[node.metadata['title_vejledning'], node.id_, node.text, node.metadata['url']] for node in nodes_vejledninger_filtered], columns=['title_vejledning', 'chunk_id', 'chunk_text', 'url'])\n",
    "df_llama_chunks.head()"
   ]
  },
  {
   "cell_type": "code",
   "execution_count": 40,
   "metadata": {},
   "outputs": [],
   "source": [
    "#Save the dataframe as a csv file ensure that non ascii characters are encoded as utf-8\n",
    "ds_llama_chunks.to_csv('data/chunks_id_text-14-01-24-v1.csv', encoding='utf-8')"
   ]
  },
  {
   "cell_type": "code",
   "execution_count": 48,
   "metadata": {},
   "outputs": [],
   "source": [
    "ds_llama_chunks = Dataset.from_pandas(df_llama_chunks)"
   ]
  },
  {
   "cell_type": "markdown",
   "metadata": {},
   "source": [
    "## Generate Q "
   ]
  },
  {
   "cell_type": "markdown",
   "metadata": {},
   "source": [
    "**Write the Question gen prompt template**"
   ]
  },
  {
   "cell_type": "code",
   "execution_count": 41,
   "metadata": {},
   "outputs": [],
   "source": [
    "from llama_index.prompts import PromptTemplate\n",
    "\n",
    "# Define your custom prompt template in Danish\n",
    "qa_sagsbehandler_tmlp = \"\"\" Nedenfor er et uddrag (kontekst) fra en længere tekst:\n",
    "---------------------\n",
    "{context_str}\n",
    "---------------------\n",
    "Givet ovenstående uddrag (kontekst) og ingen forudgående viden, er din opgave at generere spørgsmål til teksten.\n",
    "Du er en erfaren sagsbehandler, og din opgave er at stille præcis {num_questions_per_chunk} spørgsmål, som kan besvares i uddraget.\n",
    "Spørgsmålene skal være af forskellig karakter og dække teksten bredt, men stilles i et sprog som en borger uden juridisk ekspertise kan forstå.\n",
    "Svaret til spørgsmålet, skal kunne findes i ovenstående uddrag (kontekst).\n",
    "\"\"\"\n",
    "\n",
    "qa_sagsbehandler_tmlp = PromptTemplate(qa_sagsbehandler_tmlp)"
   ]
  },
  {
   "cell_type": "markdown",
   "metadata": {},
   "source": [
    "**Generate the questions**"
   ]
  },
  {
   "cell_type": "code",
   "execution_count": 42,
   "metadata": {},
   "outputs": [
    {
     "name": "stderr",
     "output_type": "stream",
     "text": [
      "  0%|          | 0/100 [00:00<?, ?it/s]"
     ]
    },
    {
     "name": "stderr",
     "output_type": "stream",
     "text": [
      "100%|██████████| 100/100 [09:30<00:00,  5.71s/it]\n"
     ]
    }
   ],
   "source": [
    "from llama_index.finetuning import generate_qa_embedding_pairs\n",
    "from llama_index.llms import OpenAI\n",
    "\n",
    "# define LLM\n",
    "llm_oai = OpenAI(temperature=0.0, model=\"gpt-4-1106-preview\")\n",
    "\n",
    "qa_dataset = generate_qa_embedding_pairs(\n",
    "    qa_generate_prompt_tmpl=qa_sagsbehandler_tmlp,\n",
    "    llm=llm_oai,\n",
    "    nodes=nodes_vejledninger_filtered[0:100],\n",
    "    num_questions_per_chunk=2,\n",
    ")"
   ]
  },
  {
   "cell_type": "markdown",
   "metadata": {},
   "source": [
    "**Example of generated questions**"
   ]
  },
  {
   "cell_type": "code",
   "execution_count": 49,
   "metadata": {},
   "outputs": [
    {
     "name": "stdout",
     "output_type": "stream",
     "text": [
      "Spørgsmål:\n",
      " Hvem har ansvaret for at justere de beløb, man kan få i erstatning ifølge arbejdsskadelovgivningen fra 1. januar 2024? \n",
      "\n",
      "Chunk:\n",
      " Vejledning om regulering af satser fra 1. januar 2024 efter lov om arbejdsskadesikring, lov om sikring mod følger af arbejdsskade, lov om arbejdsskadeforsikring og lov om forsikring mod følger af ulykkestilfælde\n",
      "Indledning\n",
      "Efter lov om arbejdsskadesikring, jf. lovbekendtgørelse nr. 1186 af 19. august 2022 med de ændringer, der følger af lov nr. 1541 af 12. december 2023, og lov om sikring mod følger af arbejdsskade, jf. lovbekendtgørelse nr. 943 af 16. oktober 2000, skal der med virkning fra 1. januar 2024 efter indstilling fra bestyrelsen for Arbejdsmarkedets Erhvervssikring ske regulering af lovens årslønsbeløb, godtgørelsesbeløb, overgangsbeløb samt løbende erstatninger.\n",
      "Reguleringen af satserne fastsættes af Arbejdstilsynets direktør efter bemyndigelse fra beskæftigelsesministeren.\n",
      "Satser efter loven reguleres med 2 procent tillagt tilpasningsprocenten for finansåret 2024 (jf. lov om en satsreguleringsprocent). \n",
      "\n"
     ]
    }
   ],
   "source": [
    "for query_id, query in qa_dataset.queries.items():\n",
    "    node_id = qa_dataset.relevant_docs[query_id][0]\n",
    "    text = qa_dataset.corpus[node_id]\n",
    "    print(f\"Spørgsmål:\\n {query} \\n\")\n",
    "    print(f\"Chunk:\\n {text} \\n\")\n",
    "    break"
   ]
  },
  {
   "cell_type": "markdown",
   "metadata": {},
   "source": [
    "**Save / Load Q&A dataset**"
   ]
  },
  {
   "cell_type": "code",
   "execution_count": 75,
   "metadata": {},
   "outputs": [],
   "source": [
    "# the llamaindex object only has a save_json method, so first we save the object as a json file, and then reload it as a hf dataset object in order to push to hf repo\n",
    "qa_dataset.save_json(\"data/data/qa_dataset_gp41106_100_samples.json\")\n",
    "#Push json file to hf repo\n",
    "\n",
    "#ds_qa_dataset = load_dataset('json', data_files='data_old/qa_dataset_gp41106_24-01-14_100_samples.json')"
   ]
  }
 ],
 "metadata": {
  "kernelspec": {
   "display_name": "llm",
   "language": "python",
   "name": "python3"
  },
  "language_info": {
   "codemirror_mode": {
    "name": "ipython",
    "version": 3
   },
   "file_extension": ".py",
   "mimetype": "text/x-python",
   "name": "python",
   "nbconvert_exporter": "python",
   "pygments_lexer": "ipython3",
   "version": "3.11.4"
  }
 },
 "nbformat": 4,
 "nbformat_minor": 2
}
