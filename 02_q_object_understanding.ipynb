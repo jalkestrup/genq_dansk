{
 "cells": [
  {
   "cell_type": "markdown",
   "metadata": {},
   "source": [
    "## Understanding the EmbeddingQAFinetune object\n",
    "Loading the prev generated qa object and exploring the structure"
   ]
  },
  {
   "cell_type": "markdown",
   "metadata": {},
   "source": [
    "**Load previously generated Q and chunks**"
   ]
  },
  {
   "cell_type": "code",
   "execution_count": 7,
   "metadata": {},
   "outputs": [],
   "source": [
    "from llama_index.finetuning import EmbeddingQAFinetuneDataset\n",
    "\n",
    "# Load the datasets from saved json files\n",
    "qa_dataset = EmbeddingQAFinetuneDataset.from_json(\n",
    "    \"data/qa_dataset_25-11-23_100_samples.json\"\n",
    ")"
   ]
  },
  {
   "cell_type": "markdown",
   "metadata": {},
   "source": [
    "### The QA object:\n",
    "\n",
    "- **.corpus** # contains a dict where key is a unique ID for each text chunk, and the value is the text chunk (used for generating the Q)\n",
    "- **.queries** # contains a dict where key is a unique ID for each question, and the value is the question (generated previously)\n",
    "- **.relevant_docs** # A dict that contains the question ID as the key (prev generated), and as value contains a list of relevant text chunk IDs  (initially list contains only 1 item)\n",
    "- **.query_docid_pairs** # A list of tuples, where each tuple contains a question str (for some reason not the ID) and a text chunk ID"
   ]
  },
  {
   "cell_type": "markdown",
   "metadata": {},
   "source": [
    "100 text chunks was used to generate 200 questions"
   ]
  },
  {
   "cell_type": "code",
   "execution_count": 2,
   "metadata": {},
   "outputs": [
    {
     "data": {
      "text/plain": [
       "(100, 200, 200)"
      ]
     },
     "execution_count": 2,
     "metadata": {},
     "output_type": "execute_result"
    }
   ],
   "source": [
    "len(qa_dataset.corpus), len(qa_dataset.queries), len(qa_dataset.relevant_docs)"
   ]
  },
  {
   "cell_type": "markdown",
   "metadata": {},
   "source": [
    "Inspecting **.corpus**"
   ]
  },
  {
   "cell_type": "code",
   "execution_count": 3,
   "metadata": {},
   "outputs": [
    {
     "name": "stdout",
     "output_type": "stream",
     "text": [
      "First element has: \n",
      "Unique ID: 9281784d-734c-4665-b5dd-f6da8fd81859 \n",
      "\n",
      "Text:\n",
      "Vejledning om beskæftigelseskravet for ret til barselsdagpenge\n",
      "\n",
      "1.Indledning\n",
      "I denne vejledning beskrives hvilke beskæftigelseskrav, der gælder for at opnå ret til barselsdagpenge. Reglerne findes i §§ 27-29 i barselsloven (loven).\n",
      "\n",
      "I bekendtgørelse nr. 1090 af 1. juni 2021 om opgørelse af beskæftigelseskrav og beregning af barselsdagpenge m.v. (bekendtgørelsen) er fastsat nærmere regler om opgørelsen af beskæftigelseskravet.\n",
      "\n",
      "Denne vejledning erstatter vejledning nr. 10066 af 29. december 2020 om beskæftigelseskravet for ret til barselsdagpenge.\n",
      "\n",
      "En lønmodtager har ret til barselsdagpenge, hvis pågældende opfylder ét af de fem krav om tilknytning til arbejdsmarkedet, der er nævnt i lovens § 27, stk. 1.\n",
      "\n",
      "Kravet om aktuel beskæftigelse dagen før fraværet eller på første fraværsdag samt beskæftigelse i mindst 160 timer indberettet i indkomstregistret inden for de seneste 4 afsluttede kalendermåneder forud for fraværsperioden, jf. lovens § 27, stk. 1, nr. 1, er beskrevet i pkt. 2.1.\n"
     ]
    }
   ],
   "source": [
    "# return first item from the qa_datset.corpus which is a list of dictionaries\n",
    "first_corpus_key = next(iter(qa_dataset.corpus))\n",
    "first_corpus_value = qa_dataset.corpus[first_corpus_key]\n",
    "\n",
    "\n",
    "print(\n",
    "    f\"First element has: \\nUnique ID: {first_corpus_key} \\n\\nText:\\n{first_corpus_value}\"\n",
    ")"
   ]
  },
  {
   "cell_type": "markdown",
   "metadata": {},
   "source": [
    "Inspecting **.queries**"
   ]
  },
  {
   "cell_type": "code",
   "execution_count": 4,
   "metadata": {},
   "outputs": [
    {
     "name": "stdout",
     "output_type": "stream",
     "text": [
      "First query has: \n",
      "Unique ID: 7b4dbc95-9077-45ff-90b0-8dfb1920ce88 \n",
      "\n",
      "Text:\n",
      "Hvad er de fem krav om tilknytning til arbejdsmarkedet, som en lønmodtager skal opfylde for at have ret til barselsdagpenge?\n"
     ]
    }
   ],
   "source": [
    "# Load the .queries in a similar manner\n",
    "first_query_key = next(iter(qa_dataset.queries))\n",
    "first_query_value = qa_dataset.queries[first_query_key]\n",
    "\n",
    "print(f\"First query has: \\nUnique ID: {first_query_key} \\n\\nText:\\n{first_query_value}\")"
   ]
  },
  {
   "cell_type": "markdown",
   "metadata": {},
   "source": [
    "Inspecting **.relevant_docs**"
   ]
  },
  {
   "cell_type": "code",
   "execution_count": 5,
   "metadata": {},
   "outputs": [
    {
     "name": "stdout",
     "output_type": "stream",
     "text": [
      "First question - text pair has : \n",
      "Question ID: 7b4dbc95-9077-45ff-90b0-8dfb1920ce88 \n",
      "\n",
      "Text ID:\n",
      "['9281784d-734c-4665-b5dd-f6da8fd81859']\n"
     ]
    }
   ],
   "source": [
    "# Load the qa_dataset.relevant_docs in a similar manner\n",
    "first_relevant_docs_key = next(iter(qa_dataset.relevant_docs))\n",
    "first_relevant_docs_value = qa_dataset.relevant_docs[first_relevant_docs_key]\n",
    "\n",
    "print(\n",
    "    f\"First question - text pair has : \\nQuestion ID: {first_relevant_docs_key} \\n\\nText ID:\\n{first_relevant_docs_value}\"\n",
    ")"
   ]
  },
  {
   "cell_type": "markdown",
   "metadata": {},
   "source": [
    "**Since I generated 2 questions per chunk in the previous notebook, there will be 2 questions that refer to the same text ID**"
   ]
  },
  {
   "cell_type": "markdown",
   "metadata": {},
   "source": [
    "Inspecting **.query_docid_pairs**"
   ]
  },
  {
   "cell_type": "code",
   "execution_count": 6,
   "metadata": {},
   "outputs": [
    {
     "data": {
      "text/plain": [
       "[('Hvad er de fem krav om tilknytning til arbejdsmarkedet, som en lønmodtager skal opfylde for at have ret til barselsdagpenge?',\n",
       "  ['9281784d-734c-4665-b5dd-f6da8fd81859']),\n",
       " ('Hvad er betingelserne for at opfylde kravet om aktuel beskæftigelse og beskæftigelse i mindst 160 timer for at få ret til barselsdagpenge?',\n",
       "  ['9281784d-734c-4665-b5dd-f6da8fd81859'])]"
      ]
     },
     "execution_count": 6,
     "metadata": {},
     "output_type": "execute_result"
    }
   ],
   "source": [
    "qa_dataset.query_docid_pairs[:2]"
   ]
  },
  {
   "cell_type": "markdown",
   "metadata": {},
   "source": [
    "## Creatinga joined Q & Chunk dataset"
   ]
  },
  {
   "cell_type": "code",
   "execution_count": null,
   "metadata": {},
   "outputs": [
    {
     "data": {
      "text/html": [
       "<div>\n",
       "<style scoped>\n",
       "    .dataframe tbody tr th:only-of-type {\n",
       "        vertical-align: middle;\n",
       "    }\n",
       "\n",
       "    .dataframe tbody tr th {\n",
       "        vertical-align: top;\n",
       "    }\n",
       "\n",
       "    .dataframe thead th {\n",
       "        text-align: right;\n",
       "    }\n",
       "</style>\n",
       "<table border=\"1\" class=\"dataframe\">\n",
       "  <thead>\n",
       "    <tr style=\"text-align: right;\">\n",
       "      <th></th>\n",
       "      <th>question_id</th>\n",
       "      <th>chunk_id</th>\n",
       "    </tr>\n",
       "  </thead>\n",
       "  <tbody>\n",
       "    <tr>\n",
       "      <th>0</th>\n",
       "      <td>7b4dbc95-9077-45ff-90b0-8dfb1920ce88</td>\n",
       "      <td>[9281784d-734c-4665-b5dd-f6da8fd81859]</td>\n",
       "    </tr>\n",
       "    <tr>\n",
       "      <th>1</th>\n",
       "      <td>664a0a9c-c46e-429f-bc23-ab529fe39639</td>\n",
       "      <td>[9281784d-734c-4665-b5dd-f6da8fd81859]</td>\n",
       "    </tr>\n",
       "    <tr>\n",
       "      <th>2</th>\n",
       "      <td>4a3739b7-d9a0-4e85-9870-18ec4085b53a</td>\n",
       "      <td>[bbeb5fdc-a88b-4981-861c-65d14ff2d3ec]</td>\n",
       "    </tr>\n",
       "    <tr>\n",
       "      <th>3</th>\n",
       "      <td>b8603470-549e-462f-be6a-8054c44a4a6d</td>\n",
       "      <td>[bbeb5fdc-a88b-4981-861c-65d14ff2d3ec]</td>\n",
       "    </tr>\n",
       "    <tr>\n",
       "      <th>4</th>\n",
       "      <td>3ddfe1da-8a91-444c-8d9b-94fe384de396</td>\n",
       "      <td>[3011dcf7-0ef2-43cb-9668-880ed01a5de5]</td>\n",
       "    </tr>\n",
       "  </tbody>\n",
       "</table>\n",
       "</div>"
      ],
      "text/plain": [
       "                            question_id  \\\n",
       "0  7b4dbc95-9077-45ff-90b0-8dfb1920ce88   \n",
       "1  664a0a9c-c46e-429f-bc23-ab529fe39639   \n",
       "2  4a3739b7-d9a0-4e85-9870-18ec4085b53a   \n",
       "3  b8603470-549e-462f-be6a-8054c44a4a6d   \n",
       "4  3ddfe1da-8a91-444c-8d9b-94fe384de396   \n",
       "\n",
       "                                 chunk_id  \n",
       "0  [9281784d-734c-4665-b5dd-f6da8fd81859]  \n",
       "1  [9281784d-734c-4665-b5dd-f6da8fd81859]  \n",
       "2  [bbeb5fdc-a88b-4981-861c-65d14ff2d3ec]  \n",
       "3  [bbeb5fdc-a88b-4981-861c-65d14ff2d3ec]  \n",
       "4  [3011dcf7-0ef2-43cb-9668-880ed01a5de5]  "
      ]
     },
     "metadata": {},
     "output_type": "display_data"
    }
   ],
   "source": [
    "import pandas as pd\n",
    "df = pd.DataFrame(list(qa_dataset.relevant_docs.items()),columns = ['question_id','chunk_id'])\n",
    "df.head()"
   ]
  },
  {
   "cell_type": "code",
   "execution_count": null,
   "metadata": {},
   "outputs": [
    {
     "data": {
      "text/html": [
       "<div>\n",
       "<style scoped>\n",
       "    .dataframe tbody tr th:only-of-type {\n",
       "        vertical-align: middle;\n",
       "    }\n",
       "\n",
       "    .dataframe tbody tr th {\n",
       "        vertical-align: top;\n",
       "    }\n",
       "\n",
       "    .dataframe thead th {\n",
       "        text-align: right;\n",
       "    }\n",
       "</style>\n",
       "<table border=\"1\" class=\"dataframe\">\n",
       "  <thead>\n",
       "    <tr style=\"text-align: right;\">\n",
       "      <th></th>\n",
       "      <th>chunk_id</th>\n",
       "      <th>chunk_text</th>\n",
       "    </tr>\n",
       "  </thead>\n",
       "  <tbody>\n",
       "    <tr>\n",
       "      <th>0</th>\n",
       "      <td>9281784d-734c-4665-b5dd-f6da8fd81859</td>\n",
       "      <td>Vejledning om beskæftigelseskravet for ret til...</td>\n",
       "    </tr>\n",
       "    <tr>\n",
       "      <th>1</th>\n",
       "      <td>bbeb5fdc-a88b-4981-861c-65d14ff2d3ec</td>\n",
       "      <td>Kravet om at ville have været berettiget til a...</td>\n",
       "    </tr>\n",
       "    <tr>\n",
       "      <th>2</th>\n",
       "      <td>3011dcf7-0ef2-43cb-9668-880ed01a5de5</td>\n",
       "      <td>Det fremgår af lovens § 27, stk. 1, nr. 1, at ...</td>\n",
       "    </tr>\n",
       "    <tr>\n",
       "      <th>3</th>\n",
       "      <td>0ecf96e1-1982-472d-be10-df29d162aafb</td>\n",
       "      <td>Opgørelsen af beskæftigelseskravet sker som ud...</td>\n",
       "    </tr>\n",
       "    <tr>\n",
       "      <th>4</th>\n",
       "      <td>4c7f436c-b9b4-49eb-8766-8b111311eef3</td>\n",
       "      <td>Hvis det i forbindelse med Udbetaling Danmarks...</td>\n",
       "    </tr>\n",
       "  </tbody>\n",
       "</table>\n",
       "</div>"
      ],
      "text/plain": [
       "                               chunk_id  \\\n",
       "0  9281784d-734c-4665-b5dd-f6da8fd81859   \n",
       "1  bbeb5fdc-a88b-4981-861c-65d14ff2d3ec   \n",
       "2  3011dcf7-0ef2-43cb-9668-880ed01a5de5   \n",
       "3  0ecf96e1-1982-472d-be10-df29d162aafb   \n",
       "4  4c7f436c-b9b4-49eb-8766-8b111311eef3   \n",
       "\n",
       "                                          chunk_text  \n",
       "0  Vejledning om beskæftigelseskravet for ret til...  \n",
       "1  Kravet om at ville have været berettiget til a...  \n",
       "2  Det fremgår af lovens § 27, stk. 1, nr. 1, at ...  \n",
       "3  Opgørelsen af beskæftigelseskravet sker som ud...  \n",
       "4  Hvis det i forbindelse med Udbetaling Danmarks...  "
      ]
     },
     "metadata": {},
     "output_type": "display_data"
    }
   ],
   "source": [
    "df_corpus = pd.DataFrame(list(qa_dataset.corpus.items()),columns = ['chunk_id','chunk_text'])\n",
    "df_corpus.head()"
   ]
  },
  {
   "cell_type": "code",
   "execution_count": null,
   "metadata": {},
   "outputs": [
    {
     "data": {
      "text/html": [
       "<div>\n",
       "<style scoped>\n",
       "    .dataframe tbody tr th:only-of-type {\n",
       "        vertical-align: middle;\n",
       "    }\n",
       "\n",
       "    .dataframe tbody tr th {\n",
       "        vertical-align: top;\n",
       "    }\n",
       "\n",
       "    .dataframe thead th {\n",
       "        text-align: right;\n",
       "    }\n",
       "</style>\n",
       "<table border=\"1\" class=\"dataframe\">\n",
       "  <thead>\n",
       "    <tr style=\"text-align: right;\">\n",
       "      <th></th>\n",
       "      <th>question_id</th>\n",
       "      <th>question</th>\n",
       "    </tr>\n",
       "  </thead>\n",
       "  <tbody>\n",
       "    <tr>\n",
       "      <th>0</th>\n",
       "      <td>7b4dbc95-9077-45ff-90b0-8dfb1920ce88</td>\n",
       "      <td>Hvad er de fem krav om tilknytning til arbejds...</td>\n",
       "    </tr>\n",
       "    <tr>\n",
       "      <th>1</th>\n",
       "      <td>664a0a9c-c46e-429f-bc23-ab529fe39639</td>\n",
       "      <td>Hvad er betingelserne for at opfylde kravet om...</td>\n",
       "    </tr>\n",
       "    <tr>\n",
       "      <th>2</th>\n",
       "      <td>4a3739b7-d9a0-4e85-9870-18ec4085b53a</td>\n",
       "      <td>Hvad er kravet for at være berettiget til arbe...</td>\n",
       "    </tr>\n",
       "    <tr>\n",
       "      <th>3</th>\n",
       "      <td>b8603470-549e-462f-be6a-8054c44a4a6d</td>\n",
       "      <td>Hvad er kravet for at opfylde beskæftigelseskr...</td>\n",
       "    </tr>\n",
       "    <tr>\n",
       "      <th>4</th>\n",
       "      <td>3ddfe1da-8a91-444c-8d9b-94fe384de396</td>\n",
       "      <td>Hvad er kravet for at få ret til barselsdagpen...</td>\n",
       "    </tr>\n",
       "  </tbody>\n",
       "</table>\n",
       "</div>"
      ],
      "text/plain": [
       "                            question_id  \\\n",
       "0  7b4dbc95-9077-45ff-90b0-8dfb1920ce88   \n",
       "1  664a0a9c-c46e-429f-bc23-ab529fe39639   \n",
       "2  4a3739b7-d9a0-4e85-9870-18ec4085b53a   \n",
       "3  b8603470-549e-462f-be6a-8054c44a4a6d   \n",
       "4  3ddfe1da-8a91-444c-8d9b-94fe384de396   \n",
       "\n",
       "                                            question  \n",
       "0  Hvad er de fem krav om tilknytning til arbejds...  \n",
       "1  Hvad er betingelserne for at opfylde kravet om...  \n",
       "2  Hvad er kravet for at være berettiget til arbe...  \n",
       "3  Hvad er kravet for at opfylde beskæftigelseskr...  \n",
       "4  Hvad er kravet for at få ret til barselsdagpen...  "
      ]
     },
     "metadata": {},
     "output_type": "display_data"
    }
   ],
   "source": [
    "df_queries = pd.DataFrame(list(qa_dataset.queries.items()),columns = ['question_id','question'])\n",
    "df_queries.head()"
   ]
  },
  {
   "cell_type": "code",
   "execution_count": null,
   "metadata": {},
   "outputs": [
    {
     "data": {
      "text/html": [
       "<div>\n",
       "<style scoped>\n",
       "    .dataframe tbody tr th:only-of-type {\n",
       "        vertical-align: middle;\n",
       "    }\n",
       "\n",
       "    .dataframe tbody tr th {\n",
       "        vertical-align: top;\n",
       "    }\n",
       "\n",
       "    .dataframe thead th {\n",
       "        text-align: right;\n",
       "    }\n",
       "</style>\n",
       "<table border=\"1\" class=\"dataframe\">\n",
       "  <thead>\n",
       "    <tr style=\"text-align: right;\">\n",
       "      <th></th>\n",
       "      <th>chunk_id</th>\n",
       "      <th>chunk_text</th>\n",
       "    </tr>\n",
       "  </thead>\n",
       "  <tbody>\n",
       "    <tr>\n",
       "      <th>0</th>\n",
       "      <td>9281784d-734c-4665-b5dd-f6da8fd81859</td>\n",
       "      <td>Vejledning om beskæftigelseskravet for ret til...</td>\n",
       "    </tr>\n",
       "    <tr>\n",
       "      <th>1</th>\n",
       "      <td>9281784d-734c-4665-b5dd-f6da8fd81859</td>\n",
       "      <td>Vejledning om beskæftigelseskravet for ret til...</td>\n",
       "    </tr>\n",
       "    <tr>\n",
       "      <th>2</th>\n",
       "      <td>bbeb5fdc-a88b-4981-861c-65d14ff2d3ec</td>\n",
       "      <td>Kravet om at ville have været berettiget til a...</td>\n",
       "    </tr>\n",
       "    <tr>\n",
       "      <th>3</th>\n",
       "      <td>bbeb5fdc-a88b-4981-861c-65d14ff2d3ec</td>\n",
       "      <td>Kravet om at ville have været berettiget til a...</td>\n",
       "    </tr>\n",
       "    <tr>\n",
       "      <th>4</th>\n",
       "      <td>3011dcf7-0ef2-43cb-9668-880ed01a5de5</td>\n",
       "      <td>Det fremgår af lovens § 27, stk. 1, nr. 1, at ...</td>\n",
       "    </tr>\n",
       "  </tbody>\n",
       "</table>\n",
       "</div>"
      ],
      "text/plain": [
       "                               chunk_id  \\\n",
       "0  9281784d-734c-4665-b5dd-f6da8fd81859   \n",
       "1  9281784d-734c-4665-b5dd-f6da8fd81859   \n",
       "2  bbeb5fdc-a88b-4981-861c-65d14ff2d3ec   \n",
       "3  bbeb5fdc-a88b-4981-861c-65d14ff2d3ec   \n",
       "4  3011dcf7-0ef2-43cb-9668-880ed01a5de5   \n",
       "\n",
       "                                          chunk_text  \n",
       "0  Vejledning om beskæftigelseskravet for ret til...  \n",
       "1  Vejledning om beskæftigelseskravet for ret til...  \n",
       "2  Kravet om at ville have været berettiget til a...  \n",
       "3  Kravet om at ville have været berettiget til a...  \n",
       "4  Det fremgår af lovens § 27, stk. 1, nr. 1, at ...  "
      ]
     },
     "metadata": {},
     "output_type": "display_data"
    }
   ],
   "source": [
    "#Duplicate each row of the df_corpus dataframe in order to have a row for each question_id (twice as many)\n",
    "df_corpus = df_corpus.loc[df_corpus.index.repeat(2)].reset_index(drop=True)\n",
    "df_corpus.head()"
   ]
  },
  {
   "cell_type": "code",
   "execution_count": null,
   "metadata": {},
   "outputs": [
    {
     "data": {
      "text/html": [
       "<div>\n",
       "<style scoped>\n",
       "    .dataframe tbody tr th:only-of-type {\n",
       "        vertical-align: middle;\n",
       "    }\n",
       "\n",
       "    .dataframe tbody tr th {\n",
       "        vertical-align: top;\n",
       "    }\n",
       "\n",
       "    .dataframe thead th {\n",
       "        text-align: right;\n",
       "    }\n",
       "</style>\n",
       "<table border=\"1\" class=\"dataframe\">\n",
       "  <thead>\n",
       "    <tr style=\"text-align: right;\">\n",
       "      <th></th>\n",
       "      <th>chunk_id</th>\n",
       "      <th>chunk_text</th>\n",
       "      <th>question_id</th>\n",
       "      <th>question</th>\n",
       "    </tr>\n",
       "  </thead>\n",
       "  <tbody>\n",
       "    <tr>\n",
       "      <th>0</th>\n",
       "      <td>9281784d-734c-4665-b5dd-f6da8fd81859</td>\n",
       "      <td>Vejledning om beskæftigelseskravet for ret til...</td>\n",
       "      <td>7b4dbc95-9077-45ff-90b0-8dfb1920ce88</td>\n",
       "      <td>Hvad er de fem krav om tilknytning til arbejds...</td>\n",
       "    </tr>\n",
       "    <tr>\n",
       "      <th>1</th>\n",
       "      <td>9281784d-734c-4665-b5dd-f6da8fd81859</td>\n",
       "      <td>Vejledning om beskæftigelseskravet for ret til...</td>\n",
       "      <td>664a0a9c-c46e-429f-bc23-ab529fe39639</td>\n",
       "      <td>Hvad er betingelserne for at opfylde kravet om...</td>\n",
       "    </tr>\n",
       "    <tr>\n",
       "      <th>2</th>\n",
       "      <td>bbeb5fdc-a88b-4981-861c-65d14ff2d3ec</td>\n",
       "      <td>Kravet om at ville have været berettiget til a...</td>\n",
       "      <td>4a3739b7-d9a0-4e85-9870-18ec4085b53a</td>\n",
       "      <td>Hvad er kravet for at være berettiget til arbe...</td>\n",
       "    </tr>\n",
       "    <tr>\n",
       "      <th>3</th>\n",
       "      <td>bbeb5fdc-a88b-4981-861c-65d14ff2d3ec</td>\n",
       "      <td>Kravet om at ville have været berettiget til a...</td>\n",
       "      <td>b8603470-549e-462f-be6a-8054c44a4a6d</td>\n",
       "      <td>Hvad er kravet for at opfylde beskæftigelseskr...</td>\n",
       "    </tr>\n",
       "    <tr>\n",
       "      <th>4</th>\n",
       "      <td>3011dcf7-0ef2-43cb-9668-880ed01a5de5</td>\n",
       "      <td>Det fremgår af lovens § 27, stk. 1, nr. 1, at ...</td>\n",
       "      <td>3ddfe1da-8a91-444c-8d9b-94fe384de396</td>\n",
       "      <td>Hvad er kravet for at få ret til barselsdagpen...</td>\n",
       "    </tr>\n",
       "  </tbody>\n",
       "</table>\n",
       "</div>"
      ],
      "text/plain": [
       "                               chunk_id  \\\n",
       "0  9281784d-734c-4665-b5dd-f6da8fd81859   \n",
       "1  9281784d-734c-4665-b5dd-f6da8fd81859   \n",
       "2  bbeb5fdc-a88b-4981-861c-65d14ff2d3ec   \n",
       "3  bbeb5fdc-a88b-4981-861c-65d14ff2d3ec   \n",
       "4  3011dcf7-0ef2-43cb-9668-880ed01a5de5   \n",
       "\n",
       "                                          chunk_text  \\\n",
       "0  Vejledning om beskæftigelseskravet for ret til...   \n",
       "1  Vejledning om beskæftigelseskravet for ret til...   \n",
       "2  Kravet om at ville have været berettiget til a...   \n",
       "3  Kravet om at ville have været berettiget til a...   \n",
       "4  Det fremgår af lovens § 27, stk. 1, nr. 1, at ...   \n",
       "\n",
       "                            question_id  \\\n",
       "0  7b4dbc95-9077-45ff-90b0-8dfb1920ce88   \n",
       "1  664a0a9c-c46e-429f-bc23-ab529fe39639   \n",
       "2  4a3739b7-d9a0-4e85-9870-18ec4085b53a   \n",
       "3  b8603470-549e-462f-be6a-8054c44a4a6d   \n",
       "4  3ddfe1da-8a91-444c-8d9b-94fe384de396   \n",
       "\n",
       "                                            question  \n",
       "0  Hvad er de fem krav om tilknytning til arbejds...  \n",
       "1  Hvad er betingelserne for at opfylde kravet om...  \n",
       "2  Hvad er kravet for at være berettiget til arbe...  \n",
       "3  Hvad er kravet for at opfylde beskæftigelseskr...  \n",
       "4  Hvad er kravet for at få ret til barselsdagpen...  "
      ]
     },
     "metadata": {},
     "output_type": "display_data"
    }
   ],
   "source": [
    "#Add the df_corpus and the df_queries dataframes together by concatenating them\n",
    "df_corpus = pd.concat([df_corpus, df_queries], axis=1)\n",
    "df_corpus.head()"
   ]
  },
  {
   "cell_type": "code",
   "execution_count": 18,
   "metadata": {},
   "outputs": [],
   "source": [
    "#Save the dataframe as a csv file ensure that non ascii characters are encoded as utf-8\n",
    "df.to_csv('data/chunks_questions-25-11-23_100_samples.csv', encoding='utf-8')"
   ]
  },
  {
   "cell_type": "code",
   "execution_count": null,
   "metadata": {},
   "outputs": [],
   "source": []
  }
 ],
 "metadata": {
  "kernelspec": {
   "display_name": "llm",
   "language": "python",
   "name": "python3"
  },
  "language_info": {
   "codemirror_mode": {
    "name": "ipython",
    "version": 3
   },
   "file_extension": ".py",
   "mimetype": "text/x-python",
   "name": "python",
   "nbconvert_exporter": "python",
   "pygments_lexer": "ipython3",
   "version": "3.11.4"
  }
 },
 "nbformat": 4,
 "nbformat_minor": 2
}
