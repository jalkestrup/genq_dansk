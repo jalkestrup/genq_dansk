{
 "cells": [
  {
   "cell_type": "markdown",
   "metadata": {},
   "source": [
    "## Understanding the EmbeddingQAFinetune object\n",
    "Loading the prev generated qa object and exploring the structure"
   ]
  },
  {
   "cell_type": "markdown",
   "metadata": {},
   "source": [
    "**Load previously generated Q and chunks**"
   ]
  },
  {
   "cell_type": "code",
   "execution_count": 1,
   "metadata": {},
   "outputs": [
    {
     "name": "stderr",
     "output_type": "stream",
     "text": [
      "/home/jealk/mambaforge/envs/llm/lib/python3.11/site-packages/deeplake/util/check_latest_version.py:32: UserWarning: A newer version of deeplake (3.8.8) is available. It's recommended that you update to the latest version using `pip install -U deeplake`.\n",
      "  warnings.warn(\n"
     ]
    }
   ],
   "source": [
    "from llama_index.finetuning import EmbeddingQAFinetuneDataset\n",
    "\n",
    "# Load the datasets from saved json files\n",
    "qa_dataset = EmbeddingQAFinetuneDataset.from_json(\n",
    "    \"data/qa_dataset_25-11-23_100_samples.json\"\n",
    ")"
   ]
  },
  {
   "cell_type": "markdown",
   "metadata": {},
   "source": [
    "### The QA object:\n",
    "\n",
    "- **.corpus** # contains a dict where key is a unique ID for each text chunk, and the value is the text chunk (used for generating the Q)\n",
    "- **.queries** # contains a dict where key is a unique ID for each question, and the value is the question (generated previously)\n",
    "- **.relevant_docs** # A dict that contains the question ID as the key (prev generated), and as value contains a list of relevant text chunk IDs  (initially list contains only 1 item)\n",
    "- **.query_docid_pairs** # A list of tuples, where each tuple contains a question str (for some reason not the ID) and a text chunk ID"
   ]
  },
  {
   "cell_type": "markdown",
   "metadata": {},
   "source": [
    "100 text chunks was used to generate 200 questions"
   ]
  },
  {
   "cell_type": "code",
   "execution_count": 2,
   "metadata": {},
   "outputs": [
    {
     "data": {
      "text/plain": [
       "(100, 200, 200)"
      ]
     },
     "execution_count": 2,
     "metadata": {},
     "output_type": "execute_result"
    }
   ],
   "source": [
    "len(qa_dataset.corpus), len(qa_dataset.queries), len(qa_dataset.relevant_docs)"
   ]
  },
  {
   "cell_type": "markdown",
   "metadata": {},
   "source": [
    "Inspecting **.corpus**"
   ]
  },
  {
   "cell_type": "code",
   "execution_count": 3,
   "metadata": {},
   "outputs": [
    {
     "name": "stdout",
     "output_type": "stream",
     "text": [
      "First element has: \n",
      "Unique ID: 9281784d-734c-4665-b5dd-f6da8fd81859 \n",
      "\n",
      "Text:\n",
      "Vejledning om beskæftigelseskravet for ret til barselsdagpenge\n",
      "\n",
      "1.Indledning\n",
      "I denne vejledning beskrives hvilke beskæftigelseskrav, der gælder for at opnå ret til barselsdagpenge. Reglerne findes i §§ 27-29 i barselsloven (loven).\n",
      "\n",
      "I bekendtgørelse nr. 1090 af 1. juni 2021 om opgørelse af beskæftigelseskrav og beregning af barselsdagpenge m.v. (bekendtgørelsen) er fastsat nærmere regler om opgørelsen af beskæftigelseskravet.\n",
      "\n",
      "Denne vejledning erstatter vejledning nr. 10066 af 29. december 2020 om beskæftigelseskravet for ret til barselsdagpenge.\n",
      "\n",
      "En lønmodtager har ret til barselsdagpenge, hvis pågældende opfylder ét af de fem krav om tilknytning til arbejdsmarkedet, der er nævnt i lovens § 27, stk. 1.\n",
      "\n",
      "Kravet om aktuel beskæftigelse dagen før fraværet eller på første fraværsdag samt beskæftigelse i mindst 160 timer indberettet i indkomstregistret inden for de seneste 4 afsluttede kalendermåneder forud for fraværsperioden, jf. lovens § 27, stk. 1, nr. 1, er beskrevet i pkt. 2.1.\n"
     ]
    }
   ],
   "source": [
    "# return first item from the qa_datset.corpus which is a list of dictionaries\n",
    "first_corpus_key = next(iter(qa_dataset.corpus))\n",
    "first_corpus_value = qa_dataset.corpus[first_corpus_key]\n",
    "\n",
    "\n",
    "print(\n",
    "    f\"First element has: \\nUnique ID: {first_corpus_key} \\n\\nText:\\n{first_corpus_value}\"\n",
    ")"
   ]
  },
  {
   "cell_type": "markdown",
   "metadata": {},
   "source": [
    "Inspecting **.queries**"
   ]
  },
  {
   "cell_type": "code",
   "execution_count": 4,
   "metadata": {},
   "outputs": [
    {
     "name": "stdout",
     "output_type": "stream",
     "text": [
      "First query has: \n",
      "Unique ID: 7b4dbc95-9077-45ff-90b0-8dfb1920ce88 \n",
      "\n",
      "Text:\n",
      "Hvad er de fem krav om tilknytning til arbejdsmarkedet, som en lønmodtager skal opfylde for at have ret til barselsdagpenge?\n"
     ]
    }
   ],
   "source": [
    "# Load the .queries in a similar manner\n",
    "first_query_key = next(iter(qa_dataset.queries))\n",
    "first_query_value = qa_dataset.queries[first_query_key]\n",
    "\n",
    "print(f\"First query has: \\nUnique ID: {first_query_key} \\n\\nText:\\n{first_query_value}\")"
   ]
  },
  {
   "cell_type": "markdown",
   "metadata": {},
   "source": [
    "Inspecting **.relevant_docs**"
   ]
  },
  {
   "cell_type": "code",
   "execution_count": 5,
   "metadata": {},
   "outputs": [
    {
     "name": "stdout",
     "output_type": "stream",
     "text": [
      "First question - text pair has : \n",
      "Question ID: 7b4dbc95-9077-45ff-90b0-8dfb1920ce88 \n",
      "\n",
      "Text ID:\n",
      "['9281784d-734c-4665-b5dd-f6da8fd81859']\n"
     ]
    }
   ],
   "source": [
    "# Load the qa_dataset.relevant_docs in a similar manner\n",
    "first_relevant_docs_key = next(iter(qa_dataset.relevant_docs))\n",
    "first_relevant_docs_value = qa_dataset.relevant_docs[first_relevant_docs_key]\n",
    "\n",
    "print(\n",
    "    f\"First question - text pair has : \\nQuestion ID: {first_relevant_docs_key} \\n\\nText ID:\\n{first_relevant_docs_value}\"\n",
    ")"
   ]
  },
  {
   "cell_type": "markdown",
   "metadata": {},
   "source": [
    "**Since I generated 2 questions per chunk in the previous notebook, there will be 2 questions that refer to the same text ID**"
   ]
  },
  {
   "cell_type": "markdown",
   "metadata": {},
   "source": [
    "Inspecting **.query_docid_pairs**"
   ]
  },
  {
   "cell_type": "code",
   "execution_count": 6,
   "metadata": {},
   "outputs": [
    {
     "data": {
      "text/plain": [
       "[('Hvad er de fem krav om tilknytning til arbejdsmarkedet, som en lønmodtager skal opfylde for at have ret til barselsdagpenge?',\n",
       "  ['9281784d-734c-4665-b5dd-f6da8fd81859']),\n",
       " ('Hvad er betingelserne for at opfylde kravet om aktuel beskæftigelse og beskæftigelse i mindst 160 timer for at få ret til barselsdagpenge?',\n",
       "  ['9281784d-734c-4665-b5dd-f6da8fd81859'])]"
      ]
     },
     "execution_count": 6,
     "metadata": {},
     "output_type": "execute_result"
    }
   ],
   "source": [
    "qa_dataset.query_docid_pairs[:2]"
   ]
  }
 ],
 "metadata": {
  "kernelspec": {
   "display_name": "llm",
   "language": "python",
   "name": "python3"
  },
  "language_info": {
   "codemirror_mode": {
    "name": "ipython",
    "version": 3
   },
   "file_extension": ".py",
   "mimetype": "text/x-python",
   "name": "python",
   "nbconvert_exporter": "python",
   "pygments_lexer": "ipython3",
   "version": "3.11.4"
  }
 },
 "nbformat": 4,
 "nbformat_minor": 2
}
