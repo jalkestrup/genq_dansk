{
 "cells": [
  {
   "cell_type": "markdown",
   "metadata": {},
   "source": [
    "## Setting up vector retrieval\n",
    "In order to retrieve top N most similar chunks based on a question, and evaluate retrieval performance"
   ]
  },
  {
   "cell_type": "markdown",
   "metadata": {},
   "source": [
    "**Load previously generated Q and chunks**"
   ]
  },
  {
   "cell_type": "code",
   "execution_count": 22,
   "metadata": {},
   "outputs": [],
   "source": [
    "from llama_index.finetuning import EmbeddingQAFinetuneDataset\n",
    "\n",
    "# Load the datasets from saved json files\n",
    "qa_dataset = EmbeddingQAFinetuneDataset.from_json(\n",
    "    \"data/qa_dataset_25-11-23_100_samples.json\"\n",
    ")"
   ]
  },
  {
   "cell_type": "markdown",
   "metadata": {},
   "source": [
    "**Load the prev created llamaindex nodes**"
   ]
  },
  {
   "cell_type": "code",
   "execution_count": 21,
   "metadata": {},
   "outputs": [],
   "source": [
    "from llama_index.storage.docstore import SimpleDocumentStore\n",
    "\n",
    "# Load the SimpleDocumentStore from the persisted file\n",
    "docstore = SimpleDocumentStore.from_persist_path(\"data/node_store_25-11-23\")\n",
    "# Create a list of nodes by list comprehension by iterating over the key (store hash) value (llamnaindex node) pairs of the docstore.docs object and appending the value to the list\n",
    "nodes_vejledninger_filtered = [node for key, node in docstore.docs.items()]"
   ]
  },
  {
   "cell_type": "code",
   "execution_count": 23,
   "metadata": {},
   "outputs": [
    {
     "data": {
      "text/plain": [
       "TextNode(id_='9281784d-734c-4665-b5dd-f6da8fd81859', embedding=None, metadata={'file_name': 'Vejledning om beskæftigelseskravet for ret til barselsdagpenge'}, excluded_embed_metadata_keys=[], excluded_llm_metadata_keys=[], relationships={<NodeRelationship.SOURCE: '1'>: RelatedNodeInfo(node_id='bf7cc5c5-d22b-4a6c-879b-39063472fd88', node_type=<ObjectType.DOCUMENT: '4'>, metadata={'file_name': 'Vejledning om beskæftigelseskravet for ret til barselsdagpenge'}, hash='7e7f2f700c6c652f5cabbd0eef9eff850b88b2a95686f15eedec7b2391297a72'), <NodeRelationship.NEXT: '3'>: RelatedNodeInfo(node_id='bbeb5fdc-a88b-4981-861c-65d14ff2d3ec', node_type=<ObjectType.TEXT: '1'>, metadata={'file_name': 'Vejledning om beskæftigelseskravet for ret til barselsdagpenge'}, hash='5c426770052433ab486974eab74a39cc111e1783c768f337dd2024f19cad06d7')}, hash='873272c4371dd3da03ab7d791cb036ba96a50b59f1f6b484639f3d6e9c868b1c', text='Vejledning om beskæftigelseskravet for ret til barselsdagpenge\\n\\n1.Indledning\\nI denne vejledning beskrives hvilke beskæftigelseskrav, der gælder for at opnå ret til barselsdagpenge. Reglerne findes i §§ 27-29 i barselsloven (loven).\\n\\nI bekendtgørelse nr. 1090 af 1. juni 2021 om opgørelse af beskæftigelseskrav og beregning af barselsdagpenge m.v. (bekendtgørelsen) er fastsat nærmere regler om opgørelsen af beskæftigelseskravet.\\n\\nDenne vejledning erstatter vejledning nr. 10066 af 29. december 2020 om beskæftigelseskravet for ret til barselsdagpenge.\\n\\nEn lønmodtager har ret til barselsdagpenge, hvis pågældende opfylder ét af de fem krav om tilknytning til arbejdsmarkedet, der er nævnt i lovens § 27, stk. 1.\\n\\nKravet om aktuel beskæftigelse dagen før fraværet eller på første fraværsdag samt beskæftigelse i mindst 160 timer indberettet i indkomstregistret inden for de seneste 4 afsluttede kalendermåneder forud for fraværsperioden, jf. lovens § 27, stk. 1, nr. 1, er beskrevet i pkt. 2.1.', start_char_idx=None, end_char_idx=None, text_template='{metadata_str}\\n\\n{content}', metadata_template='{key}: {value}', metadata_seperator='\\n')"
      ]
     },
     "execution_count": 23,
     "metadata": {},
     "output_type": "execute_result"
    }
   ],
   "source": [
    "nodes_vejledninger_filtered[0]"
   ]
  },
  {
   "cell_type": "markdown",
   "metadata": {},
   "source": [
    "**Set up embedding model for retrieval**"
   ]
  },
  {
   "cell_type": "code",
   "execution_count": 17,
   "metadata": {},
   "outputs": [],
   "source": [
    "from llama_index.embeddings.huggingface import HuggingFaceEmbedding\n",
    "\n",
    "embed_model_hf = HuggingFaceEmbedding(\n",
    "    model_name=\"intfloat/multilingual-e5-small\",\n",
    "    normalize=True,\n",
    "    # Instruction to prepend query\n",
    "    query_instruction=\"query:\",\n",
    "    # Instruction to prepend text\n",
    "    text_instruction=\"passage:\"\n",
    "    # Or loading default values via\n",
    "    # embed_model=\"local:intfloat/multilingual-e5-small\"\n",
    ")"
   ]
  },
  {
   "cell_type": "code",
   "execution_count": 18,
   "metadata": {},
   "outputs": [],
   "source": [
    "from llama_index import ServiceContext\n",
    "\n",
    "service_context_e5 = ServiceContext.from_defaults(embed_model=embed_model_hf)"
   ]
  },
  {
   "cell_type": "code",
   "execution_count": 24,
   "metadata": {},
   "outputs": [
    {
     "data": {
      "application/vnd.jupyter.widget-view+json": {
       "model_id": "b09791363df44e958c129580cc8133c2",
       "version_major": 2,
       "version_minor": 0
      },
      "text/plain": [
       "Generating embeddings:   0%|          | 0/300 [00:00<?, ?it/s]"
      ]
     },
     "metadata": {},
     "output_type": "display_data"
    }
   ],
   "source": [
    "from llama_index import VectorStoreIndex\n",
    "\n",
    "# Building a vector index from the first 300 text cunks\n",
    "vector_index_e5 = VectorStoreIndex(\n",
    "    nodes_vejledninger_filtered[0:300],\n",
    "    service_context=service_context_e5,\n",
    "    show_progress=True,\n",
    ")"
   ]
  },
  {
   "cell_type": "markdown",
   "metadata": {},
   "source": [
    "**Simple retriever test**"
   ]
  },
  {
   "cell_type": "code",
   "execution_count": 25,
   "metadata": {},
   "outputs": [
    {
     "data": {
      "text/plain": [
       "[('Hvad er de fem krav om tilknytning til arbejdsmarkedet, som en lønmodtager skal opfylde for at have ret til barselsdagpenge?',\n",
       "  ['9281784d-734c-4665-b5dd-f6da8fd81859']),\n",
       " ('Hvad er betingelserne for at opfylde kravet om aktuel beskæftigelse og beskæftigelse i mindst 160 timer for at få ret til barselsdagpenge?',\n",
       "  ['9281784d-734c-4665-b5dd-f6da8fd81859'])]"
      ]
     },
     "execution_count": 25,
     "metadata": {},
     "output_type": "execute_result"
    }
   ],
   "source": [
    "qa_dataset.query_docid_pairs[:2]"
   ]
  },
  {
   "cell_type": "code",
   "execution_count": 26,
   "metadata": {},
   "outputs": [
    {
     "name": "stdout",
     "output_type": "stream",
     "text": [
      "Hvad er de fem krav om tilknytning til arbejdsmarkedet, som en lønmodtager skal opfylde for at have ret til barselsdagpenge?\n"
     ]
    }
   ],
   "source": [
    "sample_query = qa_dataset.query_docid_pairs[0][0]\n",
    "print(sample_query)"
   ]
  },
  {
   "cell_type": "code",
   "execution_count": 30,
   "metadata": {},
   "outputs": [
    {
     "data": {
      "text/markdown": [
       "**Node ID:** 3011dcf7-0ef2-43cb-9668-880ed01a5de5<br>**Similarity:** 0.969562923310707<br>**Text:** Det fremgår af lovens § 27, stk. 1, nr. 1, at en lønmodtager har ret til barselsdagpenge, hvis pågældende er i beskæftigelse dagen før fraværet eller på første fraværsdag og har været beskæftiget i mindst 160 timer inden for de seneste 4 afsluttede kalendermåneder og i mindst 3 af disse måneder har været beskæftiget i mindst 40 timer i hver måned. Kravet har til formål at sikre, at lønmodtagere, der opnår ret til barselsdagpenge, både har en aktuel tilknytning til arbejdsmarkedet og i en længere periode forud for første fraværsdag har haft en tilknytning til arbejdsmarkedet.<br>"
      ],
      "text/plain": [
       "<IPython.core.display.Markdown object>"
      ]
     },
     "metadata": {},
     "output_type": "display_data"
    },
    {
     "data": {
      "text/markdown": [
       "**Node ID:** 490017fc-6fc4-4d52-a6ec-ca27ecd23761<br>**Similarity:** 0.9649478794124629<br>**Text:** Det betyder, at f.eks. en mor, der ikke opfylder beskæftigelseskravet på fødselstidspunktet, og dermed ikke får ret til de 10 ugers barselsdagpenge i den første fraværsperiode efter § 7, alligevel kan få ret til efterfølgende fravær efter § 9 med ret til barselsdagpenge efter § 21, hvis hun opfylder beskæftigelseskravet på det tidspunkt, hvor orloven efter § 9 påbegyndes.\n",
       "\n",
       "Eksempel<br>"
      ],
      "text/plain": [
       "<IPython.core.display.Markdown object>"
      ]
     },
     "metadata": {},
     "output_type": "display_data"
    },
    {
     "data": {
      "text/markdown": [
       "**Node ID:** a2609188-174a-4171-8a9a-c5655e92c248<br>**Similarity:** 0.9633721892746884<br>**Text:** Hvis en forælder inden for det første år har haft en periode uden barselsdagpenge og igen får ret til barselsdagpenge efter lovens § 29, stk. 1, 2 pkt., sker beregningen af barselsdagpengene ud fra den første fraværsdag i den nye barselsperiode. Hvis forælderen f.eks. ikke længere er i beskæftigelse, men nu ville have ret til arbejdsløshedsdagpenge, hvis forælderen ikke var på barsel, udbetales barselsdagpengene med den sats, personen kunne have fået i arbejdsløshedsdagpenge. Hvis forælderen f.eks. var selvstændig og er blevet lønmodtager, sker beregningen efter beregningsreglerne for lønmodtagere. For en lønmodtager, der har afbrudt en fraværsperiode, og som inden for en kort periode efter afbrydelsen, på ny påbegynder barselsfravær, beregnes barselsdagpengene dog på grundlag af samme timetal og timefortjeneste som i seneste forløb med barselsdagpenge, hvis lønmodtageren ikke har fået løn fra aktuelle arbejdsgiver under afbrydelsen, jf. § 9 i bekendtgørelsen om opgørelse af beskæft...<br>"
      ],
      "text/plain": [
       "<IPython.core.display.Markdown object>"
      ]
     },
     "metadata": {},
     "output_type": "display_data"
    }
   ],
   "source": [
    "from llama_index.response.notebook_utils import display_source_node\n",
    "\n",
    "retriever_e5 = vector_index_e5.as_retriever(similarity_top_k=3)\n",
    "retrieved_nodes = retriever_e5.retrieve(sample_query)\n",
    "\n",
    "for node in retrieved_nodes:\n",
    "    display_source_node(node, source_length=1000)"
   ]
  },
  {
   "cell_type": "markdown",
   "metadata": {},
   "source": [
    "**Conclusion: Intended match NOT in top 3** But perhaps the chunks still answer the question, possibly even better than the \"correct\" from the synthetic generation"
   ]
  },
  {
   "cell_type": "markdown",
   "metadata": {},
   "source": [
    "## Evaluation (based on retriever, k=3)"
   ]
  },
  {
   "cell_type": "code",
   "execution_count": 31,
   "metadata": {},
   "outputs": [],
   "source": [
    "from llama_index.evaluation import RetrieverEvaluator\n",
    "\n",
    "retriever_evaluator_e5 = RetrieverEvaluator.from_metric_names(\n",
    "    [\"mrr\", \"hit_rate\"], retriever=retriever_e5\n",
    ")"
   ]
  },
  {
   "cell_type": "code",
   "execution_count": 32,
   "metadata": {},
   "outputs": [],
   "source": [
    "# try it out on an entire dataset, async evaluation to speed up\n",
    "eval_results_e5 = await retriever_evaluator_e5.aevaluate_dataset(qa_dataset)"
   ]
  },
  {
   "cell_type": "code",
   "execution_count": 33,
   "metadata": {},
   "outputs": [],
   "source": [
    "import pandas as pd\n",
    "\n",
    "\n",
    "def display_results(name, eval_results):\n",
    "    \"\"\"Display results from evaluate.\"\"\"\n",
    "\n",
    "    metric_dicts = []\n",
    "    for eval_result in eval_results:\n",
    "        metric_dict = eval_result.metric_vals_dict\n",
    "        metric_dicts.append(metric_dict)\n",
    "\n",
    "    full_df = pd.DataFrame(metric_dicts)\n",
    "\n",
    "    hit_rate = full_df[\"hit_rate\"].mean()\n",
    "    mrr = full_df[\"mrr\"].mean()\n",
    "\n",
    "    metric_df = pd.DataFrame(\n",
    "        {\"retrievers\": [name], \"hit_rate\": [hit_rate], \"mrr\": [mrr]}\n",
    "    )\n",
    "\n",
    "    return metric_df"
   ]
  },
  {
   "cell_type": "code",
   "execution_count": 34,
   "metadata": {},
   "outputs": [
    {
     "data": {
      "text/html": [
       "<div>\n",
       "<style scoped>\n",
       "    .dataframe tbody tr th:only-of-type {\n",
       "        vertical-align: middle;\n",
       "    }\n",
       "\n",
       "    .dataframe tbody tr th {\n",
       "        vertical-align: top;\n",
       "    }\n",
       "\n",
       "    .dataframe thead th {\n",
       "        text-align: right;\n",
       "    }\n",
       "</style>\n",
       "<table border=\"1\" class=\"dataframe\">\n",
       "  <thead>\n",
       "    <tr style=\"text-align: right;\">\n",
       "      <th></th>\n",
       "      <th>retrievers</th>\n",
       "      <th>hit_rate</th>\n",
       "      <th>mrr</th>\n",
       "    </tr>\n",
       "  </thead>\n",
       "  <tbody>\n",
       "    <tr>\n",
       "      <th>0</th>\n",
       "      <td>top-3 eval</td>\n",
       "      <td>0.805</td>\n",
       "      <td>0.683333</td>\n",
       "    </tr>\n",
       "  </tbody>\n",
       "</table>\n",
       "</div>"
      ],
      "text/plain": [
       "   retrievers  hit_rate       mrr\n",
       "0  top-3 eval     0.805  0.683333"
      ]
     },
     "execution_count": 34,
     "metadata": {},
     "output_type": "execute_result"
    }
   ],
   "source": [
    "display_results(\"top-3 eval\", eval_results_e5)"
   ]
  }
 ],
 "metadata": {
  "kernelspec": {
   "display_name": "llm",
   "language": "python",
   "name": "python3"
  },
  "language_info": {
   "codemirror_mode": {
    "name": "ipython",
    "version": 3
   },
   "file_extension": ".py",
   "mimetype": "text/x-python",
   "name": "python",
   "nbconvert_exporter": "python",
   "pygments_lexer": "ipython3",
   "version": "3.1.0"
  }
 },
 "nbformat": 4,
 "nbformat_minor": 2
}
