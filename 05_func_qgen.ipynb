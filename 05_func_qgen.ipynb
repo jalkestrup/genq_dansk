{
 "cells": [
  {
   "cell_type": "code",
   "execution_count": 1,
   "metadata": {},
   "outputs": [
    {
     "name": "stderr",
     "output_type": "stream",
     "text": [
      "/home/jealk/mambaforge/envs/llama/lib/python3.11/site-packages/tqdm/auto.py:21: TqdmWarning: IProgress not found. Please update jupyter and ipywidgets. See https://ipywidgets.readthedocs.io/en/stable/user_install.html\n",
      "  from .autonotebook import tqdm as notebook_tqdm\n"
     ]
    },
    {
     "data": {
      "text/plain": [
       "True"
      ]
     },
     "execution_count": 1,
     "metadata": {},
     "output_type": "execute_result"
    }
   ],
   "source": [
    "import os\n",
    "from dotenv import load_dotenv\n",
    "import pandas as pd\n",
    "from datasets import Dataset\n",
    "from datasets import load_dataset\n",
    "\n",
    "load_dotenv(override=True)"
   ]
  },
  {
   "cell_type": "markdown",
   "metadata": {},
   "source": [
    "## Get documents from HF"
   ]
  },
  {
   "cell_type": "code",
   "execution_count": 3,
   "metadata": {},
   "outputs": [],
   "source": [
    "# Load from hub\n",
    "ds_vejledninger = load_dataset(\n",
    "    \"jealk/dk_retrieval_benchmark\",\n",
    "    \"retsinformation\",\n",
    "    split=\"train\",\n",
    "    #download_mode=\"force_redownload\",\n",
    ")"
   ]
  },
  {
   "cell_type": "code",
   "execution_count": 4,
   "metadata": {},
   "outputs": [
    {
     "data": {
      "text/html": [
       "<div>\n",
       "<style scoped>\n",
       "    .dataframe tbody tr th:only-of-type {\n",
       "        vertical-align: middle;\n",
       "    }\n",
       "\n",
       "    .dataframe tbody tr th {\n",
       "        vertical-align: top;\n",
       "    }\n",
       "\n",
       "    .dataframe thead th {\n",
       "        text-align: right;\n",
       "    }\n",
       "</style>\n",
       "<table border=\"1\" class=\"dataframe\">\n",
       "  <thead>\n",
       "    <tr style=\"text-align: right;\">\n",
       "      <th></th>\n",
       "      <th>url</th>\n",
       "      <th>title</th>\n",
       "      <th>html_content</th>\n",
       "      <th>text_content</th>\n",
       "    </tr>\n",
       "  </thead>\n",
       "  <tbody>\n",
       "    <tr>\n",
       "      <th>0</th>\n",
       "      <td>https://www.retsinformation.dk/eli/retsinfo/20...</td>\n",
       "      <td>Vejledning om regulering af satser fra 1. janu...</td>\n",
       "      <td>&lt;div class=\"document-content\" id=\"restylingRoo...</td>\n",
       "      <td>Vejledning om regulering af satser fra 1. janu...</td>\n",
       "    </tr>\n",
       "    <tr>\n",
       "      <th>1</th>\n",
       "      <td>https://www.retsinformation.dk/eli/retsinfo/20...</td>\n",
       "      <td>Vejledning om satser i 2024 for betaling af ud...</td>\n",
       "      <td>&lt;div class=\"document-content\" id=\"restylingRoo...</td>\n",
       "      <td>Vejledning om satser i 2024 for betaling af ud...</td>\n",
       "    </tr>\n",
       "    <tr>\n",
       "      <th>2</th>\n",
       "      <td>https://www.retsinformation.dk/eli/retsinfo/20...</td>\n",
       "      <td>Vejledning om obligatorisk selvbooking af jobs...</td>\n",
       "      <td>&lt;div class=\"document-content\" id=\"restylingRoo...</td>\n",
       "      <td>Vejledning om obligatorisk selvbooking af jobs...</td>\n",
       "    </tr>\n",
       "    <tr>\n",
       "      <th>3</th>\n",
       "      <td>https://www.retsinformation.dk/eli/retsinfo/20...</td>\n",
       "      <td>Vejledning til bekendtgørelse om tilskud til s...</td>\n",
       "      <td>&lt;div class=\"document-content\" id=\"restylingRoo...</td>\n",
       "      <td>Vejledning til bekendtgørelse om tilskud til s...</td>\n",
       "    </tr>\n",
       "    <tr>\n",
       "      <th>4</th>\n",
       "      <td>https://www.retsinformation.dk/eli/retsinfo/20...</td>\n",
       "      <td>Vejledning om fleksløntilskud m.v.</td>\n",
       "      <td>&lt;div class=\"document-content\" id=\"restylingRoo...</td>\n",
       "      <td>Vejledning om fleksløntilskud m.v.\\n1.Indledni...</td>\n",
       "    </tr>\n",
       "  </tbody>\n",
       "</table>\n",
       "</div>"
      ],
      "text/plain": [
       "                                                 url  \\\n",
       "0  https://www.retsinformation.dk/eli/retsinfo/20...   \n",
       "1  https://www.retsinformation.dk/eli/retsinfo/20...   \n",
       "2  https://www.retsinformation.dk/eli/retsinfo/20...   \n",
       "3  https://www.retsinformation.dk/eli/retsinfo/20...   \n",
       "4  https://www.retsinformation.dk/eli/retsinfo/20...   \n",
       "\n",
       "                                               title  \\\n",
       "0  Vejledning om regulering af satser fra 1. janu...   \n",
       "1  Vejledning om satser i 2024 for betaling af ud...   \n",
       "2  Vejledning om obligatorisk selvbooking af jobs...   \n",
       "3  Vejledning til bekendtgørelse om tilskud til s...   \n",
       "4                 Vejledning om fleksløntilskud m.v.   \n",
       "\n",
       "                                        html_content  \\\n",
       "0  <div class=\"document-content\" id=\"restylingRoo...   \n",
       "1  <div class=\"document-content\" id=\"restylingRoo...   \n",
       "2  <div class=\"document-content\" id=\"restylingRoo...   \n",
       "3  <div class=\"document-content\" id=\"restylingRoo...   \n",
       "4  <div class=\"document-content\" id=\"restylingRoo...   \n",
       "\n",
       "                                        text_content  \n",
       "0  Vejledning om regulering af satser fra 1. janu...  \n",
       "1  Vejledning om satser i 2024 for betaling af ud...  \n",
       "2  Vejledning om obligatorisk selvbooking af jobs...  \n",
       "3  Vejledning til bekendtgørelse om tilskud til s...  \n",
       "4  Vejledning om fleksløntilskud m.v.\\n1.Indledni...  "
      ]
     },
     "execution_count": 4,
     "metadata": {},
     "output_type": "execute_result"
    }
   ],
   "source": [
    "# Create pandas dataframe from the dataset using the huggingface datasets library\n",
    "df_vejledninger = ds_vejledninger.to_pandas()\n",
    "df_vejledninger.head()"
   ]
  },
  {
   "cell_type": "markdown",
   "metadata": {},
   "source": [
    "## Function overview\n",
    "\n",
    "- Step 0: Chunking text\n",
    "    - Include or not?\n",
    "- Step 1: Filter chunks\n",
    "    - W. Textdescriptives\n",
    "    - W. LLM call, egnet til spørgsmål?\n",
    "- Step 2: Generate questions:\n",
    "    - Using LLamaIndex\n",
    "- Step 3: Filter generated questions\n",
    "    - (Text descriptives for long texts)\n",
    "    - LLM call: Is the answer found in chunk?\n",
    "    - LLM call: Is the answer clear and in a natural language?\n",
    "- Step 4: Update chunk-question table\n",
    "    - Embed chunks, embed questions (Local Vector DB)\n",
    "    - Use vector search to identify top 10 matches\n",
    "    - (Optional, Rerank)\n",
    "    - Filtering: Flag query/chunks where intended match is not in Top @10\n",
    "    - If question/chunk not @1\n",
    "        - Use LLM to check any question/chunk scored > than \"real\" match\n",
    "        - Update Match Matrix if OK\n",
    "    - If Delta simililarity score from 'real match' to other top @10 is < threshold:\n",
    "        - Use LLM to check question/chunk\n",
    "        - Update Match Matrix if OK\n",
    "- Step 5: Convert to BEIR format"
   ]
  },
  {
   "cell_type": "markdown",
   "metadata": {},
   "source": [
    "# Step 0"
   ]
  },
  {
   "cell_type": "code",
   "execution_count": 5,
   "metadata": {},
   "outputs": [],
   "source": [
    "from typing import List, Dict, Any\n",
    "from llama_index.core import Document\n",
    "\n",
    "\n",
    "def create_documents(text: List[str], metadata: List[Dict[str, Any]]) -> List[Document]:\n",
    "    \"\"\"Create a list of llama_index documents from a list of strings and a list of dictionaries\n",
    "\n",
    "    Args:\n",
    "    text: A list of strings containing the text of the documents, eg. [\"Vejledning om ...\", \"...\"]\n",
    "    metadata: A list of dictionaries containing one or multiple metadata, eg. [{\"title\": \"Example 1\", \"source\": \"website_url\"}, {...}]\n",
    "\n",
    "    Returns:\n",
    "    A list of llama_index documents\n",
    "    \"\"\"\n",
    "    documents = [\n",
    "        Document(text=content, metadata=meta) for content, meta in zip(text, metadata)\n",
    "    ]\n",
    "    return documents"
   ]
  },
  {
   "cell_type": "code",
   "execution_count": 6,
   "metadata": {},
   "outputs": [],
   "source": [
    "llama_documents = create_documents(df_vejledninger[\"text_content\"], df_vejledninger[[\"title\", \"url\"]].to_dict(orient=\"records\"))"
   ]
  },
  {
   "cell_type": "code",
   "execution_count": 7,
   "metadata": {},
   "outputs": [
    {
     "name": "stderr",
     "output_type": "stream",
     "text": [
      "Parsing nodes:   0%|          | 0/433 [00:00<?, ?it/s]Token indices sequence length is longer than the specified maximum sequence length for this model (24739 > 512). Running this sequence through the model will result in indexing errors\n",
      "Parsing nodes: 100%|██████████| 433/433 [01:31<00:00,  4.71it/s]\n"
     ]
    }
   ],
   "source": [
    "from llama_index.core.node_parser import SentenceSplitter\n",
    "from transformers import AutoTokenizer\n",
    "from llama_index.core.schema import TextNode\n",
    "\n",
    "\n",
    "def document_splitter(\n",
    "    documents: List[Document],\n",
    "    chunk_size: int = 512,\n",
    "    tokenizer=AutoTokenizer.from_pretrained(\"intfloat/e5-base-v2\"),\n",
    ") -> List[TextNode]:\n",
    "    \"\"\"Split a list of llama_index documents into nodes\n",
    "\n",
    "    Args:\n",
    "    documents: A list of llama_index documents\n",
    "    chunk_size: An integer defining the maximum number of tokens in each node\n",
    "    tokenizer: A tokenizer from the Hugging Face transformers library\n",
    "\n",
    "    Returns:\n",
    "    A list of nodes, consisting of text, metadata, embeddings and node-relations\n",
    "    \"\"\"\n",
    "    node_parser = SentenceSplitter(\n",
    "        chunk_size=chunk_size,\n",
    "        chunk_overlap=0,\n",
    "        secondary_chunking_regex=str([\"\\n\"]),\n",
    "        paragraph_separator=str([\"\\n\\n\"]),\n",
    "        tokenizer=tokenizer.tokenize,\n",
    "    )\n",
    "    nodes = node_parser.get_nodes_from_documents(documents, show_progress=True)\n",
    "    return nodes\n",
    "\n",
    "\n",
    "nodes_vejledninger = document_splitter(llama_documents)"
   ]
  },
  {
   "cell_type": "markdown",
   "metadata": {},
   "source": [
    "# Step 1"
   ]
  },
  {
   "cell_type": "markdown",
   "metadata": {},
   "source": [
    "**Filtering using text descriptives**"
   ]
  },
  {
   "cell_type": "code",
   "execution_count": 8,
   "metadata": {},
   "outputs": [],
   "source": [
    "nodes_vejledninger_sample = nodes_vejledninger[:300]"
   ]
  },
  {
   "cell_type": "code",
   "execution_count": 9,
   "metadata": {},
   "outputs": [],
   "source": [
    "import textdescriptives as td\n",
    "import spacy\n",
    "\n",
    "def filter_nodes_by_td(nodes: List[TextNode], filter_type: bool=True) -> List[TextNode]:\n",
    "    \"\"\"Filter nodes by the textdescriptives quality check\n",
    "\n",
    "    Args:\n",
    "    nodes: A list of llama_index nodes\n",
    "    fiter_type: A boolean defining whether to filter by nodes that passed (True) or failed (False) the textdescriptives quality check\n",
    "\n",
    "    Returns:\n",
    "    A list of llama_index nodes that passed the textdescriptives quality check\n",
    "    \"\"\"\n",
    "    nlp = spacy.blank(\"da\")\n",
    "    nlp.add_pipe(\"sentencizer\")\n",
    "    quality_pipe = nlp.add_pipe(\"textdescriptives/quality\")\n",
    "    docs = list(nlp.pipe([node.text for node in nodes]))\n",
    "    filtered_nodes = [node for node, doc in zip(nodes, docs) if doc._.passed_quality_check==filter_type]\n",
    "    \n",
    "    return filtered_nodes\n"
   ]
  },
  {
   "cell_type": "code",
   "execution_count": 10,
   "metadata": {},
   "outputs": [],
   "source": [
    "#filter\n",
    "nodes_passed_td = filter_nodes_by_td(nodes_vejledninger_sample)"
   ]
  },
  {
   "cell_type": "markdown",
   "metadata": {},
   "source": [
    "**Filtering using LLM call**"
   ]
  },
  {
   "cell_type": "code",
   "execution_count": null,
   "metadata": {},
   "outputs": [],
   "source": [
    "#Gample prompts\n",
    "\n",
    "#system prompt\n",
    "\"\"\"Din opgave er at evaluere hvorvidt et uddrag af en tekst, er egnet til at stille et generelt spørgsmål til.\n",
    "    Du skal vurdere om uddraget indeholder klare og faktuelle informationer, hvorfra der kan formuleres et præcist, naturligt og kort spørgsmål der kan besvares ud fra uddraget.\n",
    "    Du skal give scoren 1 til teksten, hvis der kan opstilles et naturligt formuleret spørgsmål til uddraget, som eksempelvis kunne bruges i sammenhæng med en eksamen eller test.\n",
    "    Du skal give scoren 0 til teksten, hvis uddraget ikke indeholder generel faktuel information, hvis teksten er for usammenhængende eller detaljeret til at kunne formulere et generelt spørgsmål.\n",
    "    Returner en json med key: llm_score og value i form af en int: \"0\" eller \"1\".\n",
    "\"\"\"\n",
    "\n",
    "#Few shot user prompt\n",
    "\"\"\" Du er en erfaren sagsbehandler, nedenfor er eksempler på tekstuddrag og deres tilhørende score.\n",
    "\n",
    "    ============================\n",
    "    Start på eksempel, som skal have scoren 1:\n",
    "\n",
    "    \"Vejledning om regulering af satser fra 1. januar 2024 efter lov om arbejdsskadesikring, lov om sikring mod følger af arbejdsskade, lov om arbejdsskadeforsikring og lov om forsikring mod følger af ulykkestilfælde Indledning Efter lov om arbejdsskadesikring, jf. lovbekendtgørelse nr. 1186 af 19. august 2022 med de ændringer, der følger af lov nr. 1541 af 12. december 2023, og lov om sikring mod følger af arbejdsskade, jf. lovbekendtgørelse nr. 943 af 16. oktober 2000, skal der med virkning fra 1. januar 2024 efter indstilling fra bestyrelsen for Arbejdsmarkedets Erhvervssikring ske regulering af lovens årslønsbeløb, godtgørelsesbeløb, overgangsbeløb samt løbende erstatninger. Reguleringen af satserne fastsættes af Arbejdstilsynets direktør efter bemyndigelse fra beskæftigelsesministeren. Satser efter loven reguleres med 2 procent tillagt tilpasningsprocenten for finansåret 2024 (jf. lov om en satsreguleringsprocent).\"\n",
    "\n",
    "    Fordi uddraget indeholder klare og faktuelle informationer, hvorfra der kan formuleres et præcist, naturligt og kort spørgsmål der kan besvares ud fra uddraget, eksempelvis:\n",
    "\n",
    "    \"Hvem fastsætter reguleringen af satserne for arbejdsskadesikring og andre relaterede ydelser?\"\n",
    "\n",
    "    ============================\n",
    "    Start på eksempel, som skal have scoren 0:\n",
    "\n",
    "    \"årligt. 8)Uddannelsesgodtgørelsen i en forlænget periode efter § 18 b, stk. 3, 2. pkt., udgør 244.140 kr. årligt. Grundlønnen for beregning og regulering af løbende erstatning og uddannelsesgodtgørelse for arbejdsskader indtruffet den 1. juli 2024 eller senere er den efter lov om arbejdsskadesikring § 24 fastsatte årsløn multipliceret med 608.000/608.000, jf. § 24 a. Fastsættes en løbende erstatning eller en uddannelsesgodtgørelse den 1. juli 2024 eller senere, udbetales erstatningen eller godtgørelsen fra tidspunktet for dennes begyndelse med et tillæg på 0,0 pct. til den erstatning eller godtgørelse, der svarer til grundlønnen. Satser for arbejdsskader indtruffet i tiden 1. januar 2024 til 30. juni 2024 Med virkning for arbejdsskader efter lov om arbejdsskadesikring, jf. lovbekendtgørelse nr. 1186 af 19. august 2022 med de ændringer, der følger af lov nr.\"\n",
    "\n",
    "    Fordi der uddraget ikke indeholder meget detaljerede informationer der er svære at forstå uden kontekst, generelt er fragmenteret og gør det vanskeligt at formulere et generelt spørgsmål.\n",
    "\n",
    "    ==============================\n",
    "    Uddrag som du skal give en score:\n",
    "\n",
    "    {chunk_text}\"\n",
    "\n",
    "    Returner KUN tallet 0 eller 1, ingen yderligere forklaring\n",
    "\"\"\"\n",
    "    "
   ]
  },
  {
   "cell_type": "code",
   "execution_count": 11,
   "metadata": {},
   "outputs": [],
   "source": [
    "import json\n",
    "import logging\n",
    "from typing import Dict, Any\n",
    "#import openai client chat\n",
    "\n",
    "from openai import OpenAI\n",
    "client = OpenAI()\n",
    "\n",
    "\n",
    "# Returner din vurdering som enten 0 eller 1, baseret på tekstuddragets opfyldelse af de nævnte kriterier.\n",
    "\n",
    "def create_user_prompt(text: str) -> str:\n",
    "    \"\"\"Prepare the prompt for the API call.\"\"\"\n",
    "    \n",
    "    qa_egnet_tmlp = \"\"\"Du er en erfaren sagsbehandler. Nedenfor er konkrete eksempler på hvordan et tekstuddrag kan se ud, og hvordan de skal vurderes.\n",
    "    ============================\n",
    "    Eksempel 1 (Score: 1):\n",
    "    \"Vejledning om regulering af satser fra 1. januar 2024 efter lov om arbejdsskadesikring, lov om sikring mod følger af arbejdsskade, lov om arbejdsskadeforsikring og lov om forsikring mod følger af ulykkestilfælde. Efter lov om arbejdsskadesikring, jf. lovbekendtgørelse nr. 1186 af 19. august 2022 med de ændringer, der følger af lov nr. 1541 af 12. december 2023, og lov om sikring mod følger af arbejdsskade, jf. lovbekendtgørelse nr. 943 af 16. oktober 2000, skal der med virkning fra 1. januar 2024 efter indstilling fra bestyrelsen for Arbejdsmarkedets Erhvervssikring ske regulering af lovens årslønsbeløb, godtgørelsesbeløb, overgangsbeløb samt løbende erstatninger. Reguleringen af satserne fastsættes af Arbejdstilsynets direktør efter bemyndigelse fra beskæftigelsesministeren. Satser efter loven reguleres med 2 procent tillagt tilpasningsprocenten for finansåret 2024 (jf. lov om en satsreguleringsprocent).\"\n",
    "    Argument for Score 1: Tekstuddraget indeholder klare, faktuelle informationer og præsenterer en specifik procedure for regulering af satser, hvilket gør det muligt at formulere et direkte og relevant spørgsmål, såsom \"Hvem fastsætter reguleringen af satserne for arbejdsskadesikring og andre relaterede ydelser?\" Dette opfylder kriterierne for klarhed, konkret information, og kontekstuel helhed.\n",
    "    \n",
    "    ============================\n",
    "    Eksempel 2 (Score: 0):\n",
    "    \"årligt. 8) Uddannelsesgodtgørelsen i en forlænget periode efter § 18 b, stk. 3, 2. pkt., udgør 244.140 kr. årligt. Grundlønnen for beregning og regulering af løbende erstatning og uddannelsesgodtgørelse for arbejdsskader indtruffet den 1. juli 2024 eller senere er den efter lov om arbejdsskadesikring § 24 fastsatte årsløn multipliceret med 608.000/608.000, jf. § 24 a. Fastsættes en løbende erstatning eller en uddannelsesgodtgørelse den 1. juli 2024 eller senere, udbetales erstatningen eller godtgørelsen fra tidspunktet for dennes begyndelse med et tillæg på 0,0 pct. til den erstatning eller godtgørelse, der svarer til grundlønnen. Satser for arbejdsskader indtruffet i tiden 1. januar 2024 til 30. juni 2024 Med virkning for arbejdsskader efter lov om arbejdsskadesikring, jf. lovbekendtgørelse nr. 1186 af 19. august 2022 med de ændringer, der følger af lov nr.\"\n",
    "    Argument for Score 0: Dette uddrag er fragmenteret og præsenterer information på en måde, der er svær at forstå uden yderligere kontekst. Det mangler en klar struktur og introducerer flere specifikke detaljer uden at forklare deres relevans eller sammenhæng, hvilket gør det vanskeligt at formulere et generelt spørgsmål. Dette opfylder ikke kriterierne for klarhed, konkret information, eller kontekstuel helhed.\n",
    "\n",
    "    ============================\n",
    "    Din Opgave:\n",
    "    Vurder det følgende tekstuddrag og angiv, om det er egnet til at stille et generelt spørgsmål til.\n",
    "\n",
    "    Uddrag:\n",
    "    {chunk_text}\n",
    "    Returner din score i dette format:\n",
    "\n",
    "    {{\n",
    "        \"llm_score\": [indsæt enten 0 eller 1 her]\n",
    "    }}\n",
    "    \"\"\"\n",
    "    return qa_egnet_tmlp.format(chunk_text=text)\n",
    "\n",
    "\n",
    "def create_system_prompt():\n",
    "    sys_prompt = \"\"\"Din opgave er at evaluere et givet tekstuddrag for at bestemme, om det er egnet til at danne grundlag for et generelt spørgsmål, der er relevant for eksempelvis en eksamen eller en test. \n",
    "    For at vurdere dette, skal du fokusere på følgende tre nøglekriterier:\n",
    "\n",
    "    1. Klarhed: Vurder, om teksten er formuleret klart og direkte, således at et spørgsmål til denne tekst, vil kunne besvares uden yderligere forklaringer. Teksten skal være læsbar og ikke usammenhængende i sin struktur.\n",
    "    \n",
    "    2. Konkret Information: Afgør, om uddraget indeholder specifikke, faktuelle informationer, der kan danne grundlag for et præcist og direkte spørgsmål. Teksten skal præsentere håndgribelige fakta eller data, som et spørgsmål kan baseres på.\n",
    "\n",
    "    3. Kontekstuel Helhed: Bedøm, om teksten leverer tilstrækkelig kontekst for at et spørgsmål baseret på uddraget vil være meningsfuldt og forståeligt uden behov for yderligere information. Teksten skal være selvstændig og give en fuld forståelse af det emne, der behandles.\n",
    "\n",
    "    Baseret på din evaluering:\n",
    "\n",
    "    - Tildel scoren 1, hvis tekstuddraget opfylder alle tre kriterier, og der kan formuleres et naturligt, klart og kontekstuelt meningsfuldt spørgsmål baseret på teksten.\n",
    "\n",
    "    - Tildel scoren 0, hvis tekstuddraget ikke opfylder et eller flere af de ovenstående kriterier, hvilket gør det uegnet til at danne grundlag for et generelt spørgsmål.\n",
    "\n",
    "    Returner din vurdering i følgende JSON-format:\n",
    "\n",
    "    {{\n",
    "    \"llm_score\": [indsæt enten 0 eller 1 her]\n",
    "    }}\n",
    "    \"\"\"\n",
    "    return sys_prompt\n",
    "\n",
    "def make_api_call(system_prompt: str, user_prompt: str, oai_model: str=\"gpt-3.5-turbo-0125\") -> Dict[str, Any]:\n",
    "    \"\"\"Perform the API call to evaluate the text.\"\"\"\n",
    "    try:\n",
    "        completion = client.chat.completions.create(\n",
    "            model=oai_model,\n",
    "            temperature=0,\n",
    "            messages=[\n",
    "                {\n",
    "                    \"role\": \"system\",\n",
    "                    \"content\": system_prompt\n",
    "                },\n",
    "                {\n",
    "                    \"role\": \"user\", \n",
    "                    \"content\": user_prompt\n",
    "                },\n",
    "            ],\n",
    "            response_format={\"type\": \"json_object\"}\n",
    "        )\n",
    "        return json.loads(completion.choices[0].message.content)\n",
    "    except json.JSONDecodeError as e:\n",
    "        logging.error(f'JSON parsing failed: {e}')\n",
    "    except Exception as e:\n",
    "        logging.error(f'API call failed: {e}')\n",
    "    return {}\n",
    "\n",
    "def update_node_metadata(llama_node: TextNode, response: Dict[str, Any]) -> None:\n",
    "    \"\"\"Process the API response and update the node metadata.\"\"\"\n",
    "    llm_score = response.get('llm_score')\n",
    "    if llm_score is not None:\n",
    "        if not hasattr(llama_node, 'metadata') or not isinstance(llama_node.metadata, dict):\n",
    "            llama_node.metadata = {}\n",
    "        llama_node.metadata['llm_score'] = llm_score\n",
    "    else:\n",
    "        logging.error(f'Unexpected response format: {response}')\n",
    "\n",
    "def evaluate_node_text(llama_node: TextNode) -> None:\n",
    "    \"\"\"Evaluate a chunk of text from a TextNode.\"\"\"\n",
    "    system_prompt = create_system_prompt()\n",
    "    user_prompt = create_user_prompt(llama_node.text)\n",
    "    response = make_api_call(system_prompt, user_prompt)\n",
    "    if response:\n",
    "        update_node_metadata(llama_node, response)\n",
    "    else:\n",
    "        logging.error('Failed to evaluate chunk due to an earlier error.')\n",
    "\n",
    "def evaluate_node_list(nodes: List[TextNode]) -> None:\n",
    "    \"\"\"Evaluate a list of TextNodes.\"\"\"\n",
    "    for node in nodes:\n",
    "        evaluate_node_text(node)"
   ]
  },
  {
   "cell_type": "markdown",
   "metadata": {},
   "source": [
    "## Experiment to compare how LLM filtering performs compared to text descriptives"
   ]
  },
  {
   "cell_type": "code",
   "execution_count": 22,
   "metadata": {},
   "outputs": [
    {
     "data": {
      "text/plain": [
       "113"
      ]
     },
     "execution_count": 22,
     "metadata": {},
     "output_type": "execute_result"
    }
   ],
   "source": [
    "#Create a list of nodes that fail the textdescriptives quality check\n",
    "nodes_failed_td = filter_nodes_by_td(nodes_vejledninger_sample, filter_type=False)\n",
    "len(nodes_failed_td)"
   ]
  },
  {
   "cell_type": "code",
   "execution_count": 23,
   "metadata": {},
   "outputs": [
    {
     "name": "stdout",
     "output_type": "stream",
     "text": [
      "Number of nodes that passed the textdescriptives quality check: 187\n",
      "Number of nodes that failed the textdescriptives quality check: 113\n"
     ]
    }
   ],
   "source": [
    "print(f'Number of nodes that passed the textdescriptives quality check: {len(nodes_passed_td)}')\n",
    "print(f'Number of nodes that failed the textdescriptives quality check: {len(nodes_failed_td)}')"
   ]
  },
  {
   "cell_type": "code",
   "execution_count": 24,
   "metadata": {},
   "outputs": [],
   "source": [
    "#Sample first 100 each node type\n",
    "nodes_failed_td_sample = nodes_failed_td[:10]\n",
    "nodes_passed_td_sample = nodes_passed_td[:10]\n",
    "\n",
    "#Evaluate the nodes\n",
    "evaluate_node_list(nodes_failed_td_sample)\n",
    "evaluate_node_list(nodes_passed_td_sample)"
   ]
  },
  {
   "cell_type": "code",
   "execution_count": 25,
   "metadata": {},
   "outputs": [],
   "source": [
    "#Count the number of llm_scores for each group using Counter\n",
    "from collections import Counter\n",
    "import numpy as np\n",
    "\n",
    "passed_td_meta = [node.metadata for node in nodes_passed_td_sample]\n",
    "failed_td_meta = [node.metadata for node in nodes_failed_td_sample]\n",
    "\n",
    "passed_td_llm_count = dict(Counter([meta[\"llm_score\"] for meta in passed_td_meta]))\n",
    "failed_td_llm_count = dict(Counter([meta[\"llm_score\"] for meta in failed_td_meta]))\n",
    "\n",
    "#Plot a confusion matrix where x-axis is the Truth, LLM evaluation, and y-axis is the Predicted, Textdescriptives quality check\n",
    "#The matrix is a 2x2 matrix with the following values:\n",
    "TP = passed_td_llm_count[1] if 1 in passed_td_llm_count else 0\n",
    "FP = passed_td_llm_count[0] if 0 in passed_td_llm_count else 0\n",
    "TN = failed_td_llm_count[0] if 0 in failed_td_llm_count else 0\n",
    "FN = failed_td_llm_count[1] if 1 in failed_td_llm_count else 0"
   ]
  },
  {
   "cell_type": "code",
   "execution_count": 26,
   "metadata": {},
   "outputs": [
    {
     "data": {
      "image/png": "[encoded data removed]",
      "text/plain": [
       "<Figure size 640x480 with 2 Axes>"
      ]
     },
     "metadata": {},
     "output_type": "display_data"
    }
   ],
   "source": [
    "import matplotlib.pyplot as plt\n",
    "import seaborn as sns\n",
    "\n",
    "confusion_matrix = np.array([[TP, FP], [FN, TN]])\n",
    "\n",
    "sns.heatmap(confusion_matrix, annot=True, fmt=\"d\", cmap=\"Blues\",\n",
    "            xticklabels=[\"Passed\", \"Failed\"],\n",
    "            yticklabels=[\"Passed\", \"Failed\"])\n",
    "plt.xlabel('LLM eval')\n",
    "plt.ylabel('Textdescriptives')\n",
    "plt.title('Confusion Matrix')\n",
    "plt.show()"
   ]
  },
  {
   "cell_type": "code",
   "execution_count": 31,
   "metadata": {},
   "outputs": [
    {
     "name": "stdout",
     "output_type": "stream",
     "text": [
      "Tilpasningsprocenten er ved Finansministeriets bekendtgørelse nr. 1101 af 21. august 2023 fastsat til 1,5 for finansåret 2024.\n",
      "Med lov nr. 1541 af 12. december 2023 (Et forbedret arbejdsskadesystem og lettere adgang til erstatning i forbindelse med vold på arbejdspladsen) er satser efter loven fastsat (nulstillet) pr. 1. januar 2024.\n",
      "Forud for lov nr. 1541 af 12. december 2023 blev lovens satser fastsat med virkning fra 1. januar 2024 ud fra en stigning på 65,7 pct. i forhold til satserne pr. 1. januar 2003 (grundniveauet i lov om arbejdsskadesikring før vedtagelsen af lov nr. 1541 af 12. december 2023), jf. vejledning nr. 9822 af 30. oktober 2023. Godtgørelsesbeløbet for 100 pct. varigt mén for arbejdsskader indtruffet 1. juli 2002 eller senere samt overgangsbeløbet ved dødsfald blev dog fastsat ud fra en stigning på 3,5 pct. i forhold til satserne fastsat for 2023 før afrunding, jf. vejledning nr. 9822 af 30. oktober 2023.\n",
      "Med lov nr.\n"
     ]
    }
   ],
   "source": [
    "print(nodes_failed_td_sample[0].text)"
   ]
  },
  {
   "cell_type": "code",
   "execution_count": 32,
   "metadata": {},
   "outputs": [
    {
     "name": "stdout",
     "output_type": "stream",
     "text": [
      "Vejledning om regulering af satser fra 1. januar 2024 efter lov om arbejdsskadesikring, lov om sikring mod følger af arbejdsskade, lov om arbejdsskadeforsikring og lov om forsikring mod følger af ulykkestilfælde\n",
      "Indledning\n",
      "Efter lov om arbejdsskadesikring, jf. lovbekendtgørelse nr. 1186 af 19. august 2022 med de ændringer, der følger af lov nr. 1541 af 12. december 2023, og lov om sikring mod følger af arbejdsskade, jf. lovbekendtgørelse nr. 943 af 16. oktober 2000, skal der med virkning fra 1. januar 2024 efter indstilling fra bestyrelsen for Arbejdsmarkedets Erhvervssikring ske regulering af lovens årslønsbeløb, godtgørelsesbeløb, overgangsbeløb samt løbende erstatninger.\n",
      "Reguleringen af satserne fastsættes af Arbejdstilsynets direktør efter bemyndigelse fra beskæftigelsesministeren.\n",
      "Satser efter loven reguleres med 2 procent tillagt tilpasningsprocenten for finansåret 2024 (jf. lov om en satsreguleringsprocent).\n"
     ]
    }
   ],
   "source": [
    "print(nodes_passed_td_sample[0].text)"
   ]
  },
  {
   "cell_type": "markdown",
   "metadata": {},
   "source": [
    "# Step 2\n",
    "### Generate questions"
   ]
  },
  {
   "cell_type": "code",
   "execution_count": 17,
   "metadata": {},
   "outputs": [],
   "source": [
    "from llama_index.core.prompts import PromptTemplate\n",
    "\n",
    "# Define your custom prompt template in Danish\n",
    "qa_sagsbehandler_prompt = \"\"\"Nedenfor er et uddrag (kontekst) fra en længere tekst:\n",
    "---------------------\n",
    "{context_str}\n",
    "---------------------\n",
    "Givet ovenstående uddrag og ingen forudgående viden, er din opgave at generere spørgsmål til teksten.\n",
    "Spørgsmålet skal indeholde specifik kontekst, således at spørgsmålet kan besvares uden tvetydighed udenfor uddraget. \n",
    "Du er en erfaren sagsbehandler, og din opgave er at stille præcis {num_questions_per_chunk} spørgsmål, som kan besvares i uddraget.\n",
    "Spørgsmålene skal være af forskellig karakter og dække teksten bredt, men stilles i et sprog som en borger uden juridisk ekspertise kan forstå.\n",
    "Svaret til spørgsmålet, skal kunne findes i ovenstående uddrag.\n",
    "\n",
    "Eksempel på et spørgsmål der ikke har en specifik kontekst: \n",
    "\"Hvilket dokument har den nye vejledning erstattet, og hvornår blev det tidligere dokument udsendt?\", da spørgsmålet er tvetydigt og vil have flere svarmuligheder afhængigt af hvilken vejledning og dokument der refereres til.\n",
    "\n",
    "Eksempel på et godt spørgsmål, som kan besvares uden kendskab til uddraget:\n",
    "\"Hvor meget vil godtgørelsen for et varigt mén være, hvis det er vurderet til 100%?\"\n",
    "\"\"\"\n",
    "\n",
    "def llama_prompt_template(prompt_template: str) -> PromptTemplate:\n",
    "    return PromptTemplate(prompt_template)\n",
    "    \n",
    "    \n",
    "qa_sagsbehandler_tmlp = llama_prompt_template(qa_sagsbehandler_prompt)"
   ]
  },
  {
   "cell_type": "code",
   "execution_count": 18,
   "metadata": {},
   "outputs": [
    {
     "name": "stderr",
     "output_type": "stream",
     "text": [
      "100%|██████████| 10/10 [00:49<00:00,  4.92s/it]\n"
     ]
    }
   ],
   "source": [
    "from llama_index.finetuning import generate_qa_embedding_pairs\n",
    "from llama_index.llms.openai import OpenAI\n",
    "\n",
    "# define LLM\n",
    "llm_oai = OpenAI(temperature=0.0, model=\"gpt-4-0125-preview\")\n",
    "\n",
    "qa_dataset = generate_qa_embedding_pairs(\n",
    "    qa_generate_prompt_tmpl=qa_sagsbehandler_tmlp,\n",
    "    llm=llm_oai,\n",
    "    nodes=nodes_passed_td[0:10],\n",
    "    num_questions_per_chunk=2,\n",
    ")"
   ]
  },
  {
   "cell_type": "code",
   "execution_count": 33,
   "metadata": {},
   "outputs": [
    {
     "data": {
      "text/plain": [
       "{'8f23afcc-41a6-4e1b-b758-28da69509c4b': 'Fra hvilken dato træder de nye regler om regulering af satser i henhold til loven om arbejdsskadesikring i kraft?',\n",
       " '29a3bd9c-bc44-43ca-97ce-d7a22211299a': 'Hvem har bemyndigelsen til at fastsætte reguleringen af satserne efter loven om arbejdsskadesikring?',\n",
       " '21b49cfd-4e36-4498-b468-eb33817c9d75': 'Hvor meget udgør uddannelsesgodtgørelsen årligt, hvis man er berettiget til den i en forlænget periode efter § 18 b, stk. 3, 2. pkt.?',\n",
       " '7d7818e8-4f14-41dc-bcc3-18e3185ef7c6': 'Hvis en arbejdsskade indtræffer den 1. juli 2024 eller senere, hvilken procentdel tillægges da til erstatningen eller godtgørelsen, der svarer til grundlønnen?',\n",
       " '285e7cef-8533-4f6d-937b-c018b6c841cd': 'Hvilke typer af erstatninger og godtgørelser kan en person, der har været udsat for en arbejdsskade, eller deres efterladte, have ret til ifølge det vedlagte bilag fra Arbejdstilsynet datoen den 5. januar 2024?',\n",
       " 'b63fc7a2-6136-4bea-ace5-461a748bf0f7': 'Hvordan beregnes grundlønnen for løbende erstatninger for tab af erhvervsevne og tab af forsørger samt uddannelsesgodtgørelser for arbejdsskader, der er indtruffet mellem 1. juli 2024 og 31. december 2024, ifølge Arbejdstilsynets vejledning fra den 5. januar 2024?',\n",
       " 'c828df86-2a86-466f-86b3-4c51775d8964': 'Hvis en person har mistet sin erhvervsevne og skal modtage erstatning fra 1. januar 2024, hvor stor en procentdel af deres oprindelige løn eller uddannelsesgodtgørelse vil de modtage som erstatning ifølge den nye lov?',\n",
       " '2665b490-319b-41c5-b588-024d42d5e54a': 'Hvordan påvirker en persons alder på tidspunktet for en skade størrelsen på deres méngodtgørelse, specifikt hvis de var over 39 år eller 60 år gammel, da skaden skete?',\n",
       " '0da07cf4-0fb1-408d-90a9-f491114c6385': 'Hvordan beregnes grundlønnen for løbende erstatninger for tab af erhvervsevne og tab af forsørger for arbejdsskader indtruffet mellem 1. januar 2004 og 31. december 2010?',\n",
       " '9bcefb92-6998-460a-8c16-3edd55aeaa0a': 'Hvad er grundydelsen, og hvordan relaterer den sig til grundlønnen for arbejdsskader indtruffet i perioden 1. januar 2004 til 31. december 2010?',\n",
       " '877c52c8-f76a-441c-b710-4dedead1f587': '\"Hvordan beregnes den årlige erstatning for tab af erhvervsevne og tab af forsørger fra 1. januar 2024 ifølge den nye lov?\"',\n",
       " '5999d5c5-7077-4d69-b21b-0f143d4d436f': '\"Hvad er den nye forhøjede sum for méngodtgørelsen ved et varigt mén på 100 pct. som fastsat i loven fra 12. december 2023?\"',\n",
       " 'c828a564-5024-4fb1-b596-fafbedf3c697': 'Hvad er den nye procentdel for grundydelsen pr. 1. januar 2024 i forhold til den løbende erstatning, der svarer til grundlønnen fra 1. april 1994?',\n",
       " '48061c20-fc4a-4971-beb5-7810f067fb9f': 'Hvor stor er méngodtgørelsen for et varigt mén vurderet til 100% efter de nye regler pr. 12. december 2023?',\n",
       " 'e688c024-f39a-4418-8357-d05580df8b97': '\"Hvad er den nye procentdel for grundydelsen, der træder i kraft fra 1. januar 2024, i forhold til den løbende erstatning, der svarer til grundlønnen fra 1. april 1994?\"',\n",
       " '2d4b6005-1e25-446f-b2ae-fd91b7851f3b': '\"Hvordan beregnes kapitalerstatninger og méngodtgørelser ifølge den nye lov, og hvad er den specifikke forhøjelse af méngodtgørelsen for et varigt mén vurderet til 100%?\"',\n",
       " 'eda6969d-02e2-4b43-904f-49428b15a0c5': 'Hvor stor en procentdel af den løbende erstatning, der svarer til grundlønnen fra 1. april 1992, vil blive udbetalt fra 1. januar 2024 ifølge den nye lov nr. 1541 af 12. december 2023?',\n",
       " '8d53115a-54b3-4d25-9174-3c0ff4de1001': 'Hvordan beregnes kapitalerstatninger for tab af erhvervsevne ifølge den opdaterede lovgivning pr. 12. december 2023?',\n",
       " '19752092-9646-4f63-b4fb-803b2479c031': '\"Hvem er pålagt pligten til selv at booke deres jobsamtaler ifølge den nye vejledning fra lovbekendtgørelse nr. 701 af 22. maj 2022?\"',\n",
       " 'b548a502-c2d8-43e2-b74d-5028495ea565': '\"Er sygedagpengemodtagere også omfattet af pligten til selvbooking af jobsamtaler ifølge den nævnte vejledning?\"'}"
      ]
     },
     "execution_count": 33,
     "metadata": {},
     "output_type": "execute_result"
    }
   ],
   "source": [
    "qa_dataset.queries"
   ]
  },
  {
   "cell_type": "code",
   "execution_count": null,
   "metadata": {},
   "outputs": [],
   "source": []
  }
 ],
 "metadata": {
  "kernelspec": {
   "display_name": "llm",
   "language": "python",
   "name": "python3"
  },
  "language_info": {
   "codemirror_mode": {
    "name": "ipython",
    "version": 3
   },
   "file_extension": ".py",
   "mimetype": "text/x-python",
   "name": "python",
   "nbconvert_exporter": "python",
   "pygments_lexer": "ipython3",
   "version": "3.11.8"
  }
 },
 "nbformat": 4,
 "nbformat_minor": 2
}
