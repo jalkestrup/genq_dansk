{
 "cells": [
  {
   "cell_type": "code",
   "execution_count": 13,
   "metadata": {},
   "outputs": [
    {
     "data": {
      "text/plain": [
       "True"
      ]
     },
     "execution_count": 13,
     "metadata": {},
     "output_type": "execute_result"
    }
   ],
   "source": [
    "import os\n",
    "from dotenv import load_dotenv\n",
    "import pandas as pd\n",
    "from datasets import Dataset\n",
    "from datasets import load_dataset\n",
    "\n",
    "load_dotenv(override=True)"
   ]
  },
  {
   "cell_type": "markdown",
   "metadata": {},
   "source": [
    "## Get documents from HF"
   ]
  },
  {
   "cell_type": "code",
   "execution_count": 2,
   "metadata": {},
   "outputs": [],
   "source": [
    "# Load from hub\n",
    "ds_vejledninger = load_dataset(\n",
    "    \"jealk/dk_retrieval_benchmark\",\n",
    "    \"retsinformation\",\n",
    "    split=\"train\",\n",
    "    #download_mode=\"force_redownload\",\n",
    ")"
   ]
  },
  {
   "cell_type": "code",
   "execution_count": 3,
   "metadata": {},
   "outputs": [
    {
     "data": {
      "text/html": [
       "<div>\n",
       "<style scoped>\n",
       "    .dataframe tbody tr th:only-of-type {\n",
       "        vertical-align: middle;\n",
       "    }\n",
       "\n",
       "    .dataframe tbody tr th {\n",
       "        vertical-align: top;\n",
       "    }\n",
       "\n",
       "    .dataframe thead th {\n",
       "        text-align: right;\n",
       "    }\n",
       "</style>\n",
       "<table border=\"1\" class=\"dataframe\">\n",
       "  <thead>\n",
       "    <tr style=\"text-align: right;\">\n",
       "      <th></th>\n",
       "      <th>url</th>\n",
       "      <th>title</th>\n",
       "      <th>html_content</th>\n",
       "      <th>text_content</th>\n",
       "    </tr>\n",
       "  </thead>\n",
       "  <tbody>\n",
       "    <tr>\n",
       "      <th>0</th>\n",
       "      <td>https://www.retsinformation.dk/eli/retsinfo/20...</td>\n",
       "      <td>Vejledning om regulering af satser fra 1. janu...</td>\n",
       "      <td>&lt;div class=\"document-content\" id=\"restylingRoo...</td>\n",
       "      <td>Vejledning om regulering af satser fra 1. janu...</td>\n",
       "    </tr>\n",
       "    <tr>\n",
       "      <th>1</th>\n",
       "      <td>https://www.retsinformation.dk/eli/retsinfo/20...</td>\n",
       "      <td>Vejledning om satser i 2024 for betaling af ud...</td>\n",
       "      <td>&lt;div class=\"document-content\" id=\"restylingRoo...</td>\n",
       "      <td>Vejledning om satser i 2024 for betaling af ud...</td>\n",
       "    </tr>\n",
       "    <tr>\n",
       "      <th>2</th>\n",
       "      <td>https://www.retsinformation.dk/eli/retsinfo/20...</td>\n",
       "      <td>Vejledning om obligatorisk selvbooking af jobs...</td>\n",
       "      <td>&lt;div class=\"document-content\" id=\"restylingRoo...</td>\n",
       "      <td>Vejledning om obligatorisk selvbooking af jobs...</td>\n",
       "    </tr>\n",
       "    <tr>\n",
       "      <th>3</th>\n",
       "      <td>https://www.retsinformation.dk/eli/retsinfo/20...</td>\n",
       "      <td>Vejledning til bekendtgørelse om tilskud til s...</td>\n",
       "      <td>&lt;div class=\"document-content\" id=\"restylingRoo...</td>\n",
       "      <td>Vejledning til bekendtgørelse om tilskud til s...</td>\n",
       "    </tr>\n",
       "    <tr>\n",
       "      <th>4</th>\n",
       "      <td>https://www.retsinformation.dk/eli/retsinfo/20...</td>\n",
       "      <td>Vejledning om fleksløntilskud m.v.</td>\n",
       "      <td>&lt;div class=\"document-content\" id=\"restylingRoo...</td>\n",
       "      <td>Vejledning om fleksløntilskud m.v.\\n1.Indledni...</td>\n",
       "    </tr>\n",
       "  </tbody>\n",
       "</table>\n",
       "</div>"
      ],
      "text/plain": [
       "                                                 url  \\\n",
       "0  https://www.retsinformation.dk/eli/retsinfo/20...   \n",
       "1  https://www.retsinformation.dk/eli/retsinfo/20...   \n",
       "2  https://www.retsinformation.dk/eli/retsinfo/20...   \n",
       "3  https://www.retsinformation.dk/eli/retsinfo/20...   \n",
       "4  https://www.retsinformation.dk/eli/retsinfo/20...   \n",
       "\n",
       "                                               title  \\\n",
       "0  Vejledning om regulering af satser fra 1. janu...   \n",
       "1  Vejledning om satser i 2024 for betaling af ud...   \n",
       "2  Vejledning om obligatorisk selvbooking af jobs...   \n",
       "3  Vejledning til bekendtgørelse om tilskud til s...   \n",
       "4                 Vejledning om fleksløntilskud m.v.   \n",
       "\n",
       "                                        html_content  \\\n",
       "0  <div class=\"document-content\" id=\"restylingRoo...   \n",
       "1  <div class=\"document-content\" id=\"restylingRoo...   \n",
       "2  <div class=\"document-content\" id=\"restylingRoo...   \n",
       "3  <div class=\"document-content\" id=\"restylingRoo...   \n",
       "4  <div class=\"document-content\" id=\"restylingRoo...   \n",
       "\n",
       "                                        text_content  \n",
       "0  Vejledning om regulering af satser fra 1. janu...  \n",
       "1  Vejledning om satser i 2024 for betaling af ud...  \n",
       "2  Vejledning om obligatorisk selvbooking af jobs...  \n",
       "3  Vejledning til bekendtgørelse om tilskud til s...  \n",
       "4  Vejledning om fleksløntilskud m.v.\\n1.Indledni...  "
      ]
     },
     "execution_count": 3,
     "metadata": {},
     "output_type": "execute_result"
    }
   ],
   "source": [
    "# Create pandas dataframe from the dataset using the huggingface datasets library\n",
    "df_vejledninger = ds_vejledninger.to_pandas()\n",
    "df_vejledninger.head()"
   ]
  },
  {
   "cell_type": "markdown",
   "metadata": {},
   "source": [
    "## Function overview\n",
    "\n",
    "- Step 0: Chunking text\n",
    "    - Include or not?\n",
    "- Step 1: Filter chunks\n",
    "    - W. Textdescriptives\n",
    "    - W. LLM call, egnet til spørgsmål?\n",
    "- Step 2: Generate questions:\n",
    "    - Using LLamaIndex\n",
    "- Step 3: Filter generated questions\n",
    "    - (Text descriptives for long texts)\n",
    "    - LLM call: Is the answer found in chunk?\n",
    "    - LLM call: Is the answer clear and in a natural language?\n",
    "- Step 4: Update chunk-question table\n",
    "    - Embed chunks, embed questions (Local Vector DB)\n",
    "    - Use vector search to identify top 10 matches\n",
    "    - (Optional, Rerank)\n",
    "    - Filtering: Flag query/chunks where intended match is not in Top @10\n",
    "    - If question/chunk not @1\n",
    "        - Use LLM to check any question/chunk scored > than \"real\" match\n",
    "        - Update Match Matrix if OK\n",
    "    - If Delta simililarity score from 'real match' to other top @10 is < threshold:\n",
    "        - Use LLM to check question/chunk\n",
    "        - Update Match Matrix if OK\n",
    "- Step 5: Convert to BEIR format"
   ]
  },
  {
   "cell_type": "markdown",
   "metadata": {},
   "source": [
    "# Step 0"
   ]
  },
  {
   "cell_type": "code",
   "execution_count": 4,
   "metadata": {},
   "outputs": [],
   "source": [
    "from typing import List, Dict, Any\n",
    "from llama_index.core import Document\n",
    "\n",
    "\n",
    "def create_documents(text: List[str], metadata: List[Dict[str, Any]]) -> List[Document]:\n",
    "    \"\"\"Create a list of llama_index documents from a list of strings and a list of dictionaries\n",
    "\n",
    "    Args:\n",
    "    text: A list of strings containing the text of the documents, eg. [\"Vejledning om ...\", \"...\"]\n",
    "    metadata: A list of dictionaries containing one or multiple metadata, eg. [{\"title\": \"Example 1\", \"source\": \"website_url\"}, {...}]\n",
    "\n",
    "    Returns:\n",
    "    A list of llama_index documents\n",
    "    \"\"\"\n",
    "    documents = [\n",
    "        Document(text=content, metadata=meta) for content, meta in zip(text, metadata)\n",
    "    ]\n",
    "    return documents"
   ]
  },
  {
   "cell_type": "code",
   "execution_count": 5,
   "metadata": {},
   "outputs": [],
   "source": [
    "llama_documents = create_documents(df_vejledninger[\"text_content\"], df_vejledninger[[\"title\", \"url\"]].to_dict(orient=\"records\"))"
   ]
  },
  {
   "cell_type": "code",
   "execution_count": 6,
   "metadata": {},
   "outputs": [
    {
     "name": "stderr",
     "output_type": "stream",
     "text": [
      "Parsing nodes:   0%|          | 0/433 [00:00<?, ?it/s]Token indices sequence length is longer than the specified maximum sequence length for this model (24739 > 512). Running this sequence through the model will result in indexing errors\n",
      "Parsing nodes: 100%|██████████| 433/433 [01:10<00:00,  6.15it/s]\n"
     ]
    }
   ],
   "source": [
    "from llama_index.core.node_parser import SentenceSplitter\n",
    "from transformers import AutoTokenizer\n",
    "from llama_index.core.schema import TextNode\n",
    "\n",
    "\n",
    "def document_splitter(\n",
    "    documents: List[Document],\n",
    "    chunk_size: int = 512,\n",
    "    tokenizer=AutoTokenizer.from_pretrained(\"intfloat/e5-base-v2\"),\n",
    ") -> List[TextNode]:\n",
    "    \"\"\"Split a list of llama_index documents into nodes\n",
    "\n",
    "    Args:\n",
    "    documents: A list of llama_index documents\n",
    "    chunk_size: An integer defining the maximum number of tokens in each node\n",
    "    tokenizer: A tokenizer from the Hugging Face transformers library\n",
    "\n",
    "    Returns:\n",
    "    A list of nodes, consisting of text, metadata, embeddings and node-relations\n",
    "    \"\"\"\n",
    "    node_parser = SentenceSplitter(\n",
    "        chunk_size=chunk_size,\n",
    "        chunk_overlap=0,\n",
    "        secondary_chunking_regex=str([\"\\n\"]),\n",
    "        paragraph_separator=str([\"\\n\\n\"]),\n",
    "        tokenizer=tokenizer.tokenize,\n",
    "    )\n",
    "    nodes = node_parser.get_nodes_from_documents(documents, show_progress=True)\n",
    "    return nodes\n",
    "\n",
    "\n",
    "nodes_vejledninger = document_splitter(llama_documents)"
   ]
  },
  {
   "cell_type": "markdown",
   "metadata": {},
   "source": [
    "# Step 1"
   ]
  },
  {
   "cell_type": "markdown",
   "metadata": {},
   "source": [
    "**Filtering using text descriptives**"
   ]
  },
  {
   "cell_type": "code",
   "execution_count": 7,
   "metadata": {},
   "outputs": [],
   "source": [
    "nodes_vejledninger_sample = nodes_vejledninger[:100]"
   ]
  },
  {
   "cell_type": "code",
   "execution_count": 8,
   "metadata": {},
   "outputs": [],
   "source": [
    "import textdescriptives as td\n",
    "import spacy\n",
    "\n",
    "def filter_nodes_by_td(nodes: List[TextNode], filter_type: bool=True) -> List[TextNode]:\n",
    "    \"\"\"Filter nodes by the textdescriptives quality check\n",
    "\n",
    "    Args:\n",
    "    nodes: A list of llama_index nodes\n",
    "    fiter_type: A boolean defining whether to filter by nodes that passed (True) or failed (False) the textdescriptives quality check\n",
    "\n",
    "    Returns:\n",
    "    A list of llama_index nodes that passed the textdescriptives quality check\n",
    "    \"\"\"\n",
    "    nlp = spacy.blank(\"da\")\n",
    "    nlp.add_pipe(\"sentencizer\")\n",
    "    quality_pipe = nlp.add_pipe(\"textdescriptives/quality\")\n",
    "    docs = list(nlp.pipe([node.text for node in nodes]))\n",
    "    filtered_nodes = [node for node, doc in zip(nodes, docs) if doc._.passed_quality_check==filter_type]\n",
    "    \n",
    "    return filtered_nodes\n"
   ]
  },
  {
   "cell_type": "code",
   "execution_count": 9,
   "metadata": {},
   "outputs": [],
   "source": [
    "#filter\n",
    "nodes_passed_td = filter_nodes_by_td(nodes_vejledninger_sample)"
   ]
  },
  {
   "cell_type": "markdown",
   "metadata": {},
   "source": [
    "**Filtering using LLM call**"
   ]
  },
  {
   "cell_type": "code",
   "execution_count": 10,
   "metadata": {},
   "outputs": [
    {
     "data": {
      "text/plain": [
       "' Du er en erfaren sagsbehandler, nedenfor er eksempler på tekstuddrag og deres tilhørende score.\\n\\n    ============================\\n    Start på eksempel, som skal have scoren 1:\\n\\n    \"Vejledning om regulering af satser fra 1. januar 2024 efter lov om arbejdsskadesikring, lov om sikring mod følger af arbejdsskade, lov om arbejdsskadeforsikring og lov om forsikring mod følger af ulykkestilfælde Indledning Efter lov om arbejdsskadesikring, jf. lovbekendtgørelse nr. 1186 af 19. august 2022 med de ændringer, der følger af lov nr. 1541 af 12. december 2023, og lov om sikring mod følger af arbejdsskade, jf. lovbekendtgørelse nr. 943 af 16. oktober 2000, skal der med virkning fra 1. januar 2024 efter indstilling fra bestyrelsen for Arbejdsmarkedets Erhvervssikring ske regulering af lovens årslønsbeløb, godtgørelsesbeløb, overgangsbeløb samt løbende erstatninger. Reguleringen af satserne fastsættes af Arbejdstilsynets direktør efter bemyndigelse fra beskæftigelsesministeren. Satser efter loven reguleres med 2 procent tillagt tilpasningsprocenten for finansåret 2024 (jf. lov om en satsreguleringsprocent).\"\\n\\n    Fordi uddraget indeholder klare og faktuelle informationer, hvorfra der kan formuleres et præcist, naturligt og kort spørgsmål der kan besvares ud fra uddraget, eksempelvis:\\n\\n    \"Hvem fastsætter reguleringen af satserne for arbejdsskadesikring og andre relaterede ydelser?\"\\n\\n    ============================\\n    Start på eksempel, som skal have scoren 0:\\n\\n    \"årligt. 8)Uddannelsesgodtgørelsen i en forlænget periode efter § 18 b, stk. 3, 2. pkt., udgør 244.140 kr. årligt. Grundlønnen for beregning og regulering af løbende erstatning og uddannelsesgodtgørelse for arbejdsskader indtruffet den 1. juli 2024 eller senere er den efter lov om arbejdsskadesikring § 24 fastsatte årsløn multipliceret med 608.000/608.000, jf. § 24 a. Fastsættes en løbende erstatning eller en uddannelsesgodtgørelse den 1. juli 2024 eller senere, udbetales erstatningen eller godtgørelsen fra tidspunktet for dennes begyndelse med et tillæg på 0,0 pct. til den erstatning eller godtgørelse, der svarer til grundlønnen. Satser for arbejdsskader indtruffet i tiden 1. januar 2024 til 30. juni 2024 Med virkning for arbejdsskader efter lov om arbejdsskadesikring, jf. lovbekendtgørelse nr. 1186 af 19. august 2022 med de ændringer, der følger af lov nr.\"\\n\\n    Fordi der uddraget ikke indeholder meget detaljerede informationer der er svære at forstå uden kontekst, generelt er fragmenteret og gør det vanskeligt at formulere et generelt spørgsmål.\\n\\n    ==============================\\n    Uddrag som du skal give en score:\\n\\n    {chunk_text}\"\\n\\n    Returner KUN tallet 0 eller 1, ingen yderligere forklaring\\n'"
      ]
     },
     "execution_count": 10,
     "metadata": {},
     "output_type": "execute_result"
    }
   ],
   "source": [
    "#Gample prompts\n",
    "\n",
    "#system prompt\n",
    "\"\"\"Din opgave er at evaluere hvorvidt et uddrag af en tekst, er egnet til at stille et generelt spørgsmål til.\n",
    "    Du skal vurdere om uddraget indeholder klare og faktuelle informationer, hvorfra der kan formuleres et præcist, naturligt og kort spørgsmål der kan besvares ud fra uddraget.\n",
    "    Du skal give scoren 1 til teksten, hvis der kan opstilles et naturligt formuleret spørgsmål til uddraget, som eksempelvis kunne bruges i sammenhæng med en eksamen eller test.\n",
    "    Du skal give scoren 0 til teksten, hvis uddraget ikke indeholder generel faktuel information, hvis teksten er for usammenhængende eller detaljeret til at kunne formulere et generelt spørgsmål.\n",
    "    Returner en json med key: llm_score og value i form af en int: \"0\" eller \"1\".\n",
    "\"\"\"\n",
    "\n",
    "#Few shot user prompt\n",
    "\"\"\" Du er en erfaren sagsbehandler, nedenfor er eksempler på tekstuddrag og deres tilhørende score.\n",
    "\n",
    "    ============================\n",
    "    Start på eksempel, som skal have scoren 1:\n",
    "\n",
    "    \"Vejledning om regulering af satser fra 1. januar 2024 efter lov om arbejdsskadesikring, lov om sikring mod følger af arbejdsskade, lov om arbejdsskadeforsikring og lov om forsikring mod følger af ulykkestilfælde Indledning Efter lov om arbejdsskadesikring, jf. lovbekendtgørelse nr. 1186 af 19. august 2022 med de ændringer, der følger af lov nr. 1541 af 12. december 2023, og lov om sikring mod følger af arbejdsskade, jf. lovbekendtgørelse nr. 943 af 16. oktober 2000, skal der med virkning fra 1. januar 2024 efter indstilling fra bestyrelsen for Arbejdsmarkedets Erhvervssikring ske regulering af lovens årslønsbeløb, godtgørelsesbeløb, overgangsbeløb samt løbende erstatninger. Reguleringen af satserne fastsættes af Arbejdstilsynets direktør efter bemyndigelse fra beskæftigelsesministeren. Satser efter loven reguleres med 2 procent tillagt tilpasningsprocenten for finansåret 2024 (jf. lov om en satsreguleringsprocent).\"\n",
    "\n",
    "    Fordi uddraget indeholder klare og faktuelle informationer, hvorfra der kan formuleres et præcist, naturligt og kort spørgsmål der kan besvares ud fra uddraget, eksempelvis:\n",
    "\n",
    "    \"Hvem fastsætter reguleringen af satserne for arbejdsskadesikring og andre relaterede ydelser?\"\n",
    "\n",
    "    ============================\n",
    "    Start på eksempel, som skal have scoren 0:\n",
    "\n",
    "    \"årligt. 8)Uddannelsesgodtgørelsen i en forlænget periode efter § 18 b, stk. 3, 2. pkt., udgør 244.140 kr. årligt. Grundlønnen for beregning og regulering af løbende erstatning og uddannelsesgodtgørelse for arbejdsskader indtruffet den 1. juli 2024 eller senere er den efter lov om arbejdsskadesikring § 24 fastsatte årsløn multipliceret med 608.000/608.000, jf. § 24 a. Fastsættes en løbende erstatning eller en uddannelsesgodtgørelse den 1. juli 2024 eller senere, udbetales erstatningen eller godtgørelsen fra tidspunktet for dennes begyndelse med et tillæg på 0,0 pct. til den erstatning eller godtgørelse, der svarer til grundlønnen. Satser for arbejdsskader indtruffet i tiden 1. januar 2024 til 30. juni 2024 Med virkning for arbejdsskader efter lov om arbejdsskadesikring, jf. lovbekendtgørelse nr. 1186 af 19. august 2022 med de ændringer, der følger af lov nr.\"\n",
    "\n",
    "    Fordi der uddraget ikke indeholder meget detaljerede informationer der er svære at forstå uden kontekst, generelt er fragmenteret og gør det vanskeligt at formulere et generelt spørgsmål.\n",
    "\n",
    "    ==============================\n",
    "    Uddrag som du skal give en score:\n",
    "\n",
    "    {chunk_text}\"\n",
    "\n",
    "    Returner KUN tallet 0 eller 1, ingen yderligere forklaring\n",
    "\"\"\"\n",
    "    "
   ]
  },
  {
   "cell_type": "code",
   "execution_count": 47,
   "metadata": {},
   "outputs": [],
   "source": [
    "import json\n",
    "import logging\n",
    "from typing import Dict, Any\n",
    "\n",
    "from openai import OpenAI\n",
    "client = OpenAI()\n",
    "\n",
    "def q_eval_system_prompt():\n",
    "    sys_prompt = \"\"\"Din opgave er at evaluere et givet tekstuddrag for at bestemme, om det er egnet til at danne grundlag for et generelt spørgsmål, der er relevant for eksempelvis en eksamen eller en test. \n",
    "    For at vurdere dette, skal du fokusere på følgende tre nøglekriterier:\n",
    "\n",
    "    1. Klarhed: Vurder, om teksten er formuleret klart og direkte, således at et spørgsmål til denne tekst, vil kunne besvares uden yderligere forklaringer. Teksten skal være læsbar og ikke usammenhængende i sin struktur.\n",
    "    \n",
    "    2. Konkret Information: Afgør, om uddraget indeholder specifikke, faktuelle informationer, der kan danne grundlag for et præcist og direkte spørgsmål. Teksten skal præsentere håndgribelige fakta eller data, som et spørgsmål kan baseres på.\n",
    "\n",
    "    3. Kontekstuel Helhed: Bedøm, om teksten leverer tilstrækkelig kontekst for at et spørgsmål baseret på uddraget vil være meningsfuldt og forståeligt uden behov for yderligere information. Teksten skal være selvstændig og give en fuld forståelse af det emne, der behandles.\n",
    "\n",
    "    Baseret på din evaluering:\n",
    "\n",
    "    - Tildel scoren 1, hvis tekstuddraget opfylder alle tre kriterier, og der kan formuleres et naturligt, klart og kontekstuelt meningsfuldt spørgsmål baseret på teksten.\n",
    "\n",
    "    - Tildel scoren 0, hvis tekstuddraget ikke opfylder et eller flere af de ovenstående kriterier, hvilket gør det uegnet til at danne grundlag for et generelt spørgsmål.\n",
    "    \"\"\"\n",
    "    return sys_prompt\n",
    "\n",
    "def q_eval_user_prompt(text: str) -> str:\n",
    "    \"\"\"Prepare the prompt for the API call.\"\"\"\n",
    "    \n",
    "    qa_egnet_tmlp = \"\"\"Du er en erfaren sagsbehandler. \n",
    "    Din Opgave:\n",
    "    Vurder det følgende tekstuddrag og angiv, om det er egnet til at stille et generelt spørgsmål til.\n",
    "\n",
    "    Uddrag:\n",
    "    {chunk_text}\n",
    "    \n",
    "    Returner din vurdering i følgende JSON-format:\n",
    "\n",
    "    {{\n",
    "    \"llm_score\": [indsæt enten 0 eller 1 her]\n",
    "    }}\n",
    "    \"\"\"\n",
    "    return qa_egnet_tmlp.format(chunk_text=text)\n",
    "\n",
    "\n",
    "def json_api_call(system_prompt: str, user_prompt: str, oai_model: str=\"gpt-3.5-turbo-0125\") -> Dict[str, Any]:\n",
    "    \"\"\"Perform the API call to evaluate the text.\"\"\"\n",
    "    try:\n",
    "        completion = client.chat.completions.create(\n",
    "            model=oai_model,\n",
    "            temperature=0,\n",
    "            messages=[\n",
    "                {\n",
    "                    \"role\": \"system\",\n",
    "                    \"content\": system_prompt\n",
    "                },\n",
    "                {\n",
    "                    \"role\": \"user\", \n",
    "                    \"content\": user_prompt\n",
    "                },\n",
    "            ],\n",
    "            response_format={\"type\": \"json_object\"}\n",
    "        )\n",
    "        return json.loads(completion.choices[0].message.content)\n",
    "    except json.JSONDecodeError as e:\n",
    "        logging.error(f'JSON parsing failed: {e}')\n",
    "    except Exception as e:\n",
    "        logging.error(f'API call failed: {e}')\n",
    "    return {}\n",
    "\n",
    "def filter_nodes_by_llm(node_list: List[TextNode]) -> List[TextNode]:\n",
    "    \"\"\"Filter nodes by the llama quality check\n",
    "\n",
    "    Args:\n",
    "    nodes: A list of llama_index nodes\n",
    "    \n",
    "    Returns:\n",
    "    A list of llama_index nodes that passed the llama quality check\n",
    "    \"\"\"\n",
    "    nodes_passed_list = []\n",
    "    system_prompt = q_eval_system_prompt()\n",
    "    for llama_node in node_list:\n",
    "        user_prompt = q_eval_user_prompt(llama_node.text)\n",
    "        response = json_api_call(system_prompt, user_prompt)\n",
    "        if response:\n",
    "            if response['llm_score'] == 1:\n",
    "                nodes_passed_list.append(llama_node)\n",
    "            else:\n",
    "                continue\n",
    "        else:\n",
    "            logging.error(f'Failed to evaluate below node due to an earlier error. \\n {llama_node.text}')\n",
    "    return nodes_passed_list"
   ]
  },
  {
   "cell_type": "code",
   "execution_count": 23,
   "metadata": {},
   "outputs": [],
   "source": [
    "nodes_passed_llm = filter_nodes_by_llm(nodes_passed_td[:20])"
   ]
  },
  {
   "cell_type": "code",
   "execution_count": 25,
   "metadata": {},
   "outputs": [
    {
     "data": {
      "text/plain": [
       "16"
      ]
     },
     "execution_count": 25,
     "metadata": {},
     "output_type": "execute_result"
    }
   ],
   "source": [
    "len(nodes_passed_llm)"
   ]
  },
  {
   "cell_type": "code",
   "execution_count": 36,
   "metadata": {},
   "outputs": [],
   "source": [
    "#Run on the last 20 nodes in the list\n",
    "nodes_passed_llm_last = filter_nodes_by_llm(nodes_passed_td[-20:])"
   ]
  },
  {
   "cell_type": "markdown",
   "metadata": {},
   "source": [
    "## Experiment to compare how LLM filtering performs compared to text descriptives"
   ]
  },
  {
   "cell_type": "code",
   "execution_count": null,
   "metadata": {},
   "outputs": [],
   "source": [
    "#Create a list of nodes that fail the textdescriptives quality check\n",
    "nodes_failed_td = filter_nodes_by_td(nodes_vejledninger_sample, filter_type=False)\n",
    "len(nodes_failed_td)"
   ]
  },
  {
   "cell_type": "code",
   "execution_count": null,
   "metadata": {},
   "outputs": [],
   "source": [
    "print(f'Number of nodes that passed the textdescriptives quality check: {len(nodes_passed_td)}')\n",
    "print(f'Number of nodes that failed the textdescriptives quality check: {len(nodes_failed_td)}')"
   ]
  },
  {
   "cell_type": "code",
   "execution_count": null,
   "metadata": {},
   "outputs": [],
   "source": [
    "#Sample first 100 each node type\n",
    "nodes_failed_td_sample = nodes_failed_td[:20]\n",
    "nodes_passed_td_sample = nodes_passed_td[:20]\n",
    "\n",
    "#Evaluate the nodes\n",
    "evaluate_node_list(nodes_failed_td_sample)\n",
    "evaluate_node_list(nodes_passed_td_sample)"
   ]
  },
  {
   "cell_type": "code",
   "execution_count": null,
   "metadata": {},
   "outputs": [],
   "source": [
    "#Count the number of llm_scores for each group using Counter\n",
    "from collections import Counter\n",
    "import numpy as np\n",
    "\n",
    "passed_td_meta = [node.metadata for node in nodes_passed_td_sample]\n",
    "failed_td_meta = [node.metadata for node in nodes_failed_td_sample]\n",
    "\n",
    "passed_td_llm_count = dict(Counter([meta[\"llm_score\"] for meta in passed_td_meta]))\n",
    "failed_td_llm_count = dict(Counter([meta[\"llm_score\"] for meta in failed_td_meta]))\n",
    "\n",
    "#Plot a confusion matrix where x-axis is the Truth, LLM evaluation, and y-axis is the Predicted, Textdescriptives quality check\n",
    "#The matrix is a 2x2 matrix with the following values:\n",
    "TP = passed_td_llm_count[1] if 1 in passed_td_llm_count else 0\n",
    "FP = passed_td_llm_count[0] if 0 in passed_td_llm_count else 0\n",
    "TN = failed_td_llm_count[0] if 0 in failed_td_llm_count else 0\n",
    "FN = failed_td_llm_count[1] if 1 in failed_td_llm_count else 0"
   ]
  },
  {
   "cell_type": "code",
   "execution_count": null,
   "metadata": {},
   "outputs": [],
   "source": [
    "import matplotlib.pyplot as plt\n",
    "import seaborn as sns\n",
    "\n",
    "confusion_matrix = np.array([[TP, FP], [FN, TN]])\n",
    "\n",
    "sns.heatmap(confusion_matrix, annot=True, fmt=\"d\", cmap=\"Blues\",\n",
    "            xticklabels=[\"Passed\", \"Failed\"],\n",
    "            yticklabels=[\"Passed\", \"Failed\"])\n",
    "plt.xlabel('LLM eval')\n",
    "plt.ylabel('Textdescriptives')\n",
    "plt.title('Confusion Matrix')\n",
    "plt.show()"
   ]
  },
  {
   "cell_type": "markdown",
   "metadata": {},
   "source": [
    "**Conclusion after inspecting 40 samples**\n",
    "General alignment between LLM and text descriptives. \n",
    "- 80% of those texts that pass TD also pass LLM (true positives)\n",
    "- 60% of those who fail TD also fail LLM (true negatives)\n",
    "- A fairly high rate of false negatives in the sense that 40% of those who are filtered out by TD, are according to LLM eval suitable for questions. \n",
    "\n",
    "The cause of those false negatives seem mostly to stem from text containing many formulas or lists, ex. below:\n",
    "\n",
    "*Månedlig erstatning: 8.625 kr.\\nc.Uddannelsesgodtgørelse\\nSkadedato: 2. juli 2024. Årsløn: 425.000 kr.\\nGrundløn: 425.000 kr. × 608.000/608.000 = 425.000 kr.\\nGrundydelse: 0,83 × 425.000 kr. = 352.750,00 kr. årligt.\\nÅrlig godtgørelse fra 1. juli 2024: 352.750,00 kr. × 1,000 = 352.750,00 kr., der forhøjes til nærmeste med 12 delelige kronebeløb: 352.752 kr.\\nMånedlig godtgørelse: 29.396 kr.\\n1.2 Engangsbeløb\\nSkadedato: 8. juli 2024. Afgørelsesdato: 6. december 2024. Årsløn: 350.000 kr. Tab af erhvervsevne: 25 pct. Varigt mén: 20 pct. Alder ved afgørelsen: 35 år og 2 måneder.\\na.Erstatning for tab af erhvervsevne\\nGrundløn: 350.000 kr. × 608.000/608.000 = 350.000 kr.\\nGrundydelse: 0,25 × 0,83 × 350.000 kr. × 0,92 = 66.815,00 kr. årligt.\\nÅrlig erstatning fra 1. januar 2024: 66.815,00 kr.*"
   ]
  },
  {
   "cell_type": "markdown",
   "metadata": {},
   "source": [
    "# Step 2\n",
    "### Generate questions"
   ]
  },
  {
   "cell_type": "code",
   "execution_count": 41,
   "metadata": {},
   "outputs": [],
   "source": [
    "from llama_index.core.prompts import PromptTemplate\n",
    "\n",
    "# Define your custom prompt template in Danish\n",
    "qa_sagsbehandler_prompt = \"\"\"Nedenfor er et uddrag (kontekst) fra en længere tekst:\n",
    "---------------------\n",
    "{context_str}\n",
    "---------------------\n",
    "Givet ovenstående uddrag og ingen forudgående viden, er din opgave at generere præcis {num_questions_per_chunk} spørgsmål til teksten.\n",
    "En sætning skal kun indeholde 1 spørgsmål, og spørgsmålet skal være formuleret kort og præcist. \n",
    "Svaret til spørgsmålet, skal kunne findes i ovenstående uddrag.\n",
    "Spørgsmålet skal indeholde specifik kontekst, således at spørgsmålet efterfølgende kan besvares entydigt og uden kendskab til uddraget. \n",
    "Spørgsmålene skal stilles i et sprog som en borger uden juridisk ekspertise kan forstå.\n",
    "\n",
    "Eksempel på et spørgsmål der ikke har en specifik kontekst, og som fejlagtigt indeholder 2 spørgsmål i 1 sætning: \n",
    "\"Hvilket dokument har den nye vejledning erstattet, og hvornår blev den udsendt?\" -Da det ikke angivet hvilket dokument der er tale om, og derfor er svaret til spørgsmålet ikke entyidgt, uden kendskab til uddraget. Sætningen indeholder desuden 2 spørgsmål i samme sætning. \n",
    "\n",
    "Eksempel på et godt spørgsmål, som kan besvares entydigt uden kendskab til uddraget:\n",
    "\"Hvilke to indbetalinger udgør det samlede medlemsbidrag til en a-kasse?\" - Da det er klart hvad der spørges om, og der kun er 1 rigtigt svar i den givne lovtekst.\n",
    "\"\"\"\n",
    "\n",
    "def llama_prompt_template(prompt_template: str) -> PromptTemplate:\n",
    "    return PromptTemplate(prompt_template)\n",
    "    \n",
    "    \n",
    "qa_sagsbehandler_tmlp = llama_prompt_template(qa_sagsbehandler_prompt)"
   ]
  },
  {
   "cell_type": "code",
   "execution_count": 42,
   "metadata": {},
   "outputs": [],
   "source": [
    "from llama_index.finetuning import generate_qa_embedding_pairs\n",
    "from llama_index.llms.openai import OpenAI\n",
    "\n",
    "#wrap function to generate qa pairs\n",
    "def generate_questions(nodes: List[TextNode], qa_generate_prompt_tmpl: PromptTemplate, num_questions_per_chunk: int=1, llm = OpenAI(temperature=0.0, model=\"gpt-4-0125-preview\")) -> Dataset:\n",
    "    qa_dataset = generate_qa_embedding_pairs(\n",
    "        qa_generate_prompt_tmpl=qa_generate_prompt_tmpl,\n",
    "        llm=llm,\n",
    "        nodes=nodes,\n",
    "        num_questions_per_chunk=num_questions_per_chunk,\n",
    "    )\n",
    "    return qa_dataset\n"
   ]
  },
  {
   "cell_type": "code",
   "execution_count": 29,
   "metadata": {},
   "outputs": [
    {
     "data": {
      "text/plain": [
       "{'6ad1366c-ad20-4815-aea8-f3f03cb3f98e': '\"Hvem fastsætter reguleringen af satserne for arbejdsskadesikring fra 1. januar 2024, og hvem giver bemyndigelsen til dette?\"',\n",
       " 'eb69123b-cb35-4535-80bb-5b9714976fab': '\"Hvordan beregnes grundlønnen for løbende erstatninger for tab af erhvervsevne og tab af forsørger ifølge Arbejdstilsynets vejledning fra den 5. januar 2024?\"',\n",
       " '28bcc695-2917-44bb-b32b-a50299d8aa3c': 'Hvordan beregnes grundlønnen for løbende erstatninger for tab af erhvervsevne og tab af forsørger samt uddannelsesgodtgørelser for arbejdsskader indtruffet mellem 1. januar 2004 og 31. december 2010?',\n",
       " 'c5156a1b-4bfe-4862-b7b3-e7133caab286': 'Hvordan beregnes kapitalerstatningen for tab af erhvervsevne ifølge den lov, der blev affattet den 12. december 2023?',\n",
       " '9b4de951-63df-45b0-8ceb-c77037311ec1': '\"Hvad er den nye fastsatte procentdel for grundydelsen pr. 1. januar 2024 i forhold til den løbende erstatning, der svarer til grundlønnen fra 1. april 1994?\"',\n",
       " '8604d870-437d-4742-bd3f-195c57eb2d7b': '\"Hvem er pålagt pligten til selv at booke jobsamtaler ifølge vejledningen fra lovbekendtgørelse nr. 701 af 22. maj 2022?\"',\n",
       " '54440740-e10d-4683-a251-9e723bf12e87': '\"Hvem har ansvaret for at arrangere kontaktforløbet for dagpengemodtagere, der er i målgruppen for uddannelsespålæg, ifølge den nye vejledning?\"',\n",
       " '14804f1d-521f-4426-b6fa-58d060ba5781': '\"Hvor mange individuelle jobsamtaler med jobcenteret skal en person i ledighed have inden for de første 6 måneders ledighed?\"',\n",
       " '5deee5ce-8560-482b-897a-b773fa516fca': 'Hvem har ansvaret for at fastlægge det videre kontaktforløb efter de første 6 måneders ledighed, og hvordan besluttes det?',\n",
       " '0b8decb3-f91e-44e7-845d-f5ecae76b16d': '\"Hvad kræves der for at en jobsamtale kan afholdes som \\'personligt digitalt fremmøde\\' ifølge den beskrevne lovtekst?\"'}"
      ]
     },
     "execution_count": 29,
     "metadata": {},
     "output_type": "execute_result"
    }
   ],
   "source": [
    "qa_dataset = generate_questions(nodes_passed_llm, qa_sagsbehandler_tmlp)\n",
    "qa_dataset.queries"
   ]
  },
  {
   "cell_type": "code",
   "execution_count": 44,
   "metadata": {},
   "outputs": [
    {
     "name": "stderr",
     "output_type": "stream",
     "text": [
      "100%|██████████| 16/16 [00:34<00:00,  2.14s/it]\n"
     ]
    },
    {
     "data": {
      "text/plain": [
       "{'3a6fd8e4-e18f-45b6-80e3-4c2bb9a64ed3': 'Hvem fastsætter reguleringen af satserne efter loven om arbejdsskadesikring med virkning fra 1. januar 2024?',\n",
       " 'd8ad4a00-2b68-4b28-93cd-af909189a262': 'Hvordan beregnes grundlønnen for løbende erstatninger ifølge Arbejdstilsynets vejledning fra den 5. januar 2024?',\n",
       " 'fa4fa371-e72e-40e1-8075-bb230f4ba0ea': 'Hvordan beregnes grundlønnen for løbende erstatninger for tab af erhvervsevne og tab af forsørger ifølge lovbekendtgørelsen fra 7. september 2009?',\n",
       " '3dae4fc0-3ff5-48c6-8ad9-7a4698cb35d9': 'Hvad er den forhøjede værdi af méngodtgørelsen for et varigt mén på 100 procent, som nævnt i loven fra 12. december 2023?',\n",
       " '505d1fcc-ca6d-4d7c-8453-0d967e66c8c3': 'Hvad er den nye procentdel for grundydelsen pr. 1. januar 2024 i forhold til den løbende erstatning, der svarer til grundlønnen fra 1. april 1994?',\n",
       " '0dede3cb-15a3-4e7c-b387-9455059aecbf': 'Hvilke målgrupper er omfattet af pligten til selvbooking af jobsamtaler ifølge vejledningen fra maj 2022?',\n",
       " '0927a1f2-2771-42fe-acc3-70560c194449': 'Hvem har ansvaret for kontaktforløbet for dagpengemodtagere i målgruppen for uddannelsespålæg?',\n",
       " '0c16fd7a-dec8-4fb1-aac4-48a6fef195a8': 'Hvor mange individuelle jobsamtaler med jobcenteret skal en person i ledighed have inden for de første 6 måneders ledighed?',\n",
       " '611e777b-2b8d-43a8-9e76-3ce3bca35541': 'Hvem har ansvaret for at aftale det videre kontaktforløb efter de første 6 måneders ledighed?',\n",
       " '02be0bc1-a5ff-4752-a830-58a1668dbe6a': 'Hvad kræves der for at en jobsamtale kan afholdes som \"personligt digitalt fremmøde\"?',\n",
       " '0d088ef6-b57c-49ed-a249-089696b79a53': 'Hvad kan være en årsag til, at jobcenteret beslutter at ændre en samtaleform fra telefonisk eller video til personligt fremmøde?',\n",
       " 'ca0b15b7-ceb9-4055-a528-f0c7198270e2': 'Hvordan kan personer på barsel vælge at afholde deres jobsamtaler ifølge loven?',\n",
       " '0868b7f0-fa70-4a92-a3a9-f6e7e3472592': 'Hvornår skal en dagpengemodtager senest have afholdt en jobsamtale i arbejdsløshedskassen efter tilmelding som jobsøgende?',\n",
       " 'c373e4a9-c682-428f-916c-e54007155ca6': 'Hvem skal som udgangspunkt selv booke jobsamtaler ifølge teksten?',\n",
       " 'c2be4f94-0bef-423f-8aa3-9e2d9df43642': 'Hvem indkalder kontanthjælpsmodtagere og uddannelseshjælpsmodtagere til deres første jobsamtale?',\n",
       " '29118e11-40b1-46dc-9a6e-cc9e393aa1d1': 'Hvem skal selv booke den første jobsamtale med jobcenteret efter de første 3 måneders ledighed, hvis arbejdsløshedskassen ikke deltager?'}"
      ]
     },
     "execution_count": 44,
     "metadata": {},
     "output_type": "execute_result"
    }
   ],
   "source": [
    "qa_dataset = generate_questions(nodes_passed_llm, qa_sagsbehandler_tmlp)\n",
    "qa_dataset.queries"
   ]
  },
  {
   "cell_type": "code",
   "execution_count": 43,
   "metadata": {},
   "outputs": [
    {
     "name": "stderr",
     "output_type": "stream",
     "text": [
      "100%|██████████| 17/17 [00:35<00:00,  2.12s/it]\n"
     ]
    },
    {
     "data": {
      "text/plain": [
       "{'d9acf241-fcd5-4dcf-b257-4b32a4a4fdf4': 'Hvilke målgrupper er omfattet af pligten til selvbooking ifølge vejledningen fra lovbekendtgørelse nr. 701 af 22. maj 2022?',\n",
       " 'e3dcc8d8-4830-4007-932b-118f7bd23bec': 'Hvem har ansvaret for kontaktforløbet for dagpengemodtagere i målgruppen for uddannelsespålæg?',\n",
       " 'cb56ecec-b8f4-41dc-9aab-60e084261c6c': 'Hvor mange individuelle jobsamtaler med jobcenteret skal en person i ledighed have inden for de første 6 måneder?',\n",
       " '7b098644-0aec-4a8b-b64f-ce19b038c1ad': 'Hvem har ansvaret for at aftale det videre kontaktforløb efter de første 6 måneders ledighed?',\n",
       " 'bff5e4fe-1eae-48a2-9a68-7ff58a5d9906': 'Hvad kan en person ikke vælge som form for samtale ifølge § 33, stk. 1, 2. pkt.?',\n",
       " 'b79a02e7-f964-43b1-be8b-66472963c8fa': 'Hvornår kan jobcenteret beslutte at ændre en personens ønskede samtaleform fra telefonisk eller video til personligt fremmøde?',\n",
       " 'a0b148d2-3dac-45a7-b82b-190ed9961797': 'Hvordan kan jobsamtaler for personer på barsel afholdes, hvis de anmoder om det?',\n",
       " '99b747b1-a8ed-4daa-9594-648e48d1a227': 'Hvornår skal en dagpengemodtager senest have afholdt en jobsamtale i arbejdsløshedskassen efter at have tilmeldt sig som jobsøgende?',\n",
       " '230af4dc-a8ed-43c6-ae98-6c95f8a2033d': 'Hvem skal som udgangspunkt selv booke jobsamtaler ifølge teksten?',\n",
       " '22ac2842-ac19-4c1a-9643-1b51b43afdfe': 'Hvornår skal den første jobsamtale for kontanthjælpsmodtagere og uddannelseshjælpsmodtagere senest holdes efter deres første henvendelse til kommunen om hjælp?',\n",
       " 'e08b7b43-7889-4a1f-979f-25c8c48473b9': 'Hvem skal selv booke deres første jobsamtale med jobcenteret efter de første 3 måneders ledighed, hvis arbejdsløshedskassen ikke deltager?',\n",
       " 'b45f403e-d0e0-47b6-935b-49c02550762e': 'Hvordan kan en person blive opmærksom på en frist til selvbooking af jobsamtaler ifølge den beskrevne procedure?',\n",
       " 'bb239336-d144-4d77-8751-def25b49c44e': 'Hvor mange dage skal der minimum være fra udløb af fristen for selvbooking af en jobsamtale til jobsamtalen senest skal holdes?',\n",
       " 'daa1de63-5076-447e-b4fe-5899a917af8d': 'Hvem varetager kontaktforløbet for arbejdsløse i de første 3 måneder af deres ledighedsforløb?',\n",
       " 'bde02c3a-9d6a-4e24-8ffe-3cefc1d2d9aa': 'Hvem har pligt til at selvbooke jobsamtaler ifølge den beskrevne lov om aktiv socialpolitik?',\n",
       " '19639fac-89dd-4621-b772-8ce324775b34': 'Hvem træffer afgørelse om retten til dagpenge og konsekvenserne af manglende tilmelding som jobsøgende?',\n",
       " 'bf921442-0f19-4513-94ad-16ba2ebe869d': 'Hvad skal jobcenteret gøre, hvis en dagpengemodtager ikke har booket en jobsamtale inden for et rimeligt tidsrum efter gentilmelding på Jobnet?'}"
      ]
     },
     "execution_count": 43,
     "metadata": {},
     "output_type": "execute_result"
    }
   ],
   "source": [
    "qa_dataset_last = generate_questions(nodes_passed_llm_last, qa_sagsbehandler_tmlp)\n",
    "qa_dataset_last.queries"
   ]
  },
  {
   "cell_type": "markdown",
   "metadata": {},
   "source": [
    "### Alternative instead of using LLamaIndex (WIP)"
   ]
  },
  {
   "cell_type": "code",
   "execution_count": 17,
   "metadata": {},
   "outputs": [],
   "source": [
    "def generate_question_template(text: str, num_q: int=1) -> str:\n",
    "    question_tmlp = \"\"\"Nedenfor er et uddrag fra en længere tekst:\n",
    "    ---------------------\n",
    "    {context_str}\n",
    "    ---------------------\n",
    "    Givet ovenstående uddrag og ingen forudgående viden, er din opgave at generere spørgsmål til teksten.\n",
    "    Svaret til spørgsmålet, skal kunne findes i ovenstående uddrag.\n",
    "    Spørgsmålet skal indeholde specifik kontekst, således at spørgsmålet kan besvares entydigt og uden kendskab til uddraget. \n",
    "    \n",
    "    Du er en erfaren sagsbehandler, og din opgave er at stille præcis {num_questions_per_chunk} spørgsmål.\n",
    "    Spørgsmålene skal stilles i et sprog som en borger uden juridisk ekspertise kan forstå.\n",
    "    \n",
    "    Eksempel på et spørgsmål der ikke har en specifik kontekst: \n",
    "    \"Hvilket dokument har den nye vejledning erstattet, og hvornår blev den udsendt?\" -Da det ikke angivet hvilket dokument der er tale om, og derfor er svaret til spørgsmålet ikke entyidgt, uden kendskab til uddraget. \n",
    "    \n",
    "    Eksempel på et godt spørgsmål, som kan besvares entydigt uden kendskab til uddraget:\n",
    "    \"Hvilke to indbetalinger udgør det samlede medlemsbidrag til en a-kasse?\" - Da det er klart hvad der spørges om, og der kun er 1 rigtigt svar i den givne lovtekst.\n",
    "    \n",
    "    Returner i json format med key: q og value: en liste af gode spørgsmål:\n",
    "\n",
    "    {{\n",
    "    \"q\": [\"spørgsmål 1\", \"spørgsmål 2\", \"...\"]\n",
    "    }}\n",
    "    \"\"\"\n",
    "    return question_tmlp.format(context_str=text, num_questions_per_chunk=num_q)"
   ]
  },
  {
   "cell_type": "code",
   "execution_count": 18,
   "metadata": {},
   "outputs": [],
   "source": [
    "def question_api_call(user_prompt: str, oai_model: str=\"gpt-4-0125-preview\") -> Dict[str, Any]:\n",
    "    \"\"\"Perform the API call to evaluate the text.\"\"\"\n",
    "    try:\n",
    "        completion = client.chat.completions.create(\n",
    "            model=oai_model,\n",
    "            temperature=0,\n",
    "            messages=[\n",
    "                {\n",
    "                    \"role\": \"system\",\n",
    "                    \"content\": \"Din opgave er at stille præcise spørgsmål til et givet tekstuddrag og returnere en json med en liste af spørgsmål.\"\n",
    "                },\n",
    "                {\n",
    "                    \"role\": \"user\", \n",
    "                    \"content\": user_prompt\n",
    "                },\n",
    "            ],\n",
    "            response_format={\"type\": \"json_object\"}\n",
    "        )\n",
    "        return json.loads(completion.choices[0].message.content)\n",
    "    except json.JSONDecodeError as e:\n",
    "        logging.error(f'JSON parsing failed: {e}')\n",
    "    except Exception as e:\n",
    "        logging.error(f'API call failed: {e}')\n",
    "    return {}"
   ]
  },
  {
   "cell_type": "code",
   "execution_count": 19,
   "metadata": {},
   "outputs": [],
   "source": [
    "def generate_questions(text: str, num_q: int=1) -> Dict[str, Any]:\n",
    "    \"\"\"Generate questions for a chunk of text.\"\"\"\n",
    "    user_prompt = generate_question_template(text, num_q=num_q)\n",
    "    response = question_api_call(user_prompt)\n",
    "    return response"
   ]
  },
  {
   "cell_type": "code",
   "execution_count": 27,
   "metadata": {},
   "outputs": [
    {
     "data": {
      "text/plain": [
       "{'q': ['Hvem fastsætter reguleringen af satserne for arbejdsskadesikring med virkning fra 1. januar 2024?',\n",
       "  'Hvordan beregnes reguleringen af satserne for arbejdsskadesikring, der træder i kraft den 1. januar 2024?']}"
      ]
     },
     "execution_count": 27,
     "metadata": {},
     "output_type": "execute_result"
    }
   ],
   "source": [
    "q1 = generate_questions(nodes_passed_llm[0].text, 2)\n",
    "q1"
   ]
  },
  {
   "cell_type": "markdown",
   "metadata": {},
   "source": [
    "## Step 3, Question filtering"
   ]
  },
  {
   "cell_type": "code",
   "execution_count": 31,
   "metadata": {},
   "outputs": [],
   "source": [
    "from copy import deepcopy\n",
    "\n",
    "def filter_qa_length(qa_dataset, char_max: int=150) -> Dataset:\n",
    "    # Step 1: Create a deep copy of the entire dataset\n",
    "    qa_copy = deepcopy(qa_dataset)\n",
    "    \n",
    "    # Step 2: Identify queries to remove based on length\n",
    "    queries_to_remove = [query_id for query_id, query_text in qa_copy.queries.items() if len(query_text) > char_max]\n",
    "    \n",
    "    # Step 3: Identify documents to remove associated with the queries\n",
    "    docs_to_remove = set()\n",
    "    for query_id in queries_to_remove:\n",
    "        associated_docs = qa_copy.relevant_docs.get(query_id, [])\n",
    "        docs_to_remove.update(associated_docs)\n",
    "    \n",
    "    # Step 4: Remove the identified queries and documents\n",
    "    for query_id in queries_to_remove:\n",
    "        del qa_copy.queries[query_id]  # Remove query\n",
    "        del qa_copy.relevant_docs[query_id]  # Remove entry from relevant_docs\n",
    "    \n",
    "    for doc_id in docs_to_remove:\n",
    "        del qa_copy.corpus[doc_id]  # Remove associated document\n",
    "    \n",
    "    return qa_copy"
   ]
  },
  {
   "cell_type": "code",
   "execution_count": 59,
   "metadata": {},
   "outputs": [
    {
     "data": {
      "text/plain": [
       "{'3a6fd8e4-e18f-45b6-80e3-4c2bb9a64ed3': 'Hvem fastsætter reguleringen af satserne efter loven om arbejdsskadesikring med virkning fra 1. januar 2024?',\n",
       " 'd8ad4a00-2b68-4b28-93cd-af909189a262': 'Hvordan beregnes grundlønnen for løbende erstatninger ifølge Arbejdstilsynets vejledning fra den 5. januar 2024?',\n",
       " 'fa4fa371-e72e-40e1-8075-bb230f4ba0ea': 'Hvordan beregnes grundlønnen for løbende erstatninger for tab af erhvervsevne og tab af forsørger ifølge lovbekendtgørelsen fra 7. september 2009?',\n",
       " '3dae4fc0-3ff5-48c6-8ad9-7a4698cb35d9': 'Hvad er den forhøjede værdi af méngodtgørelsen for et varigt mén på 100 procent, som nævnt i loven fra 12. december 2023?',\n",
       " '505d1fcc-ca6d-4d7c-8453-0d967e66c8c3': 'Hvad er den nye procentdel for grundydelsen pr. 1. januar 2024 i forhold til den løbende erstatning, der svarer til grundlønnen fra 1. april 1994?',\n",
       " '0dede3cb-15a3-4e7c-b387-9455059aecbf': 'Hvilke målgrupper er omfattet af pligten til selvbooking af jobsamtaler ifølge vejledningen fra maj 2022?',\n",
       " '0927a1f2-2771-42fe-acc3-70560c194449': 'Hvem har ansvaret for kontaktforløbet for dagpengemodtagere i målgruppen for uddannelsespålæg?',\n",
       " '0c16fd7a-dec8-4fb1-aac4-48a6fef195a8': 'Hvor mange individuelle jobsamtaler med jobcenteret skal en person i ledighed have inden for de første 6 måneders ledighed?',\n",
       " '611e777b-2b8d-43a8-9e76-3ce3bca35541': 'Hvem har ansvaret for at aftale det videre kontaktforløb efter de første 6 måneders ledighed?',\n",
       " '02be0bc1-a5ff-4752-a830-58a1668dbe6a': 'Hvad kræves der for at en jobsamtale kan afholdes som \"personligt digitalt fremmøde\"?',\n",
       " '0d088ef6-b57c-49ed-a249-089696b79a53': 'Hvad kan være en årsag til, at jobcenteret beslutter at ændre en samtaleform fra telefonisk eller video til personligt fremmøde?',\n",
       " 'ca0b15b7-ceb9-4055-a528-f0c7198270e2': 'Hvordan kan personer på barsel vælge at afholde deres jobsamtaler ifølge loven?',\n",
       " '0868b7f0-fa70-4a92-a3a9-f6e7e3472592': 'Hvornår skal en dagpengemodtager senest have afholdt en jobsamtale i arbejdsløshedskassen efter tilmelding som jobsøgende?',\n",
       " 'c373e4a9-c682-428f-916c-e54007155ca6': 'Hvem skal som udgangspunkt selv booke jobsamtaler ifølge teksten?',\n",
       " 'c2be4f94-0bef-423f-8aa3-9e2d9df43642': 'Hvem indkalder kontanthjælpsmodtagere og uddannelseshjælpsmodtagere til deres første jobsamtale?',\n",
       " '29118e11-40b1-46dc-9a6e-cc9e393aa1d1': 'Hvem skal selv booke den første jobsamtale med jobcenteret efter de første 3 måneders ledighed, hvis arbejdsløshedskassen ikke deltager?'}"
      ]
     },
     "execution_count": 59,
     "metadata": {},
     "output_type": "execute_result"
    }
   ],
   "source": [
    "filtered_qa_dataset = filter_qa_length(qa_dataset, char_max=150)\n",
    "filtered_qa_dataset.queries"
   ]
  },
  {
   "cell_type": "code",
   "execution_count": 62,
   "metadata": {},
   "outputs": [
    {
     "data": {
      "text/plain": [
       "['60df62c2-b207-4ad5-a47c-ff87e94419c0']"
      ]
     },
     "execution_count": 62,
     "metadata": {},
     "output_type": "execute_result"
    }
   ],
   "source": [
    "filtered_qa_dataset.relevant_docs['0c16fd7a-dec8-4fb1-aac4-48a6fef195a8']"
   ]
  },
  {
   "cell_type": "code",
   "execution_count": 63,
   "metadata": {},
   "outputs": [
    {
     "data": {
      "text/plain": [
       "'Formål\\nSelvbooking af jobsamtaler har til formål at give personen ansvaret for sit eget ledighedsforløb, og at personen har medindflydelse på, hvornår jobsamtalen skal foregå. Det medvirker til at styrke personens muligheder for at komme i job.\\nSelvbooking skal ske digitalt. Selvbooking kan foregå via Jobnet, men det kan også være muligt via andre løsninger, fx via kommunens egen hjemmeside eller fremmødestandere. Der er således ikke krav om, at selvbooking foregår via Jobnet. Baggrunden herfor er, at en binding til Jobnet kan fastlåse en arbejdsdeling mellem digitale løsninger og aktørerne, der med tiden måtte vise sig ikke at være hensigtsmæssig. Derudover kan personen tilbydes en bedre service, når personen har mulighed for at booke møder ad flere kanaler end Jobnet.\\nFor dagpengemodtagere vil selvbooking af jobsamtaler i arbejdsløshedskassen foregå gennem arbejdsløshedskassens digitale bookingsystem, dvs. typisk via arbejdsløshedskassens \"Min Side\".\\n\\n1.1.Jobsamtaler i kontaktforløb\\nInden for de første 6 måneders ledighed består kontaktforløbet af mindst 4 individuelle jobsamtaler med jobcenteret.'"
      ]
     },
     "execution_count": 63,
     "metadata": {},
     "output_type": "execute_result"
    }
   ],
   "source": [
    "filtered_qa_dataset.corpus['60df62c2-b207-4ad5-a47c-ff87e94419c0']"
   ]
  },
  {
   "cell_type": "code",
   "execution_count": 81,
   "metadata": {},
   "outputs": [],
   "source": [
    "from openai import OpenAI\n",
    "client = OpenAI()\n",
    "\n",
    "def q_simplify_system_prompt():\n",
    "    sys_prompt = \"\"\"Din opgave er simplificere et givet spørgsmål, så det er kortere, mere præcist og formuleret i et mere naturligt sprog. Fjern detaljer omkring specifikke paragraf, datoer osv.\"\"\"\n",
    "    return sys_prompt\n",
    "\n",
    "def q_simplify_question_prompt(text: str) -> str:\n",
    "    \"\"\"Prepare the prompt for the API call.\"\"\"\n",
    "    \n",
    "    qa_egnet_tmlp = \"\"\"\n",
    "    \n",
    "    Eksempel på et eksisterende spørgsmål: 'Hvor mange individuelle jobsamtaler med jobcenteret skal en person i ledighed have inden for de første 6 måneders ledighed i henhold til loven fra 1. januar 2024?'\n",
    "    Som kan omformuleres til: 'Hvor mange jobsamtaler skal en ledig have med jobcenteret inden for de første 6 måneder?'\n",
    "    \n",
    "    Nedenfor er et spørgsmål, som du skal analysere og hvis nødvendigt, omformulere:\n",
    "\n",
    "    Spørgsmål:\n",
    "    {chunk_text}\n",
    "    \n",
    "    Returner det omformulerede spørgsmål i følgende JSON-format:\n",
    "    \n",
    "        {{\n",
    "        \"simplified_q\": \"Dit omformulerede spørgsmål\"\n",
    "        }}\n",
    "    \"\"\"\n",
    "    return qa_egnet_tmlp.format(chunk_text=text)\n",
    "\n",
    "def rephrase_query(text: str) -> str:\n",
    "    \"\"\"Rephrase a given query.\"\"\"\n",
    "    user_prompt = q_simplify_question_prompt(text)\n",
    "    response = question_api_call(user_prompt)\n",
    "    return response"
   ]
  },
  {
   "cell_type": "code",
   "execution_count": 82,
   "metadata": {},
   "outputs": [
    {
     "data": {
      "text/plain": [
       "'Hvem fastsætter reguleringen af satserne efter loven om arbejdsskadesikring med virkning fra 1. januar 2024?'"
      ]
     },
     "execution_count": 82,
     "metadata": {},
     "output_type": "execute_result"
    }
   ],
   "source": [
    "sample_q = list(filtered_qa_dataset.queries.values())[0]\n",
    "sample_q"
   ]
  },
  {
   "cell_type": "code",
   "execution_count": 83,
   "metadata": {},
   "outputs": [
    {
     "data": {
      "text/plain": [
       "{'simplified_q': 'Hvem fastsætter satserne for arbejdsskadesikringen fra 1. januar 2024?'}"
      ]
     },
     "execution_count": 83,
     "metadata": {},
     "output_type": "execute_result"
    }
   ],
   "source": [
    "simplified_q = json_api_call(q_simplify_system_prompt(), q_simplify_question_prompt(sample_q))\n",
    "simplified_q"
   ]
  },
  {
   "cell_type": "code",
   "execution_count": null,
   "metadata": {},
   "outputs": [],
   "source": [
    "def filter_nodes_by_llm(node_list: List[TextNode]) -> List[TextNode]:\n",
    "    \"\"\"Filter nodes by the llama quality check\n",
    "\n",
    "    Args:\n",
    "    nodes: A list of llama_index nodes\n",
    "    \n",
    "    Returns:\n",
    "    A list of llama_index nodes that passed the llama quality check\n",
    "    \"\"\"\n",
    "    nodes_passed_list = []\n",
    "    system_prompt = q_eval_system_prompt()\n",
    "    for llama_node in node_list:\n",
    "        user_prompt = q_eval_user_prompt(llama_node.text)\n",
    "        response = json_api_call(system_prompt, user_prompt)\n",
    "        if response:\n",
    "            if response['llm_score'] == 1:\n",
    "                nodes_passed_list.append(llama_node)\n",
    "            else:\n",
    "                continue\n",
    "        else:\n",
    "            logging.error(f'Failed to evaluate below node due to an earlier error. \\n {llama_node.text}')\n",
    "    return nodes_passed_list"
   ]
  },
  {
   "cell_type": "code",
   "execution_count": 74,
   "metadata": {},
   "outputs": [
    {
     "data": {
      "text/plain": [
       "'Hvem fastsætter reguleringen af satserne efter loven om arbejdsskadesikring med virkning fra 1. januar 2024?'"
      ]
     },
     "execution_count": 74,
     "metadata": {},
     "output_type": "execute_result"
    }
   ],
   "source": []
  },
  {
   "cell_type": "code",
   "execution_count": null,
   "metadata": {},
   "outputs": [],
   "source": []
  }
 ],
 "metadata": {
  "kernelspec": {
   "display_name": "llm",
   "language": "python",
   "name": "python3"
  },
  "language_info": {
   "codemirror_mode": {
    "name": "ipython",
    "version": 3
   },
   "file_extension": ".py",
   "mimetype": "text/x-python",
   "name": "python",
   "nbconvert_exporter": "python",
   "pygments_lexer": "ipython3",
   "version": "3.11.8"
  }
 },
 "nbformat": 4,
 "nbformat_minor": 2
}
